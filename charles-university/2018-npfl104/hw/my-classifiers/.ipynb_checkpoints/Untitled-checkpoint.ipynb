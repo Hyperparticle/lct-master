{
 "cells": [
  {
   "cell_type": "code",
   "execution_count": 260,
   "metadata": {},
   "outputs": [],
   "source": [
    "import pandas as pd\n",
    "import numpy as np\n",
    "import math\n",
    "from helper import train_test_split"
   ]
  },
  {
   "cell_type": "code",
   "execution_count": 235,
   "metadata": {},
   "outputs": [],
   "source": [
    "train, test = train_test_split()"
   ]
  },
  {
   "cell_type": "code",
   "execution_count": 236,
   "metadata": {},
   "outputs": [],
   "source": [
    "def class_dict(data):\n",
    "    classes = {}\n",
    "    for row in data:\n",
    "        if (row[-1] not in classes):\n",
    "            classes[row[-1]] = []\n",
    "        classes[row[-1]].append(row)\n",
    "    return classes"
   ]
  },
  {
   "cell_type": "code",
   "execution_count": 245,
   "metadata": {},
   "outputs": [],
   "source": [
    "def mean_std(data):\n",
    "    return [(np.mean(col), np.std(col)) for col in list(zip(*data))[:-1]]"
   ]
  },
  {
   "cell_type": "code",
   "execution_count": 252,
   "metadata": {},
   "outputs": [],
   "source": [
    "def mean_std_classes(data):\n",
    "    classes = class_dict(data)\n",
    "    mstd = {}\n",
    "    for c in classes:\n",
    "        mstd[c] = mean_std(classes[c])\n",
    "    return mstd"
   ]
  },
  {
   "cell_type": "code",
   "execution_count": 298,
   "metadata": {},
   "outputs": [],
   "source": [
    "def prob(x, mean, std):\n",
    "    if std == 0.0: return 0\n",
    "    return (1/(math.sqrt(2*math.pi)*std))*math.exp(-(math.pow(x-mean,2)/(2*math.pow(std,2))))"
   ]
  },
  {
   "cell_type": "code",
   "execution_count": 291,
   "metadata": {},
   "outputs": [],
   "source": [
    "def prob_classes(mstd, row):\n",
    "    p = {}\n",
    "    for c in mstd:\n",
    "        p[c] = np.multiply.reduce([\n",
    "            prob(x, mean, std)\n",
    "            for (mean, std), x in zip(mstd[c], row)])\n",
    "    return p"
   ]
  },
  {
   "cell_type": "code",
   "execution_count": 308,
   "metadata": {},
   "outputs": [],
   "source": [
    "def predict(mstd, row):\n",
    "    probs = prob_classes(mstd, row)\n",
    "    best = None, -1\n",
    "    for c in probs:\n",
    "        if best[0] is None or probs[c] > best[1]:\n",
    "            best = c, probs[c]\n",
    "    return best[0]"
   ]
  },
  {
   "cell_type": "code",
   "execution_count": 312,
   "metadata": {},
   "outputs": [],
   "source": [
    "def accuracy(train, test):\n",
    "    dist = mean_std_classes(train)\n",
    "    predicted = [predict(dist, row) for row in test]\n",
    "    actual = [row[-1] for row in test]\n",
    "    print(predicted)\n",
    "    return sum(1 for p,a in zip(predicted, actual) if p == a) / len(test) * 100.0"
   ]
  },
  {
   "cell_type": "code",
   "execution_count": 313,
   "metadata": {},
   "outputs": [
    {
     "data": {
      "text/plain": [
       "89.0"
      ]
     },
     "execution_count": 313,
     "metadata": {},
     "output_type": "execute_result"
    }
   ],
   "source": [
    "accuracy(train['artificial'], test['artificial'])"
   ]
  },
  {
   "cell_type": "code",
   "execution_count": 314,
   "metadata": {},
   "outputs": [
    {
     "data": {
      "text/plain": [
       "76.3773723972729"
      ]
     },
     "execution_count": 314,
     "metadata": {},
     "output_type": "execute_result"
    }
   ],
   "source": [
    "accuracy(train['income'], test['income'])"
   ]
  },
  {
   "cell_type": "code",
   "execution_count": null,
   "metadata": {},
   "outputs": [],
   "source": []
  }
 ],
 "metadata": {
  "kernelspec": {
   "display_name": "Python 3",
   "language": "python",
   "name": "python3"
  },
  "language_info": {
   "codemirror_mode": {
    "name": "ipython",
    "version": 3
   },
   "file_extension": ".py",
   "mimetype": "text/x-python",
   "name": "python",
   "nbconvert_exporter": "python",
   "pygments_lexer": "ipython3",
   "version": "3.6.3"
  }
 },
 "nbformat": 4,
 "nbformat_minor": 2
}
