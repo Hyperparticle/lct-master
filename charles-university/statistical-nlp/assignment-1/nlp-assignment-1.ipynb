{
 "cells": [
  {
   "cell_type": "markdown",
   "metadata": {},
   "source": [
    "# Assignment #1: PFL067 Statistical NLP\n",
    "\n",
    "## Exploring Entropy and Language Modeling\n",
    "\n",
    "---"
   ]
  },
  {
   "cell_type": "markdown",
   "metadata": {},
   "source": [
    "### 1. Entropy of a Text\n",
    "\n",
    "In this experiment, you will determine the conditional entropy of the word distribution in a text given the previous word. To do this, you will first have to compute P(i,j), which is the probability that at any position in the text you will find the word i followed immediately by the word j, and P(j|i), which is the probability that if word i occurs in the text then word j will follow. Given these probabilities, the conditional entropy of the word distribution in a text given the previous word can then be computed as:\n",
    "\n",
    "$$H(J|I) = -\\sum_{i \\in I, j \\in J} P(i,j) \\log_2 P(j|i)$$\n",
    "\n",
    "The perplexity is then computed simply as\n",
    "\n",
    "$$P_X(P(J|I)) = 2^{H(J|I)}$$\n",
    "\n",
    "Compute this conditional entropy and perplexity for `TEXTEN1.txt`. This file has every word on a separate line. (Punctuation is considered a word, as in many other cases.) The i,j above will also span sentence boundaries, where i is the last word of one sentence and j is the first word of the following sentence (but obviously, there will be a fullstop at the end of most sentences).\n",
    "\n",
    "---"
   ]
  },
  {
   "cell_type": "code",
   "execution_count": 34,
   "metadata": {
    "collapsed": true
   },
   "outputs": [],
   "source": [
    "%matplotlib inline\n",
    "%config InlineBackend.figure_format = 'retina'\n",
    "\n",
    "import pandas as pd\n",
    "import numpy as np\n",
    "import collections as c\n",
    "import math\n",
    "import random\n",
    "from numpy.random import RandomState\n",
    "import matplotlib.pyplot as plt"
   ]
  },
  {
   "cell_type": "code",
   "execution_count": 2,
   "metadata": {
    "collapsed": true
   },
   "outputs": [],
   "source": [
    "random.seed(200)\n",
    "np.random.seed(200)"
   ]
  },
  {
   "cell_type": "code",
   "execution_count": 3,
   "metadata": {
    "collapsed": true
   },
   "outputs": [],
   "source": [
    "english = './TEXTEN1.txt'\n",
    "czech = './TEXTCZ1.txt'"
   ]
  },
  {
   "cell_type": "code",
   "execution_count": 4,
   "metadata": {
    "collapsed": true
   },
   "outputs": [],
   "source": [
    "def open_text(filename):\n",
    "    \"\"\"Reads a text line by line, applies light preprocessing, and returns a dataframe of each word\"\"\"\n",
    "    with open(filename, encoding='iso-8859-2') as f:\n",
    "        content = f.readlines()\n",
    "    \n",
    "    preprocess = lambda word: word.strip()\n",
    "#     preprocess = lambda word: word.strip().lower()\n",
    "\n",
    "    text = pd.DataFrame(content, columns=['words'])\n",
    "    text.words = text.words.apply(preprocess)\n",
    "    \n",
    "    return text"
   ]
  },
  {
   "cell_type": "code",
   "execution_count": 5,
   "metadata": {
    "collapsed": true
   },
   "outputs": [],
   "source": [
    "def process_ngrams(text):\n",
    "    \"\"\"Generates a list of bigrams and trigrams from a text and inserts it into the dataframe\"\"\"\n",
    "    wordprev = text.words.shift(1).fillna('<s>')\n",
    "    wordprev2 = wordprev.shift(1).fillna('<ss>')\n",
    "    \n",
    "    text['bigrams'] = list(zip(wordprev, text.words))\n",
    "    text['trigrams'] = list(zip(*[wordprev2, wordprev, text.words]))\n",
    "    \n",
    "    return text"
   ]
  },
  {
   "cell_type": "code",
   "execution_count": 6,
   "metadata": {},
   "outputs": [
    {
     "data": {
      "text/html": [
       "<div>\n",
       "<style>\n",
       "    .dataframe thead tr:only-child th {\n",
       "        text-align: right;\n",
       "    }\n",
       "\n",
       "    .dataframe thead th {\n",
       "        text-align: left;\n",
       "    }\n",
       "\n",
       "    .dataframe tbody tr th {\n",
       "        vertical-align: top;\n",
       "    }\n",
       "</style>\n",
       "<table border=\"1\" class=\"dataframe\">\n",
       "  <thead>\n",
       "    <tr style=\"text-align: right;\">\n",
       "      <th></th>\n",
       "      <th>words</th>\n",
       "      <th>bigrams</th>\n",
       "      <th>trigrams</th>\n",
       "    </tr>\n",
       "  </thead>\n",
       "  <tbody>\n",
       "    <tr>\n",
       "      <th>0</th>\n",
       "      <td>WHEN</td>\n",
       "      <td>(&lt;s&gt;, WHEN)</td>\n",
       "      <td>(&lt;ss&gt;, &lt;s&gt;, WHEN)</td>\n",
       "    </tr>\n",
       "    <tr>\n",
       "      <th>1</th>\n",
       "      <td>on</td>\n",
       "      <td>(WHEN, on)</td>\n",
       "      <td>(&lt;s&gt;, WHEN, on)</td>\n",
       "    </tr>\n",
       "    <tr>\n",
       "      <th>2</th>\n",
       "      <td>board</td>\n",
       "      <td>(on, board)</td>\n",
       "      <td>(WHEN, on, board)</td>\n",
       "    </tr>\n",
       "    <tr>\n",
       "      <th>3</th>\n",
       "      <td>H</td>\n",
       "      <td>(board, H)</td>\n",
       "      <td>(on, board, H)</td>\n",
       "    </tr>\n",
       "    <tr>\n",
       "      <th>4</th>\n",
       "      <td>.</td>\n",
       "      <td>(H, .)</td>\n",
       "      <td>(board, H, .)</td>\n",
       "    </tr>\n",
       "  </tbody>\n",
       "</table>\n",
       "</div>"
      ],
      "text/plain": [
       "   words      bigrams           trigrams\n",
       "0   WHEN  (<s>, WHEN)  (<ss>, <s>, WHEN)\n",
       "1     on   (WHEN, on)    (<s>, WHEN, on)\n",
       "2  board  (on, board)  (WHEN, on, board)\n",
       "3      H   (board, H)     (on, board, H)\n",
       "4      .       (H, .)      (board, H, .)"
      ]
     },
     "execution_count": 6,
     "metadata": {},
     "output_type": "execute_result"
    }
   ],
   "source": [
    "process_ngrams(open_text(english))[:5]"
   ]
  },
  {
   "cell_type": "code",
   "execution_count": 7,
   "metadata": {},
   "outputs": [
    {
     "data": {
      "text/html": [
       "<div>\n",
       "<style>\n",
       "    .dataframe thead tr:only-child th {\n",
       "        text-align: right;\n",
       "    }\n",
       "\n",
       "    .dataframe thead th {\n",
       "        text-align: left;\n",
       "    }\n",
       "\n",
       "    .dataframe tbody tr th {\n",
       "        vertical-align: top;\n",
       "    }\n",
       "</style>\n",
       "<table border=\"1\" class=\"dataframe\">\n",
       "  <thead>\n",
       "    <tr style=\"text-align: right;\">\n",
       "      <th></th>\n",
       "      <th>words</th>\n",
       "      <th>bigrams</th>\n",
       "      <th>trigrams</th>\n",
       "    </tr>\n",
       "  </thead>\n",
       "  <tbody>\n",
       "    <tr>\n",
       "      <th>0</th>\n",
       "      <td>V</td>\n",
       "      <td>(&lt;s&gt;, V)</td>\n",
       "      <td>(&lt;ss&gt;, &lt;s&gt;, V)</td>\n",
       "    </tr>\n",
       "    <tr>\n",
       "      <th>1</th>\n",
       "      <td>.</td>\n",
       "      <td>(V, .)</td>\n",
       "      <td>(&lt;s&gt;, V, .)</td>\n",
       "    </tr>\n",
       "    <tr>\n",
       "      <th>2</th>\n",
       "      <td>LAŠTŮVKA</td>\n",
       "      <td>(., LAŠTŮVKA)</td>\n",
       "      <td>(V, ., LAŠTŮVKA)</td>\n",
       "    </tr>\n",
       "    <tr>\n",
       "      <th>3</th>\n",
       "      <td>:</td>\n",
       "      <td>(LAŠTŮVKA, :)</td>\n",
       "      <td>(., LAŠTŮVKA, :)</td>\n",
       "    </tr>\n",
       "    <tr>\n",
       "      <th>4</th>\n",
       "      <td>AŤ</td>\n",
       "      <td>(:, AŤ)</td>\n",
       "      <td>(LAŠTŮVKA, :, AŤ)</td>\n",
       "    </tr>\n",
       "  </tbody>\n",
       "</table>\n",
       "</div>"
      ],
      "text/plain": [
       "      words        bigrams           trigrams\n",
       "0         V       (<s>, V)     (<ss>, <s>, V)\n",
       "1         .         (V, .)        (<s>, V, .)\n",
       "2  LAŠTŮVKA  (., LAŠTŮVKA)   (V, ., LAŠTŮVKA)\n",
       "3         :  (LAŠTŮVKA, :)   (., LAŠTŮVKA, :)\n",
       "4        AŤ        (:, AŤ)  (LAŠTŮVKA, :, AŤ)"
      ]
     },
     "execution_count": 7,
     "metadata": {},
     "output_type": "execute_result"
    }
   ],
   "source": [
    "process_ngrams(open_text(czech))[:5]"
   ]
  },
  {
   "cell_type": "code",
   "execution_count": 8,
   "metadata": {
    "collapsed": true
   },
   "outputs": [],
   "source": [
    "def language_model(text):\n",
    "    \"\"\"Counts unigrams and bigrams in a dataframe\"\"\"\n",
    "    words = list(text.words) + ['<s>']\n",
    "    word_counts = c.Counter(words)\n",
    "    num_words = sum(word_counts.values())\n",
    "    vocabulary = sorted(list(set(word_counts.keys())))\n",
    "\n",
    "    bigrams = list(text.bigrams)\n",
    "    bigram_counts = c.Counter(bigrams)\n",
    "    num_bigrams = sum(bigram_counts.values())\n",
    "    bigram_vocabulary = sorted(list(set(bigram_counts.keys())))\n",
    "    \n",
    "    unigram_model = words, word_counts, num_words, vocabulary\n",
    "    bigram_model = bigrams, bigram_counts, num_bigrams, bigram_vocabulary\n",
    "    \n",
    "    return unigram_model, bigram_model"
   ]
  },
  {
   "cell_type": "code",
   "execution_count": 9,
   "metadata": {
    "collapsed": true
   },
   "outputs": [],
   "source": [
    "def Pword(unigram_model, W='', alpha=0.7):\n",
    "    \"\"\"Calculates the probability a word appears in a sentence\"\"\"\n",
    "    _, word_counts, num_words, vocabulary = unigram_model\n",
    "    return (word_counts[W] + alpha) / (num_words + alpha * len(vocabulary))"
   ]
  },
  {
   "cell_type": "code",
   "execution_count": 10,
   "metadata": {
    "collapsed": true
   },
   "outputs": [],
   "source": [
    "def Pbigram(bigram_model, W='', Wprev='', alpha=0.7):\n",
    "    \"\"\"Calculates the probability a bigram appears in a sentence\"\"\"\n",
    "    _, bigram_counts, num_bigrams, bigram_vocabulary = bigram_model\n",
    "    return (bigram_counts[(Wprev, W)] + alpha) / (num_bigrams + alpha * len(bigram_vocabulary))"
   ]
  },
  {
   "cell_type": "code",
   "execution_count": 11,
   "metadata": {
    "collapsed": true
   },
   "outputs": [],
   "source": [
    "# P(A|B) = P(A,B) / P(B)\n",
    "def Pwprev(models, W='', Wprev='', alpha=0.7):\n",
    "    \"\"\"Calculates the probability a word W proceeds a word Wprev\"\"\"\n",
    "    unigram_model, bigram_model = models\n",
    "    return Pbigram(bigram_model, W=W, Wprev=Wprev, alpha=alpha) / Pword(unigram_model, W=Wprev, alpha=alpha)"
   ]
  },
  {
   "cell_type": "code",
   "execution_count": 12,
   "metadata": {
    "collapsed": true
   },
   "outputs": [],
   "source": [
    "def entropy(models, bigrams, alpha=0.7):\n",
    "    \"\"\"Calculates the entropy from a list of bigrams\"\"\"\n",
    "    _, bigram_model = models\n",
    "    return - sum(Pbigram(bigram_model, W=W, Wprev=Wprev, alpha=alpha) \n",
    "                 * math.log(Pwprev(models, W=W, Wprev=Wprev, alpha=alpha), 2) for Wprev,W in bigrams)"
   ]
  },
  {
   "cell_type": "code",
   "execution_count": 13,
   "metadata": {
    "collapsed": true
   },
   "outputs": [],
   "source": [
    "def perplexity(models, bigrams, alpha=0.7):\n",
    "    \"\"\"Calculates the perplexity from a list of bigrams\"\"\"\n",
    "    return 2 ** entropy(models, bigrams, alpha=alpha)"
   ]
  },
  {
   "cell_type": "code",
   "execution_count": 14,
   "metadata": {
    "collapsed": true
   },
   "outputs": [],
   "source": [
    "def text_stats(text, alpha=1e-5):\n",
    "    \"\"\"Given a list of words, this calculates various statistical \n",
    "    properties like entropy, number of characters, etc\"\"\"\n",
    "    process_ngrams(text)\n",
    "    models = language_model(text)\n",
    "    unigram_model, bigram_model = models\n",
    "    words, word_counts, num_words, vocabulary = unigram_model\n",
    "    bigrams, bigram_counts, num_bigrams, bigram_vocabulary = bigram_model\n",
    "    \n",
    "    H = entropy(models, bigram_vocabulary, alpha=alpha)\n",
    "    P = 2 ** H\n",
    "    vocab_size = len(vocabulary)\n",
    "    char_count = len([char for word in words for char in word])\n",
    "    chars_per_word = char_count / num_words\n",
    "    words_freq_1 = sum(1 for key in word_counts if word_counts[key] == 1)\n",
    "    most_freq_words = word_counts.most_common()[:10]\n",
    "\n",
    "    return [H, P, vocab_size, char_count, chars_per_word, words_freq_1, most_freq_words]"
   ]
  },
  {
   "cell_type": "code",
   "execution_count": 15,
   "metadata": {
    "collapsed": true
   },
   "outputs": [],
   "source": [
    "text_stats_cols = [\n",
    "    'entropy', 'perplexity', 'vocab_size', 'char_count', \n",
    "    'chars_per_word', 'words_freq_1', 'most_freq_words'\n",
    "]"
   ]
  },
  {
   "cell_type": "code",
   "execution_count": 16,
   "metadata": {
    "collapsed": true
   },
   "outputs": [],
   "source": [
    "def text_stats_lang(filename):\n",
    "    \"\"\"Calculates statistics from a file and arranges them in a nicely formatted table\"\"\"\n",
    "    return pd.DataFrame([text_stats(open_text(filename))], columns=text_stats_cols)"
   ]
  },
  {
   "cell_type": "code",
   "execution_count": 17,
   "metadata": {},
   "outputs": [
    {
     "data": {
      "text/html": [
       "<div>\n",
       "<style>\n",
       "    .dataframe thead tr:only-child th {\n",
       "        text-align: right;\n",
       "    }\n",
       "\n",
       "    .dataframe thead th {\n",
       "        text-align: left;\n",
       "    }\n",
       "\n",
       "    .dataframe tbody tr th {\n",
       "        vertical-align: top;\n",
       "    }\n",
       "</style>\n",
       "<table border=\"1\" class=\"dataframe\">\n",
       "  <thead>\n",
       "    <tr style=\"text-align: right;\">\n",
       "      <th></th>\n",
       "      <th>entropy</th>\n",
       "      <th>perplexity</th>\n",
       "      <th>vocab_size</th>\n",
       "      <th>char_count</th>\n",
       "      <th>chars_per_word</th>\n",
       "      <th>words_freq_1</th>\n",
       "      <th>most_freq_words</th>\n",
       "    </tr>\n",
       "  </thead>\n",
       "  <tbody>\n",
       "    <tr>\n",
       "      <th>0</th>\n",
       "      <td>5.287425</td>\n",
       "      <td>39.054708</td>\n",
       "      <td>9608</td>\n",
       "      <td>972920</td>\n",
       "      <td>4.400382</td>\n",
       "      <td>3812</td>\n",
       "      <td>[(,, 14721), (the, 13299), (of, 9368), (., 564...</td>\n",
       "    </tr>\n",
       "  </tbody>\n",
       "</table>\n",
       "</div>"
      ],
      "text/plain": [
       "    entropy  perplexity  vocab_size  char_count  chars_per_word  words_freq_1  \\\n",
       "0  5.287425   39.054708        9608      972920        4.400382          3812   \n",
       "\n",
       "                                     most_freq_words  \n",
       "0  [(,, 14721), (the, 13299), (of, 9368), (., 564...  "
      ]
     },
     "execution_count": 17,
     "metadata": {},
     "output_type": "execute_result"
    }
   ],
   "source": [
    "text_stats_lang(english)"
   ]
  },
  {
   "cell_type": "code",
   "execution_count": 18,
   "metadata": {},
   "outputs": [
    {
     "data": {
      "text/html": [
       "<div>\n",
       "<style>\n",
       "    .dataframe thead tr:only-child th {\n",
       "        text-align: right;\n",
       "    }\n",
       "\n",
       "    .dataframe thead th {\n",
       "        text-align: left;\n",
       "    }\n",
       "\n",
       "    .dataframe tbody tr th {\n",
       "        vertical-align: top;\n",
       "    }\n",
       "</style>\n",
       "<table border=\"1\" class=\"dataframe\">\n",
       "  <thead>\n",
       "    <tr style=\"text-align: right;\">\n",
       "      <th></th>\n",
       "      <th>entropy</th>\n",
       "      <th>perplexity</th>\n",
       "      <th>vocab_size</th>\n",
       "      <th>char_count</th>\n",
       "      <th>chars_per_word</th>\n",
       "      <th>words_freq_1</th>\n",
       "      <th>most_freq_words</th>\n",
       "    </tr>\n",
       "  </thead>\n",
       "  <tbody>\n",
       "    <tr>\n",
       "      <th>0</th>\n",
       "      <td>4.747819</td>\n",
       "      <td>26.868035</td>\n",
       "      <td>42827</td>\n",
       "      <td>1030634</td>\n",
       "      <td>4.633875</td>\n",
       "      <td>26316</td>\n",
       "      <td>[(,, 13788), (., 12931), (a, 4486), (v, 4043),...</td>\n",
       "    </tr>\n",
       "  </tbody>\n",
       "</table>\n",
       "</div>"
      ],
      "text/plain": [
       "    entropy  perplexity  vocab_size  char_count  chars_per_word  words_freq_1  \\\n",
       "0  4.747819   26.868035       42827     1030634        4.633875         26316   \n",
       "\n",
       "                                     most_freq_words  \n",
       "0  [(,, 13788), (., 12931), (a, 4486), (v, 4043),...  "
      ]
     },
     "execution_count": 18,
     "metadata": {},
     "output_type": "execute_result"
    }
   ],
   "source": [
    "text_stats_lang(czech)"
   ]
  },
  {
   "cell_type": "markdown",
   "metadata": {},
   "source": [
    "Next, you will mess up the text and measure how this alters the conditional entropy. For every character in the text, mess it up with a likelihood of 10%. If a character is chosen to be messed up, map it into a randomly chosen character from the set of characters that appear in the text. Since there is some randomness to the outcome of the experiment, run the experiment 10 times, each time measuring the conditional entropy of the resulting text, and give the min, max, and average entropy from these experiments. Be sure to use srand to reset the random number generator seed each time you run it. Also, be sure each time you are messing up the original text, and not a previously messed up text. Do the same experiment for mess up likelihoods of 5%, 1%, .1%, .01%, and .001%.\n",
    "\n",
    "Next, for every word in the text, mess it up with a likelihood of 10%. If a word is chosen to be messed up, map it into a randomly chosen word from the set of words that appear in the text. Again run the experiment 10 times, each time measuring the conditional entropy of the resulting text, and give the min, max, and average entropy from these experiments. Do the same experiment for mess up likelihoods of 5%, 1%, .1%, .01%, and .001%.\n",
    "\n",
    "Now do exactly the same for the file `TEXTCZ1.txt`, which contains a similar amount of text in an unknown language (just FYI, that's Czech*)\n",
    "\n",
    "Tabulate, graph and explain your results. Also try to explain the differences between the two languages. To substantiate your explanations, you might want to tabulate also the basic characteristics of the two texts, such as the word count, number of characters (total, per word), the frequency of the most frequent words, the number of words with frequency 1, etc."
   ]
  },
  {
   "cell_type": "code",
   "execution_count": 19,
   "metadata": {
    "collapsed": true
   },
   "outputs": [],
   "source": [
    "def charset(words):\n",
    "    \"\"\"Given a list of words, calculates the set of characters over all words\"\"\"\n",
    "    return sorted(list(set(char for word in words for char in word)))"
   ]
  },
  {
   "cell_type": "code",
   "execution_count": 20,
   "metadata": {},
   "outputs": [
    {
     "data": {
      "text/plain": [
       "['!', '\"', '&', \"'\", '(', ')', ',', '.', '/', '0']"
      ]
     },
     "execution_count": 20,
     "metadata": {},
     "output_type": "execute_result"
    }
   ],
   "source": [
    "charset(open_text(english).words)[:10]"
   ]
  },
  {
   "cell_type": "code",
   "execution_count": 21,
   "metadata": {
    "collapsed": true
   },
   "outputs": [],
   "source": [
    "def vocab_list(words):\n",
    "    \"\"\"Given a list of words, calculates the set of words (vocabulary)\"\"\"\n",
    "    return sorted(list(set(word for word in words)))"
   ]
  },
  {
   "cell_type": "code",
   "execution_count": 22,
   "metadata": {},
   "outputs": [
    {
     "data": {
      "text/plain": [
       "['\"', '&', '&c', '&e', '(', ')', ',', '.', '000', '1']"
      ]
     },
     "execution_count": 22,
     "metadata": {},
     "output_type": "execute_result"
    }
   ],
   "source": [
    "vocab_list(open_text(english).words)[:10]"
   ]
  },
  {
   "cell_type": "code",
   "execution_count": 23,
   "metadata": {
    "collapsed": true
   },
   "outputs": [],
   "source": [
    "def perturb_char(word, charset, prob=0.1):\n",
    "    \"\"\"Changes each character with given probability to a random character in the charset\"\"\"\n",
    "    return ''.join(np.random.choice(charset) if np.random.random() < prob else char for char in word)"
   ]
  },
  {
   "cell_type": "code",
   "execution_count": 24,
   "metadata": {
    "collapsed": true
   },
   "outputs": [],
   "source": [
    "def perturb_word(word, vocabulary, prob=0.1):\n",
    "    \"\"\"Changes a word with given probability to a random word in the vocabulary\"\"\"\n",
    "    return np.random.choice(vocabulary) if np.random.random() < prob else word"
   ]
  },
  {
   "cell_type": "code",
   "execution_count": 25,
   "metadata": {
    "collapsed": true
   },
   "outputs": [],
   "source": [
    "def perturb(words, charset, vocabulary, prob=0.1):\n",
    "    \"\"\"Perturbs a list of words with given probability on the character level and word level\"\"\"\n",
    "    pchars = words.apply(lambda word: perturb_char(word, charset, prob=prob))\n",
    "    pwords = words.apply(lambda word: perturb_word(word, vocabulary, prob=prob))\n",
    "    \n",
    "    return pchars, pwords"
   ]
  },
  {
   "cell_type": "code",
   "execution_count": 26,
   "metadata": {
    "collapsed": true
   },
   "outputs": [],
   "source": [
    "def perturb_text(text, seed=200):\n",
    "    \"\"\"Perturbs a list of words for a predefined list of probabilties\"\"\"\n",
    "    np.random.seed(seed)\n",
    "    \n",
    "    chars, vocab = charset(text.words), vocab_list(text.words)\n",
    "    text_chars, text_words = pd.DataFrame(), pd.DataFrame()\n",
    "    \n",
    "    for prob in [0, 0.00001, 0.0001, 0.001, 0.01, 0.05, 0.1]:\n",
    "        text_chars[str(prob)], text_words[str(prob)] = perturb(text.words, chars, vocab, prob=prob)\n",
    "    \n",
    "    return text_chars, text_words"
   ]
  },
  {
   "cell_type": "code",
   "execution_count": 27,
   "metadata": {
    "collapsed": true
   },
   "outputs": [],
   "source": [
    "def all_stats(perturbed_text):\n",
    "    \"\"\"Calculates statistics for all perturbed probabilities of a given text \n",
    "    and outputs them to two tables (character and word level respectively)\"\"\"\n",
    "    text_chars, text_words = perturbed_text\n",
    "    \n",
    "    col_names = ['prob'] + text_stats_cols\n",
    "    \n",
    "    char_stats = pd.DataFrame(columns=col_names)\n",
    "    word_stats = pd.DataFrame(columns=col_names)\n",
    "    \n",
    "    # Iterate through all perturbation probabilities and gather statistics\n",
    "    for col in text_chars:\n",
    "        stat = text_stats(pd.DataFrame(list(text_chars[col]), columns=['words']))\n",
    "        char_stats.loc[len(char_stats)] = [float(col)] + stat\n",
    "    \n",
    "    for col in text_words:\n",
    "        stat = text_stats(pd.DataFrame(list(text_words[col]), columns=['words']))\n",
    "        word_stats.loc[len(word_stats)] = [float(col)] + stat\n",
    "    \n",
    "    return char_stats, word_stats"
   ]
  },
  {
   "cell_type": "code",
   "execution_count": 28,
   "metadata": {
    "collapsed": true
   },
   "outputs": [],
   "source": [
    "perturbed_en = perturb_text(open_text(english))\n",
    "perturbed_cz = perturb_text(open_text(czech))"
   ]
  },
  {
   "cell_type": "code",
   "execution_count": 29,
   "metadata": {
    "collapsed": true
   },
   "outputs": [],
   "source": [
    "char_stats_en, word_stats_en = all_stats(perturbed_en)\n",
    "char_stats_cz, word_stats_cz = all_stats(perturbed_cz)"
   ]
  },
  {
   "cell_type": "code",
   "execution_count": 30,
   "metadata": {},
   "outputs": [
    {
     "data": {
      "text/html": [
       "<div>\n",
       "<style>\n",
       "    .dataframe thead tr:only-child th {\n",
       "        text-align: right;\n",
       "    }\n",
       "\n",
       "    .dataframe thead th {\n",
       "        text-align: left;\n",
       "    }\n",
       "\n",
       "    .dataframe tbody tr th {\n",
       "        vertical-align: top;\n",
       "    }\n",
       "</style>\n",
       "<table border=\"1\" class=\"dataframe\">\n",
       "  <thead>\n",
       "    <tr style=\"text-align: right;\">\n",
       "      <th></th>\n",
       "      <th>prob</th>\n",
       "      <th>entropy</th>\n",
       "      <th>perplexity</th>\n",
       "      <th>vocab_size</th>\n",
       "      <th>char_count</th>\n",
       "      <th>chars_per_word</th>\n",
       "      <th>words_freq_1</th>\n",
       "      <th>most_freq_words</th>\n",
       "    </tr>\n",
       "  </thead>\n",
       "  <tbody>\n",
       "    <tr>\n",
       "      <th>0</th>\n",
       "      <td>0.00000</td>\n",
       "      <td>5.287425</td>\n",
       "      <td>39.054708</td>\n",
       "      <td>9608</td>\n",
       "      <td>972920</td>\n",
       "      <td>4.400382</td>\n",
       "      <td>3812</td>\n",
       "      <td>[(,, 14721), (the, 13299), (of, 9368), (., 564...</td>\n",
       "    </tr>\n",
       "    <tr>\n",
       "      <th>1</th>\n",
       "      <td>0.00001</td>\n",
       "      <td>5.287402</td>\n",
       "      <td>39.054109</td>\n",
       "      <td>9616</td>\n",
       "      <td>972920</td>\n",
       "      <td>4.400382</td>\n",
       "      <td>3820</td>\n",
       "      <td>[(,, 14721), (the, 13299), (of, 9368), (., 564...</td>\n",
       "    </tr>\n",
       "    <tr>\n",
       "      <th>2</th>\n",
       "      <td>0.00010</td>\n",
       "      <td>5.287292</td>\n",
       "      <td>39.051132</td>\n",
       "      <td>9707</td>\n",
       "      <td>972920</td>\n",
       "      <td>4.400382</td>\n",
       "      <td>3911</td>\n",
       "      <td>[(,, 14720), (the, 13294), (of, 9363), (., 564...</td>\n",
       "    </tr>\n",
       "    <tr>\n",
       "      <th>3</th>\n",
       "      <td>0.00100</td>\n",
       "      <td>5.282875</td>\n",
       "      <td>38.931733</td>\n",
       "      <td>10477</td>\n",
       "      <td>972920</td>\n",
       "      <td>4.400382</td>\n",
       "      <td>4683</td>\n",
       "      <td>[(,, 14705), (the, 13267), (of, 9346), (., 563...</td>\n",
       "    </tr>\n",
       "    <tr>\n",
       "      <th>4</th>\n",
       "      <td>0.01000</td>\n",
       "      <td>5.248710</td>\n",
       "      <td>38.020624</td>\n",
       "      <td>17738</td>\n",
       "      <td>972920</td>\n",
       "      <td>4.400382</td>\n",
       "      <td>11647</td>\n",
       "      <td>[(,, 14582), (the, 12907), (of, 9156), (., 558...</td>\n",
       "    </tr>\n",
       "    <tr>\n",
       "      <th>5</th>\n",
       "      <td>0.05000</td>\n",
       "      <td>5.053660</td>\n",
       "      <td>33.212617</td>\n",
       "      <td>42418</td>\n",
       "      <td>972920</td>\n",
       "      <td>4.400382</td>\n",
       "      <td>34647</td>\n",
       "      <td>[(,, 14000), (the, 11443), (of, 8508), (., 537...</td>\n",
       "    </tr>\n",
       "    <tr>\n",
       "      <th>6</th>\n",
       "      <td>0.10000</td>\n",
       "      <td>4.725691</td>\n",
       "      <td>26.459082</td>\n",
       "      <td>64547</td>\n",
       "      <td>972920</td>\n",
       "      <td>4.400382</td>\n",
       "      <td>55328</td>\n",
       "      <td>[(,, 13251), (the, 9774), (of, 7610), (., 5147...</td>\n",
       "    </tr>\n",
       "  </tbody>\n",
       "</table>\n",
       "</div>"
      ],
      "text/plain": [
       "      prob   entropy  perplexity vocab_size char_count  chars_per_word  \\\n",
       "0  0.00000  5.287425   39.054708       9608     972920        4.400382   \n",
       "1  0.00001  5.287402   39.054109       9616     972920        4.400382   \n",
       "2  0.00010  5.287292   39.051132       9707     972920        4.400382   \n",
       "3  0.00100  5.282875   38.931733      10477     972920        4.400382   \n",
       "4  0.01000  5.248710   38.020624      17738     972920        4.400382   \n",
       "5  0.05000  5.053660   33.212617      42418     972920        4.400382   \n",
       "6  0.10000  4.725691   26.459082      64547     972920        4.400382   \n",
       "\n",
       "  words_freq_1                                    most_freq_words  \n",
       "0         3812  [(,, 14721), (the, 13299), (of, 9368), (., 564...  \n",
       "1         3820  [(,, 14721), (the, 13299), (of, 9368), (., 564...  \n",
       "2         3911  [(,, 14720), (the, 13294), (of, 9363), (., 564...  \n",
       "3         4683  [(,, 14705), (the, 13267), (of, 9346), (., 563...  \n",
       "4        11647  [(,, 14582), (the, 12907), (of, 9156), (., 558...  \n",
       "5        34647  [(,, 14000), (the, 11443), (of, 8508), (., 537...  \n",
       "6        55328  [(,, 13251), (the, 9774), (of, 7610), (., 5147...  "
      ]
     },
     "execution_count": 30,
     "metadata": {},
     "output_type": "execute_result"
    }
   ],
   "source": [
    "char_stats_en"
   ]
  },
  {
   "cell_type": "code",
   "execution_count": 31,
   "metadata": {
    "scrolled": true
   },
   "outputs": [
    {
     "data": {
      "text/html": [
       "<div>\n",
       "<style>\n",
       "    .dataframe thead tr:only-child th {\n",
       "        text-align: right;\n",
       "    }\n",
       "\n",
       "    .dataframe thead th {\n",
       "        text-align: left;\n",
       "    }\n",
       "\n",
       "    .dataframe tbody tr th {\n",
       "        vertical-align: top;\n",
       "    }\n",
       "</style>\n",
       "<table border=\"1\" class=\"dataframe\">\n",
       "  <thead>\n",
       "    <tr style=\"text-align: right;\">\n",
       "      <th></th>\n",
       "      <th>prob</th>\n",
       "      <th>entropy</th>\n",
       "      <th>perplexity</th>\n",
       "      <th>vocab_size</th>\n",
       "      <th>char_count</th>\n",
       "      <th>chars_per_word</th>\n",
       "      <th>words_freq_1</th>\n",
       "      <th>most_freq_words</th>\n",
       "    </tr>\n",
       "  </thead>\n",
       "  <tbody>\n",
       "    <tr>\n",
       "      <th>0</th>\n",
       "      <td>0.00000</td>\n",
       "      <td>5.287425</td>\n",
       "      <td>39.054708</td>\n",
       "      <td>9608</td>\n",
       "      <td>972920</td>\n",
       "      <td>4.400382</td>\n",
       "      <td>3812</td>\n",
       "      <td>[(,, 14721), (the, 13299), (of, 9368), (., 564...</td>\n",
       "    </tr>\n",
       "    <tr>\n",
       "      <th>1</th>\n",
       "      <td>0.00001</td>\n",
       "      <td>5.287412</td>\n",
       "      <td>39.054375</td>\n",
       "      <td>9608</td>\n",
       "      <td>972923</td>\n",
       "      <td>4.400395</td>\n",
       "      <td>3811</td>\n",
       "      <td>[(,, 14721), (the, 13299), (of, 9368), (., 564...</td>\n",
       "    </tr>\n",
       "    <tr>\n",
       "      <th>2</th>\n",
       "      <td>0.00010</td>\n",
       "      <td>5.287473</td>\n",
       "      <td>39.056014</td>\n",
       "      <td>9608</td>\n",
       "      <td>972998</td>\n",
       "      <td>4.400735</td>\n",
       "      <td>3797</td>\n",
       "      <td>[(,, 14719), (the, 13296), (of, 9367), (., 564...</td>\n",
       "    </tr>\n",
       "    <tr>\n",
       "      <th>3</th>\n",
       "      <td>0.00100</td>\n",
       "      <td>5.289637</td>\n",
       "      <td>39.114640</td>\n",
       "      <td>9604</td>\n",
       "      <td>973692</td>\n",
       "      <td>4.403873</td>\n",
       "      <td>3715</td>\n",
       "      <td>[(,, 14703), (the, 13280), (of, 9361), (., 563...</td>\n",
       "    </tr>\n",
       "    <tr>\n",
       "      <th>4</th>\n",
       "      <td>0.01000</td>\n",
       "      <td>5.306678</td>\n",
       "      <td>39.579399</td>\n",
       "      <td>9578</td>\n",
       "      <td>979955</td>\n",
       "      <td>4.432200</td>\n",
       "      <td>3035</td>\n",
       "      <td>[(,, 14588), (the, 13152), (of, 9265), (., 558...</td>\n",
       "    </tr>\n",
       "    <tr>\n",
       "      <th>5</th>\n",
       "      <td>0.05000</td>\n",
       "      <td>5.376210</td>\n",
       "      <td>41.533684</td>\n",
       "      <td>9558</td>\n",
       "      <td>1006274</td>\n",
       "      <td>4.551237</td>\n",
       "      <td>1261</td>\n",
       "      <td>[(,, 14012), (the, 12679), (of, 8905), (., 538...</td>\n",
       "    </tr>\n",
       "    <tr>\n",
       "      <th>6</th>\n",
       "      <td>0.10000</td>\n",
       "      <td>5.461522</td>\n",
       "      <td>44.063813</td>\n",
       "      <td>9562</td>\n",
       "      <td>1039370</td>\n",
       "      <td>4.700926</td>\n",
       "      <td>449</td>\n",
       "      <td>[(,, 13217), (the, 11990), (of, 8443), (., 505...</td>\n",
       "    </tr>\n",
       "  </tbody>\n",
       "</table>\n",
       "</div>"
      ],
      "text/plain": [
       "      prob   entropy  perplexity vocab_size char_count  chars_per_word  \\\n",
       "0  0.00000  5.287425   39.054708       9608     972920        4.400382   \n",
       "1  0.00001  5.287412   39.054375       9608     972923        4.400395   \n",
       "2  0.00010  5.287473   39.056014       9608     972998        4.400735   \n",
       "3  0.00100  5.289637   39.114640       9604     973692        4.403873   \n",
       "4  0.01000  5.306678   39.579399       9578     979955        4.432200   \n",
       "5  0.05000  5.376210   41.533684       9558    1006274        4.551237   \n",
       "6  0.10000  5.461522   44.063813       9562    1039370        4.700926   \n",
       "\n",
       "  words_freq_1                                    most_freq_words  \n",
       "0         3812  [(,, 14721), (the, 13299), (of, 9368), (., 564...  \n",
       "1         3811  [(,, 14721), (the, 13299), (of, 9368), (., 564...  \n",
       "2         3797  [(,, 14719), (the, 13296), (of, 9367), (., 564...  \n",
       "3         3715  [(,, 14703), (the, 13280), (of, 9361), (., 563...  \n",
       "4         3035  [(,, 14588), (the, 13152), (of, 9265), (., 558...  \n",
       "5         1261  [(,, 14012), (the, 12679), (of, 8905), (., 538...  \n",
       "6          449  [(,, 13217), (the, 11990), (of, 8443), (., 505...  "
      ]
     },
     "execution_count": 31,
     "metadata": {},
     "output_type": "execute_result"
    }
   ],
   "source": [
    "word_stats_en"
   ]
  },
  {
   "cell_type": "code",
   "execution_count": 32,
   "metadata": {},
   "outputs": [
    {
     "data": {
      "text/html": [
       "<div>\n",
       "<style>\n",
       "    .dataframe thead tr:only-child th {\n",
       "        text-align: right;\n",
       "    }\n",
       "\n",
       "    .dataframe thead th {\n",
       "        text-align: left;\n",
       "    }\n",
       "\n",
       "    .dataframe tbody tr th {\n",
       "        vertical-align: top;\n",
       "    }\n",
       "</style>\n",
       "<table border=\"1\" class=\"dataframe\">\n",
       "  <thead>\n",
       "    <tr style=\"text-align: right;\">\n",
       "      <th></th>\n",
       "      <th>prob</th>\n",
       "      <th>entropy</th>\n",
       "      <th>perplexity</th>\n",
       "      <th>vocab_size</th>\n",
       "      <th>char_count</th>\n",
       "      <th>chars_per_word</th>\n",
       "      <th>words_freq_1</th>\n",
       "      <th>most_freq_words</th>\n",
       "    </tr>\n",
       "  </thead>\n",
       "  <tbody>\n",
       "    <tr>\n",
       "      <th>0</th>\n",
       "      <td>0.00000</td>\n",
       "      <td>4.747819</td>\n",
       "      <td>26.868035</td>\n",
       "      <td>42827</td>\n",
       "      <td>1030634</td>\n",
       "      <td>4.633875</td>\n",
       "      <td>26316</td>\n",
       "      <td>[(,, 13788), (., 12931), (a, 4486), (v, 4043),...</td>\n",
       "    </tr>\n",
       "    <tr>\n",
       "      <th>1</th>\n",
       "      <td>0.00001</td>\n",
       "      <td>4.747700</td>\n",
       "      <td>26.865823</td>\n",
       "      <td>42836</td>\n",
       "      <td>1030634</td>\n",
       "      <td>4.633875</td>\n",
       "      <td>26325</td>\n",
       "      <td>[(,, 13788), (., 12930), (a, 4486), (v, 4043),...</td>\n",
       "    </tr>\n",
       "    <tr>\n",
       "      <th>2</th>\n",
       "      <td>0.00010</td>\n",
       "      <td>4.747000</td>\n",
       "      <td>26.852780</td>\n",
       "      <td>42902</td>\n",
       "      <td>1030634</td>\n",
       "      <td>4.633875</td>\n",
       "      <td>26402</td>\n",
       "      <td>[(,, 13786), (., 12931), (a, 4486), (v, 4043),...</td>\n",
       "    </tr>\n",
       "    <tr>\n",
       "      <th>3</th>\n",
       "      <td>0.00100</td>\n",
       "      <td>4.737882</td>\n",
       "      <td>26.683612</td>\n",
       "      <td>43604</td>\n",
       "      <td>1030634</td>\n",
       "      <td>4.633875</td>\n",
       "      <td>27167</td>\n",
       "      <td>[(,, 13770), (., 12918), (a, 4479), (v, 4039),...</td>\n",
       "    </tr>\n",
       "    <tr>\n",
       "      <th>4</th>\n",
       "      <td>0.01000</td>\n",
       "      <td>4.656089</td>\n",
       "      <td>25.212885</td>\n",
       "      <td>50056</td>\n",
       "      <td>1030634</td>\n",
       "      <td>4.633875</td>\n",
       "      <td>34396</td>\n",
       "      <td>[(,, 13654), (., 12803), (a, 4446), (v, 4016),...</td>\n",
       "    </tr>\n",
       "    <tr>\n",
       "      <th>5</th>\n",
       "      <td>0.05000</td>\n",
       "      <td>4.336803</td>\n",
       "      <td>20.207281</td>\n",
       "      <td>73432</td>\n",
       "      <td>1030634</td>\n",
       "      <td>4.633875</td>\n",
       "      <td>60523</td>\n",
       "      <td>[(,, 13110), (., 12305), (a, 4282), (v, 3876),...</td>\n",
       "    </tr>\n",
       "    <tr>\n",
       "      <th>6</th>\n",
       "      <td>0.10000</td>\n",
       "      <td>4.000147</td>\n",
       "      <td>16.001632</td>\n",
       "      <td>94670</td>\n",
       "      <td>1030634</td>\n",
       "      <td>4.633875</td>\n",
       "      <td>84291</td>\n",
       "      <td>[(,, 12502), (., 11709), (a, 4054), (v, 3689),...</td>\n",
       "    </tr>\n",
       "  </tbody>\n",
       "</table>\n",
       "</div>"
      ],
      "text/plain": [
       "      prob   entropy  perplexity vocab_size char_count  chars_per_word  \\\n",
       "0  0.00000  4.747819   26.868035      42827    1030634        4.633875   \n",
       "1  0.00001  4.747700   26.865823      42836    1030634        4.633875   \n",
       "2  0.00010  4.747000   26.852780      42902    1030634        4.633875   \n",
       "3  0.00100  4.737882   26.683612      43604    1030634        4.633875   \n",
       "4  0.01000  4.656089   25.212885      50056    1030634        4.633875   \n",
       "5  0.05000  4.336803   20.207281      73432    1030634        4.633875   \n",
       "6  0.10000  4.000147   16.001632      94670    1030634        4.633875   \n",
       "\n",
       "  words_freq_1                                    most_freq_words  \n",
       "0        26316  [(,, 13788), (., 12931), (a, 4486), (v, 4043),...  \n",
       "1        26325  [(,, 13788), (., 12930), (a, 4486), (v, 4043),...  \n",
       "2        26402  [(,, 13786), (., 12931), (a, 4486), (v, 4043),...  \n",
       "3        27167  [(,, 13770), (., 12918), (a, 4479), (v, 4039),...  \n",
       "4        34396  [(,, 13654), (., 12803), (a, 4446), (v, 4016),...  \n",
       "5        60523  [(,, 13110), (., 12305), (a, 4282), (v, 3876),...  \n",
       "6        84291  [(,, 12502), (., 11709), (a, 4054), (v, 3689),...  "
      ]
     },
     "execution_count": 32,
     "metadata": {},
     "output_type": "execute_result"
    }
   ],
   "source": [
    "char_stats_cz"
   ]
  },
  {
   "cell_type": "code",
   "execution_count": 33,
   "metadata": {},
   "outputs": [
    {
     "data": {
      "text/html": [
       "<div>\n",
       "<style>\n",
       "    .dataframe thead tr:only-child th {\n",
       "        text-align: right;\n",
       "    }\n",
       "\n",
       "    .dataframe thead th {\n",
       "        text-align: left;\n",
       "    }\n",
       "\n",
       "    .dataframe tbody tr th {\n",
       "        vertical-align: top;\n",
       "    }\n",
       "</style>\n",
       "<table border=\"1\" class=\"dataframe\">\n",
       "  <thead>\n",
       "    <tr style=\"text-align: right;\">\n",
       "      <th></th>\n",
       "      <th>prob</th>\n",
       "      <th>entropy</th>\n",
       "      <th>perplexity</th>\n",
       "      <th>vocab_size</th>\n",
       "      <th>char_count</th>\n",
       "      <th>chars_per_word</th>\n",
       "      <th>words_freq_1</th>\n",
       "      <th>most_freq_words</th>\n",
       "    </tr>\n",
       "  </thead>\n",
       "  <tbody>\n",
       "    <tr>\n",
       "      <th>0</th>\n",
       "      <td>0.00000</td>\n",
       "      <td>4.747819</td>\n",
       "      <td>26.868035</td>\n",
       "      <td>42827</td>\n",
       "      <td>1030634</td>\n",
       "      <td>4.633875</td>\n",
       "      <td>26316</td>\n",
       "      <td>[(,, 13788), (., 12931), (a, 4486), (v, 4043),...</td>\n",
       "    </tr>\n",
       "    <tr>\n",
       "      <th>1</th>\n",
       "      <td>0.00001</td>\n",
       "      <td>4.747795</td>\n",
       "      <td>26.867587</td>\n",
       "      <td>42826</td>\n",
       "      <td>1030657</td>\n",
       "      <td>4.633978</td>\n",
       "      <td>26313</td>\n",
       "      <td>[(,, 13787), (., 12930), (a, 4486), (v, 4043),...</td>\n",
       "    </tr>\n",
       "    <tr>\n",
       "      <th>2</th>\n",
       "      <td>0.00010</td>\n",
       "      <td>4.747871</td>\n",
       "      <td>26.869012</td>\n",
       "      <td>42825</td>\n",
       "      <td>1030679</td>\n",
       "      <td>4.634077</td>\n",
       "      <td>26304</td>\n",
       "      <td>[(,, 13788), (., 12930), (a, 4486), (v, 4043),...</td>\n",
       "    </tr>\n",
       "    <tr>\n",
       "      <th>3</th>\n",
       "      <td>0.00100</td>\n",
       "      <td>4.747386</td>\n",
       "      <td>26.859968</td>\n",
       "      <td>42798</td>\n",
       "      <td>1031394</td>\n",
       "      <td>4.637292</td>\n",
       "      <td>26156</td>\n",
       "      <td>[(,, 13777), (., 12921), (a, 4483), (v, 4037),...</td>\n",
       "    </tr>\n",
       "    <tr>\n",
       "      <th>4</th>\n",
       "      <td>0.01000</td>\n",
       "      <td>4.738342</td>\n",
       "      <td>26.692119</td>\n",
       "      <td>42584</td>\n",
       "      <td>1038085</td>\n",
       "      <td>4.667376</td>\n",
       "      <td>24909</td>\n",
       "      <td>[(,, 13623), (., 12792), (a, 4439), (v, 3991),...</td>\n",
       "    </tr>\n",
       "    <tr>\n",
       "      <th>5</th>\n",
       "      <td>0.05000</td>\n",
       "      <td>4.699295</td>\n",
       "      <td>25.979382</td>\n",
       "      <td>41791</td>\n",
       "      <td>1065252</td>\n",
       "      <td>4.789522</td>\n",
       "      <td>20033</td>\n",
       "      <td>[(,, 13090), (., 12297), (a, 4258), (v, 3829),...</td>\n",
       "    </tr>\n",
       "    <tr>\n",
       "      <th>6</th>\n",
       "      <td>0.10000</td>\n",
       "      <td>4.637887</td>\n",
       "      <td>24.896768</td>\n",
       "      <td>41166</td>\n",
       "      <td>1100412</td>\n",
       "      <td>4.947606</td>\n",
       "      <td>15648</td>\n",
       "      <td>[(,, 12472), (., 11636), (a, 4027), (v, 3652),...</td>\n",
       "    </tr>\n",
       "  </tbody>\n",
       "</table>\n",
       "</div>"
      ],
      "text/plain": [
       "      prob   entropy  perplexity vocab_size char_count  chars_per_word  \\\n",
       "0  0.00000  4.747819   26.868035      42827    1030634        4.633875   \n",
       "1  0.00001  4.747795   26.867587      42826    1030657        4.633978   \n",
       "2  0.00010  4.747871   26.869012      42825    1030679        4.634077   \n",
       "3  0.00100  4.747386   26.859968      42798    1031394        4.637292   \n",
       "4  0.01000  4.738342   26.692119      42584    1038085        4.667376   \n",
       "5  0.05000  4.699295   25.979382      41791    1065252        4.789522   \n",
       "6  0.10000  4.637887   24.896768      41166    1100412        4.947606   \n",
       "\n",
       "  words_freq_1                                    most_freq_words  \n",
       "0        26316  [(,, 13788), (., 12931), (a, 4486), (v, 4043),...  \n",
       "1        26313  [(,, 13787), (., 12930), (a, 4486), (v, 4043),...  \n",
       "2        26304  [(,, 13788), (., 12930), (a, 4486), (v, 4043),...  \n",
       "3        26156  [(,, 13777), (., 12921), (a, 4483), (v, 4037),...  \n",
       "4        24909  [(,, 13623), (., 12792), (a, 4439), (v, 3991),...  \n",
       "5        20033  [(,, 13090), (., 12297), (a, 4258), (v, 3829),...  \n",
       "6        15648  [(,, 12472), (., 11636), (a, 4027), (v, 3652),...  "
      ]
     },
     "execution_count": 33,
     "metadata": {},
     "output_type": "execute_result"
    }
   ],
   "source": [
    "word_stats_cz"
   ]
  },
  {
   "cell_type": "code",
   "execution_count": 52,
   "metadata": {},
   "outputs": [],
   "source": [
    "### Configure Plots\n",
    "plt.rcParams['lines.linewidth'] = 3"
   ]
  },
  {
   "cell_type": "code",
   "execution_count": 53,
   "metadata": {},
   "outputs": [
    {
     "data": {
      "text/plain": [
       "<matplotlib.legend.Legend at 0x7f0bacfb5080>"
      ]
     },
     "execution_count": 53,
     "metadata": {},
     "output_type": "execute_result"
    },
    {
     "data": {
      "image/png": "[encoded data removed]",
      "text/plain": [
       "<matplotlib.figure.Figure at 0x7f0bad416198>"
      ]
     },
     "metadata": {
      "image/png": {
       "height": 250,
       "width": 373
      }
     },
     "output_type": "display_data"
    }
   ],
   "source": [
    "### English\n",
    "plt.plot(word_stats_en.prob, word_stats_en.entropy, label='Word Entropy')\n",
    "plt.plot(char_stats_en.prob, char_stats_en.entropy, label='Character Entropy')\n",
    "plt.legend()"
   ]
  },
  {
   "cell_type": "code",
   "execution_count": 54,
   "metadata": {},
   "outputs": [
    {
     "data": {
      "text/plain": [
       "<matplotlib.legend.Legend at 0x7f0baef37ac8>"
      ]
     },
     "execution_count": 54,
     "metadata": {},
     "output_type": "execute_result"
    },
    {
     "data": {
      "image/png": "[encoded data removed]",
      "text/plain": [
       "<matplotlib.figure.Figure at 0x7f0bad5effd0>"
      ]
     },
     "metadata": {
      "image/png": {
       "height": 250,
       "width": 373
      }
     },
     "output_type": "display_data"
    }
   ],
   "source": [
    "### Czech\n",
    "plt.plot(word_stats_cz.prob, word_stats_cz.entropy, label='Word Entropy')\n",
    "plt.plot(char_stats_cz.prob, char_stats_cz.entropy, label='Character Entropy')\n",
    "plt.legend()"
   ]
  },
  {
   "cell_type": "code",
   "execution_count": null,
   "metadata": {
    "collapsed": true
   },
   "outputs": [],
   "source": []
  }
 ],
 "metadata": {
  "kernelspec": {
   "display_name": "Python 3",
   "language": "python",
   "name": "python3"
  },
  "language_info": {
   "codemirror_mode": {
    "name": "ipython",
    "version": 3
   },
   "file_extension": ".py",
   "mimetype": "text/x-python",
   "name": "python",
   "nbconvert_exporter": "python",
   "pygments_lexer": "ipython3",
   "version": "3.6.1"
  }
 },
 "nbformat": 4,
 "nbformat_minor": 2
}
