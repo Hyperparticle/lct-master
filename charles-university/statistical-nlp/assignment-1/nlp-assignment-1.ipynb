{
 "cells": [
  {
   "cell_type": "markdown",
   "metadata": {},
   "source": [
    "# Assignment #1: PFL067 Statistical NLP\n",
    "\n",
    "## Exploring Entropy and Language Modeling\n",
    "\n",
    "---"
   ]
  },
  {
   "cell_type": "markdown",
   "metadata": {},
   "source": [
    "### 1. Entropy of a Text\n",
    "\n",
    "In this experiment, you will determine the conditional entropy of the word distribution in a text given the previous word. To do this, you will first have to compute P(i,j), which is the probability that at any position in the text you will find the word i followed immediately by the word j, and P(j|i), which is the probability that if word i occurs in the text then word j will follow. Given these probabilities, the conditional entropy of the word distribution in a text given the previous word can then be computed as:\n",
    "\n",
    "$$H(J|I) = -\\sum_{i \\in I, j \\in J} P(i,j) \\log_2 P(j|i)$$\n",
    "\n",
    "The perplexity is then computed simply as\n",
    "\n",
    "$$P_X(P(J|I)) = 2^{H(J|I)}$$\n",
    "\n",
    "Compute this conditional entropy and perplexity for `TEXTEN1.txt`\n",
    "\n",
    "This file has every word on a separate line. (Punctuation is considered a word, as in many other cases.) The i,j above will also span sentence boundaries, where i is the last word of one sentence and j is the first word of the following sentence (but obviously, there will be a fullstop at the end of most sentences).\n",
    "\n",
    "---"
   ]
  },
  {
   "cell_type": "code",
   "execution_count": 1,
   "metadata": {
    "collapsed": true
   },
   "outputs": [],
   "source": [
    "import pandas as pd\n",
    "import numpy as np\n",
    "import collections as c\n",
    "import math\n",
    "import random\n",
    "from numpy.random import RandomState"
   ]
  },
  {
   "cell_type": "code",
   "execution_count": 2,
   "metadata": {
    "collapsed": true
   },
   "outputs": [],
   "source": [
    "random.seed(200)\n",
    "np.random.seed(200)"
   ]
  },
  {
   "cell_type": "code",
   "execution_count": 3,
   "metadata": {
    "collapsed": true
   },
   "outputs": [],
   "source": [
    "english = './TEXTEN1.txt'\n",
    "czech = './TEXTCZ1.txt'"
   ]
  },
  {
   "cell_type": "code",
   "execution_count": 4,
   "metadata": {
    "collapsed": true
   },
   "outputs": [],
   "source": [
    "def open_text(filename):\n",
    "    \"\"\"Reads a text line by line, applies light preprocessing, and returns a dataframe of each word\"\"\"\n",
    "    with open(filename, encoding='iso-8859-2') as f:\n",
    "        content = f.readlines()\n",
    "\n",
    "    text = pd.DataFrame(content, columns=['words'])\n",
    "    text.words = text.words.apply(lambda word: word.strip().lower())\n",
    "    \n",
    "    return text"
   ]
  },
  {
   "cell_type": "code",
   "execution_count": 5,
   "metadata": {
    "collapsed": true
   },
   "outputs": [],
   "source": [
    "def process_ngrams(text):\n",
    "    \"\"\"Generates a list of bigrams and trigrams from a text and inserts it into the dataframe\"\"\"\n",
    "    wordprev = text.words.shift(1).fillna('<s>')\n",
    "    wordprev2 = wordprev.shift(1).fillna('<ss>')\n",
    "    \n",
    "    text['bigrams'] = list(zip(wordprev, text.words))\n",
    "    text['trigrams'] = list(zip(*[wordprev2, wordprev, text.words]))\n",
    "    \n",
    "    return text"
   ]
  },
  {
   "cell_type": "code",
   "execution_count": 6,
   "metadata": {},
   "outputs": [
    {
     "data": {
      "text/html": [
       "<div>\n",
       "<style>\n",
       "    .dataframe thead tr:only-child th {\n",
       "        text-align: right;\n",
       "    }\n",
       "\n",
       "    .dataframe thead th {\n",
       "        text-align: left;\n",
       "    }\n",
       "\n",
       "    .dataframe tbody tr th {\n",
       "        vertical-align: top;\n",
       "    }\n",
       "</style>\n",
       "<table border=\"1\" class=\"dataframe\">\n",
       "  <thead>\n",
       "    <tr style=\"text-align: right;\">\n",
       "      <th></th>\n",
       "      <th>words</th>\n",
       "      <th>bigrams</th>\n",
       "      <th>trigrams</th>\n",
       "    </tr>\n",
       "  </thead>\n",
       "  <tbody>\n",
       "    <tr>\n",
       "      <th>0</th>\n",
       "      <td>when</td>\n",
       "      <td>(&lt;s&gt;, when)</td>\n",
       "      <td>(&lt;ss&gt;, &lt;s&gt;, when)</td>\n",
       "    </tr>\n",
       "    <tr>\n",
       "      <th>1</th>\n",
       "      <td>on</td>\n",
       "      <td>(when, on)</td>\n",
       "      <td>(&lt;s&gt;, when, on)</td>\n",
       "    </tr>\n",
       "    <tr>\n",
       "      <th>2</th>\n",
       "      <td>board</td>\n",
       "      <td>(on, board)</td>\n",
       "      <td>(when, on, board)</td>\n",
       "    </tr>\n",
       "    <tr>\n",
       "      <th>3</th>\n",
       "      <td>h</td>\n",
       "      <td>(board, h)</td>\n",
       "      <td>(on, board, h)</td>\n",
       "    </tr>\n",
       "    <tr>\n",
       "      <th>4</th>\n",
       "      <td>.</td>\n",
       "      <td>(h, .)</td>\n",
       "      <td>(board, h, .)</td>\n",
       "    </tr>\n",
       "  </tbody>\n",
       "</table>\n",
       "</div>"
      ],
      "text/plain": [
       "   words      bigrams           trigrams\n",
       "0   when  (<s>, when)  (<ss>, <s>, when)\n",
       "1     on   (when, on)    (<s>, when, on)\n",
       "2  board  (on, board)  (when, on, board)\n",
       "3      h   (board, h)     (on, board, h)\n",
       "4      .       (h, .)      (board, h, .)"
      ]
     },
     "execution_count": 6,
     "metadata": {},
     "output_type": "execute_result"
    }
   ],
   "source": [
    "process_ngrams(open_text(english))[:5]"
   ]
  },
  {
   "cell_type": "code",
   "execution_count": 7,
   "metadata": {},
   "outputs": [
    {
     "data": {
      "text/html": [
       "<div>\n",
       "<style>\n",
       "    .dataframe thead tr:only-child th {\n",
       "        text-align: right;\n",
       "    }\n",
       "\n",
       "    .dataframe thead th {\n",
       "        text-align: left;\n",
       "    }\n",
       "\n",
       "    .dataframe tbody tr th {\n",
       "        vertical-align: top;\n",
       "    }\n",
       "</style>\n",
       "<table border=\"1\" class=\"dataframe\">\n",
       "  <thead>\n",
       "    <tr style=\"text-align: right;\">\n",
       "      <th></th>\n",
       "      <th>words</th>\n",
       "      <th>bigrams</th>\n",
       "      <th>trigrams</th>\n",
       "    </tr>\n",
       "  </thead>\n",
       "  <tbody>\n",
       "    <tr>\n",
       "      <th>0</th>\n",
       "      <td>v</td>\n",
       "      <td>(&lt;s&gt;, v)</td>\n",
       "      <td>(&lt;ss&gt;, &lt;s&gt;, v)</td>\n",
       "    </tr>\n",
       "    <tr>\n",
       "      <th>1</th>\n",
       "      <td>.</td>\n",
       "      <td>(v, .)</td>\n",
       "      <td>(&lt;s&gt;, v, .)</td>\n",
       "    </tr>\n",
       "    <tr>\n",
       "      <th>2</th>\n",
       "      <td>laštůvka</td>\n",
       "      <td>(., laštůvka)</td>\n",
       "      <td>(v, ., laštůvka)</td>\n",
       "    </tr>\n",
       "    <tr>\n",
       "      <th>3</th>\n",
       "      <td>:</td>\n",
       "      <td>(laštůvka, :)</td>\n",
       "      <td>(., laštůvka, :)</td>\n",
       "    </tr>\n",
       "    <tr>\n",
       "      <th>4</th>\n",
       "      <td>ať</td>\n",
       "      <td>(:, ať)</td>\n",
       "      <td>(laštůvka, :, ať)</td>\n",
       "    </tr>\n",
       "  </tbody>\n",
       "</table>\n",
       "</div>"
      ],
      "text/plain": [
       "      words        bigrams           trigrams\n",
       "0         v       (<s>, v)     (<ss>, <s>, v)\n",
       "1         .         (v, .)        (<s>, v, .)\n",
       "2  laštůvka  (., laštůvka)   (v, ., laštůvka)\n",
       "3         :  (laštůvka, :)   (., laštůvka, :)\n",
       "4        ať        (:, ať)  (laštůvka, :, ať)"
      ]
     },
     "execution_count": 7,
     "metadata": {},
     "output_type": "execute_result"
    }
   ],
   "source": [
    "process_ngrams(open_text(czech))[:5]"
   ]
  },
  {
   "cell_type": "code",
   "execution_count": 206,
   "metadata": {
    "collapsed": true
   },
   "outputs": [],
   "source": [
    "def language_model(text):\n",
    "    \"\"\"Counts unigrams and bigrams in a dataframe\"\"\"\n",
    "    words = list(text.words) + ['<s>']\n",
    "    word_counts = c.Counter(words)\n",
    "    num_words = sum(word_counts.values())\n",
    "    vocabulary = sorted(list(set(word_counts.keys())))\n",
    "\n",
    "    bigrams = list(text.bigrams)\n",
    "    bigram_counts = c.Counter(bigrams)\n",
    "    num_bigrams = sum(bigram_counts.values())\n",
    "    bigram_vocabulary = sorted(list(set(bigram_counts.keys())))\n",
    "    \n",
    "    unigram_model = words, word_counts, num_words, vocabulary\n",
    "    bigram_model = bigrams, bigram_counts, num_bigrams, bigram_vocabulary\n",
    "    \n",
    "    return unigram_model, bigram_model"
   ]
  },
  {
   "cell_type": "code",
   "execution_count": 9,
   "metadata": {
    "collapsed": true
   },
   "outputs": [],
   "source": [
    "def Pword(unigram_model, W='', alpha=0.7):\n",
    "    \"\"\"Calculates the probability a word appears in a sentence\"\"\"\n",
    "    _, word_counts, num_words, vocabulary = unigram_model\n",
    "    return (word_counts[W] + alpha) / (num_words + alpha * len(vocabulary))"
   ]
  },
  {
   "cell_type": "code",
   "execution_count": 10,
   "metadata": {
    "collapsed": true
   },
   "outputs": [],
   "source": [
    "def Pbigram(bigram_model, W='', Wprev='', alpha=0.7):\n",
    "    \"\"\"Calculates the probability a bigram appears in a sentence\"\"\"\n",
    "    _, bigram_counts, num_bigrams, bigram_vocabulary = bigram_model\n",
    "    return (bigram_counts[(Wprev, W)] + alpha) / (num_bigrams + alpha * len(bigram_vocabulary))"
   ]
  },
  {
   "cell_type": "code",
   "execution_count": 11,
   "metadata": {
    "collapsed": true
   },
   "outputs": [],
   "source": [
    "# P(A|B) = P(A,B) / P(B)\n",
    "def Pwprev(models, W='', Wprev='', alpha=0.7):\n",
    "    \"\"\"Calculates the probability a word W proceeds a word Wprev\"\"\"\n",
    "    unigram_model, bigram_model = models\n",
    "    return Pbigram(bigram_model, W=W, Wprev=Wprev, alpha=alpha) / Pword(unigram_model, W=Wprev, alpha=alpha)"
   ]
  },
  {
   "cell_type": "code",
   "execution_count": 230,
   "metadata": {
    "collapsed": true
   },
   "outputs": [],
   "source": [
    "def entropy(models, bigrams, alpha=0.7):\n",
    "    \"\"\"Calculates the entropy from a list of bigrams\"\"\"\n",
    "    _, bigram_model = models\n",
    "    return - sum(Pbigram(bigram_model, W=W, Wprev=Wprev, alpha=alpha) \n",
    "                 * math.log(Pwprev(models, W=W, Wprev=Wprev, alpha=alpha), 2) for Wprev,W in bigrams)"
   ]
  },
  {
   "cell_type": "code",
   "execution_count": 40,
   "metadata": {
    "collapsed": true
   },
   "outputs": [],
   "source": [
    "def perplexity(models, bigrams, alpha=0.7):\n",
    "    \"\"\"Calculates the perplexity from a list of bigrams\"\"\"\n",
    "    return 2 ** entropy(models, bigrams, alpha=alpha)"
   ]
  },
  {
   "cell_type": "code",
   "execution_count": 14,
   "metadata": {
    "collapsed": true
   },
   "outputs": [],
   "source": [
    "def text_stats(text, name='', alpha=1e-5):\n",
    "    process_ngrams(text)\n",
    "    models = language_model(text)\n",
    "    unigram_model, bigram_model = models\n",
    "    words, word_counts, num_words, vocabulary = unigram_model\n",
    "    bigrams, bigram_counts, num_bigrams, bigram_vocabulary = bigram_model\n",
    "    \n",
    "    stats = pd.DataFrame([[\n",
    "        name,\n",
    "        num_words,\n",
    "        len([char for word in words for char in word]),\n",
    "        word_counts.most_common()[:10],\n",
    "        sum(1 for key in word_counts if word_counts[key] == 1),\n",
    "        entropy(models, bigram_vocabulary, alpha=alpha),\n",
    "        perplexity(models, bigram_vocabulary, alpha=alpha)\n",
    "    ]], columns=[\n",
    "        'language', 'word_count', 'char_count', 'most_frequent_words', \n",
    "        'num_words_freq_1', 'entropy', 'perplexity'\n",
    "    ])\n",
    "\n",
    "    return stats"
   ]
  },
  {
   "cell_type": "code",
   "execution_count": 15,
   "metadata": {},
   "outputs": [
    {
     "data": {
      "text/html": [
       "<div>\n",
       "<style>\n",
       "    .dataframe thead tr:only-child th {\n",
       "        text-align: right;\n",
       "    }\n",
       "\n",
       "    .dataframe thead th {\n",
       "        text-align: left;\n",
       "    }\n",
       "\n",
       "    .dataframe tbody tr th {\n",
       "        vertical-align: top;\n",
       "    }\n",
       "</style>\n",
       "<table border=\"1\" class=\"dataframe\">\n",
       "  <thead>\n",
       "    <tr style=\"text-align: right;\">\n",
       "      <th></th>\n",
       "      <th>language</th>\n",
       "      <th>word_count</th>\n",
       "      <th>char_count</th>\n",
       "      <th>most_frequent_words</th>\n",
       "      <th>num_words_freq_1</th>\n",
       "      <th>entropy</th>\n",
       "      <th>perplexity</th>\n",
       "    </tr>\n",
       "  </thead>\n",
       "  <tbody>\n",
       "    <tr>\n",
       "      <th>0</th>\n",
       "      <td>english</td>\n",
       "      <td>221098</td>\n",
       "      <td>972917</td>\n",
       "      <td>[(,, 14721), (the, 13949), (of, 9400), (., 564...</td>\n",
       "      <td>3165</td>\n",
       "      <td>5.332007</td>\n",
       "      <td>40.280431</td>\n",
       "    </tr>\n",
       "  </tbody>\n",
       "</table>\n",
       "</div>"
      ],
      "text/plain": [
       "  language  word_count  char_count  \\\n",
       "0  english      221098      972917   \n",
       "\n",
       "                                 most_frequent_words  num_words_freq_1  \\\n",
       "0  [(,, 14721), (the, 13949), (of, 9400), (., 564...              3165   \n",
       "\n",
       "    entropy  perplexity  \n",
       "0  5.332007   40.280431  "
      ]
     },
     "execution_count": 15,
     "metadata": {},
     "output_type": "execute_result"
    }
   ],
   "source": [
    "text_stats(open_text(english), name='english')"
   ]
  },
  {
   "cell_type": "code",
   "execution_count": 16,
   "metadata": {},
   "outputs": [
    {
     "data": {
      "text/html": [
       "<div>\n",
       "<style>\n",
       "    .dataframe thead tr:only-child th {\n",
       "        text-align: right;\n",
       "    }\n",
       "\n",
       "    .dataframe thead th {\n",
       "        text-align: left;\n",
       "    }\n",
       "\n",
       "    .dataframe tbody tr th {\n",
       "        vertical-align: top;\n",
       "    }\n",
       "</style>\n",
       "<table border=\"1\" class=\"dataframe\">\n",
       "  <thead>\n",
       "    <tr style=\"text-align: right;\">\n",
       "      <th></th>\n",
       "      <th>language</th>\n",
       "      <th>word_count</th>\n",
       "      <th>char_count</th>\n",
       "      <th>most_frequent_words</th>\n",
       "      <th>num_words_freq_1</th>\n",
       "      <th>entropy</th>\n",
       "      <th>perplexity</th>\n",
       "    </tr>\n",
       "  </thead>\n",
       "  <tbody>\n",
       "    <tr>\n",
       "      <th>0</th>\n",
       "      <td>czech</td>\n",
       "      <td>222412</td>\n",
       "      <td>1030631</td>\n",
       "      <td>[(,, 13788), (., 12931), (a, 4768), (v, 4653),...</td>\n",
       "      <td>22715</td>\n",
       "      <td>4.909983</td>\n",
       "      <td>30.064369</td>\n",
       "    </tr>\n",
       "  </tbody>\n",
       "</table>\n",
       "</div>"
      ],
      "text/plain": [
       "  language  word_count  char_count  \\\n",
       "0    czech      222412     1030631   \n",
       "\n",
       "                                 most_frequent_words  num_words_freq_1  \\\n",
       "0  [(,, 13788), (., 12931), (a, 4768), (v, 4653),...             22715   \n",
       "\n",
       "    entropy  perplexity  \n",
       "0  4.909983   30.064369  "
      ]
     },
     "execution_count": 16,
     "metadata": {},
     "output_type": "execute_result"
    }
   ],
   "source": [
    "text_stats(open_text(czech), name='czech')"
   ]
  },
  {
   "cell_type": "markdown",
   "metadata": {},
   "source": [
    "Next, you will mess up the text and measure how this alters the conditional entropy. For every character in the text, mess it up with a likelihood of 10%. If a character is chosen to be messed up, map it into a randomly chosen character from the set of characters that appear in the text. Since there is some randomness to the outcome of the experiment, run the experiment 10 times, each time measuring the conditional entropy of the resulting text, and give the min, max, and average entropy from these experiments. Be sure to use srand to reset the random number generator seed each time you run it. Also, be sure each time you are messing up the original text, and not a previously messed up text. Do the same experiment for mess up likelihoods of 5%, 1%, .1%, .01%, and .001%."
   ]
  },
  {
   "cell_type": "code",
   "execution_count": 17,
   "metadata": {
    "collapsed": true
   },
   "outputs": [],
   "source": [
    "def charset(words):\n",
    "    return sorted(list(set(char for word in words for char in word)))"
   ]
  },
  {
   "cell_type": "code",
   "execution_count": 18,
   "metadata": {},
   "outputs": [
    {
     "data": {
      "text/plain": [
       "['!', '\"', '&', \"'\", '(', ')', ',', '.', '/', '0']"
      ]
     },
     "execution_count": 18,
     "metadata": {},
     "output_type": "execute_result"
    }
   ],
   "source": [
    "charset(open_text(english).words)[:10]"
   ]
  },
  {
   "cell_type": "code",
   "execution_count": 19,
   "metadata": {
    "collapsed": true
   },
   "outputs": [],
   "source": [
    "def vocab_list(words):\n",
    "    return sorted(list(set(word for word in words)))"
   ]
  },
  {
   "cell_type": "code",
   "execution_count": 20,
   "metadata": {},
   "outputs": [
    {
     "data": {
      "text/plain": [
       "['\"', '&', '&c', '&e', '(', ')', ',', '.', '000', '1']"
      ]
     },
     "execution_count": 20,
     "metadata": {},
     "output_type": "execute_result"
    }
   ],
   "source": [
    "vocab_list(open_text(english).words)[:10]"
   ]
  },
  {
   "cell_type": "code",
   "execution_count": 21,
   "metadata": {
    "collapsed": true
   },
   "outputs": [],
   "source": [
    "def perturb_char(word, charset, prob=0.1):\n",
    "    \"\"\"Changes each character with given probability to a random character in the charset\"\"\"\n",
    "    return ''.join(np.random.choice(charset) if np.random.random() < prob else char for char in word)"
   ]
  },
  {
   "cell_type": "code",
   "execution_count": 22,
   "metadata": {
    "collapsed": true
   },
   "outputs": [],
   "source": [
    "def perturb_word(word, vocabulary, prob=0.1):\n",
    "    \"\"\"Changes a word with given probability to a random word in the vocabulary\"\"\"\n",
    "    return np.random.choice(vocabulary) if np.random.random() < prob else word"
   ]
  },
  {
   "cell_type": "code",
   "execution_count": 23,
   "metadata": {
    "collapsed": true
   },
   "outputs": [],
   "source": [
    "def perturb(words, charset, vocabulary, prob=0.1):\n",
    "    pchars = words.apply(lambda word: perturb_char(word, charset, prob=prob))\n",
    "    pwords = words.apply(lambda word: perturb_word(word, vocabulary, prob=prob))\n",
    "    \n",
    "    return pchars, pwords"
   ]
  },
  {
   "cell_type": "code",
   "execution_count": 76,
   "metadata": {},
   "outputs": [],
   "source": [
    "def perturb_text(text, seed=200):\n",
    "    np.random.seed(seed)\n",
    "    \n",
    "    chars = charset(text.words)\n",
    "    vocab = vocab_list(text.words)\n",
    "    \n",
    "    text_chars = pd.DataFrame()\n",
    "    text_words = pd.DataFrame()\n",
    "    \n",
    "    for prob in [0, 0.00001, 0.0001, 0.001, 0.01, 0.05, 0.1]:\n",
    "        text_chars[str(prob)], text_words[str(prob)] = perturb(text.words, chars, vocab, prob=prob)\n",
    "    \n",
    "    return text_chars, text_words"
   ]
  },
  {
   "cell_type": "code",
   "execution_count": 77,
   "metadata": {
    "collapsed": true
   },
   "outputs": [],
   "source": [
    "def perturbed_text_stats(text, alpha=1e-5):\n",
    "    process_ngrams(text)\n",
    "    models = language_model(text)\n",
    "    unigram_model, bigram_model = models\n",
    "    words, word_counts, num_words, vocabulary = unigram_model\n",
    "    bigrams, bigram_counts, num_bigrams, bigram_vocabulary = bigram_model\n",
    "    \n",
    "    H = entropy(models, bigram_vocabulary, alpha=alpha)\n",
    "    P = 2 ** H\n",
    "    \n",
    "    return [H, P]"
   ]
  },
  {
   "cell_type": "code",
   "execution_count": 78,
   "metadata": {},
   "outputs": [],
   "source": [
    "def all_stats(filename):\n",
    "    text = open_text(filename)\n",
    "    text_chars, text_words = perturb_text(text)\n",
    "    \n",
    "    char_stats = pd.DataFrame(columns=['prob', 'entropy', 'perplexity'])\n",
    "    word_stats = pd.DataFrame(columns=['prob', 'entropy', 'perplexity'])\n",
    "    \n",
    "    for col in text_chars:\n",
    "        stat = perturbed_text_stats(pd.DataFrame(list(text_chars[col]), columns=['words']))\n",
    "        char_stats.loc[len(char_stats)] = [float(col)] + stat\n",
    "    \n",
    "    for col in text_words:\n",
    "        stat = perturbed_text_stats(pd.DataFrame(list(text_words[col]), columns=['words']))\n",
    "        word_stats.loc[len(word_stats)] = [float(col)] + stat\n",
    "    \n",
    "    return char_stats, word_stats"
   ]
  },
  {
   "cell_type": "code",
   "execution_count": 83,
   "metadata": {},
   "outputs": [],
   "source": [
    "char_stats_en, word_stats_en = all_stats(english)\n",
    "char_stats_cz, word_stats_cz = all_stats(czech)"
   ]
  },
  {
   "cell_type": "code",
   "execution_count": 84,
   "metadata": {},
   "outputs": [
    {
     "data": {
      "text/html": [
       "<div>\n",
       "<style>\n",
       "    .dataframe thead tr:only-child th {\n",
       "        text-align: right;\n",
       "    }\n",
       "\n",
       "    .dataframe thead th {\n",
       "        text-align: left;\n",
       "    }\n",
       "\n",
       "    .dataframe tbody tr th {\n",
       "        vertical-align: top;\n",
       "    }\n",
       "</style>\n",
       "<table border=\"1\" class=\"dataframe\">\n",
       "  <thead>\n",
       "    <tr style=\"text-align: right;\">\n",
       "      <th></th>\n",
       "      <th>prob</th>\n",
       "      <th>entropy</th>\n",
       "      <th>perplexity</th>\n",
       "    </tr>\n",
       "  </thead>\n",
       "  <tbody>\n",
       "    <tr>\n",
       "      <th>0</th>\n",
       "      <td>0.00000</td>\n",
       "      <td>5.332007</td>\n",
       "      <td>40.280431</td>\n",
       "    </tr>\n",
       "    <tr>\n",
       "      <th>1</th>\n",
       "      <td>0.00001</td>\n",
       "      <td>5.331978</td>\n",
       "      <td>40.279614</td>\n",
       "    </tr>\n",
       "    <tr>\n",
       "      <th>2</th>\n",
       "      <td>0.00010</td>\n",
       "      <td>5.331495</td>\n",
       "      <td>40.266136</td>\n",
       "    </tr>\n",
       "    <tr>\n",
       "      <th>3</th>\n",
       "      <td>0.00100</td>\n",
       "      <td>5.328537</td>\n",
       "      <td>40.183652</td>\n",
       "    </tr>\n",
       "    <tr>\n",
       "      <th>4</th>\n",
       "      <td>0.01000</td>\n",
       "      <td>5.301017</td>\n",
       "      <td>39.424410</td>\n",
       "    </tr>\n",
       "    <tr>\n",
       "      <th>5</th>\n",
       "      <td>0.05000</td>\n",
       "      <td>5.141340</td>\n",
       "      <td>35.293738</td>\n",
       "    </tr>\n",
       "    <tr>\n",
       "      <th>6</th>\n",
       "      <td>0.10000</td>\n",
       "      <td>4.842314</td>\n",
       "      <td>28.686777</td>\n",
       "    </tr>\n",
       "  </tbody>\n",
       "</table>\n",
       "</div>"
      ],
      "text/plain": [
       "      prob   entropy  perplexity\n",
       "0  0.00000  5.332007   40.280431\n",
       "1  0.00001  5.331978   40.279614\n",
       "2  0.00010  5.331495   40.266136\n",
       "3  0.00100  5.328537   40.183652\n",
       "4  0.01000  5.301017   39.424410\n",
       "5  0.05000  5.141340   35.293738\n",
       "6  0.10000  4.842314   28.686777"
      ]
     },
     "execution_count": 84,
     "metadata": {},
     "output_type": "execute_result"
    }
   ],
   "source": [
    "char_stats_en"
   ]
  },
  {
   "cell_type": "code",
   "execution_count": 85,
   "metadata": {
    "scrolled": true
   },
   "outputs": [
    {
     "data": {
      "text/html": [
       "<div>\n",
       "<style>\n",
       "    .dataframe thead tr:only-child th {\n",
       "        text-align: right;\n",
       "    }\n",
       "\n",
       "    .dataframe thead th {\n",
       "        text-align: left;\n",
       "    }\n",
       "\n",
       "    .dataframe tbody tr th {\n",
       "        vertical-align: top;\n",
       "    }\n",
       "</style>\n",
       "<table border=\"1\" class=\"dataframe\">\n",
       "  <thead>\n",
       "    <tr style=\"text-align: right;\">\n",
       "      <th></th>\n",
       "      <th>prob</th>\n",
       "      <th>entropy</th>\n",
       "      <th>perplexity</th>\n",
       "    </tr>\n",
       "  </thead>\n",
       "  <tbody>\n",
       "    <tr>\n",
       "      <th>0</th>\n",
       "      <td>0.00000</td>\n",
       "      <td>5.332007</td>\n",
       "      <td>40.280431</td>\n",
       "    </tr>\n",
       "    <tr>\n",
       "      <th>1</th>\n",
       "      <td>0.00001</td>\n",
       "      <td>5.332009</td>\n",
       "      <td>40.280477</td>\n",
       "    </tr>\n",
       "    <tr>\n",
       "      <th>2</th>\n",
       "      <td>0.00010</td>\n",
       "      <td>5.332307</td>\n",
       "      <td>40.288794</td>\n",
       "    </tr>\n",
       "    <tr>\n",
       "      <th>3</th>\n",
       "      <td>0.00100</td>\n",
       "      <td>5.334793</td>\n",
       "      <td>40.358290</td>\n",
       "    </tr>\n",
       "    <tr>\n",
       "      <th>4</th>\n",
       "      <td>0.01000</td>\n",
       "      <td>5.354069</td>\n",
       "      <td>40.901147</td>\n",
       "    </tr>\n",
       "    <tr>\n",
       "      <th>5</th>\n",
       "      <td>0.05000</td>\n",
       "      <td>5.435002</td>\n",
       "      <td>43.261210</td>\n",
       "    </tr>\n",
       "    <tr>\n",
       "      <th>6</th>\n",
       "      <td>0.10000</td>\n",
       "      <td>5.520615</td>\n",
       "      <td>45.906147</td>\n",
       "    </tr>\n",
       "  </tbody>\n",
       "</table>\n",
       "</div>"
      ],
      "text/plain": [
       "      prob   entropy  perplexity\n",
       "0  0.00000  5.332007   40.280431\n",
       "1  0.00001  5.332009   40.280477\n",
       "2  0.00010  5.332307   40.288794\n",
       "3  0.00100  5.334793   40.358290\n",
       "4  0.01000  5.354069   40.901147\n",
       "5  0.05000  5.435002   43.261210\n",
       "6  0.10000  5.520615   45.906147"
      ]
     },
     "execution_count": 85,
     "metadata": {},
     "output_type": "execute_result"
    }
   ],
   "source": [
    "word_stats_en"
   ]
  },
  {
   "cell_type": "code",
   "execution_count": 86,
   "metadata": {},
   "outputs": [
    {
     "data": {
      "text/html": [
       "<div>\n",
       "<style>\n",
       "    .dataframe thead tr:only-child th {\n",
       "        text-align: right;\n",
       "    }\n",
       "\n",
       "    .dataframe thead th {\n",
       "        text-align: left;\n",
       "    }\n",
       "\n",
       "    .dataframe tbody tr th {\n",
       "        vertical-align: top;\n",
       "    }\n",
       "</style>\n",
       "<table border=\"1\" class=\"dataframe\">\n",
       "  <thead>\n",
       "    <tr style=\"text-align: right;\">\n",
       "      <th></th>\n",
       "      <th>prob</th>\n",
       "      <th>entropy</th>\n",
       "      <th>perplexity</th>\n",
       "    </tr>\n",
       "  </thead>\n",
       "  <tbody>\n",
       "    <tr>\n",
       "      <th>0</th>\n",
       "      <td>0.00000</td>\n",
       "      <td>4.909983</td>\n",
       "      <td>30.064369</td>\n",
       "    </tr>\n",
       "    <tr>\n",
       "      <th>1</th>\n",
       "      <td>0.00001</td>\n",
       "      <td>4.909836</td>\n",
       "      <td>30.061314</td>\n",
       "    </tr>\n",
       "    <tr>\n",
       "      <th>2</th>\n",
       "      <td>0.00010</td>\n",
       "      <td>4.908833</td>\n",
       "      <td>30.040426</td>\n",
       "    </tr>\n",
       "    <tr>\n",
       "      <th>3</th>\n",
       "      <td>0.00100</td>\n",
       "      <td>4.900083</td>\n",
       "      <td>29.858771</td>\n",
       "    </tr>\n",
       "    <tr>\n",
       "      <th>4</th>\n",
       "      <td>0.01000</td>\n",
       "      <td>4.817114</td>\n",
       "      <td>28.190051</td>\n",
       "    </tr>\n",
       "    <tr>\n",
       "      <th>5</th>\n",
       "      <td>0.05000</td>\n",
       "      <td>4.493063</td>\n",
       "      <td>22.518876</td>\n",
       "    </tr>\n",
       "    <tr>\n",
       "      <th>6</th>\n",
       "      <td>0.10000</td>\n",
       "      <td>4.151630</td>\n",
       "      <td>17.773175</td>\n",
       "    </tr>\n",
       "  </tbody>\n",
       "</table>\n",
       "</div>"
      ],
      "text/plain": [
       "      prob   entropy  perplexity\n",
       "0  0.00000  4.909983   30.064369\n",
       "1  0.00001  4.909836   30.061314\n",
       "2  0.00010  4.908833   30.040426\n",
       "3  0.00100  4.900083   29.858771\n",
       "4  0.01000  4.817114   28.190051\n",
       "5  0.05000  4.493063   22.518876\n",
       "6  0.10000  4.151630   17.773175"
      ]
     },
     "execution_count": 86,
     "metadata": {},
     "output_type": "execute_result"
    }
   ],
   "source": [
    "char_stats_cz"
   ]
  },
  {
   "cell_type": "code",
   "execution_count": 87,
   "metadata": {},
   "outputs": [
    {
     "data": {
      "text/html": [
       "<div>\n",
       "<style>\n",
       "    .dataframe thead tr:only-child th {\n",
       "        text-align: right;\n",
       "    }\n",
       "\n",
       "    .dataframe thead th {\n",
       "        text-align: left;\n",
       "    }\n",
       "\n",
       "    .dataframe tbody tr th {\n",
       "        vertical-align: top;\n",
       "    }\n",
       "</style>\n",
       "<table border=\"1\" class=\"dataframe\">\n",
       "  <thead>\n",
       "    <tr style=\"text-align: right;\">\n",
       "      <th></th>\n",
       "      <th>prob</th>\n",
       "      <th>entropy</th>\n",
       "      <th>perplexity</th>\n",
       "    </tr>\n",
       "  </thead>\n",
       "  <tbody>\n",
       "    <tr>\n",
       "      <th>0</th>\n",
       "      <td>0.00000</td>\n",
       "      <td>4.909983</td>\n",
       "      <td>30.064369</td>\n",
       "    </tr>\n",
       "    <tr>\n",
       "      <th>1</th>\n",
       "      <td>0.00001</td>\n",
       "      <td>4.909961</td>\n",
       "      <td>30.063913</td>\n",
       "    </tr>\n",
       "    <tr>\n",
       "      <th>2</th>\n",
       "      <td>0.00010</td>\n",
       "      <td>4.909977</td>\n",
       "      <td>30.064247</td>\n",
       "    </tr>\n",
       "    <tr>\n",
       "      <th>3</th>\n",
       "      <td>0.00100</td>\n",
       "      <td>4.909434</td>\n",
       "      <td>30.052935</td>\n",
       "    </tr>\n",
       "    <tr>\n",
       "      <th>4</th>\n",
       "      <td>0.01000</td>\n",
       "      <td>4.900151</td>\n",
       "      <td>29.860191</td>\n",
       "    </tr>\n",
       "    <tr>\n",
       "      <th>5</th>\n",
       "      <td>0.05000</td>\n",
       "      <td>4.862496</td>\n",
       "      <td>29.090894</td>\n",
       "    </tr>\n",
       "    <tr>\n",
       "      <th>6</th>\n",
       "      <td>0.10000</td>\n",
       "      <td>4.795332</td>\n",
       "      <td>27.767620</td>\n",
       "    </tr>\n",
       "  </tbody>\n",
       "</table>\n",
       "</div>"
      ],
      "text/plain": [
       "      prob   entropy  perplexity\n",
       "0  0.00000  4.909983   30.064369\n",
       "1  0.00001  4.909961   30.063913\n",
       "2  0.00010  4.909977   30.064247\n",
       "3  0.00100  4.909434   30.052935\n",
       "4  0.01000  4.900151   29.860191\n",
       "5  0.05000  4.862496   29.090894\n",
       "6  0.10000  4.795332   27.767620"
      ]
     },
     "execution_count": 87,
     "metadata": {},
     "output_type": "execute_result"
    }
   ],
   "source": [
    "word_stats_cz"
   ]
  }
 ],
 "metadata": {
  "kernelspec": {
   "display_name": "Python 3",
   "language": "python",
   "name": "python3"
  },
  "language_info": {
   "codemirror_mode": {
    "name": "ipython",
    "version": 3
   },
   "file_extension": ".py",
   "mimetype": "text/x-python",
   "name": "python",
   "nbconvert_exporter": "python",
   "pygments_lexer": "ipython3",
   "version": "3.6.1"
  }
 },
 "nbformat": 4,
 "nbformat_minor": 2
}
