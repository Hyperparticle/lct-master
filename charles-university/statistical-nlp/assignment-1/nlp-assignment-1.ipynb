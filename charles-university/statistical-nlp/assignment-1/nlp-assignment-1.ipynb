{
 "cells": [
  {
   "cell_type": "markdown",
   "metadata": {},
   "source": [
    "# Assignment #1: PFL067 Statistical NLP\n",
    "\n",
    "## Exploring Entropy and Language Modeling\n",
    "\n",
    "### Author: Dan Kondratyuk\n",
    "---"
   ]
  },
  {
   "cell_type": "markdown",
   "metadata": {},
   "source": [
    "### 1. Entropy of a Text\n",
    "\n",
    "#### Problem Statement\n",
    "> In this experiment, you will determine the conditional entropy of the word distribution in a text given the previous word. To do this, you will first have to compute P(i,j), which is the probability that at any position in the text you will find the word i followed immediately by the word j, and P(j|i), which is the probability that if word i occurs in the text then word j will follow. Given these probabilities, the conditional entropy of the word distribution in a text given the previous word can then be computed as:\n",
    "\n",
    "> $$H(J|I) = -\\sum_{i \\in I, j \\in J} P(i,j) \\log_2 P(j|i)$$\n",
    "\n",
    "> The perplexity is then computed simply as\n",
    "\n",
    "> $$P_X(P(J|I)) = 2^{H(J|I)}$$\n",
    "\n",
    "> Compute this conditional entropy and perplexity for `TEXTEN1.txt`. This file has every word on a separate line. (Punctuation is considered a word, as in many other cases.) The i,j above will also span sentence boundaries, where i is the last word of one sentence and j is the first word of the following sentence (but obviously, there will be a fullstop at the end of most sentences).\n",
    "\n",
    "> Next, you will mess up the text and measure how this alters the conditional entropy. For every character in the text, mess it up with a likelihood of 10%. If a character is chosen to be messed up, map it into a randomly chosen character from the set of characters that appear in the text. Since there is some randomness to the outcome of the experiment, run the experiment 10 times, each time measuring the conditional entropy of the resulting text, and give the min, max, and average entropy from these experiments. Be sure to use srand to reset the random number generator seed each time you run it. Also, be sure each time you are messing up the original text, and not a previously messed up text. Do the same experiment for mess up likelihoods of 5%, 1%, .1%, .01%, and .001%.\n",
    "\n",
    "> Next, for every word in the text, mess it up with a likelihood of 10%. If a word is chosen to be messed up, map it into a randomly chosen word from the set of words that appear in the text. Again run the experiment 10 times, each time measuring the conditional entropy of the resulting text, and give the min, max, and average entropy from these experiments. Do the same experiment for mess up likelihoods of 5%, 1%, .1%, .01%, and .001%.\n",
    "\n",
    "> Now do exactly the same for the file `TEXTCZ1.txt`, which contains a similar amount of text in an unknown language (just FYI, that's Czech*)\n",
    "\n",
    "> Tabulate, graph and explain your results. Also try to explain the differences between the two languages. To substantiate your explanations, you might want to tabulate also the basic characteristics of the two texts, such as the word count, number of characters (total, per word), the frequency of the most frequent words, the number of words with frequency 1, etc."
   ]
  },
  {
   "cell_type": "markdown",
   "metadata": {},
   "source": [
    "### Process Text\n",
    "Define functions to calculate probabilites of bigrams/unigrams and conditional entropy of a text."
   ]
  },
  {
   "cell_type": "code",
   "execution_count": 1,
   "metadata": {
    "collapsed": true
   },
   "outputs": [],
   "source": [
    "%matplotlib inline\n",
    "%config InlineBackend.figure_format = 'retina'\n",
    "\n",
    "import nltk\n",
    "import matplotlib.pyplot as plt\n",
    "import pandas as pd\n",
    "import numpy as np\n",
    "import collections as c\n",
    "from collections import defaultdict\n",
    "import pickle"
   ]
  },
  {
   "cell_type": "code",
   "execution_count": 2,
   "metadata": {
    "collapsed": true
   },
   "outputs": [],
   "source": [
    "# Set a seed so that this notebook is repeatable\n",
    "np.random.seed(200)"
   ]
  },
  {
   "cell_type": "code",
   "execution_count": 3,
   "metadata": {
    "collapsed": true
   },
   "outputs": [],
   "source": [
    "english = './TEXTEN1.txt'\n",
    "czech = './TEXTCZ1.txt'"
   ]
  },
  {
   "cell_type": "code",
   "execution_count": 4,
   "metadata": {
    "collapsed": true
   },
   "outputs": [],
   "source": [
    "def open_text(filename):\n",
    "    \"\"\"Reads a text line by line, applies light preprocessing, and returns an array of words\"\"\"\n",
    "    with open(filename, encoding='iso-8859-2') as f:\n",
    "        content = f.readlines()\n",
    "    \n",
    "    preprocess = lambda word: word.strip()\n",
    "    \n",
    "    return np.array([preprocess(word) for word in content])"
   ]
  },
  {
   "cell_type": "code",
   "execution_count": 5,
   "metadata": {
    "collapsed": true
   },
   "outputs": [],
   "source": [
    "# Read the texts into memory\n",
    "words_en, words_cz = open_text(english), open_text(czech)"
   ]
  },
  {
   "cell_type": "code",
   "execution_count": 6,
   "metadata": {
    "collapsed": true
   },
   "outputs": [],
   "source": [
    "class BigramModel:\n",
    "    \"\"\"Counts up bigrams and calculates probabilities\"\"\"\n",
    "    \n",
    "    def __init__(self, words):\n",
    "        self.words = words\n",
    "        self.word_set = list(set(words))\n",
    "        self.word_count = len(self.word_set)\n",
    "        self.total_word_count = len(self.words)\n",
    "        self.unigram_dist = c.Counter(words)\n",
    "        \n",
    "        self.bigrams = list(nltk.bigrams(words))\n",
    "        self.bigram_set = list(set(self.bigrams))\n",
    "        self.bigram_count = len(self.bigram_set)\n",
    "        self.total_bigram_count = len(self.bigrams)\n",
    "        self.dist = c.Counter(self.bigrams)\n",
    "    \n",
    "    def p_bigram(self, wprev, w):\n",
    "        \"\"\"Calculates the probability a bigram appears in the distribution\"\"\"\n",
    "        return self.dist[(wprev, w)] / self.total_bigram_count\n",
    "\n",
    "    def p_bigram_cond(self, wprev, w):\n",
    "        \"\"\"Calculates the probability a word appears in the distribution given the previous word\"\"\"\n",
    "        return self.dist[(wprev, w)] / self.unigram_dist[wprev]\n",
    "    \n",
    "    def entropy_cond(self):\n",
    "        \"\"\"Calculates the conditional entropy from a list of bigrams\"\"\"\n",
    "        bigram_set = self.bigram_set\n",
    "        return - np.sum(self.p_bigram(*bigram) * \n",
    "                        np.log2(self.p_bigram_cond(*bigram)) \n",
    "                        for bigram in bigram_set)\n",
    "\n",
    "    def perplexity_cond(self, entropy=-1):\n",
    "        \"\"\"Calculates the conditional perplexity from the given conditional entropy\"\"\"\n",
    "        if (entropy < 0):\n",
    "            return 2 ** self.entropy_cond()\n",
    "        else:\n",
    "            return 2 ** entropy"
   ]
  },
  {
   "cell_type": "markdown",
   "metadata": {},
   "source": [
    "### Basic Text Statistics\n",
    "Here we can see basic text stats of each language's text."
   ]
  },
  {
   "cell_type": "code",
   "execution_count": 7,
   "metadata": {
    "collapsed": true
   },
   "outputs": [],
   "source": [
    "def text_stats(words):\n",
    "    \"\"\"Given a list of words, this calculates various statistical \n",
    "    properties like entropy, number of characters, etc\"\"\"\n",
    "    bigram_model = BigramModel(words)\n",
    "    \n",
    "    entropy = bigram_model.entropy_cond()\n",
    "    perplexity = bigram_model.perplexity_cond(entropy=entropy)\n",
    "    vocab_size = bigram_model.word_count\n",
    "    char_count = len([char for word in words for char in word])\n",
    "    chars_per_word = char_count / len(words)\n",
    "    words_freq_1 = sum(1 for key in bigram_model.unigram_dist if bigram_model.unigram_dist[key] == 1)\n",
    "    most_freq_words = bigram_model.unigram_dist.most_common()[:10]\n",
    "\n",
    "    return [entropy, perplexity, vocab_size, char_count, chars_per_word, words_freq_1, most_freq_words]"
   ]
  },
  {
   "cell_type": "code",
   "execution_count": 8,
   "metadata": {
    "collapsed": true
   },
   "outputs": [],
   "source": [
    "text_stats_cols = [\n",
    "    'entropy', 'perplexity', 'vocab_size', 'char_count', \n",
    "    'chars_per_word', 'words_freq_1', 'most_freq_words'\n",
    "]"
   ]
  },
  {
   "cell_type": "code",
   "execution_count": 9,
   "metadata": {
    "collapsed": true
   },
   "outputs": [],
   "source": [
    "def text_stats_lang(filename):\n",
    "    \"\"\"Calculates statistics from a file and arranges them in a nicely formatted table\"\"\"\n",
    "    return pd.DataFrame([text_stats(open_text(filename))], columns=text_stats_cols)"
   ]
  },
  {
   "cell_type": "code",
   "execution_count": 10,
   "metadata": {},
   "outputs": [
    {
     "data": {
      "text/html": [
       "<div>\n",
       "<style>\n",
       "    .dataframe thead tr:only-child th {\n",
       "        text-align: right;\n",
       "    }\n",
       "\n",
       "    .dataframe thead th {\n",
       "        text-align: left;\n",
       "    }\n",
       "\n",
       "    .dataframe tbody tr th {\n",
       "        vertical-align: top;\n",
       "    }\n",
       "</style>\n",
       "<table border=\"1\" class=\"dataframe\">\n",
       "  <thead>\n",
       "    <tr style=\"text-align: right;\">\n",
       "      <th></th>\n",
       "      <th>entropy</th>\n",
       "      <th>perplexity</th>\n",
       "      <th>vocab_size</th>\n",
       "      <th>char_count</th>\n",
       "      <th>chars_per_word</th>\n",
       "      <th>words_freq_1</th>\n",
       "      <th>most_freq_words</th>\n",
       "    </tr>\n",
       "  </thead>\n",
       "  <tbody>\n",
       "    <tr>\n",
       "      <th>0</th>\n",
       "      <td>5.287452</td>\n",
       "      <td>39.055456</td>\n",
       "      <td>9607</td>\n",
       "      <td>972917</td>\n",
       "      <td>4.400388</td>\n",
       "      <td>3811</td>\n",
       "      <td>[(,, 14721), (the, 13299), (of, 9368), (., 564...</td>\n",
       "    </tr>\n",
       "  </tbody>\n",
       "</table>\n",
       "</div>"
      ],
      "text/plain": [
       "    entropy  perplexity  vocab_size  char_count  chars_per_word  words_freq_1  \\\n",
       "0  5.287452   39.055456        9607      972917        4.400388          3811   \n",
       "\n",
       "                                     most_freq_words  \n",
       "0  [(,, 14721), (the, 13299), (of, 9368), (., 564...  "
      ]
     },
     "execution_count": 10,
     "metadata": {},
     "output_type": "execute_result"
    }
   ],
   "source": [
    "# English stats\n",
    "text_stats_lang(english)"
   ]
  },
  {
   "cell_type": "code",
   "execution_count": 11,
   "metadata": {},
   "outputs": [
    {
     "data": {
      "text/html": [
       "<div>\n",
       "<style>\n",
       "    .dataframe thead tr:only-child th {\n",
       "        text-align: right;\n",
       "    }\n",
       "\n",
       "    .dataframe thead th {\n",
       "        text-align: left;\n",
       "    }\n",
       "\n",
       "    .dataframe tbody tr th {\n",
       "        vertical-align: top;\n",
       "    }\n",
       "</style>\n",
       "<table border=\"1\" class=\"dataframe\">\n",
       "  <thead>\n",
       "    <tr style=\"text-align: right;\">\n",
       "      <th></th>\n",
       "      <th>entropy</th>\n",
       "      <th>perplexity</th>\n",
       "      <th>vocab_size</th>\n",
       "      <th>char_count</th>\n",
       "      <th>chars_per_word</th>\n",
       "      <th>words_freq_1</th>\n",
       "      <th>most_freq_words</th>\n",
       "    </tr>\n",
       "  </thead>\n",
       "  <tbody>\n",
       "    <tr>\n",
       "      <th>0</th>\n",
       "      <td>4.747848</td>\n",
       "      <td>26.868573</td>\n",
       "      <td>42826</td>\n",
       "      <td>1030631</td>\n",
       "      <td>4.633882</td>\n",
       "      <td>26315</td>\n",
       "      <td>[(,, 13788), (., 12931), (a, 4486), (v, 4043),...</td>\n",
       "    </tr>\n",
       "  </tbody>\n",
       "</table>\n",
       "</div>"
      ],
      "text/plain": [
       "    entropy  perplexity  vocab_size  char_count  chars_per_word  words_freq_1  \\\n",
       "0  4.747848   26.868573       42826     1030631        4.633882         26315   \n",
       "\n",
       "                                     most_freq_words  \n",
       "0  [(,, 13788), (., 12931), (a, 4486), (v, 4043),...  "
      ]
     },
     "execution_count": 11,
     "metadata": {},
     "output_type": "execute_result"
    }
   ],
   "source": [
    "# Czech stats\n",
    "text_stats_lang(czech)"
   ]
  },
  {
   "cell_type": "markdown",
   "metadata": {},
   "source": [
    "### Perturb Texts\n",
    "Define functions to process each text and perturb characters/words with a given probability."
   ]
  },
  {
   "cell_type": "code",
   "execution_count": 12,
   "metadata": {
    "collapsed": true
   },
   "outputs": [],
   "source": [
    "def charset(words):\n",
    "    \"\"\"Given a list of words, calculates the set of characters over all words\"\"\"\n",
    "    return np.array(list(set(char for word in words for char in word)))"
   ]
  },
  {
   "cell_type": "code",
   "execution_count": 13,
   "metadata": {},
   "outputs": [
    {
     "data": {
      "text/plain": [
       "array(['E', 'M', 'o', 'h', 'R', \"'\", 'k', 'X', 'C', 'd'],\n",
       "      dtype='<U1')"
      ]
     },
     "execution_count": 13,
     "metadata": {},
     "output_type": "execute_result"
    }
   ],
   "source": [
    "charset(words_en)[:10]"
   ]
  },
  {
   "cell_type": "code",
   "execution_count": 14,
   "metadata": {
    "collapsed": true
   },
   "outputs": [],
   "source": [
    "def vocab_list(words):\n",
    "    \"\"\"Given a list of words, calculates the set of words (vocabulary)\"\"\"\n",
    "    return np.array(list(set(word for word in words)))"
   ]
  },
  {
   "cell_type": "code",
   "execution_count": 15,
   "metadata": {},
   "outputs": [
    {
     "data": {
      "text/plain": [
       "array(['setter', 'conspicuous', 'Continued', 'experiment', 'descendant',\n",
       "       'literal', 'epidemics', 'roses', 'shorter', 'done'],\n",
       "      dtype='<U18')"
      ]
     },
     "execution_count": 15,
     "metadata": {},
     "output_type": "execute_result"
    }
   ],
   "source": [
    "vocab_list(words_en)[:10]"
   ]
  },
  {
   "cell_type": "code",
   "execution_count": 16,
   "metadata": {
    "collapsed": true
   },
   "outputs": [],
   "source": [
    "def perturb_char(word, charset, prob=0.1):\n",
    "    \"\"\"Changes each character with given probability to a random character in the charset\"\"\"\n",
    "    return ''.join(np.random.choice(charset) if np.random.random() < prob else char for char in word)"
   ]
  },
  {
   "cell_type": "code",
   "execution_count": 17,
   "metadata": {
    "collapsed": true
   },
   "outputs": [],
   "source": [
    "def perturb_word(word, vocabulary, prob=0.1):\n",
    "    \"\"\"Changes a word with given probability to a random word in the vocabulary\"\"\"\n",
    "    return np.random.choice(vocabulary) if np.random.random() < prob else word"
   ]
  },
  {
   "cell_type": "code",
   "execution_count": 18,
   "metadata": {
    "collapsed": true
   },
   "outputs": [],
   "source": [
    "def perturb(words, charset, vocabulary, prob=0.1):\n",
    "    \"\"\"Perturbs a list of words with given probability on the character level and word level\"\"\"\n",
    "    pchars = list(map(lambda word: perturb_char(word, charset, prob=prob), words))\n",
    "    pwords = list(map(lambda word: perturb_word(word, vocabulary, prob=prob), words))\n",
    "    \n",
    "    return pchars, pwords"
   ]
  },
  {
   "cell_type": "code",
   "execution_count": 19,
   "metadata": {
    "collapsed": true
   },
   "outputs": [],
   "source": [
    "def perturb_text(words, seed=200):\n",
    "    \"\"\"Perturbs a list of words for a predefined list of probabilties\"\"\"\n",
    "    np.random.seed(seed)\n",
    "    \n",
    "    chars, vocab = charset(words), vocab_list(words)\n",
    "    text_chars, text_words = pd.DataFrame(), pd.DataFrame()\n",
    "    \n",
    "    for prob in [0, 0.00001, 0.0001, 0.001, 0.01, 0.05, 0.1]:\n",
    "        text_chars[str(prob)], text_words[str(prob)] = perturb(words, chars, vocab, prob=prob)\n",
    "    \n",
    "    return text_chars, text_words"
   ]
  },
  {
   "cell_type": "code",
   "execution_count": 20,
   "metadata": {
    "collapsed": true
   },
   "outputs": [],
   "source": [
    "perturbed_en = perturb_text(words_en)\n",
    "perturbed_cz = perturb_text(words_cz)"
   ]
  },
  {
   "cell_type": "code",
   "execution_count": 21,
   "metadata": {
    "collapsed": true
   },
   "outputs": [],
   "source": [
    "with open('perturbed_en.pkl', 'wb') as f:\n",
    "    pickle.dump(perturbed_en, f)\n",
    "with open('perturbed_cz.pkl', 'wb') as f:\n",
    "    pickle.dump(perturbed_cz, f)"
   ]
  },
  {
   "cell_type": "code",
   "execution_count": 22,
   "metadata": {
    "collapsed": true
   },
   "outputs": [],
   "source": [
    "with open('perturbed_en.pkl', 'rb') as f:\n",
    "    perturbed_en = pickle.load(f)\n",
    "with open('perturbed_cz.pkl', 'rb') as f:\n",
    "    perturbed_cz = pickle.load(f)"
   ]
  },
  {
   "cell_type": "markdown",
   "metadata": {},
   "source": [
    "### Entropy Statistics\n",
    "Calculate, tabulate, and plot the entropy (and other statistics) with respect to the type and amount of perturbation made to a text."
   ]
  },
  {
   "cell_type": "code",
   "execution_count": 23,
   "metadata": {
    "collapsed": true
   },
   "outputs": [],
   "source": [
    "def all_stats(perturbed_text):\n",
    "    \"\"\"Calculates statistics for all perturbed probabilities of a given text \n",
    "    and outputs them to two tables (character and word level respectively)\"\"\"\n",
    "    text_chars, text_words = perturbed_text\n",
    "    \n",
    "    col_names = ['prob'] + text_stats_cols\n",
    "    \n",
    "    char_stats = pd.DataFrame(columns=col_names)\n",
    "    word_stats = pd.DataFrame(columns=col_names)\n",
    "    \n",
    "    # Iterate through all perturbation probabilities and gather statistics\n",
    "    for col in text_chars:\n",
    "        stat = text_stats(list(text_chars[col]))\n",
    "        char_stats.loc[len(char_stats)] = [float(col)] + stat\n",
    "    \n",
    "    for col in text_words:\n",
    "        stat = text_stats(list(text_words[col]))\n",
    "        word_stats.loc[len(word_stats)] = [float(col)] + stat\n",
    "    \n",
    "    return char_stats, word_stats"
   ]
  },
  {
   "cell_type": "code",
   "execution_count": 24,
   "metadata": {
    "collapsed": true
   },
   "outputs": [],
   "source": [
    "char_stats_en, word_stats_en = all_stats(perturbed_en)\n",
    "char_stats_cz, word_stats_cz = all_stats(perturbed_cz)"
   ]
  },
  {
   "cell_type": "code",
   "execution_count": 25,
   "metadata": {},
   "outputs": [
    {
     "data": {
      "text/html": [
       "<div>\n",
       "<style>\n",
       "    .dataframe thead tr:only-child th {\n",
       "        text-align: right;\n",
       "    }\n",
       "\n",
       "    .dataframe thead th {\n",
       "        text-align: left;\n",
       "    }\n",
       "\n",
       "    .dataframe tbody tr th {\n",
       "        vertical-align: top;\n",
       "    }\n",
       "</style>\n",
       "<table border=\"1\" class=\"dataframe\">\n",
       "  <thead>\n",
       "    <tr style=\"text-align: right;\">\n",
       "      <th></th>\n",
       "      <th>prob</th>\n",
       "      <th>entropy</th>\n",
       "      <th>perplexity</th>\n",
       "      <th>vocab_size</th>\n",
       "      <th>char_count</th>\n",
       "      <th>chars_per_word</th>\n",
       "      <th>words_freq_1</th>\n",
       "      <th>most_freq_words</th>\n",
       "    </tr>\n",
       "  </thead>\n",
       "  <tbody>\n",
       "    <tr>\n",
       "      <th>0</th>\n",
       "      <td>0.00000</td>\n",
       "      <td>5.287452</td>\n",
       "      <td>39.055456</td>\n",
       "      <td>9607</td>\n",
       "      <td>972917</td>\n",
       "      <td>4.400388</td>\n",
       "      <td>3811</td>\n",
       "      <td>[(,, 14721), (the, 13299), (of, 9368), (., 564...</td>\n",
       "    </tr>\n",
       "    <tr>\n",
       "      <th>1</th>\n",
       "      <td>0.00001</td>\n",
       "      <td>5.287433</td>\n",
       "      <td>39.054949</td>\n",
       "      <td>9615</td>\n",
       "      <td>972917</td>\n",
       "      <td>4.400388</td>\n",
       "      <td>3820</td>\n",
       "      <td>[(,, 14721), (the, 13299), (of, 9368), (., 564...</td>\n",
       "    </tr>\n",
       "    <tr>\n",
       "      <th>2</th>\n",
       "      <td>0.00010</td>\n",
       "      <td>5.287346</td>\n",
       "      <td>39.052594</td>\n",
       "      <td>9706</td>\n",
       "      <td>972917</td>\n",
       "      <td>4.400388</td>\n",
       "      <td>3910</td>\n",
       "      <td>[(,, 14720), (the, 13295), (of, 9363), (., 564...</td>\n",
       "    </tr>\n",
       "    <tr>\n",
       "      <th>3</th>\n",
       "      <td>0.00100</td>\n",
       "      <td>5.283056</td>\n",
       "      <td>38.936629</td>\n",
       "      <td>10472</td>\n",
       "      <td>972917</td>\n",
       "      <td>4.400388</td>\n",
       "      <td>4674</td>\n",
       "      <td>[(,, 14705), (the, 13266), (of, 9347), (., 563...</td>\n",
       "    </tr>\n",
       "    <tr>\n",
       "      <th>4</th>\n",
       "      <td>0.01000</td>\n",
       "      <td>5.248243</td>\n",
       "      <td>38.008300</td>\n",
       "      <td>17747</td>\n",
       "      <td>972917</td>\n",
       "      <td>4.400388</td>\n",
       "      <td>11656</td>\n",
       "      <td>[(,, 14586), (the, 12916), (of, 9159), (., 558...</td>\n",
       "    </tr>\n",
       "    <tr>\n",
       "      <th>5</th>\n",
       "      <td>0.05000</td>\n",
       "      <td>5.052525</td>\n",
       "      <td>33.186515</td>\n",
       "      <td>42426</td>\n",
       "      <td>972917</td>\n",
       "      <td>4.400388</td>\n",
       "      <td>34665</td>\n",
       "      <td>[(,, 14002), (the, 11446), (of, 8508), (., 538...</td>\n",
       "    </tr>\n",
       "    <tr>\n",
       "      <th>6</th>\n",
       "      <td>0.10000</td>\n",
       "      <td>4.726798</td>\n",
       "      <td>26.479385</td>\n",
       "      <td>64493</td>\n",
       "      <td>972917</td>\n",
       "      <td>4.400388</td>\n",
       "      <td>55234</td>\n",
       "      <td>[(,, 13255), (the, 9759), (of, 7604), (., 5150...</td>\n",
       "    </tr>\n",
       "  </tbody>\n",
       "</table>\n",
       "</div>"
      ],
      "text/plain": [
       "      prob   entropy  perplexity vocab_size char_count  chars_per_word  \\\n",
       "0  0.00000  5.287452   39.055456       9607     972917        4.400388   \n",
       "1  0.00001  5.287433   39.054949       9615     972917        4.400388   \n",
       "2  0.00010  5.287346   39.052594       9706     972917        4.400388   \n",
       "3  0.00100  5.283056   38.936629      10472     972917        4.400388   \n",
       "4  0.01000  5.248243   38.008300      17747     972917        4.400388   \n",
       "5  0.05000  5.052525   33.186515      42426     972917        4.400388   \n",
       "6  0.10000  4.726798   26.479385      64493     972917        4.400388   \n",
       "\n",
       "  words_freq_1                                    most_freq_words  \n",
       "0         3811  [(,, 14721), (the, 13299), (of, 9368), (., 564...  \n",
       "1         3820  [(,, 14721), (the, 13299), (of, 9368), (., 564...  \n",
       "2         3910  [(,, 14720), (the, 13295), (of, 9363), (., 564...  \n",
       "3         4674  [(,, 14705), (the, 13266), (of, 9347), (., 563...  \n",
       "4        11656  [(,, 14586), (the, 12916), (of, 9159), (., 558...  \n",
       "5        34665  [(,, 14002), (the, 11446), (of, 8508), (., 538...  \n",
       "6        55234  [(,, 13255), (the, 9759), (of, 7604), (., 5150...  "
      ]
     },
     "execution_count": 25,
     "metadata": {},
     "output_type": "execute_result"
    }
   ],
   "source": [
    "char_stats_en"
   ]
  },
  {
   "cell_type": "code",
   "execution_count": 26,
   "metadata": {
    "scrolled": true
   },
   "outputs": [
    {
     "data": {
      "text/html": [
       "<div>\n",
       "<style>\n",
       "    .dataframe thead tr:only-child th {\n",
       "        text-align: right;\n",
       "    }\n",
       "\n",
       "    .dataframe thead th {\n",
       "        text-align: left;\n",
       "    }\n",
       "\n",
       "    .dataframe tbody tr th {\n",
       "        vertical-align: top;\n",
       "    }\n",
       "</style>\n",
       "<table border=\"1\" class=\"dataframe\">\n",
       "  <thead>\n",
       "    <tr style=\"text-align: right;\">\n",
       "      <th></th>\n",
       "      <th>prob</th>\n",
       "      <th>entropy</th>\n",
       "      <th>perplexity</th>\n",
       "      <th>vocab_size</th>\n",
       "      <th>char_count</th>\n",
       "      <th>chars_per_word</th>\n",
       "      <th>words_freq_1</th>\n",
       "      <th>most_freq_words</th>\n",
       "    </tr>\n",
       "  </thead>\n",
       "  <tbody>\n",
       "    <tr>\n",
       "      <th>0</th>\n",
       "      <td>0.00000</td>\n",
       "      <td>5.287452</td>\n",
       "      <td>39.055456</td>\n",
       "      <td>9607</td>\n",
       "      <td>972917</td>\n",
       "      <td>4.400388</td>\n",
       "      <td>3811</td>\n",
       "      <td>[(,, 14721), (the, 13299), (of, 9368), (., 564...</td>\n",
       "    </tr>\n",
       "    <tr>\n",
       "      <th>1</th>\n",
       "      <td>0.00001</td>\n",
       "      <td>5.287410</td>\n",
       "      <td>39.054307</td>\n",
       "      <td>9607</td>\n",
       "      <td>972924</td>\n",
       "      <td>4.400420</td>\n",
       "      <td>3810</td>\n",
       "      <td>[(,, 14721), (the, 13299), (of, 9368), (., 564...</td>\n",
       "    </tr>\n",
       "    <tr>\n",
       "      <th>2</th>\n",
       "      <td>0.00010</td>\n",
       "      <td>5.287612</td>\n",
       "      <td>39.059769</td>\n",
       "      <td>9607</td>\n",
       "      <td>972980</td>\n",
       "      <td>4.400673</td>\n",
       "      <td>3805</td>\n",
       "      <td>[(,, 14719), (the, 13296), (of, 9367), (., 564...</td>\n",
       "    </tr>\n",
       "    <tr>\n",
       "      <th>3</th>\n",
       "      <td>0.00100</td>\n",
       "      <td>5.289613</td>\n",
       "      <td>39.113986</td>\n",
       "      <td>9602</td>\n",
       "      <td>973666</td>\n",
       "      <td>4.403776</td>\n",
       "      <td>3716</td>\n",
       "      <td>[(,, 14703), (the, 13280), (of, 9361), (., 563...</td>\n",
       "    </tr>\n",
       "    <tr>\n",
       "      <th>4</th>\n",
       "      <td>0.01000</td>\n",
       "      <td>5.306663</td>\n",
       "      <td>39.578994</td>\n",
       "      <td>9575</td>\n",
       "      <td>979945</td>\n",
       "      <td>4.432175</td>\n",
       "      <td>3018</td>\n",
       "      <td>[(,, 14588), (the, 13152), (of, 9265), (., 558...</td>\n",
       "    </tr>\n",
       "    <tr>\n",
       "      <th>5</th>\n",
       "      <td>0.05000</td>\n",
       "      <td>5.376936</td>\n",
       "      <td>41.554598</td>\n",
       "      <td>9552</td>\n",
       "      <td>1006568</td>\n",
       "      <td>4.552588</td>\n",
       "      <td>1258</td>\n",
       "      <td>[(,, 14012), (the, 12680), (of, 8905), (., 538...</td>\n",
       "    </tr>\n",
       "    <tr>\n",
       "      <th>6</th>\n",
       "      <td>0.10000</td>\n",
       "      <td>5.459364</td>\n",
       "      <td>43.997924</td>\n",
       "      <td>9560</td>\n",
       "      <td>1040280</td>\n",
       "      <td>4.705063</td>\n",
       "      <td>468</td>\n",
       "      <td>[(,, 13212), (the, 11987), (of, 8441), (., 505...</td>\n",
       "    </tr>\n",
       "  </tbody>\n",
       "</table>\n",
       "</div>"
      ],
      "text/plain": [
       "      prob   entropy  perplexity vocab_size char_count  chars_per_word  \\\n",
       "0  0.00000  5.287452   39.055456       9607     972917        4.400388   \n",
       "1  0.00001  5.287410   39.054307       9607     972924        4.400420   \n",
       "2  0.00010  5.287612   39.059769       9607     972980        4.400673   \n",
       "3  0.00100  5.289613   39.113986       9602     973666        4.403776   \n",
       "4  0.01000  5.306663   39.578994       9575     979945        4.432175   \n",
       "5  0.05000  5.376936   41.554598       9552    1006568        4.552588   \n",
       "6  0.10000  5.459364   43.997924       9560    1040280        4.705063   \n",
       "\n",
       "  words_freq_1                                    most_freq_words  \n",
       "0         3811  [(,, 14721), (the, 13299), (of, 9368), (., 564...  \n",
       "1         3810  [(,, 14721), (the, 13299), (of, 9368), (., 564...  \n",
       "2         3805  [(,, 14719), (the, 13296), (of, 9367), (., 564...  \n",
       "3         3716  [(,, 14703), (the, 13280), (of, 9361), (., 563...  \n",
       "4         3018  [(,, 14588), (the, 13152), (of, 9265), (., 558...  \n",
       "5         1258  [(,, 14012), (the, 12680), (of, 8905), (., 538...  \n",
       "6          468  [(,, 13212), (the, 11987), (of, 8441), (., 505...  "
      ]
     },
     "execution_count": 26,
     "metadata": {},
     "output_type": "execute_result"
    }
   ],
   "source": [
    "word_stats_en"
   ]
  },
  {
   "cell_type": "code",
   "execution_count": 27,
   "metadata": {},
   "outputs": [
    {
     "data": {
      "text/html": [
       "<div>\n",
       "<style>\n",
       "    .dataframe thead tr:only-child th {\n",
       "        text-align: right;\n",
       "    }\n",
       "\n",
       "    .dataframe thead th {\n",
       "        text-align: left;\n",
       "    }\n",
       "\n",
       "    .dataframe tbody tr th {\n",
       "        vertical-align: top;\n",
       "    }\n",
       "</style>\n",
       "<table border=\"1\" class=\"dataframe\">\n",
       "  <thead>\n",
       "    <tr style=\"text-align: right;\">\n",
       "      <th></th>\n",
       "      <th>prob</th>\n",
       "      <th>entropy</th>\n",
       "      <th>perplexity</th>\n",
       "      <th>vocab_size</th>\n",
       "      <th>char_count</th>\n",
       "      <th>chars_per_word</th>\n",
       "      <th>words_freq_1</th>\n",
       "      <th>most_freq_words</th>\n",
       "    </tr>\n",
       "  </thead>\n",
       "  <tbody>\n",
       "    <tr>\n",
       "      <th>0</th>\n",
       "      <td>0.00000</td>\n",
       "      <td>4.747848</td>\n",
       "      <td>26.868573</td>\n",
       "      <td>42826</td>\n",
       "      <td>1030631</td>\n",
       "      <td>4.633882</td>\n",
       "      <td>26315</td>\n",
       "      <td>[(,, 13788), (., 12931), (a, 4486), (v, 4043),...</td>\n",
       "    </tr>\n",
       "    <tr>\n",
       "      <th>1</th>\n",
       "      <td>0.00001</td>\n",
       "      <td>4.747774</td>\n",
       "      <td>26.867198</td>\n",
       "      <td>42834</td>\n",
       "      <td>1030631</td>\n",
       "      <td>4.633882</td>\n",
       "      <td>26323</td>\n",
       "      <td>[(,, 13788), (., 12930), (a, 4486), (v, 4043),...</td>\n",
       "    </tr>\n",
       "    <tr>\n",
       "      <th>2</th>\n",
       "      <td>0.00010</td>\n",
       "      <td>4.746985</td>\n",
       "      <td>26.852513</td>\n",
       "      <td>42903</td>\n",
       "      <td>1030631</td>\n",
       "      <td>4.633882</td>\n",
       "      <td>26403</td>\n",
       "      <td>[(,, 13786), (., 12931), (a, 4486), (v, 4043),...</td>\n",
       "    </tr>\n",
       "    <tr>\n",
       "      <th>3</th>\n",
       "      <td>0.00100</td>\n",
       "      <td>4.738014</td>\n",
       "      <td>26.686055</td>\n",
       "      <td>43592</td>\n",
       "      <td>1030631</td>\n",
       "      <td>4.633882</td>\n",
       "      <td>27155</td>\n",
       "      <td>[(,, 13770), (., 12918), (a, 4478), (v, 4039),...</td>\n",
       "    </tr>\n",
       "    <tr>\n",
       "      <th>4</th>\n",
       "      <td>0.01000</td>\n",
       "      <td>4.656657</td>\n",
       "      <td>25.222806</td>\n",
       "      <td>50035</td>\n",
       "      <td>1030631</td>\n",
       "      <td>4.633882</td>\n",
       "      <td>34372</td>\n",
       "      <td>[(,, 13659), (., 12801), (a, 4447), (v, 4014),...</td>\n",
       "    </tr>\n",
       "    <tr>\n",
       "      <th>5</th>\n",
       "      <td>0.05000</td>\n",
       "      <td>4.337225</td>\n",
       "      <td>20.213189</td>\n",
       "      <td>73373</td>\n",
       "      <td>1030631</td>\n",
       "      <td>4.633882</td>\n",
       "      <td>60468</td>\n",
       "      <td>[(,, 13110), (., 12306), (a, 4274), (v, 3884),...</td>\n",
       "    </tr>\n",
       "    <tr>\n",
       "      <th>6</th>\n",
       "      <td>0.10000</td>\n",
       "      <td>4.001127</td>\n",
       "      <td>16.012502</td>\n",
       "      <td>94682</td>\n",
       "      <td>1030631</td>\n",
       "      <td>4.633882</td>\n",
       "      <td>84320</td>\n",
       "      <td>[(,, 12489), (., 11719), (a, 4064), (v, 3697),...</td>\n",
       "    </tr>\n",
       "  </tbody>\n",
       "</table>\n",
       "</div>"
      ],
      "text/plain": [
       "      prob   entropy  perplexity vocab_size char_count  chars_per_word  \\\n",
       "0  0.00000  4.747848   26.868573      42826    1030631        4.633882   \n",
       "1  0.00001  4.747774   26.867198      42834    1030631        4.633882   \n",
       "2  0.00010  4.746985   26.852513      42903    1030631        4.633882   \n",
       "3  0.00100  4.738014   26.686055      43592    1030631        4.633882   \n",
       "4  0.01000  4.656657   25.222806      50035    1030631        4.633882   \n",
       "5  0.05000  4.337225   20.213189      73373    1030631        4.633882   \n",
       "6  0.10000  4.001127   16.012502      94682    1030631        4.633882   \n",
       "\n",
       "  words_freq_1                                    most_freq_words  \n",
       "0        26315  [(,, 13788), (., 12931), (a, 4486), (v, 4043),...  \n",
       "1        26323  [(,, 13788), (., 12930), (a, 4486), (v, 4043),...  \n",
       "2        26403  [(,, 13786), (., 12931), (a, 4486), (v, 4043),...  \n",
       "3        27155  [(,, 13770), (., 12918), (a, 4478), (v, 4039),...  \n",
       "4        34372  [(,, 13659), (., 12801), (a, 4447), (v, 4014),...  \n",
       "5        60468  [(,, 13110), (., 12306), (a, 4274), (v, 3884),...  \n",
       "6        84320  [(,, 12489), (., 11719), (a, 4064), (v, 3697),...  "
      ]
     },
     "execution_count": 27,
     "metadata": {},
     "output_type": "execute_result"
    }
   ],
   "source": [
    "char_stats_cz"
   ]
  },
  {
   "cell_type": "code",
   "execution_count": 28,
   "metadata": {},
   "outputs": [
    {
     "data": {
      "text/html": [
       "<div>\n",
       "<style>\n",
       "    .dataframe thead tr:only-child th {\n",
       "        text-align: right;\n",
       "    }\n",
       "\n",
       "    .dataframe thead th {\n",
       "        text-align: left;\n",
       "    }\n",
       "\n",
       "    .dataframe tbody tr th {\n",
       "        vertical-align: top;\n",
       "    }\n",
       "</style>\n",
       "<table border=\"1\" class=\"dataframe\">\n",
       "  <thead>\n",
       "    <tr style=\"text-align: right;\">\n",
       "      <th></th>\n",
       "      <th>prob</th>\n",
       "      <th>entropy</th>\n",
       "      <th>perplexity</th>\n",
       "      <th>vocab_size</th>\n",
       "      <th>char_count</th>\n",
       "      <th>chars_per_word</th>\n",
       "      <th>words_freq_1</th>\n",
       "      <th>most_freq_words</th>\n",
       "    </tr>\n",
       "  </thead>\n",
       "  <tbody>\n",
       "    <tr>\n",
       "      <th>0</th>\n",
       "      <td>0.00000</td>\n",
       "      <td>4.747848</td>\n",
       "      <td>26.868573</td>\n",
       "      <td>42826</td>\n",
       "      <td>1030631</td>\n",
       "      <td>4.633882</td>\n",
       "      <td>26315</td>\n",
       "      <td>[(,, 13788), (., 12931), (a, 4486), (v, 4043),...</td>\n",
       "    </tr>\n",
       "    <tr>\n",
       "      <th>1</th>\n",
       "      <td>0.00001</td>\n",
       "      <td>4.747829</td>\n",
       "      <td>26.868229</td>\n",
       "      <td>42825</td>\n",
       "      <td>1030651</td>\n",
       "      <td>4.633972</td>\n",
       "      <td>26313</td>\n",
       "      <td>[(,, 13787), (., 12930), (a, 4486), (v, 4043),...</td>\n",
       "    </tr>\n",
       "    <tr>\n",
       "      <th>2</th>\n",
       "      <td>0.00010</td>\n",
       "      <td>4.747930</td>\n",
       "      <td>26.870110</td>\n",
       "      <td>42824</td>\n",
       "      <td>1030653</td>\n",
       "      <td>4.633981</td>\n",
       "      <td>26301</td>\n",
       "      <td>[(,, 13788), (., 12930), (a, 4486), (v, 4043),...</td>\n",
       "    </tr>\n",
       "    <tr>\n",
       "      <th>3</th>\n",
       "      <td>0.00100</td>\n",
       "      <td>4.747338</td>\n",
       "      <td>26.859083</td>\n",
       "      <td>42797</td>\n",
       "      <td>1031357</td>\n",
       "      <td>4.637146</td>\n",
       "      <td>26155</td>\n",
       "      <td>[(,, 13777), (., 12921), (a, 4483), (v, 4037),...</td>\n",
       "    </tr>\n",
       "    <tr>\n",
       "      <th>4</th>\n",
       "      <td>0.01000</td>\n",
       "      <td>4.737746</td>\n",
       "      <td>26.681101</td>\n",
       "      <td>42575</td>\n",
       "      <td>1038226</td>\n",
       "      <td>4.668031</td>\n",
       "      <td>24805</td>\n",
       "      <td>[(,, 13623), (., 12792), (a, 4439), (v, 3992),...</td>\n",
       "    </tr>\n",
       "    <tr>\n",
       "      <th>5</th>\n",
       "      <td>0.05000</td>\n",
       "      <td>4.699291</td>\n",
       "      <td>25.979304</td>\n",
       "      <td>41831</td>\n",
       "      <td>1065120</td>\n",
       "      <td>4.788950</td>\n",
       "      <td>20123</td>\n",
       "      <td>[(,, 13090), (., 12297), (a, 4257), (v, 3829),...</td>\n",
       "    </tr>\n",
       "    <tr>\n",
       "      <th>6</th>\n",
       "      <td>0.10000</td>\n",
       "      <td>4.637236</td>\n",
       "      <td>24.885551</td>\n",
       "      <td>41192</td>\n",
       "      <td>1099823</td>\n",
       "      <td>4.944980</td>\n",
       "      <td>15620</td>\n",
       "      <td>[(,, 12473), (., 11634), (a, 4028), (v, 3653),...</td>\n",
       "    </tr>\n",
       "  </tbody>\n",
       "</table>\n",
       "</div>"
      ],
      "text/plain": [
       "      prob   entropy  perplexity vocab_size char_count  chars_per_word  \\\n",
       "0  0.00000  4.747848   26.868573      42826    1030631        4.633882   \n",
       "1  0.00001  4.747829   26.868229      42825    1030651        4.633972   \n",
       "2  0.00010  4.747930   26.870110      42824    1030653        4.633981   \n",
       "3  0.00100  4.747338   26.859083      42797    1031357        4.637146   \n",
       "4  0.01000  4.737746   26.681101      42575    1038226        4.668031   \n",
       "5  0.05000  4.699291   25.979304      41831    1065120        4.788950   \n",
       "6  0.10000  4.637236   24.885551      41192    1099823        4.944980   \n",
       "\n",
       "  words_freq_1                                    most_freq_words  \n",
       "0        26315  [(,, 13788), (., 12931), (a, 4486), (v, 4043),...  \n",
       "1        26313  [(,, 13787), (., 12930), (a, 4486), (v, 4043),...  \n",
       "2        26301  [(,, 13788), (., 12930), (a, 4486), (v, 4043),...  \n",
       "3        26155  [(,, 13777), (., 12921), (a, 4483), (v, 4037),...  \n",
       "4        24805  [(,, 13623), (., 12792), (a, 4439), (v, 3992),...  \n",
       "5        20123  [(,, 13090), (., 12297), (a, 4257), (v, 3829),...  \n",
       "6        15620  [(,, 12473), (., 11634), (a, 4028), (v, 3653),...  "
      ]
     },
     "execution_count": 28,
     "metadata": {},
     "output_type": "execute_result"
    }
   ],
   "source": [
    "word_stats_cz"
   ]
  },
  {
   "cell_type": "code",
   "execution_count": 103,
   "metadata": {
    "collapsed": true
   },
   "outputs": [],
   "source": [
    "# Configure Plots\n",
    "plt.rcParams['lines.linewidth'] = 4"
   ]
  },
  {
   "cell_type": "code",
   "execution_count": 104,
   "metadata": {
    "collapsed": true
   },
   "outputs": [],
   "source": [
    "def create_plot(label, word_stats, char_stats):\n",
    "    plt.plot(word_stats.prob, word_stats.entropy, label='Word Entropy')\n",
    "    plt.plot(char_stats.prob, char_stats.entropy, label='Character Entropy')\n",
    "    plt.suptitle('Entropy (' + label + ')')\n",
    "    plt.xlabel('Probability')\n",
    "    plt.ylabel('Entropy')\n",
    "    _ = plt.legend()"
   ]
  },
  {
   "cell_type": "code",
   "execution_count": 105,
   "metadata": {},
   "outputs": [
    {
     "data": {
      "image/png": "[encoded data removed]",
      "text/plain": [
       "<matplotlib.figure.Figure at 0x7fc2397c6828>"
      ]
     },
     "metadata": {
      "image/png": {
       "height": 290,
       "width": 387
      }
     },
     "output_type": "display_data"
    }
   ],
   "source": [
    "# English\n",
    "create_plot('English', word_stats_en, char_stats_en)"
   ]
  },
  {
   "cell_type": "code",
   "execution_count": 106,
   "metadata": {},
   "outputs": [
    {
     "data": {
      "image/png": "[encoded data removed]",
      "text/plain": [
       "<matplotlib.figure.Figure at 0x7fc234f938d0>"
      ]
     },
     "metadata": {
      "image/png": {
       "height": 290,
       "width": 387
      }
     },
     "output_type": "display_data"
    }
   ],
   "source": [
    "### Czech\n",
    "create_plot('Czech', word_stats_cz, char_stats_cz)"
   ]
  },
  {
   "cell_type": "markdown",
   "metadata": {
    "collapsed": true
   },
   "source": [
    "#### Problem Statement\n",
    "> Now assume two languages, $L_1$ and $L_2$ do not share any vocabulary items, and that the conditional entropy as described above of a text $T_1$ in language $L_1$ is $E$ and that the conditional entropy of a text $T_2$ in language $L_2$ is also $E$. Now make a new text by appending $T_2$ to the end of $T_1$. Will the conditional entropy of this new text be greater than, equal to, or less than $E$? Explain. [This is a paper-and-pencil exercise of course!]"
   ]
  },
  {
   "cell_type": "markdown",
   "metadata": {},
   "source": [
    "Conditional entropy $H(Y|X)$ is the amount of information needed to determine the outcome of $Y$ given that the outcome $X$ is known. Since the texts are disjoint, the amount of information needed to find a word given the previous word will not increase between them (no bigrams are shared), except in one special case.\n",
    "\n",
    "Let $T_3 = T_1 \\oplus T_2$ be the concatenation of the two texts. Note that $T_3$ has a newly formed bigram on the boundary of $T_1$ and $T_2$. Let $(t_1, t_2)$ be such a bigram. Then there is a nonzero term in the conditional entropy sum, increasing $E$ by \n",
    "\n",
    "$$- p(t_1,t_2) \\log_2 p(t_2|t_1) = - \\frac{1}{|T_3|} \\log_2 \\frac{1}{c(t_1)} = \\frac{\\log_2 c(t_1)}{|T_1| + |T_2|}$$\n",
    "\n",
    "where $c(t)$ is the number of times word $t$ appears in its text and $|T|$ is the length of $T$. In short, $E$ will increase by a small amount. If we let $|T_2| = 1$ and $c(t_1) = |T_1|$, this cannot be more than $max\\{\\frac{\\log_2 n}{n}\\} = \\frac{1}{2}$ bits of information. The larger $E$ is, the more insignificant these terms will be and so the new conditional entropy will approach $E$.\n",
    "\n",
    "---\n",
    "\n",
    "<!-- Denote $H_C(T)$ to be the conditional entropy of a text $T$ and $|T|$ to be the length of $T$. Then\n",
    "\n",
    "$$H_C(T) = - \\sum_{i,j} p(w_i,w_j) \\log_2 p(w_j|w_i) = - \\sum_{i,j} \\frac{c(w_i,w_j)}{|T|} \\log_2 \\frac{c(w_i,w_j)}{c(w_i)}$$\n",
    "\n",
    "where $c(w_1,\\dots,w_n)$ counts the frequency of an $n$-gram in $T$.\n",
    "\n",
    "Let $T_3 = T_1 \\oplus T_2$ be the concatenation of the two texts. Then $H_C(T_1) = H_C(T_2) = E$, and\n",
    "\n",
    "$$H_C(T_3) = - \\frac{1}{|T_1 + T_2|} \\sum_{i,j} c(w_i,w_j) \\log_2 \\frac{c(w_i,w_j)}{c(w_i)}$$\n",
    "\n",
    "If $T_1$, $T_2$ are nonempty, then $E$ must decrease, as $$. \n",
    "\n",
    "--- -->\n",
    "\n",
    "\n"
   ]
  },
  {
   "cell_type": "markdown",
   "metadata": {},
   "source": [
    "### 2. Cross-Entropy and Language Modeling\n",
    "\n",
    "#### Problem Statement\n",
    "> This task will show you the importance of smoothing for language modeling, and in certain detail it lets you feel its effects.\n",
    "\n",
    "> First, you will have to prepare data: take the same texts as in the previous task, i.e. `TEXTEN1.txt` and `TEXTCZ1.txt`\n",
    "\n",
    "> Prepare 3 datasets out of each: strip off the last 20,000 words and call them the Test Data, then take off the last 40,000 words from what remains, and call them the Heldout Data, and call the remaining data the Training Data.\n",
    "\n",
    "> Here comes the coding: extract word counts from the training data so that you are ready to compute unigram-, bigram- and trigram-based probabilities from them; compute also the uniform probability based on the vocabulary size. Remember (T being the text size, and V the vocabulary size, i.e. the number of types - different word forms found in the training text):\n",
    "\n",
    "> $p_0(w_i) = 1 / V $\n",
    "\n",
    "> $p_1(w_i) = c_1(w_i) / T$\n",
    "\n",
    "> $p_2(w_i|w_{i-1}) = c_2(w_{i-1},w_i) / c_1(w_{i-1})$\n",
    "\n",
    "> $p_3(w_i|w_{i-2},w_{i-1}) = c_3(w_{i-2},w_{i-1},w_i) / c_2(w_{i-2},w_{i-1})$\n",
    "\n",
    "> Be careful; remember how to handle correctly the beginning and end of the training data with respect to bigram and trigram counts.\n",
    "\n",
    "> Now compute the four smoothing parameters (i.e. \"coefficients\", \"weights\", \"lambdas\", \"interpolation parameters\" or whatever, for the trigram, bigram, unigram and uniform distributions) from the heldout data using the EM algorithm. [Then do the same using the training data again: what smoothing coefficients have you got? After answering this question, throw them away!] Remember, the smoothed model has the following form:\n",
    "\n",
    "> $p_s(w_i|w_{i-2},w_{i-1}) = l_0p_0(w_i)+ l_1p_1(w_i)+ l_2p_2(w_i|w_{i-1}) + l_3p_3(w_i|w_{i-2},w_{i-1})$,\n",
    "\n",
    "> where\n",
    "\n",
    "> $$l_0 + l_1 + l_2 + l_3 = 1$$\n",
    "\n",
    "> And finally, compute the cross-entropy of the test data using your newly built, smoothed language model. Now tweak the smoothing parameters in the following way: add 10%, 20%, 30%, ..., 90%, 95% and 99% of the difference between the trigram smoothing parameter and 1.0 to its value, discounting at the same the remaining three parameters proportionally (remember, they have to sum up to 1.0!!). Then set the trigram smoothing parameter to 90%, 80%, 70%, ... 10%, 0% of its value, boosting proportionally the other three parameters, again to sum up to one. Compute the cross-entropy on the test data for all these 22 cases (original + 11 trigram parameter increase + 10 trigram smoothing parameter decrease). Tabulate, graph and explain what you have got. Also, try to explain the differences between the two languages based on similar statistics as in the Task No. 2, plus the \"coverage\" graph (defined as the percentage of words in the test data which have been seen in the training data)."
   ]
  },
  {
   "cell_type": "markdown",
   "metadata": {},
   "source": [
    "### Process Text"
   ]
  },
  {
   "cell_type": "code",
   "execution_count": 33,
   "metadata": {
    "collapsed": true
   },
   "outputs": [],
   "source": [
    "class Dataset:\n",
    "    \"\"\"Splits a text into training, test, and heldout sets\"\"\"\n",
    "    \n",
    "    def __init__(self, words):\n",
    "        self.train, self.test, self.heldout = self.split_data(words)\n",
    "    \n",
    "    def split_data(self, words, test_size = 20000, heldout_size = 40000):\n",
    "        words = list(words)\n",
    "        test, remain = words[-test_size:], words[:-test_size]\n",
    "        heldout, train = remain[-heldout_size:], remain[:-heldout_size]\n",
    "        return train, test, heldout"
   ]
  },
  {
   "cell_type": "code",
   "execution_count": 34,
   "metadata": {},
   "outputs": [],
   "source": [
    "en = Dataset(words_en)\n",
    "cz = Dataset(words_cz)"
   ]
  },
  {
   "cell_type": "code",
   "execution_count": 35,
   "metadata": {
    "collapsed": true
   },
   "outputs": [],
   "source": [
    "class LanguageModel:\n",
    "    \"\"\"Counts words and calculates probabilities (up to trigrams)\"\"\"\n",
    "    \n",
    "    def __init__(self, words):\n",
    "        # Prepend two tokens to avoid beginning-of-data problems\n",
    "        words = np.array(['<ss>', '<s>'] + list(words))\n",
    "        \n",
    "        # Unigrams\n",
    "        self.unigrams = words\n",
    "        self.unigram_set = list(set(self.unigrams))\n",
    "        self.unigram_count = len(self.unigram_set)\n",
    "        self.total_unigram_count = len(self.unigrams)\n",
    "        self.unigram_dist = c.Counter(self.unigrams)\n",
    "        \n",
    "        # Bigrams\n",
    "        self.bigrams = list(nltk.bigrams(words))\n",
    "        self.bigram_set = list(set(self.bigrams))\n",
    "        self.bigram_count = len(self.bigram_set)\n",
    "        self.total_bigram_count = len(self.bigrams)\n",
    "        self.bigram_dist = c.Counter(self.bigrams)\n",
    "        \n",
    "        # Trigrams\n",
    "        self.trigrams = list(nltk.trigrams(words))\n",
    "        self.trigram_set = list(set(self.trigrams))\n",
    "        self.trigram_count = len(self.trigram_set)\n",
    "        self.total_trigram_count = len(self.trigrams)\n",
    "        self.trigram_dist = c.Counter(self.trigrams)\n",
    "    \n",
    "    def count(ngrams):\n",
    "        ngram_set = list(set(ngrams))\n",
    "        ngram_count = len(ngram_set)\n",
    "        total_ngram_count = len(ngrams)\n",
    "        ngram_dist = c.Counter(ngrams)\n",
    "        return ngram_set, ngram_count, total_ngram_count, ngram_dist\n",
    "        \n",
    "    def p_uniform(self):\n",
    "        \"\"\"Calculates the probability of choosing a word uniformly at random\"\"\"\n",
    "        return self.div(1, self.unigram_count)\n",
    "    \n",
    "    def p_unigram(self, w):\n",
    "        \"\"\"Calculates the probability a unigram appears in the distribution\"\"\"\n",
    "        return self.div(self.unigram_dist[w], self.total_unigram_count)\n",
    "    \n",
    "    def p_bigram_cond(self, wprev, w):\n",
    "        \"\"\"Calculates the probability a word appears in the distribution given the previous word\"\"\"\n",
    "        # If neither ngram has been seen, use the uniform distribution for smoothing purposes\n",
    "        if ((self.bigram_dist[wprev, w], self.unigram_dist[wprev]) == (0,0)):\n",
    "            return self.p_uniform()\n",
    "        \n",
    "        return self.div(self.bigram_dist[wprev, w], self.unigram_dist[wprev])\n",
    "    \n",
    "    def p_trigram_cond(self, wprev2, wprev, w):\n",
    "        \"\"\"Calculates the probability a word appears in the distribution given the previous word\"\"\"\n",
    "        # If neither ngram has been seen, use the uniform distribution for smoothing purposes\n",
    "        if ((self.trigram_dist[wprev2, wprev, w], self.bigram_dist[wprev2, wprev]) == (0,0)):\n",
    "            return self.p_uniform()\n",
    "        \n",
    "        return self.div(self.trigram_dist[wprev2, wprev, w], self.bigram_dist[wprev2, wprev])\n",
    "    \n",
    "    def div(self, a, b):\n",
    "        \"\"\"Divides a and b safely\"\"\"\n",
    "        return a / b if b != 0 else 0"
   ]
  },
  {
   "cell_type": "code",
   "execution_count": 36,
   "metadata": {
    "collapsed": true
   },
   "outputs": [],
   "source": [
    "lm_en = LanguageModel(en.train)\n",
    "lm_cz = LanguageModel(cz.train)"
   ]
  },
  {
   "cell_type": "markdown",
   "metadata": {},
   "source": [
    "### Expectation Maximization\n",
    "Compute the EM algorithm on a language model using linear interpolation smoothing"
   ]
  },
  {
   "cell_type": "code",
   "execution_count": 37,
   "metadata": {
    "collapsed": true
   },
   "outputs": [],
   "source": [
    "def init_lambdas(n=3):\n",
    "    \"\"\"Initializes a list of lambdas for an ngram language model with uniform probabilities\"\"\"\n",
    "    return [1 / (n + 1)] * (n + 1)"
   ]
  },
  {
   "cell_type": "code",
   "execution_count": 38,
   "metadata": {
    "collapsed": true
   },
   "outputs": [],
   "source": [
    "def p_smoothed(lm, lambdas, wprev2, wprev, w):\n",
    "    \"\"\"Calculate the smoothed trigram probability using the weighted product of lambdas\"\"\"\n",
    "    return np.multiply(lambdas, [\n",
    "        lm.p_uniform(),\n",
    "        lm.p_unigram(w),\n",
    "        lm.p_bigram_cond(wprev, w),\n",
    "        lm.p_trigram_cond(wprev2, wprev, w)\n",
    "    ])"
   ]
  },
  {
   "cell_type": "code",
   "execution_count": 39,
   "metadata": {
    "collapsed": true
   },
   "outputs": [],
   "source": [
    "def expected_counts(lm, lambdas, heldout):\n",
    "    smoothed_probs = (p_smoothed(lm, lambdas, *trigram) for trigram in heldout) # Multiply lambdas by probabilities\n",
    "    return np.sum(smoothed / np.sum(smoothed) for smoothed in smoothed_probs) # Element-wise sum"
   ]
  },
  {
   "cell_type": "code",
   "execution_count": 40,
   "metadata": {
    "collapsed": true
   },
   "outputs": [],
   "source": [
    "def next_lambda(lm, lambdas, heldout):\n",
    "    expected = expected_counts(lm, lambdas, heldout)\n",
    "    return expected / np.sum(expected) # Normalize the expected counts"
   ]
  },
  {
   "cell_type": "code",
   "execution_count": 41,
   "metadata": {
    "collapsed": true
   },
   "outputs": [],
   "source": [
    "def em_algorithm(train, heldout, stop_tolerance=1e-4):\n",
    "    lambdas = init_lambdas(3)\n",
    "    \n",
    "    lm = LanguageModel(train)\n",
    "    heldout_trigrams = LanguageModel(heldout).trigrams\n",
    "    \n",
    "    next_l = next_lambda(lm, lambdas, heldout_trigrams)\n",
    "    while not np.all([diff < stop_tolerance for diff in np.abs(lambdas - next_l)]):\n",
    "        print(next_l)\n",
    "        lambdas = next_l\n",
    "        next_l = next_lambda(lm, lambdas, heldout_trigrams)\n",
    "\n",
    "    lambdas = next_l\n",
    "    return lambdas"
   ]
  },
  {
   "cell_type": "code",
   "execution_count": 42,
   "metadata": {
    "collapsed": true
   },
   "outputs": [],
   "source": [
    "def log_sum(lm, lambdas, trigram):\n",
    "    return np.log2(np.sum(p_smoothed(lm, lambdas, *trigram)))"
   ]
  },
  {
   "cell_type": "code",
   "execution_count": 43,
   "metadata": {
    "collapsed": true
   },
   "outputs": [],
   "source": [
    "def cross_entropy(lm, lambdas, test_trigrams):\n",
    "    return - np.sum(log_sum(lm, lambdas, trigram) for trigram in test_trigrams) / len(test_trigrams)"
   ]
  },
  {
   "cell_type": "code",
   "execution_count": 44,
   "metadata": {},
   "outputs": [
    {
     "name": "stdout",
     "output_type": "stream",
     "text": [
      "[ 0.1167227   0.25146042  0.39226722  0.23954967]\n",
      "[ 0.08476114  0.24901516  0.45003149  0.21619221]\n",
      "[ 0.07515902  0.25031709  0.47297039  0.20155351]\n",
      "[ 0.07187272  0.25195344  0.48276684  0.193407  ]\n",
      "[ 0.07068217  0.25301978  0.48732437  0.18897369]\n",
      "[ 0.0702484   0.25358385  0.48960044  0.18656732]\n",
      "[ 0.07009806  0.25384935  0.4907949   0.1852577 ]\n",
      "[ 0.07005358  0.25396265  0.4914418   0.18454197]\n",
      "[ 0.0700467   0.25400537  0.49179892  0.18414901]\n",
      "[ 0.07005135  0.25401801  0.49199835  0.18393229]\n",
      "[ 0.07005808  0.25401916  0.49211052  0.18381223]\n"
     ]
    }
   ],
   "source": [
    "lambdas_en = em_algorithm(en.train, en.heldout)"
   ]
  },
  {
   "cell_type": "code",
   "execution_count": 45,
   "metadata": {},
   "outputs": [
    {
     "name": "stdout",
     "output_type": "stream",
     "text": [
      "[ 0.1899329   0.35653922  0.25131758  0.2022103 ]\n",
      "[ 0.16412405  0.40071394  0.24863114  0.18653087]\n",
      "[ 0.15269193  0.41771789  0.24710633  0.18248385]\n",
      "[ 0.14722217  0.42425682  0.24627602  0.18224499]\n",
      "[ 0.14438273  0.42684192  0.24575405  0.1830213 ]\n",
      "[ 0.14279869  0.42791641  0.24539627  0.18388863]\n",
      "[ 0.14186393  0.42839581  0.24514624  0.18459402]\n",
      "[ 0.14128994  0.42862862  0.24497302  0.18510841]\n",
      "[ 0.14092816  0.42875178  0.24485474  0.18546532]\n",
      "[ 0.14069638  0.42882187  0.24477499  0.18570677]\n",
      "[ 0.1405464   0.42886398  0.24472172  0.1858679 ]\n",
      "[ 0.1404488   0.4288902   0.24468638  0.18597462]\n"
     ]
    }
   ],
   "source": [
    "lambdas_cz = em_algorithm(cz.train, cz.heldout)"
   ]
  },
  {
   "cell_type": "code",
   "execution_count": 46,
   "metadata": {},
   "outputs": [
    {
     "data": {
      "text/plain": [
       "7.4685015308409346"
      ]
     },
     "execution_count": 46,
     "metadata": {},
     "output_type": "execute_result"
    }
   ],
   "source": [
    "trigrams_en = LanguageModel(en.test).trigrams\n",
    "cross_entropy(lm_en, lambdas_en, trigrams_en)"
   ]
  },
  {
   "cell_type": "code",
   "execution_count": 47,
   "metadata": {},
   "outputs": [
    {
     "data": {
      "text/plain": [
       "10.220892665234681"
      ]
     },
     "execution_count": 47,
     "metadata": {},
     "output_type": "execute_result"
    }
   ],
   "source": [
    "trigrams_cz = LanguageModel(cz.test).trigrams\n",
    "cross_entropy(lm_cz, lambdas_cz, trigrams_cz)"
   ]
  },
  {
   "cell_type": "code",
   "execution_count": 48,
   "metadata": {
    "collapsed": true
   },
   "outputs": [],
   "source": [
    "def tweak_trigram_lambda(lambdas, amount):\n",
    "    \"\"\"Adds the given amount to the trigram lambda and removes \n",
    "    the same amount from the other lambdas (normalized)\"\"\"\n",
    "    first = np.multiply(lambdas[:-1], (1.0 - amount / np.sum(lambdas[:-1])))\n",
    "    last =  lambdas[-1] + amount\n",
    "    return np.append(first, last)"
   ]
  },
  {
   "cell_type": "code",
   "execution_count": 83,
   "metadata": {
    "collapsed": true
   },
   "outputs": [],
   "source": [
    "discount_ratios = [0.0, 0.1, 0.2, 0.3, 0.4, 0.5, 0.6, 0.7, 0.8, 0.9]     # Discount trigram by this ratio\n",
    "boost_ratios = [0.1, 0.2, 0.3, 0.4, 0.5, 0.6, 0.7, 0.8, 0.9, 0.95, 0.99] # Boost trigram by this ratio\n",
    "# ratios = [d - 1 for d in discount_ratios] + boost_ratios # Combine them together"
   ]
  },
  {
   "cell_type": "code",
   "execution_count": 84,
   "metadata": {},
   "outputs": [],
   "source": [
    "def boost_stats(lm, test, lambdas):\n",
    "    boost = pd.DataFrame(columns=['boost_trigram', 'cross_entropy'])\n",
    "    \n",
    "    trigrams = LanguageModel(test).trigrams\n",
    "    \n",
    "    for p in discount_ratios:\n",
    "        lambdas_tweaked = tweak_trigram_lambda(lambdas, (p - 1) * lambdas[-1])\n",
    "        entropy = cross_entropy(lm, lambdas_tweaked, trigrams)\n",
    "        boost.loc[len(boost)] = [p - 1, entropy]\n",
    "    \n",
    "    for p in boost_ratios:\n",
    "        lambdas_tweaked = tweak_trigram_lambda(lambdas, p * (1 - lambdas[-1]))\n",
    "        entropy = cross_entropy(lm, lambdas_tweaked, trigrams)\n",
    "        boost.loc[len(boost)] = [p, entropy]\n",
    "    \n",
    "    return boost"
   ]
  },
  {
   "cell_type": "code",
   "execution_count": 85,
   "metadata": {},
   "outputs": [],
   "source": [
    "boost_en = boost_stats(lm_en, en.test, lambdas_en)\n",
    "boost_cz = boost_stats(lm_cz, cz.test, lambdas_cz)"
   ]
  },
  {
   "cell_type": "code",
   "execution_count": 86,
   "metadata": {},
   "outputs": [
    {
     "data": {
      "text/html": [
       "<div>\n",
       "<style>\n",
       "    .dataframe thead tr:only-child th {\n",
       "        text-align: right;\n",
       "    }\n",
       "\n",
       "    .dataframe thead th {\n",
       "        text-align: left;\n",
       "    }\n",
       "\n",
       "    .dataframe tbody tr th {\n",
       "        vertical-align: top;\n",
       "    }\n",
       "</style>\n",
       "<table border=\"1\" class=\"dataframe\">\n",
       "  <thead>\n",
       "    <tr style=\"text-align: right;\">\n",
       "      <th></th>\n",
       "      <th>boost_trigram</th>\n",
       "      <th>cross_entropy</th>\n",
       "    </tr>\n",
       "  </thead>\n",
       "  <tbody>\n",
       "    <tr>\n",
       "      <th>0</th>\n",
       "      <td>-1.00</td>\n",
       "      <td>7.704275</td>\n",
       "    </tr>\n",
       "    <tr>\n",
       "      <th>1</th>\n",
       "      <td>-0.90</td>\n",
       "      <td>7.617336</td>\n",
       "    </tr>\n",
       "    <tr>\n",
       "      <th>2</th>\n",
       "      <td>-0.80</td>\n",
       "      <td>7.576532</td>\n",
       "    </tr>\n",
       "    <tr>\n",
       "      <th>3</th>\n",
       "      <td>-0.70</td>\n",
       "      <td>7.547883</td>\n",
       "    </tr>\n",
       "    <tr>\n",
       "      <th>4</th>\n",
       "      <td>-0.60</td>\n",
       "      <td>7.526211</td>\n",
       "    </tr>\n",
       "    <tr>\n",
       "      <th>5</th>\n",
       "      <td>-0.50</td>\n",
       "      <td>7.509353</td>\n",
       "    </tr>\n",
       "    <tr>\n",
       "      <th>6</th>\n",
       "      <td>-0.40</td>\n",
       "      <td>7.496144</td>\n",
       "    </tr>\n",
       "    <tr>\n",
       "      <th>7</th>\n",
       "      <td>-0.30</td>\n",
       "      <td>7.485868</td>\n",
       "    </tr>\n",
       "    <tr>\n",
       "      <th>8</th>\n",
       "      <td>-0.20</td>\n",
       "      <td>7.478045</td>\n",
       "    </tr>\n",
       "    <tr>\n",
       "      <th>9</th>\n",
       "      <td>-0.10</td>\n",
       "      <td>7.472339</td>\n",
       "    </tr>\n",
       "    <tr>\n",
       "      <th>10</th>\n",
       "      <td>0.10</td>\n",
       "      <td>7.470109</td>\n",
       "    </tr>\n",
       "    <tr>\n",
       "      <th>11</th>\n",
       "      <td>0.20</td>\n",
       "      <td>7.497021</td>\n",
       "    </tr>\n",
       "    <tr>\n",
       "      <th>12</th>\n",
       "      <td>0.30</td>\n",
       "      <td>7.546810</td>\n",
       "    </tr>\n",
       "    <tr>\n",
       "      <th>13</th>\n",
       "      <td>0.40</td>\n",
       "      <td>7.620527</td>\n",
       "    </tr>\n",
       "    <tr>\n",
       "      <th>14</th>\n",
       "      <td>0.50</td>\n",
       "      <td>7.722379</td>\n",
       "    </tr>\n",
       "    <tr>\n",
       "      <th>15</th>\n",
       "      <td>0.60</td>\n",
       "      <td>7.861088</td>\n",
       "    </tr>\n",
       "    <tr>\n",
       "      <th>16</th>\n",
       "      <td>0.70</td>\n",
       "      <td>8.054209</td>\n",
       "    </tr>\n",
       "    <tr>\n",
       "      <th>17</th>\n",
       "      <td>0.80</td>\n",
       "      <td>8.341898</td>\n",
       "    </tr>\n",
       "    <tr>\n",
       "      <th>18</th>\n",
       "      <td>0.90</td>\n",
       "      <td>8.851131</td>\n",
       "    </tr>\n",
       "    <tr>\n",
       "      <th>19</th>\n",
       "      <td>0.95</td>\n",
       "      <td>9.362468</td>\n",
       "    </tr>\n",
       "    <tr>\n",
       "      <th>20</th>\n",
       "      <td>0.99</td>\n",
       "      <td>10.501491</td>\n",
       "    </tr>\n",
       "  </tbody>\n",
       "</table>\n",
       "</div>"
      ],
      "text/plain": [
       "    boost_trigram  cross_entropy\n",
       "0           -1.00       7.704275\n",
       "1           -0.90       7.617336\n",
       "2           -0.80       7.576532\n",
       "3           -0.70       7.547883\n",
       "4           -0.60       7.526211\n",
       "5           -0.50       7.509353\n",
       "6           -0.40       7.496144\n",
       "7           -0.30       7.485868\n",
       "8           -0.20       7.478045\n",
       "9           -0.10       7.472339\n",
       "10           0.10       7.470109\n",
       "11           0.20       7.497021\n",
       "12           0.30       7.546810\n",
       "13           0.40       7.620527\n",
       "14           0.50       7.722379\n",
       "15           0.60       7.861088\n",
       "16           0.70       8.054209\n",
       "17           0.80       8.341898\n",
       "18           0.90       8.851131\n",
       "19           0.95       9.362468\n",
       "20           0.99      10.501491"
      ]
     },
     "execution_count": 86,
     "metadata": {},
     "output_type": "execute_result"
    }
   ],
   "source": [
    "boost_en"
   ]
  },
  {
   "cell_type": "code",
   "execution_count": 87,
   "metadata": {},
   "outputs": [
    {
     "data": {
      "text/html": [
       "<div>\n",
       "<style>\n",
       "    .dataframe thead tr:only-child th {\n",
       "        text-align: right;\n",
       "    }\n",
       "\n",
       "    .dataframe thead th {\n",
       "        text-align: left;\n",
       "    }\n",
       "\n",
       "    .dataframe tbody tr th {\n",
       "        vertical-align: top;\n",
       "    }\n",
       "</style>\n",
       "<table border=\"1\" class=\"dataframe\">\n",
       "  <thead>\n",
       "    <tr style=\"text-align: right;\">\n",
       "      <th></th>\n",
       "      <th>boost_trigram</th>\n",
       "      <th>cross_entropy</th>\n",
       "    </tr>\n",
       "  </thead>\n",
       "  <tbody>\n",
       "    <tr>\n",
       "      <th>0</th>\n",
       "      <td>-1.00</td>\n",
       "      <td>10.489513</td>\n",
       "    </tr>\n",
       "    <tr>\n",
       "      <th>1</th>\n",
       "      <td>-0.90</td>\n",
       "      <td>10.368989</td>\n",
       "    </tr>\n",
       "    <tr>\n",
       "      <th>2</th>\n",
       "      <td>-0.80</td>\n",
       "      <td>10.326035</td>\n",
       "    </tr>\n",
       "    <tr>\n",
       "      <th>3</th>\n",
       "      <td>-0.70</td>\n",
       "      <td>10.296946</td>\n",
       "    </tr>\n",
       "    <tr>\n",
       "      <th>4</th>\n",
       "      <td>-0.60</td>\n",
       "      <td>10.275387</td>\n",
       "    </tr>\n",
       "    <tr>\n",
       "      <th>5</th>\n",
       "      <td>-0.50</td>\n",
       "      <td>10.258881</td>\n",
       "    </tr>\n",
       "    <tr>\n",
       "      <th>6</th>\n",
       "      <td>-0.40</td>\n",
       "      <td>10.246145</td>\n",
       "    </tr>\n",
       "    <tr>\n",
       "      <th>7</th>\n",
       "      <td>-0.30</td>\n",
       "      <td>10.236411</td>\n",
       "    </tr>\n",
       "    <tr>\n",
       "      <th>8</th>\n",
       "      <td>-0.20</td>\n",
       "      <td>10.229174</td>\n",
       "    </tr>\n",
       "    <tr>\n",
       "      <th>9</th>\n",
       "      <td>-0.10</td>\n",
       "      <td>10.224086</td>\n",
       "    </tr>\n",
       "    <tr>\n",
       "      <th>10</th>\n",
       "      <td>0.10</td>\n",
       "      <td>10.225338</td>\n",
       "    </tr>\n",
       "    <tr>\n",
       "      <th>11</th>\n",
       "      <td>0.20</td>\n",
       "      <td>10.254777</td>\n",
       "    </tr>\n",
       "    <tr>\n",
       "      <th>12</th>\n",
       "      <td>0.30</td>\n",
       "      <td>10.306870</td>\n",
       "    </tr>\n",
       "    <tr>\n",
       "      <th>13</th>\n",
       "      <td>0.40</td>\n",
       "      <td>10.382650</td>\n",
       "    </tr>\n",
       "    <tr>\n",
       "      <th>14</th>\n",
       "      <td>0.50</td>\n",
       "      <td>10.486207</td>\n",
       "    </tr>\n",
       "    <tr>\n",
       "      <th>15</th>\n",
       "      <td>0.60</td>\n",
       "      <td>10.626002</td>\n",
       "    </tr>\n",
       "    <tr>\n",
       "      <th>16</th>\n",
       "      <td>0.70</td>\n",
       "      <td>10.818994</td>\n",
       "    </tr>\n",
       "    <tr>\n",
       "      <th>17</th>\n",
       "      <td>0.80</td>\n",
       "      <td>11.103764</td>\n",
       "    </tr>\n",
       "    <tr>\n",
       "      <th>18</th>\n",
       "      <td>0.90</td>\n",
       "      <td>11.601299</td>\n",
       "    </tr>\n",
       "    <tr>\n",
       "      <th>19</th>\n",
       "      <td>0.95</td>\n",
       "      <td>12.093600</td>\n",
       "    </tr>\n",
       "    <tr>\n",
       "      <th>20</th>\n",
       "      <td>0.99</td>\n",
       "      <td>13.165878</td>\n",
       "    </tr>\n",
       "  </tbody>\n",
       "</table>\n",
       "</div>"
      ],
      "text/plain": [
       "    boost_trigram  cross_entropy\n",
       "0           -1.00      10.489513\n",
       "1           -0.90      10.368989\n",
       "2           -0.80      10.326035\n",
       "3           -0.70      10.296946\n",
       "4           -0.60      10.275387\n",
       "5           -0.50      10.258881\n",
       "6           -0.40      10.246145\n",
       "7           -0.30      10.236411\n",
       "8           -0.20      10.229174\n",
       "9           -0.10      10.224086\n",
       "10           0.10      10.225338\n",
       "11           0.20      10.254777\n",
       "12           0.30      10.306870\n",
       "13           0.40      10.382650\n",
       "14           0.50      10.486207\n",
       "15           0.60      10.626002\n",
       "16           0.70      10.818994\n",
       "17           0.80      11.103764\n",
       "18           0.90      11.601299\n",
       "19           0.95      12.093600\n",
       "20           0.99      13.165878"
      ]
     },
     "execution_count": 87,
     "metadata": {},
     "output_type": "execute_result"
    }
   ],
   "source": [
    "boost_cz"
   ]
  },
  {
   "cell_type": "code",
   "execution_count": 100,
   "metadata": {
    "collapsed": true
   },
   "outputs": [],
   "source": [
    "def create_lambdas_plot(label, boost_stats):\n",
    "    plt.plot(boost_stats.boost_trigram, boost_stats.cross_entropy, label='Boosted Cross Entropy')\n",
    "    plt.suptitle('Cross Entropy (' + label + ')')\n",
    "    plt.xlabel('Trigram Boost Ratio')\n",
    "    plt.ylabel('Cross Entropy')\n",
    "    _ = plt.legend()"
   ]
  },
  {
   "cell_type": "code",
   "execution_count": 107,
   "metadata": {},
   "outputs": [
    {
     "data": {
      "image/png": "[encoded data removed]",
      "text/plain": [
       "<matplotlib.figure.Figure at 0x7fc2371d8d30>"
      ]
     },
     "metadata": {
      "image/png": {
       "height": 290,
       "width": 393
      }
     },
     "output_type": "display_data"
    }
   ],
   "source": [
    "# English\n",
    "create_lambdas_plot('English', boost_en)"
   ]
  },
  {
   "cell_type": "code",
   "execution_count": 108,
   "metadata": {},
   "outputs": [
    {
     "data": {
      "image/png": "[encoded data removed]",
      "text/plain": [
       "<matplotlib.figure.Figure at 0x7fc258096e10>"
      ]
     },
     "metadata": {
      "image/png": {
       "height": 290,
       "width": 393
      }
     },
     "output_type": "display_data"
    }
   ],
   "source": [
    "# Czech\n",
    "create_lambdas_plot('Czech', boost_cz)"
   ]
  },
  {
   "cell_type": "code",
   "execution_count": null,
   "metadata": {
    "collapsed": true
   },
   "outputs": [],
   "source": []
  }
 ],
 "metadata": {
  "kernelspec": {
   "display_name": "Python 3",
   "language": "python",
   "name": "python3"
  },
  "language_info": {
   "codemirror_mode": {
    "name": "ipython",
    "version": 3
   },
   "file_extension": ".py",
   "mimetype": "text/x-python",
   "name": "python",
   "nbconvert_exporter": "python",
   "pygments_lexer": "ipython3",
   "version": "3.6.1"
  }
 },
 "nbformat": 4,
 "nbformat_minor": 2
}
