{
 "cells": [
  {
   "cell_type": "markdown",
   "metadata": {},
   "source": [
    "# Assignment #1: PFL067 Statistical NLP\n",
    "\n",
    "## Exploring Entropy and Language Modeling\n",
    "\n",
    "### Author: Dan Kondratyuk\n",
    "---"
   ]
  },
  {
   "cell_type": "markdown",
   "metadata": {},
   "source": [
    "### 1. Entropy of a Text\n",
    "\n",
    "In this experiment, you will determine the conditional entropy of the word distribution in a text given the previous word. To do this, you will first have to compute P(i,j), which is the probability that at any position in the text you will find the word i followed immediately by the word j, and P(j|i), which is the probability that if word i occurs in the text then word j will follow. Given these probabilities, the conditional entropy of the word distribution in a text given the previous word can then be computed as:\n",
    "\n",
    "$$H(J|I) = -\\sum_{i \\in I, j \\in J} P(i,j) \\log_2 P(j|i)$$\n",
    "\n",
    "The perplexity is then computed simply as\n",
    "\n",
    "$$P_X(P(J|I)) = 2^{H(J|I)}$$\n",
    "\n",
    "Compute this conditional entropy and perplexity for `TEXTEN1.txt`. This file has every word on a separate line. (Punctuation is considered a word, as in many other cases.) The i,j above will also span sentence boundaries, where i is the last word of one sentence and j is the first word of the following sentence (but obviously, there will be a fullstop at the end of most sentences).\n",
    "\n",
    "Next, you will mess up the text and measure how this alters the conditional entropy. For every character in the text, mess it up with a likelihood of 10%. If a character is chosen to be messed up, map it into a randomly chosen character from the set of characters that appear in the text. Since there is some randomness to the outcome of the experiment, run the experiment 10 times, each time measuring the conditional entropy of the resulting text, and give the min, max, and average entropy from these experiments. Be sure to use srand to reset the random number generator seed each time you run it. Also, be sure each time you are messing up the original text, and not a previously messed up text. Do the same experiment for mess up likelihoods of 5%, 1%, .1%, .01%, and .001%.\n",
    "\n",
    "Next, for every word in the text, mess it up with a likelihood of 10%. If a word is chosen to be messed up, map it into a randomly chosen word from the set of words that appear in the text. Again run the experiment 10 times, each time measuring the conditional entropy of the resulting text, and give the min, max, and average entropy from these experiments. Do the same experiment for mess up likelihoods of 5%, 1%, .1%, .01%, and .001%.\n",
    "\n",
    "Now do exactly the same for the file `TEXTCZ1.txt`, which contains a similar amount of text in an unknown language (just FYI, that's Czech*)\n",
    "\n",
    "Tabulate, graph and explain your results. Also try to explain the differences between the two languages. To substantiate your explanations, you might want to tabulate also the basic characteristics of the two texts, such as the word count, number of characters (total, per word), the frequency of the most frequent words, the number of words with frequency 1, etc.\n",
    "\n",
    "---"
   ]
  },
  {
   "cell_type": "markdown",
   "metadata": {},
   "source": [
    "### Process Text\n",
    "Define functions to calculate probabilites of bigrams/unigrams and conditional entropy of a text."
   ]
  },
  {
   "cell_type": "code",
   "execution_count": 1,
   "metadata": {
    "collapsed": true
   },
   "outputs": [],
   "source": [
    "%matplotlib inline\n",
    "%config InlineBackend.figure_format = 'retina'\n",
    "\n",
    "import nltk\n",
    "import matplotlib.pyplot as plt\n",
    "import pandas as pd\n",
    "import numpy as np\n",
    "import collections as c\n",
    "from collections import defaultdict\n",
    "import pickle"
   ]
  },
  {
   "cell_type": "code",
   "execution_count": 2,
   "metadata": {
    "collapsed": true
   },
   "outputs": [],
   "source": [
    "# Set a seed so that this notebook is repeatable\n",
    "np.random.seed(200)"
   ]
  },
  {
   "cell_type": "code",
   "execution_count": 3,
   "metadata": {
    "collapsed": true
   },
   "outputs": [],
   "source": [
    "english = './TEXTEN1.txt'\n",
    "czech = './TEXTCZ1.txt'"
   ]
  },
  {
   "cell_type": "code",
   "execution_count": 4,
   "metadata": {
    "collapsed": true
   },
   "outputs": [],
   "source": [
    "def open_text(filename):\n",
    "    \"\"\"Reads a text line by line, applies light preprocessing, and returns an array of words\"\"\"\n",
    "    with open(filename, encoding='iso-8859-2') as f:\n",
    "        content = f.readlines()\n",
    "    \n",
    "    preprocess = lambda word: word.strip()\n",
    "    \n",
    "    return np.array([preprocess(word) for word in content])"
   ]
  },
  {
   "cell_type": "code",
   "execution_count": 5,
   "metadata": {
    "collapsed": true
   },
   "outputs": [],
   "source": [
    "# Read texts into memory\n",
    "words_en, words_cz = open_text(english), open_text(czech)"
   ]
  },
  {
   "cell_type": "code",
   "execution_count": 6,
   "metadata": {
    "collapsed": true
   },
   "outputs": [],
   "source": [
    "# Counts up bigrams\n",
    "class BigramModel:\n",
    "    def __init__(self, words):\n",
    "        self.words = words\n",
    "        self.word_set = list(set(words))\n",
    "        self.word_count = len(self.word_set)\n",
    "        \n",
    "        self.bigrams = list(nltk.bigrams(words))\n",
    "        self.bigram_set = list(set(self.bigrams))\n",
    "        self.bigram_count = len(self.bigram_set)\n",
    "        \n",
    "        bigram_dist = defaultdict(lambda: c.Counter())\n",
    "        for wprev,w in self.bigrams:\n",
    "            bigram_dist[wprev].update([w])\n",
    "        \n",
    "        self.dist = bigram_dist\n",
    "        \n",
    "        self.unigram_dist = c.Counter(words)"
   ]
  },
  {
   "cell_type": "code",
   "execution_count": 7,
   "metadata": {
    "collapsed": true
   },
   "outputs": [],
   "source": [
    "def p_bigram(bigram_model, wprev, w):\n",
    "    \"\"\"Calculates the probability a bigram appears in the distribution\"\"\"\n",
    "    return bigram_model.dist[wprev][w] / bigram_model.bigram_count"
   ]
  },
  {
   "cell_type": "code",
   "execution_count": 8,
   "metadata": {
    "collapsed": true
   },
   "outputs": [],
   "source": [
    "def p_bigram_cond(bigram_model, wprev, w):\n",
    "    \"\"\"Calculates the probability a word appears in the distribution given the previous word\"\"\"\n",
    "    return bigram_model.dist[wprev][w] / bigram_model.unigram_dist[wprev]"
   ]
  },
  {
   "cell_type": "code",
   "execution_count": 9,
   "metadata": {
    "collapsed": true
   },
   "outputs": [],
   "source": [
    "def entropy_cond(bigram_model):\n",
    "    \"\"\"Calculates the conditional entropy from a list of bigrams\"\"\"\n",
    "    bigram_set = bigram_model.bigram_set\n",
    "    return - np.sum(p_bigram(bigram_model, *bigram) * np.log2(p_bigram_cond(bigram_model, *bigram)) for bigram in bigram_set)"
   ]
  },
  {
   "cell_type": "code",
   "execution_count": 10,
   "metadata": {
    "collapsed": true
   },
   "outputs": [],
   "source": [
    "def perplexity_cond(entropy):\n",
    "    \"\"\"Calculates the conditional perplexity from the given conditional entropy\"\"\"\n",
    "    return 2 ** entropy"
   ]
  },
  {
   "cell_type": "markdown",
   "metadata": {},
   "source": [
    "### Basic Text Statistics\n",
    "Here we can see basic text stats of each language's text."
   ]
  },
  {
   "cell_type": "code",
   "execution_count": 15,
   "metadata": {
    "collapsed": true
   },
   "outputs": [],
   "source": [
    "def text_stats(words):\n",
    "    \"\"\"Given a list of words, this calculates various statistical \n",
    "    properties like entropy, number of characters, etc\"\"\"\n",
    "    bigram_model = BigramModel(words)\n",
    "    \n",
    "    entropy = entropy_cond(bigram_model)\n",
    "    perplexity = perplexity_cond(entropy)\n",
    "    vocab_size = bigram_model.word_count\n",
    "    char_count = len([char for word in words for char in word])\n",
    "    chars_per_word = char_count / len(words)\n",
    "    words_freq_1 = sum(1 for key in bigram_model.unigram_dist if bigram_model.unigram_dist[key] == 1)\n",
    "    most_freq_words = bigram_model.unigram_dist.most_common()[:10]\n",
    "\n",
    "    return [entropy, perplexity, vocab_size, char_count, chars_per_word, words_freq_1, most_freq_words]"
   ]
  },
  {
   "cell_type": "code",
   "execution_count": 16,
   "metadata": {
    "collapsed": true
   },
   "outputs": [],
   "source": [
    "text_stats_cols = [\n",
    "    'entropy', 'perplexity', 'vocab_size', 'char_count', \n",
    "    'chars_per_word', 'words_freq_1', 'most_freq_words'\n",
    "]"
   ]
  },
  {
   "cell_type": "code",
   "execution_count": 17,
   "metadata": {
    "collapsed": true
   },
   "outputs": [],
   "source": [
    "def text_stats_lang(filename):\n",
    "    \"\"\"Calculates statistics from a file and arranges them in a nicely formatted table\"\"\"\n",
    "    return pd.DataFrame([text_stats(open_text(filename))], columns=text_stats_cols)"
   ]
  },
  {
   "cell_type": "code",
   "execution_count": 18,
   "metadata": {},
   "outputs": [
    {
     "data": {
      "text/html": [
       "<div>\n",
       "<style>\n",
       "    .dataframe thead tr:only-child th {\n",
       "        text-align: right;\n",
       "    }\n",
       "\n",
       "    .dataframe thead th {\n",
       "        text-align: left;\n",
       "    }\n",
       "\n",
       "    .dataframe tbody tr th {\n",
       "        vertical-align: top;\n",
       "    }\n",
       "</style>\n",
       "<table border=\"1\" class=\"dataframe\">\n",
       "  <thead>\n",
       "    <tr style=\"text-align: right;\">\n",
       "      <th></th>\n",
       "      <th>entropy</th>\n",
       "      <th>perplexity</th>\n",
       "      <th>vocab_size</th>\n",
       "      <th>char_count</th>\n",
       "      <th>chars_per_word</th>\n",
       "      <th>words_freq_1</th>\n",
       "      <th>most_freq_words</th>\n",
       "    </tr>\n",
       "  </thead>\n",
       "  <tbody>\n",
       "    <tr>\n",
       "      <th>0</th>\n",
       "      <td>15.960459</td>\n",
       "      <td>63764.220229</td>\n",
       "      <td>9607</td>\n",
       "      <td>972917</td>\n",
       "      <td>4.400388</td>\n",
       "      <td>3811</td>\n",
       "      <td>[(,, 14721), (the, 13299), (of, 9368), (., 564...</td>\n",
       "    </tr>\n",
       "  </tbody>\n",
       "</table>\n",
       "</div>"
      ],
      "text/plain": [
       "     entropy    perplexity  vocab_size  char_count  chars_per_word  \\\n",
       "0  15.960459  63764.220229        9607      972917        4.400388   \n",
       "\n",
       "   words_freq_1                                    most_freq_words  \n",
       "0          3811  [(,, 14721), (the, 13299), (of, 9368), (., 564...  "
      ]
     },
     "execution_count": 18,
     "metadata": {},
     "output_type": "execute_result"
    }
   ],
   "source": [
    "# English stats\n",
    "text_stats_lang(english)"
   ]
  },
  {
   "cell_type": "code",
   "execution_count": 19,
   "metadata": {},
   "outputs": [
    {
     "data": {
      "text/html": [
       "<div>\n",
       "<style>\n",
       "    .dataframe thead tr:only-child th {\n",
       "        text-align: right;\n",
       "    }\n",
       "\n",
       "    .dataframe thead th {\n",
       "        text-align: left;\n",
       "    }\n",
       "\n",
       "    .dataframe tbody tr th {\n",
       "        vertical-align: top;\n",
       "    }\n",
       "</style>\n",
       "<table border=\"1\" class=\"dataframe\">\n",
       "  <thead>\n",
       "    <tr style=\"text-align: right;\">\n",
       "      <th></th>\n",
       "      <th>entropy</th>\n",
       "      <th>perplexity</th>\n",
       "      <th>vocab_size</th>\n",
       "      <th>char_count</th>\n",
       "      <th>chars_per_word</th>\n",
       "      <th>words_freq_1</th>\n",
       "      <th>most_freq_words</th>\n",
       "    </tr>\n",
       "  </thead>\n",
       "  <tbody>\n",
       "    <tr>\n",
       "      <th>0</th>\n",
       "      <td>7.176854</td>\n",
       "      <td>144.69326</td>\n",
       "      <td>42826</td>\n",
       "      <td>1030631</td>\n",
       "      <td>4.633882</td>\n",
       "      <td>26315</td>\n",
       "      <td>[(,, 13788), (., 12931), (a, 4486), (v, 4043),...</td>\n",
       "    </tr>\n",
       "  </tbody>\n",
       "</table>\n",
       "</div>"
      ],
      "text/plain": [
       "    entropy  perplexity  vocab_size  char_count  chars_per_word  words_freq_1  \\\n",
       "0  7.176854   144.69326       42826     1030631        4.633882         26315   \n",
       "\n",
       "                                     most_freq_words  \n",
       "0  [(,, 13788), (., 12931), (a, 4486), (v, 4043),...  "
      ]
     },
     "execution_count": 19,
     "metadata": {},
     "output_type": "execute_result"
    }
   ],
   "source": [
    "# Czech stats\n",
    "text_stats_lang(czech)"
   ]
  },
  {
   "cell_type": "markdown",
   "metadata": {},
   "source": [
    "### Perturb Texts\n",
    "Define functions to process each text and perturb characters/words with a given probability."
   ]
  },
  {
   "cell_type": "code",
   "execution_count": 20,
   "metadata": {
    "collapsed": true
   },
   "outputs": [],
   "source": [
    "def charset(words):\n",
    "    \"\"\"Given a list of words, calculates the set of characters over all words\"\"\"\n",
    "    return np.array(list(set(char for word in words for char in word)))"
   ]
  },
  {
   "cell_type": "code",
   "execution_count": 21,
   "metadata": {},
   "outputs": [
    {
     "data": {
      "text/plain": [
       "array(['Y', 'm', 'G', 'O', 'T', 'y', 'P', 'X', 'a', '.'],\n",
       "      dtype='<U1')"
      ]
     },
     "execution_count": 21,
     "metadata": {},
     "output_type": "execute_result"
    }
   ],
   "source": [
    "charset(words_en)[:10]"
   ]
  },
  {
   "cell_type": "code",
   "execution_count": 22,
   "metadata": {
    "collapsed": true
   },
   "outputs": [],
   "source": [
    "def vocab_list(words):\n",
    "    \"\"\"Given a list of words, calculates the set of words (vocabulary)\"\"\"\n",
    "    return np.array(list(set(word for word in words)))"
   ]
  },
  {
   "cell_type": "code",
   "execution_count": 23,
   "metadata": {},
   "outputs": [
    {
     "data": {
      "text/plain": [
       "array(['invention', 'pupal', 'sterilised', 'section', 'supposed',\n",
       "       'performing', 'Seychelles', 'Pacini', 'anxious', 'primary'],\n",
       "      dtype='<U18')"
      ]
     },
     "execution_count": 23,
     "metadata": {},
     "output_type": "execute_result"
    }
   ],
   "source": [
    "vocab_list(words_en)[:10]"
   ]
  },
  {
   "cell_type": "code",
   "execution_count": 24,
   "metadata": {
    "collapsed": true
   },
   "outputs": [],
   "source": [
    "def perturb_char(word, charset, prob=0.1):\n",
    "    \"\"\"Changes each character with given probability to a random character in the charset\"\"\"\n",
    "    return ''.join(np.random.choice(charset) if np.random.random() < prob else char for char in word)"
   ]
  },
  {
   "cell_type": "code",
   "execution_count": 25,
   "metadata": {
    "collapsed": true
   },
   "outputs": [],
   "source": [
    "def perturb_word(word, vocabulary, prob=0.1):\n",
    "    \"\"\"Changes a word with given probability to a random word in the vocabulary\"\"\"\n",
    "    return np.random.choice(vocabulary) if np.random.random() < prob else word"
   ]
  },
  {
   "cell_type": "code",
   "execution_count": 26,
   "metadata": {
    "collapsed": true
   },
   "outputs": [],
   "source": [
    "def perturb(words, charset, vocabulary, prob=0.1):\n",
    "    \"\"\"Perturbs a list of words with given probability on the character level and word level\"\"\"\n",
    "    pchars = list(map(lambda word: perturb_char(word, charset, prob=prob), words))\n",
    "    pwords = list(map(lambda word: perturb_word(word, vocabulary, prob=prob), words))\n",
    "    \n",
    "    return pchars, pwords"
   ]
  },
  {
   "cell_type": "code",
   "execution_count": 27,
   "metadata": {
    "collapsed": true
   },
   "outputs": [],
   "source": [
    "def perturb_text(words, seed=200):\n",
    "    \"\"\"Perturbs a list of words for a predefined list of probabilties\"\"\"\n",
    "    np.random.seed(seed)\n",
    "    \n",
    "    chars, vocab = charset(words), vocab_list(words)\n",
    "    text_chars, text_words = pd.DataFrame(), pd.DataFrame()\n",
    "    \n",
    "    for prob in [0, 0.00001, 0.0001, 0.001, 0.01, 0.05, 0.1]:\n",
    "        text_chars[str(prob)], text_words[str(prob)] = perturb(words, chars, vocab, prob=prob)\n",
    "    \n",
    "    return text_chars, text_words"
   ]
  },
  {
   "cell_type": "code",
   "execution_count": 28,
   "metadata": {
    "collapsed": true
   },
   "outputs": [],
   "source": [
    "perturbed_en = perturb_text(words_en)\n",
    "perturbed_cz = perturb_text(words_cz)"
   ]
  },
  {
   "cell_type": "code",
   "execution_count": 29,
   "metadata": {
    "collapsed": true
   },
   "outputs": [],
   "source": [
    "with open('perturbed_en.pkl', 'wb') as f:\n",
    "    pickle.dump(perturbed_en, f, protocol=pickle.HIGHEST_PROTOCOL)\n",
    "with open('perturbed_cz.pkl', 'wb') as f:\n",
    "    pickle.dump(perturbed_cz, f, protocol=pickle.HIGHEST_PROTOCOL)"
   ]
  },
  {
   "cell_type": "code",
   "execution_count": 30,
   "metadata": {
    "collapsed": true
   },
   "outputs": [],
   "source": [
    "with open('perturbed_en.pkl', 'rb') as f:\n",
    "    perturbed_en = pickle.load(f)\n",
    "with open('perturbed_cz.pkl', 'rb') as f:\n",
    "    perturbed_cz = pickle.load(f)"
   ]
  },
  {
   "cell_type": "markdown",
   "metadata": {},
   "source": [
    "### Entropy Statistics\n",
    "Calculate, tabulate, and plot the entropy (and other statistics) with respect to the type and amount of perturbation made to a text."
   ]
  },
  {
   "cell_type": "code",
   "execution_count": 31,
   "metadata": {
    "collapsed": true
   },
   "outputs": [],
   "source": [
    "def all_stats(perturbed_text):\n",
    "    \"\"\"Calculates statistics for all perturbed probabilities of a given text \n",
    "    and outputs them to two tables (character and word level respectively)\"\"\"\n",
    "    text_chars, text_words = perturbed_text\n",
    "    \n",
    "    col_names = ['prob'] + text_stats_cols\n",
    "    \n",
    "    char_stats = pd.DataFrame(columns=col_names)\n",
    "    word_stats = pd.DataFrame(columns=col_names)\n",
    "    \n",
    "    # Iterate through all perturbation probabilities and gather statistics\n",
    "    for col in text_chars:\n",
    "        stat = text_stats(list(text_chars[col]))\n",
    "        char_stats.loc[len(char_stats)] = [float(col)] + stat\n",
    "    \n",
    "    for col in text_words:\n",
    "        stat = text_stats(list(text_words[col]))\n",
    "        word_stats.loc[len(word_stats)] = [float(col)] + stat\n",
    "    \n",
    "    return char_stats, word_stats"
   ]
  },
  {
   "cell_type": "code",
   "execution_count": 32,
   "metadata": {
    "collapsed": true
   },
   "outputs": [],
   "source": [
    "char_stats_en, word_stats_en = all_stats(perturbed_en)\n",
    "char_stats_cz, word_stats_cz = all_stats(perturbed_cz)"
   ]
  },
  {
   "cell_type": "code",
   "execution_count": 33,
   "metadata": {},
   "outputs": [
    {
     "data": {
      "text/html": [
       "<div>\n",
       "<style>\n",
       "    .dataframe thead tr:only-child th {\n",
       "        text-align: right;\n",
       "    }\n",
       "\n",
       "    .dataframe thead th {\n",
       "        text-align: left;\n",
       "    }\n",
       "\n",
       "    .dataframe tbody tr th {\n",
       "        vertical-align: top;\n",
       "    }\n",
       "</style>\n",
       "<table border=\"1\" class=\"dataframe\">\n",
       "  <thead>\n",
       "    <tr style=\"text-align: right;\">\n",
       "      <th></th>\n",
       "      <th>prob</th>\n",
       "      <th>entropy</th>\n",
       "      <th>perplexity</th>\n",
       "      <th>vocab_size</th>\n",
       "      <th>char_count</th>\n",
       "      <th>chars_per_word</th>\n",
       "      <th>words_freq_1</th>\n",
       "      <th>most_freq_words</th>\n",
       "    </tr>\n",
       "  </thead>\n",
       "  <tbody>\n",
       "    <tr>\n",
       "      <th>0</th>\n",
       "      <td>0.00000</td>\n",
       "      <td>15.960459</td>\n",
       "      <td>63764.220229</td>\n",
       "      <td>9607</td>\n",
       "      <td>972917</td>\n",
       "      <td>4.400388</td>\n",
       "      <td>3811</td>\n",
       "      <td>[(,, 14721), (the, 13299), (of, 9368), (., 564...</td>\n",
       "    </tr>\n",
       "    <tr>\n",
       "      <th>1</th>\n",
       "      <td>0.00001</td>\n",
       "      <td>15.957365</td>\n",
       "      <td>63627.579708</td>\n",
       "      <td>9615</td>\n",
       "      <td>972917</td>\n",
       "      <td>4.400388</td>\n",
       "      <td>3820</td>\n",
       "      <td>[(,, 14721), (the, 13299), (of, 9368), (., 564...</td>\n",
       "    </tr>\n",
       "    <tr>\n",
       "      <th>2</th>\n",
       "      <td>0.00010</td>\n",
       "      <td>15.922448</td>\n",
       "      <td>62106.135416</td>\n",
       "      <td>9709</td>\n",
       "      <td>972917</td>\n",
       "      <td>4.400388</td>\n",
       "      <td>3913</td>\n",
       "      <td>[(,, 14720), (the, 13294), (of, 9363), (., 564...</td>\n",
       "    </tr>\n",
       "    <tr>\n",
       "      <th>3</th>\n",
       "      <td>0.00100</td>\n",
       "      <td>15.661181</td>\n",
       "      <td>51818.564773</td>\n",
       "      <td>10477</td>\n",
       "      <td>972917</td>\n",
       "      <td>4.400388</td>\n",
       "      <td>4688</td>\n",
       "      <td>[(,, 14705), (the, 13266), (of, 9346), (., 563...</td>\n",
       "    </tr>\n",
       "    <tr>\n",
       "      <th>4</th>\n",
       "      <td>0.01000</td>\n",
       "      <td>13.452849</td>\n",
       "      <td>11212.719542</td>\n",
       "      <td>17760</td>\n",
       "      <td>972917</td>\n",
       "      <td>4.400388</td>\n",
       "      <td>11676</td>\n",
       "      <td>[(,, 14586), (the, 12910), (of, 9156), (., 558...</td>\n",
       "    </tr>\n",
       "    <tr>\n",
       "      <th>5</th>\n",
       "      <td>0.05000</td>\n",
       "      <td>8.860960</td>\n",
       "      <td>464.959197</td>\n",
       "      <td>42384</td>\n",
       "      <td>972917</td>\n",
       "      <td>4.400388</td>\n",
       "      <td>34621</td>\n",
       "      <td>[(,, 13999), (the, 11438), (of, 8508), (., 538...</td>\n",
       "    </tr>\n",
       "    <tr>\n",
       "      <th>6</th>\n",
       "      <td>0.10000</td>\n",
       "      <td>6.626041</td>\n",
       "      <td>98.772709</td>\n",
       "      <td>64543</td>\n",
       "      <td>972917</td>\n",
       "      <td>4.400388</td>\n",
       "      <td>55307</td>\n",
       "      <td>[(,, 13246), (the, 9768), (of, 7608), (., 5143...</td>\n",
       "    </tr>\n",
       "  </tbody>\n",
       "</table>\n",
       "</div>"
      ],
      "text/plain": [
       "      prob    entropy    perplexity vocab_size char_count  chars_per_word  \\\n",
       "0  0.00000  15.960459  63764.220229       9607     972917        4.400388   \n",
       "1  0.00001  15.957365  63627.579708       9615     972917        4.400388   \n",
       "2  0.00010  15.922448  62106.135416       9709     972917        4.400388   \n",
       "3  0.00100  15.661181  51818.564773      10477     972917        4.400388   \n",
       "4  0.01000  13.452849  11212.719542      17760     972917        4.400388   \n",
       "5  0.05000   8.860960    464.959197      42384     972917        4.400388   \n",
       "6  0.10000   6.626041     98.772709      64543     972917        4.400388   \n",
       "\n",
       "  words_freq_1                                    most_freq_words  \n",
       "0         3811  [(,, 14721), (the, 13299), (of, 9368), (., 564...  \n",
       "1         3820  [(,, 14721), (the, 13299), (of, 9368), (., 564...  \n",
       "2         3913  [(,, 14720), (the, 13294), (of, 9363), (., 564...  \n",
       "3         4688  [(,, 14705), (the, 13266), (of, 9346), (., 563...  \n",
       "4        11676  [(,, 14586), (the, 12910), (of, 9156), (., 558...  \n",
       "5        34621  [(,, 13999), (the, 11438), (of, 8508), (., 538...  \n",
       "6        55307  [(,, 13246), (the, 9768), (of, 7608), (., 5143...  "
      ]
     },
     "execution_count": 33,
     "metadata": {},
     "output_type": "execute_result"
    }
   ],
   "source": [
    "char_stats_en"
   ]
  },
  {
   "cell_type": "code",
   "execution_count": 34,
   "metadata": {
    "scrolled": true
   },
   "outputs": [
    {
     "data": {
      "text/html": [
       "<div>\n",
       "<style>\n",
       "    .dataframe thead tr:only-child th {\n",
       "        text-align: right;\n",
       "    }\n",
       "\n",
       "    .dataframe thead th {\n",
       "        text-align: left;\n",
       "    }\n",
       "\n",
       "    .dataframe tbody tr th {\n",
       "        vertical-align: top;\n",
       "    }\n",
       "</style>\n",
       "<table border=\"1\" class=\"dataframe\">\n",
       "  <thead>\n",
       "    <tr style=\"text-align: right;\">\n",
       "      <th></th>\n",
       "      <th>prob</th>\n",
       "      <th>entropy</th>\n",
       "      <th>perplexity</th>\n",
       "      <th>vocab_size</th>\n",
       "      <th>char_count</th>\n",
       "      <th>chars_per_word</th>\n",
       "      <th>words_freq_1</th>\n",
       "      <th>most_freq_words</th>\n",
       "    </tr>\n",
       "  </thead>\n",
       "  <tbody>\n",
       "    <tr>\n",
       "      <th>0</th>\n",
       "      <td>0.00000</td>\n",
       "      <td>15.960459</td>\n",
       "      <td>63764.220229</td>\n",
       "      <td>9607</td>\n",
       "      <td>972917</td>\n",
       "      <td>4.400388</td>\n",
       "      <td>3811</td>\n",
       "      <td>[(,, 14721), (the, 13299), (of, 9368), (., 564...</td>\n",
       "    </tr>\n",
       "    <tr>\n",
       "      <th>1</th>\n",
       "      <td>0.00001</td>\n",
       "      <td>15.959897</td>\n",
       "      <td>63739.361659</td>\n",
       "      <td>9607</td>\n",
       "      <td>972918</td>\n",
       "      <td>4.400393</td>\n",
       "      <td>3809</td>\n",
       "      <td>[(,, 14721), (the, 13299), (of, 9368), (., 564...</td>\n",
       "    </tr>\n",
       "    <tr>\n",
       "      <th>2</th>\n",
       "      <td>0.00010</td>\n",
       "      <td>15.952542</td>\n",
       "      <td>63415.262855</td>\n",
       "      <td>9607</td>\n",
       "      <td>973016</td>\n",
       "      <td>4.400836</td>\n",
       "      <td>3798</td>\n",
       "      <td>[(,, 14719), (the, 13296), (of, 9367), (., 564...</td>\n",
       "    </tr>\n",
       "    <tr>\n",
       "      <th>3</th>\n",
       "      <td>0.00100</td>\n",
       "      <td>15.888091</td>\n",
       "      <td>60644.558300</td>\n",
       "      <td>9602</td>\n",
       "      <td>973690</td>\n",
       "      <td>4.403884</td>\n",
       "      <td>3716</td>\n",
       "      <td>[(,, 14703), (the, 13280), (of, 9361), (., 563...</td>\n",
       "    </tr>\n",
       "    <tr>\n",
       "      <th>4</th>\n",
       "      <td>0.01000</td>\n",
       "      <td>15.343852</td>\n",
       "      <td>41587.191323</td>\n",
       "      <td>9575</td>\n",
       "      <td>979899</td>\n",
       "      <td>4.431967</td>\n",
       "      <td>3022</td>\n",
       "      <td>[(,, 14588), (the, 13152), (of, 9265), (., 558...</td>\n",
       "    </tr>\n",
       "    <tr>\n",
       "      <th>5</th>\n",
       "      <td>0.05000</td>\n",
       "      <td>13.451967</td>\n",
       "      <td>11205.870491</td>\n",
       "      <td>9549</td>\n",
       "      <td>1006625</td>\n",
       "      <td>4.552845</td>\n",
       "      <td>1286</td>\n",
       "      <td>[(,, 14012), (the, 12679), (of, 8907), (., 538...</td>\n",
       "    </tr>\n",
       "    <tr>\n",
       "      <th>6</th>\n",
       "      <td>0.10000</td>\n",
       "      <td>11.731535</td>\n",
       "      <td>3400.508804</td>\n",
       "      <td>9564</td>\n",
       "      <td>1039505</td>\n",
       "      <td>4.701558</td>\n",
       "      <td>484</td>\n",
       "      <td>[(,, 13213), (the, 11987), (of, 8447), (., 506...</td>\n",
       "    </tr>\n",
       "  </tbody>\n",
       "</table>\n",
       "</div>"
      ],
      "text/plain": [
       "      prob    entropy    perplexity vocab_size char_count  chars_per_word  \\\n",
       "0  0.00000  15.960459  63764.220229       9607     972917        4.400388   \n",
       "1  0.00001  15.959897  63739.361659       9607     972918        4.400393   \n",
       "2  0.00010  15.952542  63415.262855       9607     973016        4.400836   \n",
       "3  0.00100  15.888091  60644.558300       9602     973690        4.403884   \n",
       "4  0.01000  15.343852  41587.191323       9575     979899        4.431967   \n",
       "5  0.05000  13.451967  11205.870491       9549    1006625        4.552845   \n",
       "6  0.10000  11.731535   3400.508804       9564    1039505        4.701558   \n",
       "\n",
       "  words_freq_1                                    most_freq_words  \n",
       "0         3811  [(,, 14721), (the, 13299), (of, 9368), (., 564...  \n",
       "1         3809  [(,, 14721), (the, 13299), (of, 9368), (., 564...  \n",
       "2         3798  [(,, 14719), (the, 13296), (of, 9367), (., 564...  \n",
       "3         3716  [(,, 14703), (the, 13280), (of, 9361), (., 563...  \n",
       "4         3022  [(,, 14588), (the, 13152), (of, 9265), (., 558...  \n",
       "5         1286  [(,, 14012), (the, 12679), (of, 8907), (., 538...  \n",
       "6          484  [(,, 13213), (the, 11987), (of, 8447), (., 506...  "
      ]
     },
     "execution_count": 34,
     "metadata": {},
     "output_type": "execute_result"
    }
   ],
   "source": [
    "word_stats_en"
   ]
  },
  {
   "cell_type": "code",
   "execution_count": 35,
   "metadata": {},
   "outputs": [
    {
     "data": {
      "text/html": [
       "<div>\n",
       "<style>\n",
       "    .dataframe thead tr:only-child th {\n",
       "        text-align: right;\n",
       "    }\n",
       "\n",
       "    .dataframe thead th {\n",
       "        text-align: left;\n",
       "    }\n",
       "\n",
       "    .dataframe tbody tr th {\n",
       "        vertical-align: top;\n",
       "    }\n",
       "</style>\n",
       "<table border=\"1\" class=\"dataframe\">\n",
       "  <thead>\n",
       "    <tr style=\"text-align: right;\">\n",
       "      <th></th>\n",
       "      <th>prob</th>\n",
       "      <th>entropy</th>\n",
       "      <th>perplexity</th>\n",
       "      <th>vocab_size</th>\n",
       "      <th>char_count</th>\n",
       "      <th>chars_per_word</th>\n",
       "      <th>words_freq_1</th>\n",
       "      <th>most_freq_words</th>\n",
       "    </tr>\n",
       "  </thead>\n",
       "  <tbody>\n",
       "    <tr>\n",
       "      <th>0</th>\n",
       "      <td>0.00000</td>\n",
       "      <td>7.176854</td>\n",
       "      <td>144.693260</td>\n",
       "      <td>42826</td>\n",
       "      <td>1030631</td>\n",
       "      <td>4.633882</td>\n",
       "      <td>26315</td>\n",
       "      <td>[(,, 13788), (., 12931), (a, 4486), (v, 4043),...</td>\n",
       "    </tr>\n",
       "    <tr>\n",
       "      <th>1</th>\n",
       "      <td>0.00001</td>\n",
       "      <td>7.176187</td>\n",
       "      <td>144.626350</td>\n",
       "      <td>42835</td>\n",
       "      <td>1030631</td>\n",
       "      <td>4.633882</td>\n",
       "      <td>26324</td>\n",
       "      <td>[(,, 13788), (., 12930), (a, 4486), (v, 4043),...</td>\n",
       "    </tr>\n",
       "    <tr>\n",
       "      <th>2</th>\n",
       "      <td>0.00010</td>\n",
       "      <td>7.172359</td>\n",
       "      <td>144.243127</td>\n",
       "      <td>42904</td>\n",
       "      <td>1030631</td>\n",
       "      <td>4.633882</td>\n",
       "      <td>26405</td>\n",
       "      <td>[(,, 13787), (., 12931), (a, 4486), (v, 4043),...</td>\n",
       "    </tr>\n",
       "    <tr>\n",
       "      <th>3</th>\n",
       "      <td>0.00100</td>\n",
       "      <td>7.129680</td>\n",
       "      <td>140.038529</td>\n",
       "      <td>43596</td>\n",
       "      <td>1030631</td>\n",
       "      <td>4.633882</td>\n",
       "      <td>27159</td>\n",
       "      <td>[(,, 13770), (., 12919), (a, 4480), (v, 4038),...</td>\n",
       "    </tr>\n",
       "    <tr>\n",
       "      <th>4</th>\n",
       "      <td>0.01000</td>\n",
       "      <td>6.761993</td>\n",
       "      <td>108.533200</td>\n",
       "      <td>50044</td>\n",
       "      <td>1030631</td>\n",
       "      <td>4.633882</td>\n",
       "      <td>34382</td>\n",
       "      <td>[(,, 13655), (., 12803), (a, 4450), (v, 4014),...</td>\n",
       "    </tr>\n",
       "    <tr>\n",
       "      <th>5</th>\n",
       "      <td>0.05000</td>\n",
       "      <td>5.628565</td>\n",
       "      <td>49.472845</td>\n",
       "      <td>73406</td>\n",
       "      <td>1030631</td>\n",
       "      <td>4.633882</td>\n",
       "      <td>60513</td>\n",
       "      <td>[(,, 13109), (., 12311), (a, 4283), (v, 3875),...</td>\n",
       "    </tr>\n",
       "    <tr>\n",
       "      <th>6</th>\n",
       "      <td>0.10000</td>\n",
       "      <td>4.803670</td>\n",
       "      <td>27.928569</td>\n",
       "      <td>94694</td>\n",
       "      <td>1030631</td>\n",
       "      <td>4.633882</td>\n",
       "      <td>84326</td>\n",
       "      <td>[(,, 12485), (., 11713), (a, 4054), (v, 3700),...</td>\n",
       "    </tr>\n",
       "  </tbody>\n",
       "</table>\n",
       "</div>"
      ],
      "text/plain": [
       "      prob   entropy  perplexity vocab_size char_count  chars_per_word  \\\n",
       "0  0.00000  7.176854  144.693260      42826    1030631        4.633882   \n",
       "1  0.00001  7.176187  144.626350      42835    1030631        4.633882   \n",
       "2  0.00010  7.172359  144.243127      42904    1030631        4.633882   \n",
       "3  0.00100  7.129680  140.038529      43596    1030631        4.633882   \n",
       "4  0.01000  6.761993  108.533200      50044    1030631        4.633882   \n",
       "5  0.05000  5.628565   49.472845      73406    1030631        4.633882   \n",
       "6  0.10000  4.803670   27.928569      94694    1030631        4.633882   \n",
       "\n",
       "  words_freq_1                                    most_freq_words  \n",
       "0        26315  [(,, 13788), (., 12931), (a, 4486), (v, 4043),...  \n",
       "1        26324  [(,, 13788), (., 12930), (a, 4486), (v, 4043),...  \n",
       "2        26405  [(,, 13787), (., 12931), (a, 4486), (v, 4043),...  \n",
       "3        27159  [(,, 13770), (., 12919), (a, 4480), (v, 4038),...  \n",
       "4        34382  [(,, 13655), (., 12803), (a, 4450), (v, 4014),...  \n",
       "5        60513  [(,, 13109), (., 12311), (a, 4283), (v, 3875),...  \n",
       "6        84326  [(,, 12485), (., 11713), (a, 4054), (v, 3700),...  "
      ]
     },
     "execution_count": 35,
     "metadata": {},
     "output_type": "execute_result"
    }
   ],
   "source": [
    "char_stats_cz"
   ]
  },
  {
   "cell_type": "code",
   "execution_count": 36,
   "metadata": {},
   "outputs": [
    {
     "data": {
      "text/html": [
       "<div>\n",
       "<style>\n",
       "    .dataframe thead tr:only-child th {\n",
       "        text-align: right;\n",
       "    }\n",
       "\n",
       "    .dataframe thead th {\n",
       "        text-align: left;\n",
       "    }\n",
       "\n",
       "    .dataframe tbody tr th {\n",
       "        vertical-align: top;\n",
       "    }\n",
       "</style>\n",
       "<table border=\"1\" class=\"dataframe\">\n",
       "  <thead>\n",
       "    <tr style=\"text-align: right;\">\n",
       "      <th></th>\n",
       "      <th>prob</th>\n",
       "      <th>entropy</th>\n",
       "      <th>perplexity</th>\n",
       "      <th>vocab_size</th>\n",
       "      <th>char_count</th>\n",
       "      <th>chars_per_word</th>\n",
       "      <th>words_freq_1</th>\n",
       "      <th>most_freq_words</th>\n",
       "    </tr>\n",
       "  </thead>\n",
       "  <tbody>\n",
       "    <tr>\n",
       "      <th>0</th>\n",
       "      <td>0.00000</td>\n",
       "      <td>7.176854</td>\n",
       "      <td>144.693260</td>\n",
       "      <td>42826</td>\n",
       "      <td>1030631</td>\n",
       "      <td>4.633882</td>\n",
       "      <td>26315</td>\n",
       "      <td>[(,, 13788), (., 12931), (a, 4486), (v, 4043),...</td>\n",
       "    </tr>\n",
       "    <tr>\n",
       "      <th>1</th>\n",
       "      <td>0.00001</td>\n",
       "      <td>7.176715</td>\n",
       "      <td>144.679312</td>\n",
       "      <td>42825</td>\n",
       "      <td>1030649</td>\n",
       "      <td>4.633963</td>\n",
       "      <td>26311</td>\n",
       "      <td>[(,, 13787), (., 12930), (a, 4486), (v, 4043),...</td>\n",
       "    </tr>\n",
       "    <tr>\n",
       "      <th>2</th>\n",
       "      <td>0.00010</td>\n",
       "      <td>7.176074</td>\n",
       "      <td>144.615055</td>\n",
       "      <td>42824</td>\n",
       "      <td>1030676</td>\n",
       "      <td>4.634084</td>\n",
       "      <td>26303</td>\n",
       "      <td>[(,, 13788), (., 12930), (a, 4486), (v, 4043),...</td>\n",
       "    </tr>\n",
       "    <tr>\n",
       "      <th>3</th>\n",
       "      <td>0.00100</td>\n",
       "      <td>7.166435</td>\n",
       "      <td>143.652121</td>\n",
       "      <td>42797</td>\n",
       "      <td>1031304</td>\n",
       "      <td>4.636908</td>\n",
       "      <td>26158</td>\n",
       "      <td>[(,, 13777), (., 12921), (a, 4483), (v, 4037),...</td>\n",
       "    </tr>\n",
       "    <tr>\n",
       "      <th>4</th>\n",
       "      <td>0.01000</td>\n",
       "      <td>7.066243</td>\n",
       "      <td>134.014272</td>\n",
       "      <td>42585</td>\n",
       "      <td>1038303</td>\n",
       "      <td>4.668377</td>\n",
       "      <td>24839</td>\n",
       "      <td>[(,, 13623), (., 12792), (a, 4439), (v, 3991),...</td>\n",
       "    </tr>\n",
       "    <tr>\n",
       "      <th>5</th>\n",
       "      <td>0.05000</td>\n",
       "      <td>6.695581</td>\n",
       "      <td>103.650325</td>\n",
       "      <td>41776</td>\n",
       "      <td>1065114</td>\n",
       "      <td>4.788923</td>\n",
       "      <td>19990</td>\n",
       "      <td>[(,, 13090), (., 12298), (a, 4258), (v, 3829),...</td>\n",
       "    </tr>\n",
       "    <tr>\n",
       "      <th>6</th>\n",
       "      <td>0.10000</td>\n",
       "      <td>6.274042</td>\n",
       "      <td>77.388231</td>\n",
       "      <td>41182</td>\n",
       "      <td>1099639</td>\n",
       "      <td>4.944153</td>\n",
       "      <td>15629</td>\n",
       "      <td>[(,, 12472), (., 11635), (a, 4027), (v, 3653),...</td>\n",
       "    </tr>\n",
       "  </tbody>\n",
       "</table>\n",
       "</div>"
      ],
      "text/plain": [
       "      prob   entropy  perplexity vocab_size char_count  chars_per_word  \\\n",
       "0  0.00000  7.176854  144.693260      42826    1030631        4.633882   \n",
       "1  0.00001  7.176715  144.679312      42825    1030649        4.633963   \n",
       "2  0.00010  7.176074  144.615055      42824    1030676        4.634084   \n",
       "3  0.00100  7.166435  143.652121      42797    1031304        4.636908   \n",
       "4  0.01000  7.066243  134.014272      42585    1038303        4.668377   \n",
       "5  0.05000  6.695581  103.650325      41776    1065114        4.788923   \n",
       "6  0.10000  6.274042   77.388231      41182    1099639        4.944153   \n",
       "\n",
       "  words_freq_1                                    most_freq_words  \n",
       "0        26315  [(,, 13788), (., 12931), (a, 4486), (v, 4043),...  \n",
       "1        26311  [(,, 13787), (., 12930), (a, 4486), (v, 4043),...  \n",
       "2        26303  [(,, 13788), (., 12930), (a, 4486), (v, 4043),...  \n",
       "3        26158  [(,, 13777), (., 12921), (a, 4483), (v, 4037),...  \n",
       "4        24839  [(,, 13623), (., 12792), (a, 4439), (v, 3991),...  \n",
       "5        19990  [(,, 13090), (., 12298), (a, 4258), (v, 3829),...  \n",
       "6        15629  [(,, 12472), (., 11635), (a, 4027), (v, 3653),...  "
      ]
     },
     "execution_count": 36,
     "metadata": {},
     "output_type": "execute_result"
    }
   ],
   "source": [
    "word_stats_cz"
   ]
  },
  {
   "cell_type": "code",
   "execution_count": 37,
   "metadata": {
    "collapsed": true
   },
   "outputs": [],
   "source": [
    "# Configure Plots\n",
    "plt.rcParams['lines.linewidth'] = 3"
   ]
  },
  {
   "cell_type": "code",
   "execution_count": 38,
   "metadata": {
    "collapsed": true
   },
   "outputs": [],
   "source": [
    "def create_plot(label, word_stats, char_stats):\n",
    "    plt.plot(word_stats.prob, word_stats.entropy, label='Word Entropy')\n",
    "    plt.plot(char_stats.prob, char_stats.entropy, label='Character Entropy')\n",
    "    plt.suptitle('Entropy (' + label + ')')\n",
    "    plt.xlabel('Probability')\n",
    "    plt.ylabel('Entropy')\n",
    "    _ = plt.legend()"
   ]
  },
  {
   "cell_type": "code",
   "execution_count": 39,
   "metadata": {},
   "outputs": [
    {
     "data": {
      "image/png": "[encoded data removed]",
      "text/plain": [
       "<matplotlib.figure.Figure at 0x7f7315d62be0>"
      ]
     },
     "metadata": {
      "image/png": {
       "height": 290,
       "width": 384
      }
     },
     "output_type": "display_data"
    }
   ],
   "source": [
    "# English\n",
    "create_plot('English', word_stats_en, char_stats_en)"
   ]
  },
  {
   "cell_type": "code",
   "execution_count": 40,
   "metadata": {},
   "outputs": [
    {
     "data": {
      "image/png": "[encoded data removed]",
      "text/plain": [
       "<matplotlib.figure.Figure at 0x7f731000b780>"
      ]
     },
     "metadata": {
      "image/png": {
       "height": 290,
       "width": 387
      }
     },
     "output_type": "display_data"
    }
   ],
   "source": [
    "### Czech\n",
    "create_plot('Czech', word_stats_cz, char_stats_cz)"
   ]
  },
  {
   "cell_type": "code",
   "execution_count": null,
   "metadata": {
    "collapsed": true
   },
   "outputs": [],
   "source": []
  }
 ],
 "metadata": {
  "kernelspec": {
   "display_name": "Python 3",
   "language": "python",
   "name": "python3"
  },
  "language_info": {
   "codemirror_mode": {
    "name": "ipython",
    "version": 3
   },
   "file_extension": ".py",
   "mimetype": "text/x-python",
   "name": "python",
   "nbconvert_exporter": "python",
   "pygments_lexer": "ipython3",
   "version": "3.6.1"
  }
 },
 "nbformat": 4,
 "nbformat_minor": 2
}
