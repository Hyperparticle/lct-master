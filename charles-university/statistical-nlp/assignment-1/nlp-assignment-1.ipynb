{
 "cells": [
  {
   "cell_type": "markdown",
   "metadata": {
    "deletable": true,
    "editable": true
   },
   "source": [
    "# Assignment #1: PFL067 Statistical NLP\n",
    "\n",
    "## Exploring Entropy and Language Modeling\n",
    "\n",
    "### Author: Dan Kondratyuk\n",
    "\n",
    "### November 8, 2017\n",
    "\n",
    "---"
   ]
  },
  {
   "cell_type": "markdown",
   "metadata": {
    "deletable": true,
    "editable": true
   },
   "source": [
    "This Python notebook examines conditional entropy as it relates to bigram language models and cross entropy as it relates to linear interpolation smoothing.\n",
    "\n",
    "### 1. Entropy of a Text\n",
    "\n",
    "#### Problem Statement\n",
    "> In this experiment, you will determine the conditional entropy of the word distribution in a text given the previous word. To do this, you will first have to compute P(i,j), which is the probability that at any position in the text you will find the word i followed immediately by the word j, and P(j|i), which is the probability that if word i occurs in the text then word j will follow. Given these probabilities, the conditional entropy of the word distribution in a text given the previous word can then be computed as:\n",
    "\n",
    "> $$H(J|I) = -\\sum_{i \\in I, j \\in J} P(i,j) \\log_2 P(j|i)$$\n",
    "\n",
    "> The perplexity is then computed simply as\n",
    "\n",
    "> $$P_X(P(J|I)) = 2^{H(J|I)}$$\n",
    "\n",
    "> Compute this conditional entropy and perplexity for `TEXTEN1.txt`. This file has every word on a separate line. (Punctuation is considered a word, as in many other cases.) The i,j above will also span sentence boundaries, where i is the last word of one sentence and j is the first word of the following sentence (but obviously, there will be a fullstop at the end of most sentences).\n",
    "\n",
    "> Next, you will mess up the text and measure how this alters the conditional entropy. For every character in the text, mess it up with a likelihood of 10%. If a character is chosen to be messed up, map it into a randomly chosen character from the set of characters that appear in the text. Since there is some randomness to the outcome of the experiment, run the experiment 10 times, each time measuring the conditional entropy of the resulting text, and give the min, max, and average entropy from these experiments. Be sure to use srand to reset the random number generator seed each time you run it. Also, be sure each time you are messing up the original text, and not a previously messed up text. Do the same experiment for mess up likelihoods of 5%, 1%, .1%, .01%, and .001%.\n",
    "\n",
    "> Next, for every word in the text, mess it up with a likelihood of 10%. If a word is chosen to be messed up, map it into a randomly chosen word from the set of words that appear in the text. Again run the experiment 10 times, each time measuring the conditional entropy of the resulting text, and give the min, max, and average entropy from these experiments. Do the same experiment for mess up likelihoods of 5%, 1%, .1%, .01%, and .001%.\n",
    "\n",
    "> Now do exactly the same for the file `TEXTCZ1.txt`, which contains a similar amount of text in an unknown language (just FYI, that's Czech*)\n",
    "\n",
    "> Tabulate, graph and explain your results. Also try to explain the differences between the two languages. To substantiate your explanations, you might want to tabulate also the basic characteristics of the two texts, such as the word count, number of characters (total, per word), the frequency of the most frequent words, the number of words with frequency 1, etc."
   ]
  },
  {
   "cell_type": "markdown",
   "metadata": {
    "deletable": true,
    "editable": true
   },
   "source": [
    "### Process Text\n",
    "The first step is to define functions to calculate probabilites of bigrams/unigrams and conditional entropy of a text. This can be done by counting up the frequency of bigrams and unigrams. The `BigramModel` class contains all the necessary functionality to compute the entropy of a text. By counting up the word unigram/bigram frequencies, we can divide the necessary counts to get the appropriate probabilities for the entropy function."
   ]
  },
  {
   "cell_type": "code",
   "execution_count": 1,
   "metadata": {
    "collapsed": true,
    "deletable": true,
    "editable": true
   },
   "outputs": [],
   "source": [
    "# Import Python packages\n",
    "%matplotlib inline\n",
    "%config InlineBackend.figure_format = 'retina'\n",
    "\n",
    "import nltk\n",
    "import matplotlib.pyplot as plt\n",
    "import pandas as pd\n",
    "import numpy as np\n",
    "import collections as c\n",
    "from collections import defaultdict\n",
    "\n",
    "# Configure Plots\n",
    "plt.rcParams['lines.linewidth'] = 4"
   ]
  },
  {
   "cell_type": "code",
   "execution_count": 2,
   "metadata": {
    "collapsed": true,
    "deletable": true,
    "editable": true
   },
   "outputs": [],
   "source": [
    "np.random.seed(200) # Set a seed so that this notebook has the same output each time"
   ]
  },
  {
   "cell_type": "code",
   "execution_count": 3,
   "metadata": {
    "collapsed": true,
    "deletable": true,
    "editable": true
   },
   "outputs": [],
   "source": [
    "def open_text(filename):\n",
    "    \"\"\"Reads a text line by line, applies light preprocessing, and returns an array of words\"\"\"\n",
    "    with open(filename, encoding='iso-8859-2') as f:\n",
    "        content = f.readlines()\n",
    "    \n",
    "    preprocess = lambda word: word.strip()\n",
    "    \n",
    "    return np.array([preprocess(word) for word in content])"
   ]
  },
  {
   "cell_type": "code",
   "execution_count": 4,
   "metadata": {
    "collapsed": true,
    "deletable": true,
    "editable": true
   },
   "outputs": [],
   "source": [
    "class BigramModel:\n",
    "    \"\"\"Counts up bigrams and calculates probabilities\"\"\"\n",
    "    \n",
    "    def __init__(self, words):\n",
    "        self.words = words\n",
    "        self.word_set = list(set(words))\n",
    "        self.word_count = len(self.word_set)\n",
    "        self.total_word_count = len(self.words)\n",
    "        self.unigram_dist = c.Counter(words)\n",
    "        \n",
    "        self.bigrams = list(nltk.bigrams(words))\n",
    "        self.bigram_set = list(set(self.bigrams))\n",
    "        self.bigram_count = len(self.bigram_set)\n",
    "        self.total_bigram_count = len(self.bigrams)\n",
    "        self.dist = c.Counter(self.bigrams)\n",
    "    \n",
    "    def p_bigram(self, wprev, w):\n",
    "        \"\"\"Calculates the probability a bigram appears in the distribution\"\"\"\n",
    "        return self.dist[(wprev, w)] / self.total_bigram_count\n",
    "\n",
    "    def p_bigram_cond(self, wprev, w):\n",
    "        \"\"\"Calculates the probability a word appears in the distribution given the previous word\"\"\"\n",
    "        return self.dist[(wprev, w)] / self.unigram_dist[wprev]\n",
    "    \n",
    "    def entropy_cond(self):\n",
    "        \"\"\"Calculates the conditional entropy from a list of bigrams\"\"\"\n",
    "        bigram_set = self.bigram_set\n",
    "        return - np.sum(self.p_bigram(*bigram) * \n",
    "                        np.log2(self.p_bigram_cond(*bigram)) \n",
    "                        for bigram in bigram_set)\n",
    "\n",
    "    def perplexity_cond(self, entropy=-1):\n",
    "        \"\"\"Calculates the conditional perplexity from the given conditional entropy\"\"\"\n",
    "        if (entropy < 0):\n",
    "            return 2 ** self.entropy_cond()\n",
    "        else:\n",
    "            return 2 ** entropy"
   ]
  },
  {
   "cell_type": "markdown",
   "metadata": {
    "deletable": true,
    "editable": true
   },
   "source": [
    "### Perturb Texts\n",
    "Define functions to process a list of words and, with a given probability, alter each character/word to a random character/word."
   ]
  },
  {
   "cell_type": "code",
   "execution_count": 5,
   "metadata": {
    "collapsed": true,
    "deletable": true,
    "editable": true
   },
   "outputs": [],
   "source": [
    "def charset(words):\n",
    "    \"\"\"Given a list of words, calculates the set of characters over all words\"\"\"\n",
    "    return np.array(list(set(char for word in words for char in word)))"
   ]
  },
  {
   "cell_type": "code",
   "execution_count": 6,
   "metadata": {
    "collapsed": true,
    "deletable": true,
    "editable": true
   },
   "outputs": [],
   "source": [
    "def vocab_list(words):\n",
    "    \"\"\"Given a list of words, calculates the vocabulary (word set)\"\"\"\n",
    "    return np.array(list(set(word for word in words)))"
   ]
  },
  {
   "cell_type": "code",
   "execution_count": 7,
   "metadata": {
    "collapsed": true,
    "deletable": true,
    "editable": true
   },
   "outputs": [],
   "source": [
    "def perturb_char(word, charset, prob=0.1):\n",
    "    \"\"\"Changes each character with given probability to a random character in the charset\"\"\"\n",
    "    return ''.join(np.random.choice(charset) if np.random.random() < prob else char for char in word)"
   ]
  },
  {
   "cell_type": "code",
   "execution_count": 8,
   "metadata": {
    "collapsed": true,
    "deletable": true,
    "editable": true
   },
   "outputs": [],
   "source": [
    "def perturb_word(word, vocabulary, prob=0.1):\n",
    "    \"\"\"Changes a word with given probability to a random word in the vocabulary\"\"\"\n",
    "    return np.random.choice(vocabulary) if np.random.random() < prob else word"
   ]
  },
  {
   "cell_type": "code",
   "execution_count": 9,
   "metadata": {
    "collapsed": true,
    "deletable": true,
    "editable": true
   },
   "outputs": [],
   "source": [
    "def perturb_text(words, seed=200):\n",
    "    \"\"\"Given a list of words, perturbs each word both on the character level \n",
    "    and the word level. Does this for a predefined list of probabilties\"\"\"\n",
    "    np.random.seed(seed)\n",
    "    \n",
    "    chars = charset(words)\n",
    "    vocab = vocab_list(words)\n",
    "    text_chars, text_words = pd.DataFrame(), pd.DataFrame()\n",
    "    probabilities = [0, 0.00001, 0.0001, 0.001, 0.01, 0.05, 0.1]\n",
    "    \n",
    "    for prob in probabilities:\n",
    "        text_chars[str(prob)] = [perturb_char(word, chars,    prob=prob) for word in words]\n",
    "        text_words[str(prob)] = [perturb_word(word, vocab, prob=prob) for word in words]\n",
    "    \n",
    "    return text_chars, text_words"
   ]
  },
  {
   "cell_type": "markdown",
   "metadata": {
    "deletable": true,
    "editable": true
   },
   "source": [
    "### Gather Statistics\n",
    "The following functions perturb a given text on the character and word level by a defined list of probabilities and compute statistical information for each probability data point."
   ]
  },
  {
   "cell_type": "code",
   "execution_count": 73,
   "metadata": {
    "collapsed": true,
    "deletable": true,
    "editable": true
   },
   "outputs": [],
   "source": [
    "def text_stats(words):\n",
    "    \"\"\"Given a list of words, this calculates various statistical \n",
    "    properties like entropy, number of characters, etc.\"\"\"\n",
    "    bigram_model = BigramModel(words)\n",
    "    \n",
    "    entropy = bigram_model.entropy_cond()\n",
    "    perplexity = bigram_model.perplexity_cond(entropy=entropy)\n",
    "    vocab_size = bigram_model.word_count\n",
    "    char_count = len([char for word in words for char in word])\n",
    "    chars_per_word = char_count / len(words)\n",
    "    words_freq_1 = sum(1 for key in bigram_model.unigram_dist if bigram_model.unigram_dist[key] == 1)\n",
    "\n",
    "    return [entropy, perplexity, vocab_size, char_count, chars_per_word, words_freq_1]"
   ]
  },
  {
   "cell_type": "code",
   "execution_count": 74,
   "metadata": {
    "collapsed": true,
    "deletable": true,
    "editable": true
   },
   "outputs": [],
   "source": [
    "def run_stats(words, seed=200):\n",
    "    \"\"\"Calculates statistics for one run of perturbed probabilities of a given text \n",
    "    and outputs them to two tables (character and word level respectively)\"\"\"\n",
    "\n",
    "    perturbed_text = perturb_text(words, seed=seed)\n",
    "    text_chars, text_words = perturbed_text\n",
    "    \n",
    "    col_names = [\n",
    "        'prob', 'entropy', 'perplexity', 'vocab_size', 'char_count', \n",
    "        'chars_per_word', 'words_freq_1'\n",
    "    ]\n",
    "    \n",
    "    char_stats = pd.DataFrame(columns=col_names)\n",
    "    word_stats = pd.DataFrame(columns=col_names)\n",
    "    \n",
    "    # Iterate through all perturbation probabilities and gather statistics\n",
    "    for col in text_chars:\n",
    "        char_stats_calc = text_stats(list(text_chars[col]))\n",
    "        char_stats.loc[len(char_stats)] = [float(col)] + char_stats_calc\n",
    "        \n",
    "        word_stats_calc = text_stats(list(text_words[col]))\n",
    "        word_stats.loc[len(word_stats)] = [float(col)] + word_stats_calc\n",
    "   \n",
    "    return char_stats, word_stats"
   ]
  },
  {
   "cell_type": "code",
   "execution_count": 79,
   "metadata": {
    "collapsed": true
   },
   "outputs": [],
   "source": [
    "def all_stats(words, num_runs=10):\n",
    "    \"\"\"Calculates statistics for all runs of perturbed probabilities of a given text \n",
    "    and outputs the averaged values to two tables (character and word level respectively)\"\"\"\n",
    "    \n",
    "    char_runs, word_runs = zip(*[run_stats(words, seed=i) for i in range(num_runs)])\n",
    "    \n",
    "    char_concat, word_concat = pd.concat(char_runs), pd.concat(word_runs)\n",
    "    \n",
    "    char_avg = char_concat.groupby(char_concat.index).mean()\n",
    "    word_avg = word_concat.groupby(word_concat.index).mean()\n",
    "    \n",
    "    return char_avg, word_avg"
   ]
  },
  {
   "cell_type": "code",
   "execution_count": 80,
   "metadata": {
    "collapsed": true,
    "deletable": true,
    "editable": true
   },
   "outputs": [],
   "source": [
    "def create_cond_entropy_plot(label, word_stats, char_stats):\n",
    "    \"\"\"Plots the word and character entropy of the given text statistics\"\"\"\n",
    "    plt.plot(word_stats.prob, word_stats.entropy, label='Word Entropy')\n",
    "    plt.plot(char_stats.prob, char_stats.entropy, label='Character Entropy')\n",
    "    plt.suptitle('Entropy (' + label + ')')\n",
    "    plt.xlabel('Probability')\n",
    "    plt.ylabel('Entropy')\n",
    "    _ = plt.legend()"
   ]
  },
  {
   "cell_type": "markdown",
   "metadata": {
    "deletable": true,
    "editable": true
   },
   "source": [
    "### Results (part 1): Calculate, Tabulate, and Graph Statistics\n",
    "Finally, we calculate the conditional entropy of both English and Czech texts, along with their perturbed counterparts as specified in the problem statement. Some additional statistics are calculated to better explain results. Explanations and conclusions of results are given at the end of this section."
   ]
  },
  {
   "cell_type": "code",
   "execution_count": 81,
   "metadata": {
    "collapsed": true,
    "deletable": true,
    "editable": true
   },
   "outputs": [],
   "source": [
    "# Read the texts into memory\n",
    "english = './TEXTEN1.txt'\n",
    "czech = './TEXTCZ1.txt'\n",
    "\n",
    "words_en = open_text(english)\n",
    "words_cz = open_text(czech)"
   ]
  },
  {
   "cell_type": "code",
   "execution_count": 84,
   "metadata": {
    "collapsed": false,
    "deletable": true,
    "editable": true
   },
   "outputs": [],
   "source": [
    "# Calculate statistics on all data points\n",
    "char_stats_en, word_stats_en = all_stats(words_en)\n",
    "char_stats_cz, word_stats_cz = all_stats(words_cz)"
   ]
  },
  {
   "cell_type": "markdown",
   "metadata": {
    "deletable": true,
    "editable": true
   },
   "source": [
    "#### English Character Statistics\n",
    "The table below displays the conditional entropy of the English text when each character can be pertubed with the given probability. The entropy of the English text starts at 5.28 and decreases steadily to 4.7 as more characters are changed randomly. The vocabulary size and number of words with frequency 1 increase substantially."
   ]
  },
  {
   "cell_type": "code",
   "execution_count": 85,
   "metadata": {
    "collapsed": false
   },
   "outputs": [
    {
     "data": {
      "text/html": [
       "<div>\n",
       "<style>\n",
       "    .dataframe thead tr:only-child th {\n",
       "        text-align: right;\n",
       "    }\n",
       "\n",
       "    .dataframe thead th {\n",
       "        text-align: left;\n",
       "    }\n",
       "\n",
       "    .dataframe tbody tr th {\n",
       "        vertical-align: top;\n",
       "    }\n",
       "</style>\n",
       "<table border=\"1\" class=\"dataframe\">\n",
       "  <thead>\n",
       "    <tr style=\"text-align: right;\">\n",
       "      <th></th>\n",
       "      <th>prob</th>\n",
       "      <th>entropy</th>\n",
       "      <th>perplexity</th>\n",
       "      <th>vocab_size</th>\n",
       "      <th>char_count</th>\n",
       "      <th>chars_per_word</th>\n",
       "      <th>words_freq_1</th>\n",
       "    </tr>\n",
       "  </thead>\n",
       "  <tbody>\n",
       "    <tr>\n",
       "      <th>0</th>\n",
       "      <td>0.00000</td>\n",
       "      <td>5.287452</td>\n",
       "      <td>39.055456</td>\n",
       "      <td>9607.0</td>\n",
       "      <td>972917.0</td>\n",
       "      <td>4.400388</td>\n",
       "      <td>3811.0</td>\n",
       "    </tr>\n",
       "    <tr>\n",
       "      <th>1</th>\n",
       "      <td>0.00001</td>\n",
       "      <td>5.287421</td>\n",
       "      <td>39.054600</td>\n",
       "      <td>9616.8</td>\n",
       "      <td>972917.0</td>\n",
       "      <td>4.400388</td>\n",
       "      <td>3821.2</td>\n",
       "    </tr>\n",
       "    <tr>\n",
       "      <th>2</th>\n",
       "      <td>0.00010</td>\n",
       "      <td>5.287174</td>\n",
       "      <td>39.047919</td>\n",
       "      <td>9698.6</td>\n",
       "      <td>972917.0</td>\n",
       "      <td>4.400388</td>\n",
       "      <td>3904.8</td>\n",
       "    </tr>\n",
       "    <tr>\n",
       "      <th>3</th>\n",
       "      <td>0.00100</td>\n",
       "      <td>5.283481</td>\n",
       "      <td>38.948114</td>\n",
       "      <td>10505.9</td>\n",
       "      <td>972917.0</td>\n",
       "      <td>4.400388</td>\n",
       "      <td>4718.1</td>\n",
       "    </tr>\n",
       "    <tr>\n",
       "      <th>4</th>\n",
       "      <td>0.01000</td>\n",
       "      <td>5.250229</td>\n",
       "      <td>38.060673</td>\n",
       "      <td>17713.2</td>\n",
       "      <td>972917.0</td>\n",
       "      <td>4.400388</td>\n",
       "      <td>11633.8</td>\n",
       "    </tr>\n",
       "    <tr>\n",
       "      <th>5</th>\n",
       "      <td>0.05000</td>\n",
       "      <td>5.054971</td>\n",
       "      <td>33.242881</td>\n",
       "      <td>42211.0</td>\n",
       "      <td>972917.0</td>\n",
       "      <td>4.400388</td>\n",
       "      <td>34409.5</td>\n",
       "    </tr>\n",
       "    <tr>\n",
       "      <th>6</th>\n",
       "      <td>0.10000</td>\n",
       "      <td>4.731919</td>\n",
       "      <td>26.573634</td>\n",
       "      <td>64346.2</td>\n",
       "      <td>972917.0</td>\n",
       "      <td>4.400388</td>\n",
       "      <td>55099.3</td>\n",
       "    </tr>\n",
       "  </tbody>\n",
       "</table>\n",
       "</div>"
      ],
      "text/plain": [
       "      prob   entropy  perplexity  vocab_size  char_count  chars_per_word  \\\n",
       "0  0.00000  5.287452   39.055456      9607.0    972917.0        4.400388   \n",
       "1  0.00001  5.287421   39.054600      9616.8    972917.0        4.400388   \n",
       "2  0.00010  5.287174   39.047919      9698.6    972917.0        4.400388   \n",
       "3  0.00100  5.283481   38.948114     10505.9    972917.0        4.400388   \n",
       "4  0.01000  5.250229   38.060673     17713.2    972917.0        4.400388   \n",
       "5  0.05000  5.054971   33.242881     42211.0    972917.0        4.400388   \n",
       "6  0.10000  4.731919   26.573634     64346.2    972917.0        4.400388   \n",
       "\n",
       "   words_freq_1  \n",
       "0        3811.0  \n",
       "1        3821.2  \n",
       "2        3904.8  \n",
       "3        4718.1  \n",
       "4       11633.8  \n",
       "5       34409.5  \n",
       "6       55099.3  "
      ]
     },
     "execution_count": 85,
     "metadata": {},
     "output_type": "execute_result"
    }
   ],
   "source": [
    "char_stats_en"
   ]
  },
  {
   "cell_type": "markdown",
   "metadata": {
    "deletable": true,
    "editable": true
   },
   "source": [
    "#### English Word Statistics\n",
    "The table below displays the conditional entropy of the English text when each word can be pertubed with the given probability. The entropy of the English text starts at 5.28 and increases slightly to 5.45 as more words are changed randomly. The vocabulary size decreases very slightly and the number of words with frequency 1 decrease substantially."
   ]
  },
  {
   "cell_type": "code",
   "execution_count": 86,
   "metadata": {
    "collapsed": false,
    "deletable": true,
    "editable": true,
    "scrolled": true
   },
   "outputs": [
    {
     "data": {
      "text/html": [
       "<div>\n",
       "<style>\n",
       "    .dataframe thead tr:only-child th {\n",
       "        text-align: right;\n",
       "    }\n",
       "\n",
       "    .dataframe thead th {\n",
       "        text-align: left;\n",
       "    }\n",
       "\n",
       "    .dataframe tbody tr th {\n",
       "        vertical-align: top;\n",
       "    }\n",
       "</style>\n",
       "<table border=\"1\" class=\"dataframe\">\n",
       "  <thead>\n",
       "    <tr style=\"text-align: right;\">\n",
       "      <th></th>\n",
       "      <th>prob</th>\n",
       "      <th>entropy</th>\n",
       "      <th>perplexity</th>\n",
       "      <th>vocab_size</th>\n",
       "      <th>char_count</th>\n",
       "      <th>chars_per_word</th>\n",
       "      <th>words_freq_1</th>\n",
       "    </tr>\n",
       "  </thead>\n",
       "  <tbody>\n",
       "    <tr>\n",
       "      <th>0</th>\n",
       "      <td>0.00000</td>\n",
       "      <td>5.287452</td>\n",
       "      <td>39.055456</td>\n",
       "      <td>9607.0</td>\n",
       "      <td>972917.0</td>\n",
       "      <td>4.400388</td>\n",
       "      <td>3811.0</td>\n",
       "    </tr>\n",
       "    <tr>\n",
       "      <th>1</th>\n",
       "      <td>0.00001</td>\n",
       "      <td>5.287475</td>\n",
       "      <td>39.056062</td>\n",
       "      <td>9607.0</td>\n",
       "      <td>972927.3</td>\n",
       "      <td>4.400435</td>\n",
       "      <td>3810.5</td>\n",
       "    </tr>\n",
       "    <tr>\n",
       "      <th>2</th>\n",
       "      <td>0.00010</td>\n",
       "      <td>5.287660</td>\n",
       "      <td>39.061074</td>\n",
       "      <td>9606.7</td>\n",
       "      <td>972969.6</td>\n",
       "      <td>4.400626</td>\n",
       "      <td>3803.7</td>\n",
       "    </tr>\n",
       "    <tr>\n",
       "      <th>3</th>\n",
       "      <td>0.00100</td>\n",
       "      <td>5.289555</td>\n",
       "      <td>39.112418</td>\n",
       "      <td>9603.1</td>\n",
       "      <td>973597.3</td>\n",
       "      <td>4.403465</td>\n",
       "      <td>3725.9</td>\n",
       "    </tr>\n",
       "    <tr>\n",
       "      <th>4</th>\n",
       "      <td>0.01000</td>\n",
       "      <td>5.307040</td>\n",
       "      <td>39.589337</td>\n",
       "      <td>9578.3</td>\n",
       "      <td>979616.2</td>\n",
       "      <td>4.430688</td>\n",
       "      <td>3030.1</td>\n",
       "    </tr>\n",
       "    <tr>\n",
       "      <th>5</th>\n",
       "      <td>0.05000</td>\n",
       "      <td>5.379263</td>\n",
       "      <td>41.621703</td>\n",
       "      <td>9546.2</td>\n",
       "      <td>1006275.9</td>\n",
       "      <td>4.551266</td>\n",
       "      <td>1245.4</td>\n",
       "    </tr>\n",
       "    <tr>\n",
       "      <th>6</th>\n",
       "      <td>0.10000</td>\n",
       "      <td>5.457192</td>\n",
       "      <td>43.931829</td>\n",
       "      <td>9568.1</td>\n",
       "      <td>1040306.7</td>\n",
       "      <td>4.705184</td>\n",
       "      <td>452.8</td>\n",
       "    </tr>\n",
       "  </tbody>\n",
       "</table>\n",
       "</div>"
      ],
      "text/plain": [
       "      prob   entropy  perplexity  vocab_size  char_count  chars_per_word  \\\n",
       "0  0.00000  5.287452   39.055456      9607.0    972917.0        4.400388   \n",
       "1  0.00001  5.287475   39.056062      9607.0    972927.3        4.400435   \n",
       "2  0.00010  5.287660   39.061074      9606.7    972969.6        4.400626   \n",
       "3  0.00100  5.289555   39.112418      9603.1    973597.3        4.403465   \n",
       "4  0.01000  5.307040   39.589337      9578.3    979616.2        4.430688   \n",
       "5  0.05000  5.379263   41.621703      9546.2   1006275.9        4.551266   \n",
       "6  0.10000  5.457192   43.931829      9568.1   1040306.7        4.705184   \n",
       "\n",
       "   words_freq_1  \n",
       "0        3811.0  \n",
       "1        3810.5  \n",
       "2        3803.7  \n",
       "3        3725.9  \n",
       "4        3030.1  \n",
       "5        1245.4  \n",
       "6         452.8  "
      ]
     },
     "execution_count": 86,
     "metadata": {},
     "output_type": "execute_result"
    }
   ],
   "source": [
    "word_stats_en"
   ]
  },
  {
   "cell_type": "markdown",
   "metadata": {
    "deletable": true,
    "editable": true
   },
   "source": [
    "#### Czech Character Statistics\n",
    "The table below displays the conditional entropy of the Czech text when each character can be pertubed with the given probability. The entropy of the Czech text starts at 4.74 and decreases steadily to 4.0 as more characters are changed randomly. The vocabulary size and number of words with frequency 1 increase substantially."
   ]
  },
  {
   "cell_type": "code",
   "execution_count": 87,
   "metadata": {
    "collapsed": false,
    "deletable": true,
    "editable": true
   },
   "outputs": [
    {
     "data": {
      "text/html": [
       "<div>\n",
       "<style>\n",
       "    .dataframe thead tr:only-child th {\n",
       "        text-align: right;\n",
       "    }\n",
       "\n",
       "    .dataframe thead th {\n",
       "        text-align: left;\n",
       "    }\n",
       "\n",
       "    .dataframe tbody tr th {\n",
       "        vertical-align: top;\n",
       "    }\n",
       "</style>\n",
       "<table border=\"1\" class=\"dataframe\">\n",
       "  <thead>\n",
       "    <tr style=\"text-align: right;\">\n",
       "      <th></th>\n",
       "      <th>prob</th>\n",
       "      <th>entropy</th>\n",
       "      <th>perplexity</th>\n",
       "      <th>vocab_size</th>\n",
       "      <th>char_count</th>\n",
       "      <th>chars_per_word</th>\n",
       "      <th>words_freq_1</th>\n",
       "    </tr>\n",
       "  </thead>\n",
       "  <tbody>\n",
       "    <tr>\n",
       "      <th>0</th>\n",
       "      <td>0.00000</td>\n",
       "      <td>4.747848</td>\n",
       "      <td>26.868573</td>\n",
       "      <td>42826.0</td>\n",
       "      <td>1030631.0</td>\n",
       "      <td>4.633882</td>\n",
       "      <td>26315.0</td>\n",
       "    </tr>\n",
       "    <tr>\n",
       "      <th>1</th>\n",
       "      <td>0.00001</td>\n",
       "      <td>4.747733</td>\n",
       "      <td>26.866437</td>\n",
       "      <td>42833.5</td>\n",
       "      <td>1030631.0</td>\n",
       "      <td>4.633882</td>\n",
       "      <td>26323.0</td>\n",
       "    </tr>\n",
       "    <tr>\n",
       "      <th>2</th>\n",
       "      <td>0.00010</td>\n",
       "      <td>4.747013</td>\n",
       "      <td>26.853029</td>\n",
       "      <td>42896.8</td>\n",
       "      <td>1030631.0</td>\n",
       "      <td>4.633882</td>\n",
       "      <td>26393.4</td>\n",
       "    </tr>\n",
       "    <tr>\n",
       "      <th>3</th>\n",
       "      <td>0.00100</td>\n",
       "      <td>4.738291</td>\n",
       "      <td>26.691175</td>\n",
       "      <td>43597.0</td>\n",
       "      <td>1030631.0</td>\n",
       "      <td>4.633882</td>\n",
       "      <td>27175.7</td>\n",
       "    </tr>\n",
       "    <tr>\n",
       "      <th>4</th>\n",
       "      <td>0.01000</td>\n",
       "      <td>4.659041</td>\n",
       "      <td>25.264531</td>\n",
       "      <td>49993.8</td>\n",
       "      <td>1030631.0</td>\n",
       "      <td>4.633882</td>\n",
       "      <td>34341.0</td>\n",
       "    </tr>\n",
       "    <tr>\n",
       "      <th>5</th>\n",
       "      <td>0.05000</td>\n",
       "      <td>4.337545</td>\n",
       "      <td>20.217698</td>\n",
       "      <td>73486.6</td>\n",
       "      <td>1030631.0</td>\n",
       "      <td>4.633882</td>\n",
       "      <td>60603.7</td>\n",
       "    </tr>\n",
       "    <tr>\n",
       "      <th>6</th>\n",
       "      <td>0.10000</td>\n",
       "      <td>4.004364</td>\n",
       "      <td>16.048517</td>\n",
       "      <td>94487.6</td>\n",
       "      <td>1030631.0</td>\n",
       "      <td>4.633882</td>\n",
       "      <td>84042.4</td>\n",
       "    </tr>\n",
       "  </tbody>\n",
       "</table>\n",
       "</div>"
      ],
      "text/plain": [
       "      prob   entropy  perplexity  vocab_size  char_count  chars_per_word  \\\n",
       "0  0.00000  4.747848   26.868573     42826.0   1030631.0        4.633882   \n",
       "1  0.00001  4.747733   26.866437     42833.5   1030631.0        4.633882   \n",
       "2  0.00010  4.747013   26.853029     42896.8   1030631.0        4.633882   \n",
       "3  0.00100  4.738291   26.691175     43597.0   1030631.0        4.633882   \n",
       "4  0.01000  4.659041   25.264531     49993.8   1030631.0        4.633882   \n",
       "5  0.05000  4.337545   20.217698     73486.6   1030631.0        4.633882   \n",
       "6  0.10000  4.004364   16.048517     94487.6   1030631.0        4.633882   \n",
       "\n",
       "   words_freq_1  \n",
       "0       26315.0  \n",
       "1       26323.0  \n",
       "2       26393.4  \n",
       "3       27175.7  \n",
       "4       34341.0  \n",
       "5       60603.7  \n",
       "6       84042.4  "
      ]
     },
     "execution_count": 87,
     "metadata": {},
     "output_type": "execute_result"
    }
   ],
   "source": [
    "char_stats_cz"
   ]
  },
  {
   "cell_type": "markdown",
   "metadata": {
    "deletable": true,
    "editable": true
   },
   "source": [
    "#### Czech Word Statistics\n",
    "The table below displays the conditional entropy of the Czech text when each word can be pertubed with the given probability. The entropy of the Czech text starts at 4.74 and decreases slightly to 4.63 as more words are changed randomly. The vocabulary size decreases very slightly and the number of words with frequency 1 decrease as well."
   ]
  },
  {
   "cell_type": "code",
   "execution_count": 88,
   "metadata": {
    "collapsed": false,
    "deletable": true,
    "editable": true
   },
   "outputs": [
    {
     "data": {
      "text/html": [
       "<div>\n",
       "<style>\n",
       "    .dataframe thead tr:only-child th {\n",
       "        text-align: right;\n",
       "    }\n",
       "\n",
       "    .dataframe thead th {\n",
       "        text-align: left;\n",
       "    }\n",
       "\n",
       "    .dataframe tbody tr th {\n",
       "        vertical-align: top;\n",
       "    }\n",
       "</style>\n",
       "<table border=\"1\" class=\"dataframe\">\n",
       "  <thead>\n",
       "    <tr style=\"text-align: right;\">\n",
       "      <th></th>\n",
       "      <th>prob</th>\n",
       "      <th>entropy</th>\n",
       "      <th>perplexity</th>\n",
       "      <th>vocab_size</th>\n",
       "      <th>char_count</th>\n",
       "      <th>chars_per_word</th>\n",
       "      <th>words_freq_1</th>\n",
       "    </tr>\n",
       "  </thead>\n",
       "  <tbody>\n",
       "    <tr>\n",
       "      <th>0</th>\n",
       "      <td>0.00000</td>\n",
       "      <td>4.747848</td>\n",
       "      <td>26.868573</td>\n",
       "      <td>42826.0</td>\n",
       "      <td>1030631.0</td>\n",
       "      <td>4.633882</td>\n",
       "      <td>26315.0</td>\n",
       "    </tr>\n",
       "    <tr>\n",
       "      <th>1</th>\n",
       "      <td>0.00001</td>\n",
       "      <td>4.747834</td>\n",
       "      <td>26.868317</td>\n",
       "      <td>42825.8</td>\n",
       "      <td>1030642.3</td>\n",
       "      <td>4.633933</td>\n",
       "      <td>26313.7</td>\n",
       "    </tr>\n",
       "    <tr>\n",
       "      <th>2</th>\n",
       "      <td>0.00010</td>\n",
       "      <td>4.747734</td>\n",
       "      <td>26.866451</td>\n",
       "      <td>42823.8</td>\n",
       "      <td>1030711.5</td>\n",
       "      <td>4.634244</td>\n",
       "      <td>26301.4</td>\n",
       "    </tr>\n",
       "    <tr>\n",
       "      <th>3</th>\n",
       "      <td>0.00100</td>\n",
       "      <td>4.747331</td>\n",
       "      <td>26.858941</td>\n",
       "      <td>42798.6</td>\n",
       "      <td>1031253.4</td>\n",
       "      <td>4.636681</td>\n",
       "      <td>26164.6</td>\n",
       "    </tr>\n",
       "    <tr>\n",
       "      <th>4</th>\n",
       "      <td>0.01000</td>\n",
       "      <td>4.739277</td>\n",
       "      <td>26.709421</td>\n",
       "      <td>42580.9</td>\n",
       "      <td>1037396.5</td>\n",
       "      <td>4.664301</td>\n",
       "      <td>24876.1</td>\n",
       "    </tr>\n",
       "    <tr>\n",
       "      <th>5</th>\n",
       "      <td>0.05000</td>\n",
       "      <td>4.698678</td>\n",
       "      <td>25.968299</td>\n",
       "      <td>41783.7</td>\n",
       "      <td>1065011.3</td>\n",
       "      <td>4.788462</td>\n",
       "      <td>20039.9</td>\n",
       "    </tr>\n",
       "    <tr>\n",
       "      <th>6</th>\n",
       "      <td>0.10000</td>\n",
       "      <td>4.637295</td>\n",
       "      <td>24.886609</td>\n",
       "      <td>41235.4</td>\n",
       "      <td>1099100.4</td>\n",
       "      <td>4.941732</td>\n",
       "      <td>15716.5</td>\n",
       "    </tr>\n",
       "  </tbody>\n",
       "</table>\n",
       "</div>"
      ],
      "text/plain": [
       "      prob   entropy  perplexity  vocab_size  char_count  chars_per_word  \\\n",
       "0  0.00000  4.747848   26.868573     42826.0   1030631.0        4.633882   \n",
       "1  0.00001  4.747834   26.868317     42825.8   1030642.3        4.633933   \n",
       "2  0.00010  4.747734   26.866451     42823.8   1030711.5        4.634244   \n",
       "3  0.00100  4.747331   26.858941     42798.6   1031253.4        4.636681   \n",
       "4  0.01000  4.739277   26.709421     42580.9   1037396.5        4.664301   \n",
       "5  0.05000  4.698678   25.968299     41783.7   1065011.3        4.788462   \n",
       "6  0.10000  4.637295   24.886609     41235.4   1099100.4        4.941732   \n",
       "\n",
       "   words_freq_1  \n",
       "0       26315.0  \n",
       "1       26313.7  \n",
       "2       26301.4  \n",
       "3       26164.6  \n",
       "4       24876.1  \n",
       "5       20039.9  \n",
       "6       15716.5  "
      ]
     },
     "execution_count": 88,
     "metadata": {},
     "output_type": "execute_result"
    }
   ],
   "source": [
    "word_stats_cz"
   ]
  },
  {
   "cell_type": "markdown",
   "metadata": {
    "deletable": true,
    "editable": true
   },
   "source": [
    "#### English Plot\n",
    "The graph below plots the conditional entropy of the English text as a function of the probability of perturbing it. The blue line plots the entropy of the text with perturbed words, and the orange line plots the entropy of the text with purturbed characters."
   ]
  },
  {
   "cell_type": "code",
   "execution_count": 89,
   "metadata": {
    "collapsed": false,
    "deletable": true,
    "editable": true
   },
   "outputs": [
    {
     "data": {
      "image/png": "[encoded data removed]",
      "text/plain": [
       "<matplotlib.figure.Figure at 0x28e427a0748>"
      ]
     },
     "metadata": {
      "image/png": {
       "height": 290,
       "width": 387
      }
     },
     "output_type": "display_data"
    }
   ],
   "source": [
    "create_cond_entropy_plot('English', word_stats_en, char_stats_en)"
   ]
  },
  {
   "cell_type": "markdown",
   "metadata": {
    "deletable": true,
    "editable": true
   },
   "source": [
    "The plot shows that the conditional entropy drops as more characters in the words of the text are changed. Looking back at the table, not only does the vocabulary increase substantially, but the number of words with frequency 1 rise as well. Changing a character to a random symbol will more often than not create a new word. Conditional entropy can be thought of as the average amount of information needed to find the next word given its previous word. If the frequency of the previous word is 1, then the next word can be determined entirely from the previous, so no new information is necessary. In other words,\n",
    "\n",
    "$$p(w_1,w_2) \\log_2 p(w_2|w_1) = p(w_1,w_2) \\log_2 \\frac{c(w_1,w_2)}{c(w_1)} = p(w_1,w_2) \\log_2 1 = 0$$\n",
    "\n",
    "where $(w_1,w_2)$ is a bigram and $c(w_1) = 1$. Therefore, as repeated words are changed to single frequency words, the conditional entropy would go down, as seen in the graph.\n",
    "\n",
    "The plot also shows that the conditional entropy rises slightly as words in the text are altered to random words in the vocabulary. The table shows that the number of words with frequency 1 decrease rapidly. As no new words can be created, the the chance that a single frequency word will be mapped to a multiple frequency word increases with the probability. This has the effect of increasing the conditional entropy, since more information is necessary to determine the next word given the previous multiple frequency word. In other words, $- p(w_1,w_2) \\log_2 p(w_2|w_1) > 0$ for $c(w_1) > 1$."
   ]
  },
  {
   "cell_type": "markdown",
   "metadata": {
    "deletable": true,
    "editable": true
   },
   "source": [
    "#### Czech Plot\n",
    "\n",
    "The graph below plots the conditional entropy of the Czech text as a function of the probability of perturbing it. The blue line plots the entropy of the text with perturbed words, and the orange line plots the entropy of the text with purturbed characters."
   ]
  },
  {
   "cell_type": "code",
   "execution_count": 90,
   "metadata": {
    "collapsed": false,
    "deletable": true,
    "editable": true
   },
   "outputs": [
    {
     "data": {
      "image/png": "[encoded data removed]",
      "text/plain": [
       "<matplotlib.figure.Figure at 0x28e32a2b8d0>"
      ]
     },
     "metadata": {
      "image/png": {
       "height": 290,
       "width": 387
      }
     },
     "output_type": "display_data"
    }
   ],
   "source": [
    "create_cond_entropy_plot('Czech', word_stats_cz, char_stats_cz)"
   ]
  },
  {
   "cell_type": "markdown",
   "metadata": {
    "deletable": true,
    "editable": true
   },
   "source": [
    "The first thing to notice is that the Czech language has an inherently lower conditional entropy than English (at least for this text). This can be explained by the fact that the Czech text contains many more words with a frequency of 1. As opposed to English, Czech has many more word forms due to its declension and conjucation of words, further increasing its vocabulary size and making it much less likely that words of the same inflection appear in the text. As explained earlier, single frequency words have the effect of decreasing conditional entropy.\n",
    "\n",
    "Very similar to the English plot, the conditional entropy drops as as more characters in the words of the text are changed. This is due to the same reasons as explained above: the number of words of frequency 1 increase, lowering the amount of information needed to determine the next word given the previous.\n",
    "\n",
    "Somewhat unexpectedly, the Czech plot shows that the conditional entropy decreases as words in the text are altered to random words in the vocabulary. The English plot shows the opposite effect. Czech is known to be a [free word order](https://en.wikipedia.org/wiki/Czech_word_order) language, which means that (in many cases) words are free to move around the sentence without changing its syntactic structure. What this means is that determining the next word is harder, as other words can be mixed in without changing overall meaning. This requires more information overall (but this is offset to English by the relative vocabulary size). However, as words are altered randomly the chance that the same next word appears increases, futher decreasing entropy.\n",
    "\n",
    "Since English is highly dependent on word order (making it easy to determine what the next word is), it would make sense that randomly altering words would make it harder to determine what the next word is. It is important to keep in mind that even in the English case, after altering words past a certain point, the entropy should begin to decrease again. This is because low frequency words followed by high frequency words that keep the entropy high will decrease to an equilibrium point where every bigram is equally likely."
   ]
  },
  {
   "cell_type": "markdown",
   "metadata": {
    "collapsed": true,
    "deletable": true,
    "editable": true
   },
   "source": [
    "#### Problem Statement\n",
    "> Now assume two languages, $L_1$ and $L_2$ do not share any vocabulary items, and that the conditional entropy as described above of a text $T_1$ in language $L_1$ is $E$ and that the conditional entropy of a text $T_2$ in language $L_2$ is also $E$. Now make a new text by appending $T_2$ to the end of $T_1$. Will the conditional entropy of this new text be greater than, equal to, or less than $E$? Explain. [This is a paper-and-pencil exercise of course!]"
   ]
  },
  {
   "cell_type": "markdown",
   "metadata": {
    "deletable": true,
    "editable": true
   },
   "source": [
    "Conditional entropy $H(Y|X)$ is the amount of information needed to determine the outcome of $Y$ given that the outcome $X$ is known. Since the texts are disjoint, the amount of information needed to find a word given the previous word will not increase between them (no bigrams are shared), except in one special case.\n",
    "\n",
    "Let $T_3 = T_1 \\oplus T_2$ be the concatenation of the two texts. Note that $T_3$ has a newly formed bigram on the boundary of $T_1$ and $T_2$. Let $(t_1, t_2)$ be such a bigram. Then there is a nonzero term in the conditional entropy sum, increasing $E$ by \n",
    "\n",
    "$$- p(t_1,t_2) \\log_2 p(t_2|t_1) = - \\frac{1}{|T_3|} \\log_2 \\frac{1}{c(t_1)} = \\frac{\\log_2 c(t_1)}{|T_3|}$$\n",
    "\n",
    "where $c(t)$ is the number of times word $t$ appears in its text and $|T|$ is the length of $T$. If we let $|T_2| = 1$ and $c(t_1) = |T_1|$, this cannot be more than $max\\{\\frac{\\log_2 n}{n}\\} = \\frac{1}{2}$ bits of information. In short, $E$ will increase by a small amount. The larger $E$ is, the more insignificant these terms will be and so the new conditional entropy will approach $E$.\n",
    "\n",
    "$E$ will also decrease very slightly as well. Notice that $|T_3| = |T_1| + |T_2| + 1$, one more than the addition of the two texts. This term will appear in every part of the sum, so it can be factored out. This has the effect of modifying the total conditional entropy by the ratio\n",
    "\n",
    "$$\\frac{|T_1| + |T_2|}{|T_3|} = \\frac{|T_1| + |T_2|}{|T_1| + |T_2| + 1}$$\n",
    "\n",
    "This gets arbitrarily close to 100% as either text becomes large. \n",
    "\n",
    "Putting these two facts together, the new entropy $E_{new}$ is\n",
    "\n",
    "$$E_{new} = \\frac{|T_1| + |T_2|}{|T_1| + |T_2| + 1} E + \\frac{\\log_2 c(t_1)}{|T_1| + |T_2| + 1}$$\n",
    "\n",
    "which approaches $E$ as either text $T_1,T_2$ increases in length.\n",
    "\n",
    "---\n",
    "\n",
    "<!-- Denote $H_C(T)$ to be the conditional entropy of a text $T$ and $|T|$ to be the length of $T$. Then\n",
    "\n",
    "$$H_C(T) = - \\sum_{i,j} p(w_i,w_j) \\log_2 p(w_j|w_i) = - \\sum_{i,j} \\frac{c(w_i,w_j)}{|T|} \\log_2 \\frac{c(w_i,w_j)}{c(w_i)}$$\n",
    "\n",
    "where $c(w_1,\\dots,w_n)$ counts the frequency of an $n$-gram in $T$.\n",
    "\n",
    "Let $T_3 = T_1 \\oplus T_2$ be the concatenation of the two texts. Then $H_C(T_1) = H_C(T_2) = E$, and\n",
    "\n",
    "$$H_C(T_3) = - \\frac{1}{|T_1 + T_2|} \\sum_{i,j} c(w_i,w_j) \\log_2 \\frac{c(w_i,w_j)}{c(w_i)}$$\n",
    "\n",
    "If $T_1$, $T_2$ are nonempty, then $E$ must decrease, as $$. \n",
    "\n",
    "--- -->\n",
    "\n",
    "\n"
   ]
  },
  {
   "cell_type": "markdown",
   "metadata": {
    "deletable": true,
    "editable": true
   },
   "source": [
    "### 2. Cross-Entropy and Language Modeling\n",
    "\n",
    "#### Problem Statement\n",
    "> This task will show you the importance of smoothing for language modeling, and in certain detail it lets you feel its effects.\n",
    "\n",
    "> First, you will have to prepare data: take the same texts as in the previous task, i.e. `TEXTEN1.txt` and `TEXTCZ1.txt`\n",
    "\n",
    "> Prepare 3 datasets out of each: strip off the last 20,000 words and call them the Test Data, then take off the last 40,000 words from what remains, and call them the Heldout Data, and call the remaining data the Training Data.\n",
    "\n",
    "> Here comes the coding: extract word counts from the training data so that you are ready to compute unigram-, bigram- and trigram-based probabilities from them; compute also the uniform probability based on the vocabulary size. Remember (T being the text size, and V the vocabulary size, i.e. the number of types - different word forms found in the training text):\n",
    "\n",
    "> $p_0(w_i) = 1 / V $\n",
    "\n",
    "> $p_1(w_i) = c_1(w_i) / T$\n",
    "\n",
    "> $p_2(w_i|w_{i-1}) = c_2(w_{i-1},w_i) / c_1(w_{i-1})$\n",
    "\n",
    "> $p_3(w_i|w_{i-2},w_{i-1}) = c_3(w_{i-2},w_{i-1},w_i) / c_2(w_{i-2},w_{i-1})$\n",
    "\n",
    "> Be careful; remember how to handle correctly the beginning and end of the training data with respect to bigram and trigram counts.\n",
    "\n",
    "> Now compute the four smoothing parameters (i.e. \"coefficients\", \"weights\", \"lambdas\", \"interpolation parameters\" or whatever, for the trigram, bigram, unigram and uniform distributions) from the heldout data using the EM algorithm. [Then do the same using the training data again: what smoothing coefficients have you got? After answering this question, throw them away!] Remember, the smoothed model has the following form:\n",
    "\n",
    "> $p_s(w_i|w_{i-2},w_{i-1}) = l_0p_0(w_i)+ l_1p_1(w_i)+ l_2p_2(w_i|w_{i-1}) + l_3p_3(w_i|w_{i-2},w_{i-1})$,\n",
    "\n",
    "> where\n",
    "\n",
    "> $$l_0 + l_1 + l_2 + l_3 = 1$$\n",
    "\n",
    "> And finally, compute the cross-entropy of the test data using your newly built, smoothed language model. Now tweak the smoothing parameters in the following way: add 10%, 20%, 30%, ..., 90%, 95% and 99% of the difference between the trigram smoothing parameter and 1.0 to its value, discounting at the same the remaining three parameters proportionally (remember, they have to sum up to 1.0!!). Then set the trigram smoothing parameter to 90%, 80%, 70%, ... 10%, 0% of its value, boosting proportionally the other three parameters, again to sum up to one. Compute the cross-entropy on the test data for all these 22 cases (original + 11 trigram parameter increase + 10 trigram smoothing parameter decrease). Tabulate, graph and explain what you have got. Also, try to explain the differences between the two languages based on similar statistics as in the Task No. 2, plus the \"coverage\" graph (defined as the percentage of words in the test data which have been seen in the training data)."
   ]
  },
  {
   "cell_type": "markdown",
   "metadata": {
    "deletable": true,
    "editable": true
   },
   "source": [
    "### Process Text\n",
    "\n",
    "The first step is to define functions to calculate probabilites of uniform, unigram, bigram, and trigram distributions with respect to a text. As before, this can be done by counting up the ngrams. The LanguageModel class contains all the necessary functionality to compute these probabilities."
   ]
  },
  {
   "cell_type": "code",
   "execution_count": 123,
   "metadata": {
    "collapsed": true
   },
   "outputs": [],
   "source": [
    "np.random.seed(200) # Set a seed so that this notebook has the same output each time"
   ]
  },
  {
   "cell_type": "code",
   "execution_count": 124,
   "metadata": {
    "collapsed": true,
    "deletable": true,
    "editable": true
   },
   "outputs": [],
   "source": [
    "class Dataset:\n",
    "    \"\"\"Splits a text into training, test, and heldout sets\"\"\"\n",
    "    \n",
    "    def __init__(self, words):\n",
    "        self.train, self.test, self.heldout = self.split_data(words)\n",
    "    \n",
    "    def split_data(self, words, test_size = 20000, heldout_size = 40000):\n",
    "        words = list(words)\n",
    "        test, remain = words[-test_size:], words[:-test_size]\n",
    "        heldout, train = remain[-heldout_size:], remain[:-heldout_size]\n",
    "        return train, test, heldout"
   ]
  },
  {
   "cell_type": "code",
   "execution_count": 125,
   "metadata": {
    "collapsed": true,
    "deletable": true,
    "editable": true
   },
   "outputs": [],
   "source": [
    "class LanguageModel:\n",
    "    \"\"\"Counts words and calculates probabilities (up to trigrams)\"\"\"\n",
    "    \n",
    "    def __init__(self, words):\n",
    "        # Prepend two tokens to avoid beginning-of-data problems\n",
    "        words = np.array(['<ss>', '<s>'] + list(words))\n",
    "        \n",
    "        # Unigrams\n",
    "        self.unigrams = words\n",
    "        self.unigram_set = list(set(self.unigrams))\n",
    "        self.unigram_count = len(self.unigram_set)\n",
    "        self.total_unigram_count = len(self.unigrams)\n",
    "        self.unigram_dist = c.Counter(self.unigrams)\n",
    "        \n",
    "        # Bigrams\n",
    "        self.bigrams = list(nltk.bigrams(words))\n",
    "        self.bigram_set = list(set(self.bigrams))\n",
    "        self.bigram_count = len(self.bigram_set)\n",
    "        self.total_bigram_count = len(self.bigrams)\n",
    "        self.bigram_dist = c.Counter(self.bigrams)\n",
    "        \n",
    "        # Trigrams\n",
    "        self.trigrams = list(nltk.trigrams(words))\n",
    "        self.trigram_set = list(set(self.trigrams))\n",
    "        self.trigram_count = len(self.trigram_set)\n",
    "        self.total_trigram_count = len(self.trigrams)\n",
    "        self.trigram_dist = c.Counter(self.trigrams)\n",
    "    \n",
    "    def count(ngrams):\n",
    "        ngram_set = list(set(ngrams))\n",
    "        ngram_count = len(ngram_set)\n",
    "        total_ngram_count = len(ngrams)\n",
    "        ngram_dist = c.Counter(ngrams)\n",
    "        return ngram_set, ngram_count, total_ngram_count, ngram_dist\n",
    "        \n",
    "    def p_uniform(self):\n",
    "        \"\"\"Calculates the probability of choosing a word uniformly at random\"\"\"\n",
    "        return self.div(1, self.unigram_count)\n",
    "    \n",
    "    def p_unigram(self, w):\n",
    "        \"\"\"Calculates the probability a unigram appears in the distribution\"\"\"\n",
    "        return self.div(self.unigram_dist[w], self.total_unigram_count)\n",
    "    \n",
    "    def p_bigram_cond(self, wprev, w):\n",
    "        \"\"\"Calculates the probability a word appears in the distribution given the previous word\"\"\"\n",
    "        # If neither ngram has been seen, use the uniform distribution for smoothing purposes\n",
    "        if ((self.bigram_dist[wprev, w], self.unigram_dist[wprev]) == (0,0)):\n",
    "            return self.p_uniform()\n",
    "        \n",
    "        return self.div(self.bigram_dist[wprev, w], self.unigram_dist[wprev])\n",
    "    \n",
    "    def p_trigram_cond(self, wprev2, wprev, w):\n",
    "        \"\"\"Calculates the probability a word appears in the distribution given the previous word\"\"\"\n",
    "        # If neither ngram has been seen, use the uniform distribution for smoothing purposes\n",
    "        if ((self.trigram_dist[wprev2, wprev, w], self.bigram_dist[wprev2, wprev]) == (0,0)):\n",
    "            return self.p_uniform()\n",
    "        \n",
    "        return self.div(self.trigram_dist[wprev2, wprev, w], self.bigram_dist[wprev2, wprev])\n",
    "    \n",
    "    def div(self, a, b):\n",
    "        \"\"\"Divides a and b safely\"\"\"\n",
    "        return a / b if b != 0 else 0"
   ]
  },
  {
   "cell_type": "markdown",
   "metadata": {
    "deletable": true,
    "editable": true
   },
   "source": [
    "### Expectation Maximization Algorithm\n",
    "\n",
    "Define functions to compute the EM algorithm on a language model using linear interpolation smoothing."
   ]
  },
  {
   "cell_type": "code",
   "execution_count": 126,
   "metadata": {
    "collapsed": true,
    "deletable": true,
    "editable": true
   },
   "outputs": [],
   "source": [
    "def init_lambdas(n=3):\n",
    "    \"\"\"Initializes a list of lambdas for an ngram language model with uniform probabilities\"\"\"\n",
    "    return [1 / (n + 1)] * (n + 1)"
   ]
  },
  {
   "cell_type": "code",
   "execution_count": 127,
   "metadata": {
    "collapsed": true,
    "deletable": true,
    "editable": true
   },
   "outputs": [],
   "source": [
    "def p_smoothed(lm, lambdas, wprev2, wprev, w):\n",
    "    \"\"\"Calculate the smoothed trigram probability using the weighted product of lambdas\"\"\"\n",
    "    return np.multiply(lambdas, [\n",
    "        lm.p_uniform(),\n",
    "        lm.p_unigram(w),\n",
    "        lm.p_bigram_cond(wprev, w),\n",
    "        lm.p_trigram_cond(wprev2, wprev, w)\n",
    "    ])"
   ]
  },
  {
   "cell_type": "code",
   "execution_count": 128,
   "metadata": {
    "collapsed": true,
    "deletable": true,
    "editable": true
   },
   "outputs": [],
   "source": [
    "def expected_counts(lm, lambdas, heldout):\n",
    "    \"\"\"Computes the expected counts by smoothing across all trigrams and summing them all together\"\"\"\n",
    "    smoothed_probs = (p_smoothed(lm, lambdas, *trigram) for trigram in heldout) # Multiply lambdas by probabilities\n",
    "    return np.sum(smoothed / np.sum(smoothed) for smoothed in smoothed_probs) # Element-wise sum"
   ]
  },
  {
   "cell_type": "code",
   "execution_count": 129,
   "metadata": {
    "collapsed": true,
    "deletable": true,
    "editable": true
   },
   "outputs": [],
   "source": [
    "def next_lambda(lm, lambdas, heldout):\n",
    "    \"\"\"Computes the next lambda from the current lambdas by normalizing the expected counts\"\"\"\n",
    "    expected = expected_counts(lm, lambdas, heldout)\n",
    "    return expected / np.sum(expected) # Normalize"
   ]
  },
  {
   "cell_type": "code",
   "execution_count": 130,
   "metadata": {
    "collapsed": true,
    "deletable": true,
    "editable": true
   },
   "outputs": [],
   "source": [
    "def em_algorithm(train, heldout, stop_tolerance=1e-4):\n",
    "    \"\"\"Computes the EM algorithm for linear interpolation smoothing\"\"\"\n",
    "    lambdas = init_lambdas(3)\n",
    "    \n",
    "    lm = LanguageModel(train)\n",
    "    heldout_trigrams = LanguageModel(heldout).trigrams\n",
    "    \n",
    "    print('Lambdas:')\n",
    "    \n",
    "    next_l = next_lambda(lm, lambdas, heldout_trigrams)\n",
    "    while not np.all([diff < stop_tolerance for diff in np.abs(lambdas - next_l)]):\n",
    "        print(next_l)\n",
    "        lambdas = next_l\n",
    "        next_l = next_lambda(lm, lambdas, heldout_trigrams)\n",
    "\n",
    "    lambdas = next_l\n",
    "    return lambdas"
   ]
  },
  {
   "cell_type": "code",
   "execution_count": 131,
   "metadata": {
    "collapsed": true,
    "deletable": true,
    "editable": true
   },
   "outputs": [],
   "source": [
    "def log_sum(lm, lambdas, trigram):\n",
    "    \"\"\"Computes the log base 2 of the sum of the smoothed \"\"\"\n",
    "    return np.log2(np.sum(p_smoothed(lm, lambdas, *trigram)))"
   ]
  },
  {
   "cell_type": "code",
   "execution_count": 132,
   "metadata": {
    "collapsed": true,
    "deletable": true,
    "editable": true
   },
   "outputs": [],
   "source": [
    "def cross_entropy(lm, lambdas, test_trigrams):\n",
    "    \"\"\"Computes the cross entropy of the language model with respect to the test set\"\"\"\n",
    "    return - np.sum(log_sum(lm, lambdas, trigram) for trigram in test_trigrams) / len(test_trigrams)"
   ]
  },
  {
   "cell_type": "code",
   "execution_count": 133,
   "metadata": {
    "collapsed": true,
    "deletable": true,
    "editable": true
   },
   "outputs": [],
   "source": [
    "def tweak_trigram_lambda(lambdas, amount):\n",
    "    \"\"\"Adds the given amount to the trigram lambda and removes \n",
    "    the same amount from the other lambdas (normalized)\"\"\"\n",
    "    first = np.multiply(lambdas[:-1], (1.0 - amount / np.sum(lambdas[:-1])))\n",
    "    last =  lambdas[-1] + amount\n",
    "    return np.append(first, last)"
   ]
  },
  {
   "cell_type": "markdown",
   "metadata": {},
   "source": [
    "### Discount and Boost the Trigram Probabilties\n",
    "\n",
    "Define a function to discount or boost the trigram probabilities in the language model by adding/removing probability mass to/from the trigram lambda $l_3$ smoothing parameter."
   ]
  },
  {
   "cell_type": "code",
   "execution_count": 134,
   "metadata": {
    "collapsed": true,
    "deletable": true,
    "editable": true
   },
   "outputs": [],
   "source": [
    "discount_ratios = [0.0, 0.1, 0.2, 0.3, 0.4, 0.5, 0.6, 0.7, 0.8, 0.9] # Discount trigram by this ratio\n",
    "boost_ratios = [0.0, 0.1, 0.2, 0.3, 0.4, 0.5, 0.6, 0.7, 0.8, 0.9, 0.95, 0.99] # Boost trigram by this ratio"
   ]
  },
  {
   "cell_type": "code",
   "execution_count": 158,
   "metadata": {
    "collapsed": false,
    "deletable": true,
    "editable": true
   },
   "outputs": [],
   "source": [
    "def boost_stats(lm, test, lambdas):\n",
    "    \"\"\"Calculates the cross entropy of the language model with \n",
    "    respect to several ratios which boost or discount the trigram \n",
    "    lambda parameter\"\"\"\n",
    "    boost = pd.DataFrame(columns=['boost_trigram_ratio', 'trigram_lambda', 'cross_entropy'])\n",
    "    \n",
    "    test_trigrams = LanguageModel(test).trigrams\n",
    "    \n",
    "    for p in discount_ratios:\n",
    "        lambdas_tweaked = tweak_trigram_lambda(lambdas, (p - 1) * lambdas[-1])\n",
    "        entropy = cross_entropy(lm, lambdas_tweaked, test_trigrams)\n",
    "        boost.loc[len(boost)] = [p - 1, lambdas_tweaked[-1], entropy]\n",
    "    \n",
    "    for p in boost_ratios:\n",
    "        lambdas_tweaked = tweak_trigram_lambda(lambdas, p * (1 - lambdas[-1]))\n",
    "        entropy = cross_entropy(lm, lambdas_tweaked, test_trigrams)\n",
    "        boost.loc[len(boost)] = [p, lambdas_tweaked[-1], entropy]\n",
    "    \n",
    "    return boost"
   ]
  },
  {
   "cell_type": "code",
   "execution_count": 162,
   "metadata": {
    "collapsed": true
   },
   "outputs": [],
   "source": [
    "def create_lambdas_plot(label, boost_stats):\n",
    "    \"\"\"Plots the boosted lambda stats\"\"\"\n",
    "    plt.plot(boost_stats.boost_trigram_ratio, boost_stats.cross_entropy, label='Boosted Cross Entropy')\n",
    "    plt.suptitle('Cross Entropy (' + label + ')')\n",
    "    plt.xlabel('Trigram Boost Ratio')\n",
    "    plt.ylabel('Cross Entropy')\n",
    "    _ = plt.legend()"
   ]
  },
  {
   "cell_type": "markdown",
   "metadata": {},
   "source": [
    "### Results (part 2): Calculate, Tabulate, and Graph Statistics\n",
    "\n",
    "Finally: calculate the language model of the English and Czech texts, compute the smoothed lambda parameters using the EM algorithm, and calculate the cross entropy. The cross entropy will also be calculated for discounting or boosting the trigram model by set ratios."
   ]
  },
  {
   "cell_type": "code",
   "execution_count": 150,
   "metadata": {
    "collapsed": true
   },
   "outputs": [],
   "source": [
    "en = Dataset(words_en)\n",
    "cz = Dataset(words_cz)"
   ]
  },
  {
   "cell_type": "code",
   "execution_count": 151,
   "metadata": {
    "collapsed": true
   },
   "outputs": [],
   "source": [
    "lm_en = LanguageModel(en.train)\n",
    "lm_cz = LanguageModel(cz.train)"
   ]
  },
  {
   "cell_type": "code",
   "execution_count": 152,
   "metadata": {
    "collapsed": false
   },
   "outputs": [
    {
     "name": "stdout",
     "output_type": "stream",
     "text": [
      "Lambdas:\n",
      "[ 0.1167227   0.25146042  0.39226722  0.23954967]\n",
      "[ 0.08476114  0.24901516  0.45003149  0.21619221]\n",
      "[ 0.07515902  0.25031709  0.47297039  0.20155351]\n",
      "[ 0.07187272  0.25195344  0.48276684  0.193407  ]\n",
      "[ 0.07068217  0.25301978  0.48732437  0.18897369]\n",
      "[ 0.0702484   0.25358385  0.48960044  0.18656732]\n",
      "[ 0.07009806  0.25384935  0.4907949   0.1852577 ]\n",
      "[ 0.07005358  0.25396265  0.4914418   0.18454197]\n",
      "[ 0.0700467   0.25400537  0.49179892  0.18414901]\n",
      "[ 0.07005135  0.25401801  0.49199835  0.18393229]\n",
      "[ 0.07005808  0.25401916  0.49211052  0.18381223]\n"
     ]
    }
   ],
   "source": [
    "# Here we can see the 4 lambdas converge (English)\n",
    "lambdas_en = em_algorithm(en.train, en.heldout)"
   ]
  },
  {
   "cell_type": "code",
   "execution_count": 153,
   "metadata": {
    "collapsed": false
   },
   "outputs": [
    {
     "name": "stdout",
     "output_type": "stream",
     "text": [
      "Lambdas:\n",
      "[ 0.1899329   0.35653922  0.25131758  0.2022103 ]\n",
      "[ 0.16412405  0.40071394  0.24863114  0.18653087]\n",
      "[ 0.15269193  0.41771789  0.24710633  0.18248385]\n",
      "[ 0.14722217  0.42425682  0.24627602  0.18224499]\n",
      "[ 0.14438273  0.42684192  0.24575405  0.1830213 ]\n",
      "[ 0.14279869  0.42791641  0.24539627  0.18388863]\n",
      "[ 0.14186393  0.42839581  0.24514624  0.18459402]\n",
      "[ 0.14128994  0.42862862  0.24497302  0.18510841]\n",
      "[ 0.14092816  0.42875178  0.24485474  0.18546532]\n",
      "[ 0.14069638  0.42882187  0.24477499  0.18570677]\n",
      "[ 0.1405464   0.42886398  0.24472172  0.1858679 ]\n",
      "[ 0.1404488   0.4288902   0.24468638  0.18597462]\n"
     ]
    }
   ],
   "source": [
    "# Here we can see the 4 lambdas converge (Czech)\n",
    "lambdas_cz = em_algorithm(cz.train, cz.heldout)"
   ]
  },
  {
   "cell_type": "code",
   "execution_count": 159,
   "metadata": {
    "collapsed": false,
    "deletable": true,
    "editable": true
   },
   "outputs": [],
   "source": [
    "boost_en = boost_stats(lm_en, en.test, lambdas_en)\n",
    "boost_cz = boost_stats(lm_cz, cz.test, lambdas_cz)"
   ]
  },
  {
   "cell_type": "markdown",
   "metadata": {},
   "source": [
    "#### English Cross Entropy\n",
    "\n",
    "The table below displays the cross entropy of the English text between the language model (as trained on the training set) and the test set. We see that the unmodified cross entropy is ~7.5, which increases as the trigram lambda is discounted or boosted."
   ]
  },
  {
   "cell_type": "code",
   "execution_count": 163,
   "metadata": {
    "collapsed": false
   },
   "outputs": [
    {
     "data": {
      "text/plain": [
       "7.4685015308409346"
      ]
     },
     "execution_count": 163,
     "metadata": {},
     "output_type": "execute_result"
    }
   ],
   "source": [
    "# Cross entropy without lambda modifications (English)\n",
    "boost_en[boost_en.boost_trigram_ratio == 0.0].cross_entropy.iloc[0]"
   ]
  },
  {
   "cell_type": "code",
   "execution_count": 164,
   "metadata": {
    "collapsed": false,
    "deletable": true,
    "editable": true
   },
   "outputs": [
    {
     "data": {
      "text/html": [
       "<div>\n",
       "<style>\n",
       "    .dataframe thead tr:only-child th {\n",
       "        text-align: right;\n",
       "    }\n",
       "\n",
       "    .dataframe thead th {\n",
       "        text-align: left;\n",
       "    }\n",
       "\n",
       "    .dataframe tbody tr th {\n",
       "        vertical-align: top;\n",
       "    }\n",
       "</style>\n",
       "<table border=\"1\" class=\"dataframe\">\n",
       "  <thead>\n",
       "    <tr style=\"text-align: right;\">\n",
       "      <th></th>\n",
       "      <th>boost_trigram_ratio</th>\n",
       "      <th>trigram_lambda</th>\n",
       "      <th>cross_entropy</th>\n",
       "    </tr>\n",
       "  </thead>\n",
       "  <tbody>\n",
       "    <tr>\n",
       "      <th>0</th>\n",
       "      <td>-1.00</td>\n",
       "      <td>0.000000</td>\n",
       "      <td>7.704275</td>\n",
       "    </tr>\n",
       "    <tr>\n",
       "      <th>1</th>\n",
       "      <td>-0.90</td>\n",
       "      <td>0.018375</td>\n",
       "      <td>7.617336</td>\n",
       "    </tr>\n",
       "    <tr>\n",
       "      <th>2</th>\n",
       "      <td>-0.80</td>\n",
       "      <td>0.036749</td>\n",
       "      <td>7.576532</td>\n",
       "    </tr>\n",
       "    <tr>\n",
       "      <th>3</th>\n",
       "      <td>-0.70</td>\n",
       "      <td>0.055124</td>\n",
       "      <td>7.547883</td>\n",
       "    </tr>\n",
       "    <tr>\n",
       "      <th>4</th>\n",
       "      <td>-0.60</td>\n",
       "      <td>0.073498</td>\n",
       "      <td>7.526211</td>\n",
       "    </tr>\n",
       "    <tr>\n",
       "      <th>5</th>\n",
       "      <td>-0.50</td>\n",
       "      <td>0.091873</td>\n",
       "      <td>7.509353</td>\n",
       "    </tr>\n",
       "    <tr>\n",
       "      <th>6</th>\n",
       "      <td>-0.40</td>\n",
       "      <td>0.110247</td>\n",
       "      <td>7.496144</td>\n",
       "    </tr>\n",
       "    <tr>\n",
       "      <th>7</th>\n",
       "      <td>-0.30</td>\n",
       "      <td>0.128622</td>\n",
       "      <td>7.485868</td>\n",
       "    </tr>\n",
       "    <tr>\n",
       "      <th>8</th>\n",
       "      <td>-0.20</td>\n",
       "      <td>0.146996</td>\n",
       "      <td>7.478045</td>\n",
       "    </tr>\n",
       "    <tr>\n",
       "      <th>9</th>\n",
       "      <td>-0.10</td>\n",
       "      <td>0.165371</td>\n",
       "      <td>7.472339</td>\n",
       "    </tr>\n",
       "    <tr>\n",
       "      <th>10</th>\n",
       "      <td>0.00</td>\n",
       "      <td>0.183745</td>\n",
       "      <td>7.468502</td>\n",
       "    </tr>\n",
       "    <tr>\n",
       "      <th>11</th>\n",
       "      <td>0.10</td>\n",
       "      <td>0.265371</td>\n",
       "      <td>7.470109</td>\n",
       "    </tr>\n",
       "    <tr>\n",
       "      <th>12</th>\n",
       "      <td>0.20</td>\n",
       "      <td>0.346996</td>\n",
       "      <td>7.497021</td>\n",
       "    </tr>\n",
       "    <tr>\n",
       "      <th>13</th>\n",
       "      <td>0.30</td>\n",
       "      <td>0.428622</td>\n",
       "      <td>7.546810</td>\n",
       "    </tr>\n",
       "    <tr>\n",
       "      <th>14</th>\n",
       "      <td>0.40</td>\n",
       "      <td>0.510247</td>\n",
       "      <td>7.620527</td>\n",
       "    </tr>\n",
       "    <tr>\n",
       "      <th>15</th>\n",
       "      <td>0.50</td>\n",
       "      <td>0.591873</td>\n",
       "      <td>7.722379</td>\n",
       "    </tr>\n",
       "    <tr>\n",
       "      <th>16</th>\n",
       "      <td>0.60</td>\n",
       "      <td>0.673498</td>\n",
       "      <td>7.861088</td>\n",
       "    </tr>\n",
       "    <tr>\n",
       "      <th>17</th>\n",
       "      <td>0.70</td>\n",
       "      <td>0.755124</td>\n",
       "      <td>8.054209</td>\n",
       "    </tr>\n",
       "    <tr>\n",
       "      <th>18</th>\n",
       "      <td>0.80</td>\n",
       "      <td>0.836749</td>\n",
       "      <td>8.341898</td>\n",
       "    </tr>\n",
       "    <tr>\n",
       "      <th>19</th>\n",
       "      <td>0.90</td>\n",
       "      <td>0.918375</td>\n",
       "      <td>8.851131</td>\n",
       "    </tr>\n",
       "    <tr>\n",
       "      <th>20</th>\n",
       "      <td>0.95</td>\n",
       "      <td>0.959187</td>\n",
       "      <td>9.362468</td>\n",
       "    </tr>\n",
       "    <tr>\n",
       "      <th>21</th>\n",
       "      <td>0.99</td>\n",
       "      <td>0.991837</td>\n",
       "      <td>10.501491</td>\n",
       "    </tr>\n",
       "  </tbody>\n",
       "</table>\n",
       "</div>"
      ],
      "text/plain": [
       "    boost_trigram_ratio  trigram_lambda  cross_entropy\n",
       "0                 -1.00        0.000000       7.704275\n",
       "1                 -0.90        0.018375       7.617336\n",
       "2                 -0.80        0.036749       7.576532\n",
       "3                 -0.70        0.055124       7.547883\n",
       "4                 -0.60        0.073498       7.526211\n",
       "5                 -0.50        0.091873       7.509353\n",
       "6                 -0.40        0.110247       7.496144\n",
       "7                 -0.30        0.128622       7.485868\n",
       "8                 -0.20        0.146996       7.478045\n",
       "9                 -0.10        0.165371       7.472339\n",
       "10                 0.00        0.183745       7.468502\n",
       "11                 0.10        0.265371       7.470109\n",
       "12                 0.20        0.346996       7.497021\n",
       "13                 0.30        0.428622       7.546810\n",
       "14                 0.40        0.510247       7.620527\n",
       "15                 0.50        0.591873       7.722379\n",
       "16                 0.60        0.673498       7.861088\n",
       "17                 0.70        0.755124       8.054209\n",
       "18                 0.80        0.836749       8.341898\n",
       "19                 0.90        0.918375       8.851131\n",
       "20                 0.95        0.959187       9.362468\n",
       "21                 0.99        0.991837      10.501491"
      ]
     },
     "execution_count": 164,
     "metadata": {},
     "output_type": "execute_result"
    }
   ],
   "source": [
    "# Cross entropy with lambda modifications (English)\n",
    "boost_en"
   ]
  },
  {
   "cell_type": "markdown",
   "metadata": {},
   "source": [
    "#### Czech Cross Entropy\n",
    "\n",
    "The table below displays the cross entropy of the Czech text between the language model (as trained on the training set) and the test set. We see that the unmodified cross entropy is ~10.2, which increases as the trigram lambda is discounted or boosted."
   ]
  },
  {
   "cell_type": "code",
   "execution_count": 165,
   "metadata": {
    "collapsed": false
   },
   "outputs": [
    {
     "data": {
      "text/plain": [
       "10.220892665234681"
      ]
     },
     "execution_count": 165,
     "metadata": {},
     "output_type": "execute_result"
    }
   ],
   "source": [
    "# Cross entropy without lambda modifications (Czech)\n",
    "boost_cz[boost_cz.boost_trigram_ratio == 0.0].cross_entropy.iloc[0]"
   ]
  },
  {
   "cell_type": "code",
   "execution_count": 166,
   "metadata": {
    "collapsed": false,
    "deletable": true,
    "editable": true
   },
   "outputs": [
    {
     "data": {
      "text/html": [
       "<div>\n",
       "<style>\n",
       "    .dataframe thead tr:only-child th {\n",
       "        text-align: right;\n",
       "    }\n",
       "\n",
       "    .dataframe thead th {\n",
       "        text-align: left;\n",
       "    }\n",
       "\n",
       "    .dataframe tbody tr th {\n",
       "        vertical-align: top;\n",
       "    }\n",
       "</style>\n",
       "<table border=\"1\" class=\"dataframe\">\n",
       "  <thead>\n",
       "    <tr style=\"text-align: right;\">\n",
       "      <th></th>\n",
       "      <th>boost_trigram_ratio</th>\n",
       "      <th>trigram_lambda</th>\n",
       "      <th>cross_entropy</th>\n",
       "    </tr>\n",
       "  </thead>\n",
       "  <tbody>\n",
       "    <tr>\n",
       "      <th>0</th>\n",
       "      <td>-1.00</td>\n",
       "      <td>0.000000</td>\n",
       "      <td>10.489513</td>\n",
       "    </tr>\n",
       "    <tr>\n",
       "      <th>1</th>\n",
       "      <td>-0.90</td>\n",
       "      <td>0.018605</td>\n",
       "      <td>10.368989</td>\n",
       "    </tr>\n",
       "    <tr>\n",
       "      <th>2</th>\n",
       "      <td>-0.80</td>\n",
       "      <td>0.037209</td>\n",
       "      <td>10.326035</td>\n",
       "    </tr>\n",
       "    <tr>\n",
       "      <th>3</th>\n",
       "      <td>-0.70</td>\n",
       "      <td>0.055814</td>\n",
       "      <td>10.296946</td>\n",
       "    </tr>\n",
       "    <tr>\n",
       "      <th>4</th>\n",
       "      <td>-0.60</td>\n",
       "      <td>0.074418</td>\n",
       "      <td>10.275387</td>\n",
       "    </tr>\n",
       "    <tr>\n",
       "      <th>5</th>\n",
       "      <td>-0.50</td>\n",
       "      <td>0.093023</td>\n",
       "      <td>10.258881</td>\n",
       "    </tr>\n",
       "    <tr>\n",
       "      <th>6</th>\n",
       "      <td>-0.40</td>\n",
       "      <td>0.111627</td>\n",
       "      <td>10.246145</td>\n",
       "    </tr>\n",
       "    <tr>\n",
       "      <th>7</th>\n",
       "      <td>-0.30</td>\n",
       "      <td>0.130232</td>\n",
       "      <td>10.236411</td>\n",
       "    </tr>\n",
       "    <tr>\n",
       "      <th>8</th>\n",
       "      <td>-0.20</td>\n",
       "      <td>0.148836</td>\n",
       "      <td>10.229174</td>\n",
       "    </tr>\n",
       "    <tr>\n",
       "      <th>9</th>\n",
       "      <td>-0.10</td>\n",
       "      <td>0.167441</td>\n",
       "      <td>10.224086</td>\n",
       "    </tr>\n",
       "    <tr>\n",
       "      <th>10</th>\n",
       "      <td>0.00</td>\n",
       "      <td>0.186045</td>\n",
       "      <td>10.220893</td>\n",
       "    </tr>\n",
       "    <tr>\n",
       "      <th>11</th>\n",
       "      <td>0.10</td>\n",
       "      <td>0.267441</td>\n",
       "      <td>10.225338</td>\n",
       "    </tr>\n",
       "    <tr>\n",
       "      <th>12</th>\n",
       "      <td>0.20</td>\n",
       "      <td>0.348836</td>\n",
       "      <td>10.254777</td>\n",
       "    </tr>\n",
       "    <tr>\n",
       "      <th>13</th>\n",
       "      <td>0.30</td>\n",
       "      <td>0.430232</td>\n",
       "      <td>10.306870</td>\n",
       "    </tr>\n",
       "    <tr>\n",
       "      <th>14</th>\n",
       "      <td>0.40</td>\n",
       "      <td>0.511627</td>\n",
       "      <td>10.382650</td>\n",
       "    </tr>\n",
       "    <tr>\n",
       "      <th>15</th>\n",
       "      <td>0.50</td>\n",
       "      <td>0.593023</td>\n",
       "      <td>10.486207</td>\n",
       "    </tr>\n",
       "    <tr>\n",
       "      <th>16</th>\n",
       "      <td>0.60</td>\n",
       "      <td>0.674418</td>\n",
       "      <td>10.626002</td>\n",
       "    </tr>\n",
       "    <tr>\n",
       "      <th>17</th>\n",
       "      <td>0.70</td>\n",
       "      <td>0.755814</td>\n",
       "      <td>10.818994</td>\n",
       "    </tr>\n",
       "    <tr>\n",
       "      <th>18</th>\n",
       "      <td>0.80</td>\n",
       "      <td>0.837209</td>\n",
       "      <td>11.103764</td>\n",
       "    </tr>\n",
       "    <tr>\n",
       "      <th>19</th>\n",
       "      <td>0.90</td>\n",
       "      <td>0.918605</td>\n",
       "      <td>11.601299</td>\n",
       "    </tr>\n",
       "    <tr>\n",
       "      <th>20</th>\n",
       "      <td>0.95</td>\n",
       "      <td>0.959302</td>\n",
       "      <td>12.093600</td>\n",
       "    </tr>\n",
       "    <tr>\n",
       "      <th>21</th>\n",
       "      <td>0.99</td>\n",
       "      <td>0.991860</td>\n",
       "      <td>13.165878</td>\n",
       "    </tr>\n",
       "  </tbody>\n",
       "</table>\n",
       "</div>"
      ],
      "text/plain": [
       "    boost_trigram_ratio  trigram_lambda  cross_entropy\n",
       "0                 -1.00        0.000000      10.489513\n",
       "1                 -0.90        0.018605      10.368989\n",
       "2                 -0.80        0.037209      10.326035\n",
       "3                 -0.70        0.055814      10.296946\n",
       "4                 -0.60        0.074418      10.275387\n",
       "5                 -0.50        0.093023      10.258881\n",
       "6                 -0.40        0.111627      10.246145\n",
       "7                 -0.30        0.130232      10.236411\n",
       "8                 -0.20        0.148836      10.229174\n",
       "9                 -0.10        0.167441      10.224086\n",
       "10                 0.00        0.186045      10.220893\n",
       "11                 0.10        0.267441      10.225338\n",
       "12                 0.20        0.348836      10.254777\n",
       "13                 0.30        0.430232      10.306870\n",
       "14                 0.40        0.511627      10.382650\n",
       "15                 0.50        0.593023      10.486207\n",
       "16                 0.60        0.674418      10.626002\n",
       "17                 0.70        0.755814      10.818994\n",
       "18                 0.80        0.837209      11.103764\n",
       "19                 0.90        0.918605      11.601299\n",
       "20                 0.95        0.959302      12.093600\n",
       "21                 0.99        0.991860      13.165878"
      ]
     },
     "execution_count": 166,
     "metadata": {},
     "output_type": "execute_result"
    }
   ],
   "source": [
    "# Cross entropy with lambda modifications (English)\n",
    "boost_cz"
   ]
  },
  {
   "cell_type": "markdown",
   "metadata": {},
   "source": [
    "#### English Plot\n",
    "The graph below plots the cross entropy of the English text as a function of the trigram boost ratio. Negative values indicate the amount the trigram parameter was discounted, while positive values indicate how much it was boosted."
   ]
  },
  {
   "cell_type": "code",
   "execution_count": 167,
   "metadata": {
    "collapsed": false,
    "deletable": true,
    "editable": true
   },
   "outputs": [
    {
     "data": {
      "image/png": "[encoded data removed]",
      "text/plain": [
       "<matplotlib.figure.Figure at 0x28e53a105f8>"
      ]
     },
     "metadata": {
      "image/png": {
       "height": 290,
       "width": 393
      }
     },
     "output_type": "display_data"
    }
   ],
   "source": [
    "create_lambdas_plot('English', boost_en)"
   ]
  },
  {
   "cell_type": "markdown",
   "metadata": {},
   "source": [
    "Cross entropy can be thought of intuitively as the average number of bits needed to predict an outcome from a probability distribution given we use another probability distribution to approximate it. If we calculate the cross entropy between our training data and test data as done in this experiment, then we will have a value which will tell us how close our approximation is to the true distribution. The lower the cross entropy, the better. \n",
    "\n",
    "The plot above indicates that modifying the trigram lambda parameter will only increase the cross entropy, and therefore worsen the language model's approximation with respect to the test distribution. This means that the trigram lambda is in a (local) minimum. This is as expected, as the EM algorithm is an optimization algorithm that (in this case) finds the optimal lambda weights for each ngram probability function.\n",
    "\n",
    "The final thing to note is that boosting the trigram lambda results in a much higher cross entropy than discounting it. This is because there are much fewer trigrams in the dataset, so the trigram model is much sparser than the unigram or bigram model. Thus, assigning more probability mass to the trigram model will weaken the entire model significantly. However, reducing the probability mass of the trigram model is also detrimental, as it has some useful information that can improve the language model (just not as much as the unigrams and bigrams)."
   ]
  },
  {
   "cell_type": "markdown",
   "metadata": {},
   "source": [
    "#### Czech Plot\n",
    "The graph below plots the cross entropy of the Czech text as a function of the trigram boost ratio. Negative values indicate the amount the trigram parameter was discounted, while positive values indicate how much it was boosted."
   ]
  },
  {
   "cell_type": "code",
   "execution_count": 111,
   "metadata": {
    "collapsed": false,
    "deletable": true,
    "editable": true
   },
   "outputs": [
    {
     "data": {
      "image/png": "[encoded data removed]",
      "text/plain": [
       "<matplotlib.figure.Figure at 0x28e5a12c3c8>"
      ]
     },
     "metadata": {
      "image/png": {
       "height": 290,
       "width": 393
      }
     },
     "output_type": "display_data"
    }
   ],
   "source": [
    "create_lambdas_plot('Czech', boost_cz)"
   ]
  },
  {
   "cell_type": "markdown",
   "metadata": {
    "collapsed": true,
    "deletable": true,
    "editable": true
   },
   "source": [
    "The Czech plot is very similar to the English plot. As in the English plot, the Czech plot indicates that the trigram lambda parameter is (locally) optimal, and that boosting the trigram lambda results in a much higher cross entropy than discounting it.\n",
    "\n",
    "The only difference is that the Czech language model has a cross entropy that is a few bits higher than English (10.2 vs. 7.5). This can be more easily seen from the last experiment, where it was brought to attention that Czech has a much larger vocabulary due to the many different word affixes that Czech has (declensions, conjugations, etc.). As no stemming or lemmatization was performed, the data will be much more sparse, especially for bigrams and trigrams. Therefore, to observe comparable cross entropy, much more data is needed for the Czech language model."
   ]
  },
  {
   "cell_type": "code",
   "execution_count": null,
   "metadata": {
    "collapsed": true
   },
   "outputs": [],
   "source": []
  }
 ],
 "metadata": {
  "kernelspec": {
   "display_name": "Python 3",
   "language": "python",
   "name": "python3"
  },
  "language_info": {
   "codemirror_mode": {
    "name": "ipython",
    "version": 3
   },
   "file_extension": ".py",
   "mimetype": "text/x-python",
   "name": "python",
   "nbconvert_exporter": "python",
   "pygments_lexer": "ipython3",
   "version": "3.6.2"
  }
 },
 "nbformat": 4,
 "nbformat_minor": 2
}
