{
 "cells": [
  {
   "cell_type": "markdown",
   "metadata": {},
   "source": [
    "# Assignment #1: PFL067 Statistical NLP\n",
    "\n",
    "## Exploring Entropy and Language Modeling\n",
    "\n",
    "### Author: Dan Kondratyuk\n",
    "---"
   ]
  },
  {
   "cell_type": "markdown",
   "metadata": {},
   "source": [
    "### 1. Entropy of a Text\n",
    "\n",
    "> In this experiment, you will determine the conditional entropy of the word distribution in a text given the previous word. To do this, you will first have to compute P(i,j), which is the probability that at any position in the text you will find the word i followed immediately by the word j, and P(j|i), which is the probability that if word i occurs in the text then word j will follow. Given these probabilities, the conditional entropy of the word distribution in a text given the previous word can then be computed as:\n",
    "\n",
    "> $$H(J|I) = -\\sum_{i \\in I, j \\in J} P(i,j) \\log_2 P(j|i)$$\n",
    "\n",
    "> The perplexity is then computed simply as\n",
    "\n",
    "> $$P_X(P(J|I)) = 2^{H(J|I)}$$\n",
    "\n",
    "> Compute this conditional entropy and perplexity for `TEXTEN1.txt`. This file has every word on a separate line. (Punctuation is considered a word, as in many other cases.) The i,j above will also span sentence boundaries, where i is the last word of one sentence and j is the first word of the following sentence (but obviously, there will be a fullstop at the end of most sentences).\n",
    "\n",
    "> Next, you will mess up the text and measure how this alters the conditional entropy. For every character in the text, mess it up with a likelihood of 10%. If a character is chosen to be messed up, map it into a randomly chosen character from the set of characters that appear in the text. Since there is some randomness to the outcome of the experiment, run the experiment 10 times, each time measuring the conditional entropy of the resulting text, and give the min, max, and average entropy from these experiments. Be sure to use srand to reset the random number generator seed each time you run it. Also, be sure each time you are messing up the original text, and not a previously messed up text. Do the same experiment for mess up likelihoods of 5%, 1%, .1%, .01%, and .001%.\n",
    "\n",
    "> Next, for every word in the text, mess it up with a likelihood of 10%. If a word is chosen to be messed up, map it into a randomly chosen word from the set of words that appear in the text. Again run the experiment 10 times, each time measuring the conditional entropy of the resulting text, and give the min, max, and average entropy from these experiments. Do the same experiment for mess up likelihoods of 5%, 1%, .1%, .01%, and .001%.\n",
    "\n",
    "> Now do exactly the same for the file `TEXTCZ1.txt`, which contains a similar amount of text in an unknown language (just FYI, that's Czech*)\n",
    "\n",
    "> Tabulate, graph and explain your results. Also try to explain the differences between the two languages. To substantiate your explanations, you might want to tabulate also the basic characteristics of the two texts, such as the word count, number of characters (total, per word), the frequency of the most frequent words, the number of words with frequency 1, etc."
   ]
  },
  {
   "cell_type": "markdown",
   "metadata": {},
   "source": [
    "### Process Text\n",
    "Define functions to calculate probabilites of bigrams/unigrams and conditional entropy of a text."
   ]
  },
  {
   "cell_type": "code",
   "execution_count": 1,
   "metadata": {
    "collapsed": true
   },
   "outputs": [],
   "source": [
    "%matplotlib inline\n",
    "%config InlineBackend.figure_format = 'retina'\n",
    "\n",
    "import nltk\n",
    "import matplotlib.pyplot as plt\n",
    "import pandas as pd\n",
    "import numpy as np\n",
    "import collections as c\n",
    "from collections import defaultdict\n",
    "import pickle"
   ]
  },
  {
   "cell_type": "code",
   "execution_count": 2,
   "metadata": {
    "collapsed": true
   },
   "outputs": [],
   "source": [
    "# Set a seed so that this notebook is repeatable\n",
    "np.random.seed(200)"
   ]
  },
  {
   "cell_type": "code",
   "execution_count": 3,
   "metadata": {
    "collapsed": true
   },
   "outputs": [],
   "source": [
    "english = './TEXTEN1.txt'\n",
    "czech = './TEXTCZ1.txt'"
   ]
  },
  {
   "cell_type": "code",
   "execution_count": 4,
   "metadata": {
    "collapsed": true
   },
   "outputs": [],
   "source": [
    "def open_text(filename):\n",
    "    \"\"\"Reads a text line by line, applies light preprocessing, and returns an array of words\"\"\"\n",
    "    with open(filename, encoding='iso-8859-2') as f:\n",
    "        content = f.readlines()\n",
    "    \n",
    "    preprocess = lambda word: word.strip()\n",
    "    \n",
    "    return np.array([preprocess(word) for word in content])"
   ]
  },
  {
   "cell_type": "code",
   "execution_count": 5,
   "metadata": {
    "collapsed": true
   },
   "outputs": [],
   "source": [
    "# Read the texts into memory\n",
    "words_en, words_cz = open_text(english), open_text(czech)"
   ]
  },
  {
   "cell_type": "code",
   "execution_count": 39,
   "metadata": {
    "collapsed": true
   },
   "outputs": [],
   "source": [
    "class BigramModel:\n",
    "    \"\"\"Counts up bigrams and calculates probabilities\"\"\"\n",
    "    \n",
    "    def __init__(self, words):\n",
    "        self.words = words\n",
    "        self.word_set = list(set(words))\n",
    "        self.word_count = len(self.word_set)\n",
    "        self.total_word_count = len(self.words)\n",
    "        self.unigram_dist = c.Counter(words)\n",
    "        \n",
    "        self.bigrams = list(nltk.bigrams(words))\n",
    "        self.bigram_set = list(set(self.bigrams))\n",
    "        self.bigram_count = len(self.bigram_set)\n",
    "        self.total_bigram_count = len(self.bigrams)\n",
    "        self.dist = c.Counter(self.bigrams)\n",
    "    \n",
    "    def p_bigram(self, wprev, w):\n",
    "        \"\"\"Calculates the probability a bigram appears in the distribution\"\"\"\n",
    "        return self.dist[(wprev, w)] / self.total_bigram_count\n",
    "\n",
    "    def p_bigram_cond(self, wprev, w):\n",
    "        \"\"\"Calculates the probability a word appears in the distribution given the previous word\"\"\"\n",
    "        return self.dist[(wprev, w)] / self.unigram_dist[wprev]\n",
    "    \n",
    "    def entropy_cond(self):\n",
    "        \"\"\"Calculates the conditional entropy from a list of bigrams\"\"\"\n",
    "        bigram_set = self.bigram_set\n",
    "        return - np.sum(self.p_bigram(*bigram) * \n",
    "                        np.log2(self.p_bigram_cond(*bigram)) \n",
    "                        for bigram in bigram_set)\n",
    "\n",
    "    def perplexity_cond(self, entropy=-1):\n",
    "        \"\"\"Calculates the conditional perplexity from the given conditional entropy\"\"\"\n",
    "        if (entropy < 0):\n",
    "            return 2 ** self.entropy_cond()\n",
    "        else:\n",
    "            return 2 ** entropy"
   ]
  },
  {
   "cell_type": "markdown",
   "metadata": {},
   "source": [
    "### Basic Text Statistics\n",
    "Here we can see basic text stats of each language's text."
   ]
  },
  {
   "cell_type": "code",
   "execution_count": 7,
   "metadata": {
    "collapsed": true
   },
   "outputs": [],
   "source": [
    "def text_stats(words):\n",
    "    \"\"\"Given a list of words, this calculates various statistical \n",
    "    properties like entropy, number of characters, etc\"\"\"\n",
    "    bigram_model = BigramModel(words)\n",
    "    \n",
    "    entropy = bigram_model.entropy_cond()\n",
    "    perplexity = bigram_model.perplexity_cond(entropy=entropy)\n",
    "    vocab_size = bigram_model.word_count\n",
    "    char_count = len([char for word in words for char in word])\n",
    "    chars_per_word = char_count / len(words)\n",
    "    words_freq_1 = sum(1 for key in bigram_model.unigram_dist if bigram_model.unigram_dist[key] == 1)\n",
    "    most_freq_words = bigram_model.unigram_dist.most_common()[:10]\n",
    "\n",
    "    return [entropy, perplexity, vocab_size, char_count, chars_per_word, words_freq_1, most_freq_words]"
   ]
  },
  {
   "cell_type": "code",
   "execution_count": 8,
   "metadata": {
    "collapsed": true
   },
   "outputs": [],
   "source": [
    "text_stats_cols = [\n",
    "    'entropy', 'perplexity', 'vocab_size', 'char_count', \n",
    "    'chars_per_word', 'words_freq_1', 'most_freq_words'\n",
    "]"
   ]
  },
  {
   "cell_type": "code",
   "execution_count": 9,
   "metadata": {
    "collapsed": true
   },
   "outputs": [],
   "source": [
    "def text_stats_lang(filename):\n",
    "    \"\"\"Calculates statistics from a file and arranges them in a nicely formatted table\"\"\"\n",
    "    return pd.DataFrame([text_stats(open_text(filename))], columns=text_stats_cols)"
   ]
  },
  {
   "cell_type": "code",
   "execution_count": 40,
   "metadata": {},
   "outputs": [
    {
     "data": {
      "text/html": [
       "<div>\n",
       "<style>\n",
       "    .dataframe thead tr:only-child th {\n",
       "        text-align: right;\n",
       "    }\n",
       "\n",
       "    .dataframe thead th {\n",
       "        text-align: left;\n",
       "    }\n",
       "\n",
       "    .dataframe tbody tr th {\n",
       "        vertical-align: top;\n",
       "    }\n",
       "</style>\n",
       "<table border=\"1\" class=\"dataframe\">\n",
       "  <thead>\n",
       "    <tr style=\"text-align: right;\">\n",
       "      <th></th>\n",
       "      <th>entropy</th>\n",
       "      <th>perplexity</th>\n",
       "      <th>vocab_size</th>\n",
       "      <th>char_count</th>\n",
       "      <th>chars_per_word</th>\n",
       "      <th>words_freq_1</th>\n",
       "      <th>most_freq_words</th>\n",
       "    </tr>\n",
       "  </thead>\n",
       "  <tbody>\n",
       "    <tr>\n",
       "      <th>0</th>\n",
       "      <td>5.287452</td>\n",
       "      <td>39.055456</td>\n",
       "      <td>9607</td>\n",
       "      <td>972917</td>\n",
       "      <td>4.400388</td>\n",
       "      <td>3811</td>\n",
       "      <td>[(,, 14721), (the, 13299), (of, 9368), (., 564...</td>\n",
       "    </tr>\n",
       "  </tbody>\n",
       "</table>\n",
       "</div>"
      ],
      "text/plain": [
       "    entropy  perplexity  vocab_size  char_count  chars_per_word  words_freq_1  \\\n",
       "0  5.287452   39.055456        9607      972917        4.400388          3811   \n",
       "\n",
       "                                     most_freq_words  \n",
       "0  [(,, 14721), (the, 13299), (of, 9368), (., 564...  "
      ]
     },
     "execution_count": 40,
     "metadata": {},
     "output_type": "execute_result"
    }
   ],
   "source": [
    "# English stats\n",
    "text_stats_lang(english)"
   ]
  },
  {
   "cell_type": "code",
   "execution_count": 41,
   "metadata": {},
   "outputs": [
    {
     "data": {
      "text/html": [
       "<div>\n",
       "<style>\n",
       "    .dataframe thead tr:only-child th {\n",
       "        text-align: right;\n",
       "    }\n",
       "\n",
       "    .dataframe thead th {\n",
       "        text-align: left;\n",
       "    }\n",
       "\n",
       "    .dataframe tbody tr th {\n",
       "        vertical-align: top;\n",
       "    }\n",
       "</style>\n",
       "<table border=\"1\" class=\"dataframe\">\n",
       "  <thead>\n",
       "    <tr style=\"text-align: right;\">\n",
       "      <th></th>\n",
       "      <th>entropy</th>\n",
       "      <th>perplexity</th>\n",
       "      <th>vocab_size</th>\n",
       "      <th>char_count</th>\n",
       "      <th>chars_per_word</th>\n",
       "      <th>words_freq_1</th>\n",
       "      <th>most_freq_words</th>\n",
       "    </tr>\n",
       "  </thead>\n",
       "  <tbody>\n",
       "    <tr>\n",
       "      <th>0</th>\n",
       "      <td>4.747848</td>\n",
       "      <td>26.868573</td>\n",
       "      <td>42826</td>\n",
       "      <td>1030631</td>\n",
       "      <td>4.633882</td>\n",
       "      <td>26315</td>\n",
       "      <td>[(,, 13788), (., 12931), (a, 4486), (v, 4043),...</td>\n",
       "    </tr>\n",
       "  </tbody>\n",
       "</table>\n",
       "</div>"
      ],
      "text/plain": [
       "    entropy  perplexity  vocab_size  char_count  chars_per_word  words_freq_1  \\\n",
       "0  4.747848   26.868573       42826     1030631        4.633882         26315   \n",
       "\n",
       "                                     most_freq_words  \n",
       "0  [(,, 13788), (., 12931), (a, 4486), (v, 4043),...  "
      ]
     },
     "execution_count": 41,
     "metadata": {},
     "output_type": "execute_result"
    }
   ],
   "source": [
    "# Czech stats\n",
    "text_stats_lang(czech)"
   ]
  },
  {
   "cell_type": "markdown",
   "metadata": {},
   "source": [
    "### Perturb Texts\n",
    "Define functions to process each text and perturb characters/words with a given probability."
   ]
  },
  {
   "cell_type": "code",
   "execution_count": 12,
   "metadata": {
    "collapsed": true
   },
   "outputs": [],
   "source": [
    "def charset(words):\n",
    "    \"\"\"Given a list of words, calculates the set of characters over all words\"\"\"\n",
    "    return np.array(list(set(char for word in words for char in word)))"
   ]
  },
  {
   "cell_type": "code",
   "execution_count": 13,
   "metadata": {},
   "outputs": [
    {
     "data": {
      "text/plain": [
       "array(['z', 'k', '9', 'D', 'P', '.', 'Z', 'M', '/', 'r'],\n",
       "      dtype='<U1')"
      ]
     },
     "execution_count": 13,
     "metadata": {},
     "output_type": "execute_result"
    }
   ],
   "source": [
    "charset(words_en)[:10]"
   ]
  },
  {
   "cell_type": "code",
   "execution_count": 14,
   "metadata": {
    "collapsed": true
   },
   "outputs": [],
   "source": [
    "def vocab_list(words):\n",
    "    \"\"\"Given a list of words, calculates the set of words (vocabulary)\"\"\"\n",
    "    return np.array(list(set(word for word in words)))"
   ]
  },
  {
   "cell_type": "code",
   "execution_count": 15,
   "metadata": {},
   "outputs": [
    {
     "data": {
      "text/plain": [
       "array(['eject', 'illustrative', 'lasts', 'must', 'functional', 'fields',\n",
       "       'Comorin', 'tracts', 'Areas', '14/100'],\n",
       "      dtype='<U18')"
      ]
     },
     "execution_count": 15,
     "metadata": {},
     "output_type": "execute_result"
    }
   ],
   "source": [
    "vocab_list(words_en)[:10]"
   ]
  },
  {
   "cell_type": "code",
   "execution_count": 16,
   "metadata": {
    "collapsed": true
   },
   "outputs": [],
   "source": [
    "def perturb_char(word, charset, prob=0.1):\n",
    "    \"\"\"Changes each character with given probability to a random character in the charset\"\"\"\n",
    "    return ''.join(np.random.choice(charset) if np.random.random() < prob else char for char in word)"
   ]
  },
  {
   "cell_type": "code",
   "execution_count": 17,
   "metadata": {
    "collapsed": true
   },
   "outputs": [],
   "source": [
    "def perturb_word(word, vocabulary, prob=0.1):\n",
    "    \"\"\"Changes a word with given probability to a random word in the vocabulary\"\"\"\n",
    "    return np.random.choice(vocabulary) if np.random.random() < prob else word"
   ]
  },
  {
   "cell_type": "code",
   "execution_count": 18,
   "metadata": {
    "collapsed": true
   },
   "outputs": [],
   "source": [
    "def perturb(words, charset, vocabulary, prob=0.1):\n",
    "    \"\"\"Perturbs a list of words with given probability on the character level and word level\"\"\"\n",
    "    pchars = list(map(lambda word: perturb_char(word, charset, prob=prob), words))\n",
    "    pwords = list(map(lambda word: perturb_word(word, vocabulary, prob=prob), words))\n",
    "    \n",
    "    return pchars, pwords"
   ]
  },
  {
   "cell_type": "code",
   "execution_count": 19,
   "metadata": {
    "collapsed": true
   },
   "outputs": [],
   "source": [
    "def perturb_text(words, seed=200):\n",
    "    \"\"\"Perturbs a list of words for a predefined list of probabilties\"\"\"\n",
    "    np.random.seed(seed)\n",
    "    \n",
    "    chars, vocab = charset(words), vocab_list(words)\n",
    "    text_chars, text_words = pd.DataFrame(), pd.DataFrame()\n",
    "    \n",
    "    for prob in [0, 0.00001, 0.0001, 0.001, 0.01, 0.05, 0.1]:\n",
    "        text_chars[str(prob)], text_words[str(prob)] = perturb(words, chars, vocab, prob=prob)\n",
    "    \n",
    "    return text_chars, text_words"
   ]
  },
  {
   "cell_type": "code",
   "execution_count": 20,
   "metadata": {
    "collapsed": true
   },
   "outputs": [],
   "source": [
    "perturbed_en = perturb_text(words_en)\n",
    "perturbed_cz = perturb_text(words_cz)"
   ]
  },
  {
   "cell_type": "code",
   "execution_count": 21,
   "metadata": {
    "collapsed": true
   },
   "outputs": [],
   "source": [
    "with open('perturbed_en.pkl', 'wb') as f:\n",
    "    pickle.dump(perturbed_en, f)\n",
    "with open('perturbed_cz.pkl', 'wb') as f:\n",
    "    pickle.dump(perturbed_cz, f)"
   ]
  },
  {
   "cell_type": "code",
   "execution_count": 22,
   "metadata": {
    "collapsed": true
   },
   "outputs": [],
   "source": [
    "with open('perturbed_en.pkl', 'rb') as f:\n",
    "    perturbed_en = pickle.load(f)\n",
    "with open('perturbed_cz.pkl', 'rb') as f:\n",
    "    perturbed_cz = pickle.load(f)"
   ]
  },
  {
   "cell_type": "markdown",
   "metadata": {},
   "source": [
    "### Entropy Statistics\n",
    "Calculate, tabulate, and plot the entropy (and other statistics) with respect to the type and amount of perturbation made to a text."
   ]
  },
  {
   "cell_type": "code",
   "execution_count": 23,
   "metadata": {
    "collapsed": true
   },
   "outputs": [],
   "source": [
    "def all_stats(perturbed_text):\n",
    "    \"\"\"Calculates statistics for all perturbed probabilities of a given text \n",
    "    and outputs them to two tables (character and word level respectively)\"\"\"\n",
    "    text_chars, text_words = perturbed_text\n",
    "    \n",
    "    col_names = ['prob'] + text_stats_cols\n",
    "    \n",
    "    char_stats = pd.DataFrame(columns=col_names)\n",
    "    word_stats = pd.DataFrame(columns=col_names)\n",
    "    \n",
    "    # Iterate through all perturbation probabilities and gather statistics\n",
    "    for col in text_chars:\n",
    "        stat = text_stats(list(text_chars[col]))\n",
    "        char_stats.loc[len(char_stats)] = [float(col)] + stat\n",
    "    \n",
    "    for col in text_words:\n",
    "        stat = text_stats(list(text_words[col]))\n",
    "        word_stats.loc[len(word_stats)] = [float(col)] + stat\n",
    "    \n",
    "    return char_stats, word_stats"
   ]
  },
  {
   "cell_type": "code",
   "execution_count": 24,
   "metadata": {
    "collapsed": true
   },
   "outputs": [],
   "source": [
    "char_stats_en, word_stats_en = all_stats(perturbed_en)\n",
    "char_stats_cz, word_stats_cz = all_stats(perturbed_cz)"
   ]
  },
  {
   "cell_type": "code",
   "execution_count": 25,
   "metadata": {},
   "outputs": [
    {
     "data": {
      "text/html": [
       "<div>\n",
       "<style>\n",
       "    .dataframe thead tr:only-child th {\n",
       "        text-align: right;\n",
       "    }\n",
       "\n",
       "    .dataframe thead th {\n",
       "        text-align: left;\n",
       "    }\n",
       "\n",
       "    .dataframe tbody tr th {\n",
       "        vertical-align: top;\n",
       "    }\n",
       "</style>\n",
       "<table border=\"1\" class=\"dataframe\">\n",
       "  <thead>\n",
       "    <tr style=\"text-align: right;\">\n",
       "      <th></th>\n",
       "      <th>prob</th>\n",
       "      <th>entropy</th>\n",
       "      <th>perplexity</th>\n",
       "      <th>vocab_size</th>\n",
       "      <th>char_count</th>\n",
       "      <th>chars_per_word</th>\n",
       "      <th>words_freq_1</th>\n",
       "      <th>most_freq_words</th>\n",
       "    </tr>\n",
       "  </thead>\n",
       "  <tbody>\n",
       "    <tr>\n",
       "      <th>0</th>\n",
       "      <td>0.00000</td>\n",
       "      <td>5.287446</td>\n",
       "      <td>39.055279</td>\n",
       "      <td>9607</td>\n",
       "      <td>972917</td>\n",
       "      <td>4.400388</td>\n",
       "      <td>3811</td>\n",
       "      <td>[(,, 14721), (the, 13299), (of, 9368), (., 564...</td>\n",
       "    </tr>\n",
       "    <tr>\n",
       "      <th>1</th>\n",
       "      <td>0.00001</td>\n",
       "      <td>5.287433</td>\n",
       "      <td>39.054928</td>\n",
       "      <td>9615</td>\n",
       "      <td>972917</td>\n",
       "      <td>4.400388</td>\n",
       "      <td>3820</td>\n",
       "      <td>[(,, 14721), (the, 13299), (of, 9368), (., 564...</td>\n",
       "    </tr>\n",
       "    <tr>\n",
       "      <th>2</th>\n",
       "      <td>0.00010</td>\n",
       "      <td>5.287336</td>\n",
       "      <td>39.052303</td>\n",
       "      <td>9705</td>\n",
       "      <td>972917</td>\n",
       "      <td>4.400388</td>\n",
       "      <td>3910</td>\n",
       "      <td>[(,, 14721), (the, 13294), (of, 9363), (., 564...</td>\n",
       "    </tr>\n",
       "    <tr>\n",
       "      <th>3</th>\n",
       "      <td>0.00100</td>\n",
       "      <td>5.282789</td>\n",
       "      <td>38.929426</td>\n",
       "      <td>10476</td>\n",
       "      <td>972917</td>\n",
       "      <td>4.400388</td>\n",
       "      <td>4685</td>\n",
       "      <td>[(,, 14707), (the, 13266), (of, 9346), (., 563...</td>\n",
       "    </tr>\n",
       "    <tr>\n",
       "      <th>4</th>\n",
       "      <td>0.01000</td>\n",
       "      <td>5.248685</td>\n",
       "      <td>38.019966</td>\n",
       "      <td>17745</td>\n",
       "      <td>972917</td>\n",
       "      <td>4.400388</td>\n",
       "      <td>11655</td>\n",
       "      <td>[(,, 14583), (the, 12910), (of, 9157), (., 558...</td>\n",
       "    </tr>\n",
       "    <tr>\n",
       "      <th>5</th>\n",
       "      <td>0.05000</td>\n",
       "      <td>5.053650</td>\n",
       "      <td>33.212408</td>\n",
       "      <td>42431</td>\n",
       "      <td>972917</td>\n",
       "      <td>4.400388</td>\n",
       "      <td>34678</td>\n",
       "      <td>[(,, 14002), (the, 11443), (of, 8507), (., 538...</td>\n",
       "    </tr>\n",
       "    <tr>\n",
       "      <th>6</th>\n",
       "      <td>0.10000</td>\n",
       "      <td>4.726880</td>\n",
       "      <td>26.480891</td>\n",
       "      <td>64494</td>\n",
       "      <td>972917</td>\n",
       "      <td>4.400388</td>\n",
       "      <td>55256</td>\n",
       "      <td>[(,, 13247), (the, 9768), (of, 7611), (., 5148...</td>\n",
       "    </tr>\n",
       "  </tbody>\n",
       "</table>\n",
       "</div>"
      ],
      "text/plain": [
       "      prob   entropy  perplexity vocab_size char_count  chars_per_word  \\\n",
       "0  0.00000  5.287446   39.055279       9607     972917        4.400388   \n",
       "1  0.00001  5.287433   39.054928       9615     972917        4.400388   \n",
       "2  0.00010  5.287336   39.052303       9705     972917        4.400388   \n",
       "3  0.00100  5.282789   38.929426      10476     972917        4.400388   \n",
       "4  0.01000  5.248685   38.019966      17745     972917        4.400388   \n",
       "5  0.05000  5.053650   33.212408      42431     972917        4.400388   \n",
       "6  0.10000  4.726880   26.480891      64494     972917        4.400388   \n",
       "\n",
       "  words_freq_1                                    most_freq_words  \n",
       "0         3811  [(,, 14721), (the, 13299), (of, 9368), (., 564...  \n",
       "1         3820  [(,, 14721), (the, 13299), (of, 9368), (., 564...  \n",
       "2         3910  [(,, 14721), (the, 13294), (of, 9363), (., 564...  \n",
       "3         4685  [(,, 14707), (the, 13266), (of, 9346), (., 563...  \n",
       "4        11655  [(,, 14583), (the, 12910), (of, 9157), (., 558...  \n",
       "5        34678  [(,, 14002), (the, 11443), (of, 8507), (., 538...  \n",
       "6        55256  [(,, 13247), (the, 9768), (of, 7611), (., 5148...  "
      ]
     },
     "execution_count": 25,
     "metadata": {},
     "output_type": "execute_result"
    }
   ],
   "source": [
    "char_stats_en"
   ]
  },
  {
   "cell_type": "code",
   "execution_count": 26,
   "metadata": {
    "scrolled": true
   },
   "outputs": [
    {
     "data": {
      "text/html": [
       "<div>\n",
       "<style>\n",
       "    .dataframe thead tr:only-child th {\n",
       "        text-align: right;\n",
       "    }\n",
       "\n",
       "    .dataframe thead th {\n",
       "        text-align: left;\n",
       "    }\n",
       "\n",
       "    .dataframe tbody tr th {\n",
       "        vertical-align: top;\n",
       "    }\n",
       "</style>\n",
       "<table border=\"1\" class=\"dataframe\">\n",
       "  <thead>\n",
       "    <tr style=\"text-align: right;\">\n",
       "      <th></th>\n",
       "      <th>prob</th>\n",
       "      <th>entropy</th>\n",
       "      <th>perplexity</th>\n",
       "      <th>vocab_size</th>\n",
       "      <th>char_count</th>\n",
       "      <th>chars_per_word</th>\n",
       "      <th>words_freq_1</th>\n",
       "      <th>most_freq_words</th>\n",
       "    </tr>\n",
       "  </thead>\n",
       "  <tbody>\n",
       "    <tr>\n",
       "      <th>0</th>\n",
       "      <td>0.00000</td>\n",
       "      <td>5.287446</td>\n",
       "      <td>39.055279</td>\n",
       "      <td>9607</td>\n",
       "      <td>972917</td>\n",
       "      <td>4.400388</td>\n",
       "      <td>3811</td>\n",
       "      <td>[(,, 14721), (the, 13299), (of, 9368), (., 564...</td>\n",
       "    </tr>\n",
       "    <tr>\n",
       "      <th>1</th>\n",
       "      <td>0.00001</td>\n",
       "      <td>5.287427</td>\n",
       "      <td>39.054778</td>\n",
       "      <td>9607</td>\n",
       "      <td>972925</td>\n",
       "      <td>4.400424</td>\n",
       "      <td>3810</td>\n",
       "      <td>[(,, 14721), (the, 13299), (of, 9368), (., 564...</td>\n",
       "    </tr>\n",
       "    <tr>\n",
       "      <th>2</th>\n",
       "      <td>0.00010</td>\n",
       "      <td>5.287585</td>\n",
       "      <td>39.059049</td>\n",
       "      <td>9607</td>\n",
       "      <td>972996</td>\n",
       "      <td>4.400745</td>\n",
       "      <td>3803</td>\n",
       "      <td>[(,, 14719), (the, 13296), (of, 9367), (., 564...</td>\n",
       "    </tr>\n",
       "    <tr>\n",
       "      <th>3</th>\n",
       "      <td>0.00100</td>\n",
       "      <td>5.289543</td>\n",
       "      <td>39.112088</td>\n",
       "      <td>9602</td>\n",
       "      <td>973713</td>\n",
       "      <td>4.403988</td>\n",
       "      <td>3704</td>\n",
       "      <td>[(,, 14703), (the, 13280), (of, 9361), (., 563...</td>\n",
       "    </tr>\n",
       "    <tr>\n",
       "      <th>4</th>\n",
       "      <td>0.01000</td>\n",
       "      <td>5.306670</td>\n",
       "      <td>39.579187</td>\n",
       "      <td>9580</td>\n",
       "      <td>979889</td>\n",
       "      <td>4.431922</td>\n",
       "      <td>3037</td>\n",
       "      <td>[(,, 14588), (the, 13152), (of, 9265), (., 558...</td>\n",
       "    </tr>\n",
       "    <tr>\n",
       "      <th>5</th>\n",
       "      <td>0.05000</td>\n",
       "      <td>5.377000</td>\n",
       "      <td>41.556446</td>\n",
       "      <td>9553</td>\n",
       "      <td>1006264</td>\n",
       "      <td>4.551213</td>\n",
       "      <td>1333</td>\n",
       "      <td>[(,, 14012), (the, 12680), (of, 8906), (., 538...</td>\n",
       "    </tr>\n",
       "    <tr>\n",
       "      <th>6</th>\n",
       "      <td>0.10000</td>\n",
       "      <td>5.460007</td>\n",
       "      <td>44.017561</td>\n",
       "      <td>9555</td>\n",
       "      <td>1039668</td>\n",
       "      <td>4.702295</td>\n",
       "      <td>464</td>\n",
       "      <td>[(,, 13212), (the, 11985), (of, 8443), (., 506...</td>\n",
       "    </tr>\n",
       "  </tbody>\n",
       "</table>\n",
       "</div>"
      ],
      "text/plain": [
       "      prob   entropy  perplexity vocab_size char_count  chars_per_word  \\\n",
       "0  0.00000  5.287446   39.055279       9607     972917        4.400388   \n",
       "1  0.00001  5.287427   39.054778       9607     972925        4.400424   \n",
       "2  0.00010  5.287585   39.059049       9607     972996        4.400745   \n",
       "3  0.00100  5.289543   39.112088       9602     973713        4.403988   \n",
       "4  0.01000  5.306670   39.579187       9580     979889        4.431922   \n",
       "5  0.05000  5.377000   41.556446       9553    1006264        4.551213   \n",
       "6  0.10000  5.460007   44.017561       9555    1039668        4.702295   \n",
       "\n",
       "  words_freq_1                                    most_freq_words  \n",
       "0         3811  [(,, 14721), (the, 13299), (of, 9368), (., 564...  \n",
       "1         3810  [(,, 14721), (the, 13299), (of, 9368), (., 564...  \n",
       "2         3803  [(,, 14719), (the, 13296), (of, 9367), (., 564...  \n",
       "3         3704  [(,, 14703), (the, 13280), (of, 9361), (., 563...  \n",
       "4         3037  [(,, 14588), (the, 13152), (of, 9265), (., 558...  \n",
       "5         1333  [(,, 14012), (the, 12680), (of, 8906), (., 538...  \n",
       "6          464  [(,, 13212), (the, 11985), (of, 8443), (., 506...  "
      ]
     },
     "execution_count": 26,
     "metadata": {},
     "output_type": "execute_result"
    }
   ],
   "source": [
    "word_stats_en"
   ]
  },
  {
   "cell_type": "code",
   "execution_count": 27,
   "metadata": {},
   "outputs": [
    {
     "data": {
      "text/html": [
       "<div>\n",
       "<style>\n",
       "    .dataframe thead tr:only-child th {\n",
       "        text-align: right;\n",
       "    }\n",
       "\n",
       "    .dataframe thead th {\n",
       "        text-align: left;\n",
       "    }\n",
       "\n",
       "    .dataframe tbody tr th {\n",
       "        vertical-align: top;\n",
       "    }\n",
       "</style>\n",
       "<table border=\"1\" class=\"dataframe\">\n",
       "  <thead>\n",
       "    <tr style=\"text-align: right;\">\n",
       "      <th></th>\n",
       "      <th>prob</th>\n",
       "      <th>entropy</th>\n",
       "      <th>perplexity</th>\n",
       "      <th>vocab_size</th>\n",
       "      <th>char_count</th>\n",
       "      <th>chars_per_word</th>\n",
       "      <th>words_freq_1</th>\n",
       "      <th>most_freq_words</th>\n",
       "    </tr>\n",
       "  </thead>\n",
       "  <tbody>\n",
       "    <tr>\n",
       "      <th>0</th>\n",
       "      <td>0.00000</td>\n",
       "      <td>4.747843</td>\n",
       "      <td>26.868489</td>\n",
       "      <td>42826</td>\n",
       "      <td>1030631</td>\n",
       "      <td>4.633882</td>\n",
       "      <td>26315</td>\n",
       "      <td>[(,, 13788), (., 12931), (a, 4486), (v, 4043),...</td>\n",
       "    </tr>\n",
       "    <tr>\n",
       "      <th>1</th>\n",
       "      <td>0.00001</td>\n",
       "      <td>4.747746</td>\n",
       "      <td>26.866670</td>\n",
       "      <td>42834</td>\n",
       "      <td>1030631</td>\n",
       "      <td>4.633882</td>\n",
       "      <td>26323</td>\n",
       "      <td>[(,, 13788), (., 12930), (a, 4486), (v, 4043),...</td>\n",
       "    </tr>\n",
       "    <tr>\n",
       "      <th>2</th>\n",
       "      <td>0.00010</td>\n",
       "      <td>4.747002</td>\n",
       "      <td>26.852834</td>\n",
       "      <td>42903</td>\n",
       "      <td>1030631</td>\n",
       "      <td>4.633882</td>\n",
       "      <td>26403</td>\n",
       "      <td>[(,, 13786), (., 12931), (a, 4486), (v, 4043),...</td>\n",
       "    </tr>\n",
       "    <tr>\n",
       "      <th>3</th>\n",
       "      <td>0.00100</td>\n",
       "      <td>4.737878</td>\n",
       "      <td>26.683544</td>\n",
       "      <td>43598</td>\n",
       "      <td>1030631</td>\n",
       "      <td>4.633882</td>\n",
       "      <td>27162</td>\n",
       "      <td>[(,, 13770), (., 12918), (a, 4478), (v, 4040),...</td>\n",
       "    </tr>\n",
       "    <tr>\n",
       "      <th>4</th>\n",
       "      <td>0.01000</td>\n",
       "      <td>4.656983</td>\n",
       "      <td>25.228500</td>\n",
       "      <td>50048</td>\n",
       "      <td>1030631</td>\n",
       "      <td>4.633882</td>\n",
       "      <td>34387</td>\n",
       "      <td>[(,, 13657), (., 12809), (a, 4446), (v, 4011),...</td>\n",
       "    </tr>\n",
       "    <tr>\n",
       "      <th>5</th>\n",
       "      <td>0.05000</td>\n",
       "      <td>4.337139</td>\n",
       "      <td>20.211990</td>\n",
       "      <td>73406</td>\n",
       "      <td>1030631</td>\n",
       "      <td>4.633882</td>\n",
       "      <td>60499</td>\n",
       "      <td>[(,, 13110), (., 12311), (a, 4277), (v, 3882),...</td>\n",
       "    </tr>\n",
       "    <tr>\n",
       "      <th>6</th>\n",
       "      <td>0.10000</td>\n",
       "      <td>4.001854</td>\n",
       "      <td>16.020572</td>\n",
       "      <td>94684</td>\n",
       "      <td>1030631</td>\n",
       "      <td>4.633882</td>\n",
       "      <td>84347</td>\n",
       "      <td>[(,, 12496), (., 11702), (a, 4060), (v, 3706),...</td>\n",
       "    </tr>\n",
       "  </tbody>\n",
       "</table>\n",
       "</div>"
      ],
      "text/plain": [
       "      prob   entropy  perplexity vocab_size char_count  chars_per_word  \\\n",
       "0  0.00000  4.747843   26.868489      42826    1030631        4.633882   \n",
       "1  0.00001  4.747746   26.866670      42834    1030631        4.633882   \n",
       "2  0.00010  4.747002   26.852834      42903    1030631        4.633882   \n",
       "3  0.00100  4.737878   26.683544      43598    1030631        4.633882   \n",
       "4  0.01000  4.656983   25.228500      50048    1030631        4.633882   \n",
       "5  0.05000  4.337139   20.211990      73406    1030631        4.633882   \n",
       "6  0.10000  4.001854   16.020572      94684    1030631        4.633882   \n",
       "\n",
       "  words_freq_1                                    most_freq_words  \n",
       "0        26315  [(,, 13788), (., 12931), (a, 4486), (v, 4043),...  \n",
       "1        26323  [(,, 13788), (., 12930), (a, 4486), (v, 4043),...  \n",
       "2        26403  [(,, 13786), (., 12931), (a, 4486), (v, 4043),...  \n",
       "3        27162  [(,, 13770), (., 12918), (a, 4478), (v, 4040),...  \n",
       "4        34387  [(,, 13657), (., 12809), (a, 4446), (v, 4011),...  \n",
       "5        60499  [(,, 13110), (., 12311), (a, 4277), (v, 3882),...  \n",
       "6        84347  [(,, 12496), (., 11702), (a, 4060), (v, 3706),...  "
      ]
     },
     "execution_count": 27,
     "metadata": {},
     "output_type": "execute_result"
    }
   ],
   "source": [
    "char_stats_cz"
   ]
  },
  {
   "cell_type": "code",
   "execution_count": 28,
   "metadata": {},
   "outputs": [
    {
     "data": {
      "text/html": [
       "<div>\n",
       "<style>\n",
       "    .dataframe thead tr:only-child th {\n",
       "        text-align: right;\n",
       "    }\n",
       "\n",
       "    .dataframe thead th {\n",
       "        text-align: left;\n",
       "    }\n",
       "\n",
       "    .dataframe tbody tr th {\n",
       "        vertical-align: top;\n",
       "    }\n",
       "</style>\n",
       "<table border=\"1\" class=\"dataframe\">\n",
       "  <thead>\n",
       "    <tr style=\"text-align: right;\">\n",
       "      <th></th>\n",
       "      <th>prob</th>\n",
       "      <th>entropy</th>\n",
       "      <th>perplexity</th>\n",
       "      <th>vocab_size</th>\n",
       "      <th>char_count</th>\n",
       "      <th>chars_per_word</th>\n",
       "      <th>words_freq_1</th>\n",
       "      <th>most_freq_words</th>\n",
       "    </tr>\n",
       "  </thead>\n",
       "  <tbody>\n",
       "    <tr>\n",
       "      <th>0</th>\n",
       "      <td>0.00000</td>\n",
       "      <td>4.747843</td>\n",
       "      <td>26.868489</td>\n",
       "      <td>42826</td>\n",
       "      <td>1030631</td>\n",
       "      <td>4.633882</td>\n",
       "      <td>26315</td>\n",
       "      <td>[(,, 13788), (., 12931), (a, 4486), (v, 4043),...</td>\n",
       "    </tr>\n",
       "    <tr>\n",
       "      <th>1</th>\n",
       "      <td>0.00001</td>\n",
       "      <td>4.747839</td>\n",
       "      <td>26.868401</td>\n",
       "      <td>42825</td>\n",
       "      <td>1030643</td>\n",
       "      <td>4.633936</td>\n",
       "      <td>26314</td>\n",
       "      <td>[(,, 13787), (., 12930), (a, 4486), (v, 4043),...</td>\n",
       "    </tr>\n",
       "    <tr>\n",
       "      <th>2</th>\n",
       "      <td>0.00010</td>\n",
       "      <td>4.747918</td>\n",
       "      <td>26.869876</td>\n",
       "      <td>42824</td>\n",
       "      <td>1030669</td>\n",
       "      <td>4.634053</td>\n",
       "      <td>26306</td>\n",
       "      <td>[(,, 13788), (., 12930), (a, 4486), (v, 4043),...</td>\n",
       "    </tr>\n",
       "    <tr>\n",
       "      <th>3</th>\n",
       "      <td>0.00100</td>\n",
       "      <td>4.747460</td>\n",
       "      <td>26.861357</td>\n",
       "      <td>42797</td>\n",
       "      <td>1031340</td>\n",
       "      <td>4.637070</td>\n",
       "      <td>26153</td>\n",
       "      <td>[(,, 13777), (., 12921), (a, 4484), (v, 4037),...</td>\n",
       "    </tr>\n",
       "    <tr>\n",
       "      <th>4</th>\n",
       "      <td>0.01000</td>\n",
       "      <td>4.737731</td>\n",
       "      <td>26.680816</td>\n",
       "      <td>42581</td>\n",
       "      <td>1038072</td>\n",
       "      <td>4.667338</td>\n",
       "      <td>24850</td>\n",
       "      <td>[(,, 13623), (., 12792), (a, 4439), (v, 3991),...</td>\n",
       "    </tr>\n",
       "    <tr>\n",
       "      <th>5</th>\n",
       "      <td>0.05000</td>\n",
       "      <td>4.699430</td>\n",
       "      <td>25.981813</td>\n",
       "      <td>41811</td>\n",
       "      <td>1065283</td>\n",
       "      <td>4.789683</td>\n",
       "      <td>20082</td>\n",
       "      <td>[(,, 13090), (., 12297), (a, 4258), (v, 3829),...</td>\n",
       "    </tr>\n",
       "    <tr>\n",
       "      <th>6</th>\n",
       "      <td>0.10000</td>\n",
       "      <td>4.638166</td>\n",
       "      <td>24.901594</td>\n",
       "      <td>41165</td>\n",
       "      <td>1100207</td>\n",
       "      <td>4.946707</td>\n",
       "      <td>15688</td>\n",
       "      <td>[(,, 12473), (., 11634), (a, 4027), (v, 3653),...</td>\n",
       "    </tr>\n",
       "  </tbody>\n",
       "</table>\n",
       "</div>"
      ],
      "text/plain": [
       "      prob   entropy  perplexity vocab_size char_count  chars_per_word  \\\n",
       "0  0.00000  4.747843   26.868489      42826    1030631        4.633882   \n",
       "1  0.00001  4.747839   26.868401      42825    1030643        4.633936   \n",
       "2  0.00010  4.747918   26.869876      42824    1030669        4.634053   \n",
       "3  0.00100  4.747460   26.861357      42797    1031340        4.637070   \n",
       "4  0.01000  4.737731   26.680816      42581    1038072        4.667338   \n",
       "5  0.05000  4.699430   25.981813      41811    1065283        4.789683   \n",
       "6  0.10000  4.638166   24.901594      41165    1100207        4.946707   \n",
       "\n",
       "  words_freq_1                                    most_freq_words  \n",
       "0        26315  [(,, 13788), (., 12931), (a, 4486), (v, 4043),...  \n",
       "1        26314  [(,, 13787), (., 12930), (a, 4486), (v, 4043),...  \n",
       "2        26306  [(,, 13788), (., 12930), (a, 4486), (v, 4043),...  \n",
       "3        26153  [(,, 13777), (., 12921), (a, 4484), (v, 4037),...  \n",
       "4        24850  [(,, 13623), (., 12792), (a, 4439), (v, 3991),...  \n",
       "5        20082  [(,, 13090), (., 12297), (a, 4258), (v, 3829),...  \n",
       "6        15688  [(,, 12473), (., 11634), (a, 4027), (v, 3653),...  "
      ]
     },
     "execution_count": 28,
     "metadata": {},
     "output_type": "execute_result"
    }
   ],
   "source": [
    "word_stats_cz"
   ]
  },
  {
   "cell_type": "code",
   "execution_count": 29,
   "metadata": {
    "collapsed": true
   },
   "outputs": [],
   "source": [
    "# Configure Plots\n",
    "plt.rcParams['lines.linewidth'] = 3"
   ]
  },
  {
   "cell_type": "code",
   "execution_count": 30,
   "metadata": {
    "collapsed": true
   },
   "outputs": [],
   "source": [
    "def create_plot(label, word_stats, char_stats):\n",
    "    plt.plot(word_stats.prob, word_stats.entropy, label='Word Entropy')\n",
    "    plt.plot(char_stats.prob, char_stats.entropy, label='Character Entropy')\n",
    "    plt.suptitle('Entropy (' + label + ')')\n",
    "    plt.xlabel('Probability')\n",
    "    plt.ylabel('Entropy')\n",
    "    _ = plt.legend()"
   ]
  },
  {
   "cell_type": "code",
   "execution_count": 31,
   "metadata": {},
   "outputs": [
    {
     "data": {
      "image/png": "[encoded data removed]",
      "text/plain": [
       "<matplotlib.figure.Figure at 0x7fe197bab8d0>"
      ]
     },
     "metadata": {
      "image/png": {
       "height": 290,
       "width": 387
      }
     },
     "output_type": "display_data"
    }
   ],
   "source": [
    "# English\n",
    "create_plot('English', word_stats_en, char_stats_en)"
   ]
  },
  {
   "cell_type": "code",
   "execution_count": 32,
   "metadata": {},
   "outputs": [
    {
     "data": {
      "image/png": "[encoded data removed]",
      "text/plain": [
       "<matplotlib.figure.Figure at 0x7fe1b5aac048>"
      ]
     },
     "metadata": {
      "image/png": {
       "height": 290,
       "width": 387
      }
     },
     "output_type": "display_data"
    }
   ],
   "source": [
    "### Czech\n",
    "create_plot('Czech', word_stats_cz, char_stats_cz)"
   ]
  },
  {
   "cell_type": "markdown",
   "metadata": {
    "collapsed": true
   },
   "source": [
    "> Now assume two languages, $L_1$ and $L_2$ do not share any vocabulary items, and that the conditional entropy as described above of a text $T_1$ in language $L_1$ is $E$ and that the conditional entropy of a text $T_2$ in language $L_2$ is also $E$. Now make a new text by appending $T_2$ to the end of $T_1$. Will the conditional entropy of this new text be greater than, equal to, or less than $E$? Explain. [This is a paper-and-pencil exercise of course!]"
   ]
  },
  {
   "cell_type": "markdown",
   "metadata": {},
   "source": [
    "Conditional entropy $H(Y|X)$ is the amount of information needed to determine the outcome of $Y$ given that the outcome $X$ is known. Since the texts are disjoint, the amount of information needed to find a word given the previous word will not increase between them (no bigrams are shared), except in one special case.\n",
    "\n",
    "Let $T_3 = T_1 \\oplus T_2$ be the concatenation of the two texts. Note that $T_3$ has a newly formed bigram on the boundary of $T_1$ and $T_2$. Let $(t_1, t_2)$ be such a bigram. Then there is a nonzero term in the conditional entropy sum, increasing $E$ by \n",
    "\n",
    "$$- p(t_1,t_2) \\log_2 p(t_2|t_1) = - \\frac{1}{|T_3|} \\log_2 \\frac{1}{c(t_1)} = \\frac{\\log_2 c(t_1)}{|T_1| + |T_2|}$$\n",
    "\n",
    "where $c(t)$ is the number of times word $t$ appears in its text and $|T|$ is the length of $T$. In short, $E$ will increase by a small amount. If we let $|T_2| = 1$ and $c(t_1) = |T_1|$, this cannot be more than $max\\{\\frac{\\log_2 n}{n}\\} = \\frac{1}{2}$ bits of information. The larger $E$ is, the more insignificant these terms will be and so the new conditional entropy will approach $E$.\n",
    "\n",
    "---\n",
    "\n",
    "<!-- Denote $H_C(T)$ to be the conditional entropy of a text $T$ and $|T|$ to be the length of $T$. Then\n",
    "\n",
    "$$H_C(T) = - \\sum_{i,j} p(w_i,w_j) \\log_2 p(w_j|w_i) = - \\sum_{i,j} \\frac{c(w_i,w_j)}{|T|} \\log_2 \\frac{c(w_i,w_j)}{c(w_i)}$$\n",
    "\n",
    "where $c(w_1,\\dots,w_n)$ counts the frequency of an $n$-gram in $T$.\n",
    "\n",
    "Let $T_3 = T_1 \\oplus T_2$ be the concatenation of the two texts. Then $H_C(T_1) = H_C(T_2) = E$, and\n",
    "\n",
    "$$H_C(T_3) = - \\frac{1}{|T_1 + T_2|} \\sum_{i,j} c(w_i,w_j) \\log_2 \\frac{c(w_i,w_j)}{c(w_i)}$$\n",
    "\n",
    "If $T_1$, $T_2$ are nonempty, then $E$ must decrease, as $$. \n",
    "\n",
    "--- -->\n",
    "\n",
    "\n"
   ]
  },
  {
   "cell_type": "markdown",
   "metadata": {},
   "source": [
    "### 2. Cross-Entropy and Language Modeling\n",
    "\n",
    "> This task will show you the importance of smoothing for language modeling, and in certain detail it lets you feel its effects.\n",
    "\n",
    "> First, you will have to prepare data: take the same texts as in the previous task, i.e. `TEXTEN1.txt` and `TEXTCZ1.txt`\n",
    "\n",
    "> Prepare 3 datasets out of each: strip off the last 20,000 words and call them the Test Data, then take off the last 40,000 words from what remains, and call them the Heldout Data, and call the remaining data the Training Data.\n",
    "\n",
    "> Here comes the coding: extract word counts from the training data so that you are ready to compute unigram-, bigram- and trigram-based probabilities from them; compute also the uniform probability based on the vocabulary size. Remember (T being the text size, and V the vocabulary size, i.e. the number of types - different word forms found in the training text):\n",
    "\n",
    "> $p_0(w_i) = 1 / V $\n",
    "\n",
    "> $p_1(w_i) = c_1(w_i) / T$\n",
    "\n",
    "> $p_2(w_i|w_{i-1}) = c_2(w_{i-1},w_i) / c_1(w_{i-1})$\n",
    "\n",
    "> $p_3(w_i|w_{i-2},w_{i-1}) = c_3(w_{i-2},w_{i-1},w_i) / c_2(w_{i-2},w_{i-1})$\n",
    "\n",
    "> Be careful; remember how to handle correctly the beginning and end of the training data with respect to bigram and trigram counts.\n",
    "\n",
    "> Now compute the four smoothing parameters (i.e. \"coefficients\", \"weights\", \"lambdas\", \"interpolation parameters\" or whatever, for the trigram, bigram, unigram and uniform distributions) from the heldout data using the EM algorithm. [Then do the same using the training data again: what smoothing coefficients have you got? After answering this question, throw them away!] Remember, the smoothed model has the following form:\n",
    "\n",
    "> $p_s(w_i|w_{i-2},w_{i-1}) = l_0p_0(w_i)+ l_1p_1(w_i)+ l_2p_2(w_i|w_{i-1}) + l_3p_3(w_i|w_{i-2},w_{i-1})$,\n",
    "\n",
    "> where\n",
    "\n",
    "> $$l_0 + l_1 + l_2 + l_3 = 1$$\n",
    "\n",
    "> And finally, compute the cross-entropy of the test data using your newly built, smoothed language model. Now tweak the smoothing parameters in the following way: add 10%, 20%, 30%, ..., 90%, 95% and 99% of the difference between the trigram smoothing parameter and 1.0 to its value, discounting at the same the remaining three parameters proportionally (remember, they have to sum up to 1.0!!). Then set the trigram smoothing parameter to 90%, 80%, 70%, ... 10%, 0% of its value, boosting proportionally the other three parameters, again to sum up to one. Compute the cross-entropy on the test data for all these 22 cases (original + 11 trigram parameter increase + 10 trigram smoothing parameter decrease). Tabulate, graph and explain what you have got. Also, try to explain the differences between the two languages based on similar statistics as in the Task No. 2, plus the \"coverage\" graph (defined as the percentage of words in the test data which have been seen in the training data)."
   ]
  },
  {
   "cell_type": "markdown",
   "metadata": {},
   "source": [
    "### Process Text"
   ]
  },
  {
   "cell_type": "code",
   "execution_count": 71,
   "metadata": {
    "collapsed": true
   },
   "outputs": [],
   "source": [
    "class Dataset:\n",
    "    \"\"\"Splits a text into training, test, and heldout sets\"\"\"\n",
    "    \n",
    "    def __init__(self, words):\n",
    "        self.train, self.test, self.heldout = split_data(words)\n",
    "    \n",
    "    def split_data(words, test_size = 20000, heldout_size = 40000):\n",
    "        test, remain = words[-test_size:], words[:-test_size]\n",
    "        heldout, train = remain[-heldout_size:], remain[:-heldout_size]\n",
    "        return [train, test, heldout]"
   ]
  },
  {
   "cell_type": "code",
   "execution_count": 72,
   "metadata": {},
   "outputs": [],
   "source": [
    "en = Dataset(words_en)\n",
    "cz = Dataset(words_cz)"
   ]
  },
  {
   "cell_type": "code",
   "execution_count": 129,
   "metadata": {},
   "outputs": [],
   "source": [
    "class LanguageModel:\n",
    "    \"\"\"Counts words and calculates probabilities (up to trigrams)\"\"\"\n",
    "    \n",
    "    def __init__(self, words):\n",
    "        # Prepend two tokens to avoid beginning-of-data problems\n",
    "        words = np.array(['<ss>', '<s>'] + list(words))\n",
    "        \n",
    "        # Unigrams\n",
    "        self.unigrams = words\n",
    "        self.unigram_set = list(set(self.unigrams))\n",
    "        self.unigram_count = len(self.unigram_set)\n",
    "        self.total_unigram_count = len(self.unigrams)\n",
    "        self.unigram_dist = c.Counter(self.unigrams)\n",
    "        \n",
    "        # Bigrams\n",
    "        self.bigrams = list(nltk.bigrams(words))\n",
    "        self.bigram_set = list(set(self.bigrams))\n",
    "        self.bigram_count = len(self.bigram_set)\n",
    "        self.total_bigram_count = len(self.bigrams)\n",
    "        self.bigram_dist = c.Counter(self.bigrams)\n",
    "        \n",
    "        # Trigrams\n",
    "        self.trigrams = list(nltk.trigrams(words))\n",
    "        self.trigram_set = list(set(self.trigrams))\n",
    "        self.trigram_count = len(self.trigram_set)\n",
    "        self.total_trigram_count = len(self.trigrams)\n",
    "        self.trigram_dist = c.Counter(self.trigrams)\n",
    "    \n",
    "    def count(ngrams):\n",
    "        ngram_set = list(set(ngrams))\n",
    "        ngram_count = len(ngram_set)\n",
    "        total_ngram_count = len(ngrams)\n",
    "        ngram_dist = c.Counter(ngrams)\n",
    "        return ngram_set, ngram_count, total_ngram_count, ngram_dist\n",
    "        \n",
    "    def p_uniform(self):\n",
    "        \"\"\"Calculates the probability of choosing a word uniformly at random\"\"\"\n",
    "        return self.div(1, self.unigram_count)\n",
    "    \n",
    "    def p_unigram(self, w):\n",
    "        \"\"\"Calculates the probability a unigram appears in the distribution\"\"\"\n",
    "        return self.div(self.unigram_dist[w], self.total_unigram_count)\n",
    "    \n",
    "    def p_bigram_cond(self, wprev, w):\n",
    "        \"\"\"Calculates the probability a word appears in the distribution given the previous word\"\"\"\n",
    "        # If neither ngram has been seen, use the uniform distribution for smoothing purposes\n",
    "        if ((self.bigram_dist[wprev, w], self.unigram_dist[wprev]) == (0,0)):\n",
    "            return self.p_uniform()\n",
    "        \n",
    "        return self.div(self.bigram_dist[wprev, w], self.unigram_dist[wprev])\n",
    "    \n",
    "    def p_trigram_cond(self, wprev2, wprev, w):\n",
    "        \"\"\"Calculates the probability a word appears in the distribution given the previous word\"\"\"\n",
    "        # If neither ngram has been seen, use the uniform distribution for smoothing purposes\n",
    "        if ((self.trigram_dist[wprev2, wprev, w], self.bigram_dist[wprev2, wprev]) == (0,0)):\n",
    "            return self.p_uniform()\n",
    "        \n",
    "        return self.div(self.trigram_dist[wprev2, wprev, w], self.bigram_dist[wprev2, wprev])\n",
    "    \n",
    "    def div(self, a, b):\n",
    "        \"\"\"Divides a and b safely\"\"\"\n",
    "        return a / b if b != 0 else 0"
   ]
  },
  {
   "cell_type": "code",
   "execution_count": 140,
   "metadata": {},
   "outputs": [],
   "source": [
    "lm_en = LanguageModel(en.train)\n",
    "lm_cz = LanguageModel(cz.train)"
   ]
  },
  {
   "cell_type": "markdown",
   "metadata": {},
   "source": [
    "### Expectation Maximization\n",
    "Computes the EM algorithm on a language model using linear interpolation smoothing"
   ]
  },
  {
   "cell_type": "code",
   "execution_count": 146,
   "metadata": {
    "collapsed": true
   },
   "outputs": [],
   "source": [
    "def init_lambdas(n=3):\n",
    "    \"\"\"Initializes a list of lambdas for an ngram language model\"\"\"\n",
    "    return [1 / (n + 1)] * (n + 1)"
   ]
  },
  {
   "cell_type": "code",
   "execution_count": 147,
   "metadata": {},
   "outputs": [],
   "source": [
    "lambdas = init_lambdas(3)"
   ]
  },
  {
   "cell_type": "code",
   "execution_count": 165,
   "metadata": {
    "collapsed": true
   },
   "outputs": [],
   "source": [
    "def p_smoothed(lm, lambdas, wprev2, wprev, w):\n",
    "    \"\"\"Calculate the smoothed trigram probability using the weighted product of lambdas\"\"\"\n",
    "    return np.multiply(lambdas, [\n",
    "        lm.p_uniform(),\n",
    "        lm.p_unigram(w),\n",
    "        lm.p_bigram_cond(wprev, w),\n",
    "        lm.p_trigram_cond(wprev2, wprev, w)\n",
    "    ])"
   ]
  },
  {
   "cell_type": "code",
   "execution_count": 186,
   "metadata": {},
   "outputs": [],
   "source": [
    "def expected_counts(lm, lambdas, heldout):\n",
    "    smoothed_probs = (p_smoothed(lm, lambdas, *trigram) for trigram in heldout) # Multiply lambdas by probabilities\n",
    "    return np.sum(smoothed / np.sum(smoothed) for smoothed in smoothed_probs) # Element-wise sum"
   ]
  },
  {
   "cell_type": "code",
   "execution_count": 187,
   "metadata": {},
   "outputs": [
    {
     "data": {
      "text/plain": [
       "array([  3.09482545e-05,   8.84543762e-05,   6.81341719e-04,\n",
       "         7.74393392e-04])"
      ]
     },
     "execution_count": 187,
     "metadata": {},
     "output_type": "execute_result"
    }
   ],
   "source": [
    "p_smoothed(lm_en, lambdas, 'of', 'the', 'water')"
   ]
  },
  {
   "cell_type": "code",
   "execution_count": 188,
   "metadata": {},
   "outputs": [
    {
     "data": {
      "text/plain": [
       "array([  4668.908053  ,  10058.41669311,  15690.68861601,   9581.98663788])"
      ]
     },
     "execution_count": 188,
     "metadata": {},
     "output_type": "execute_result"
    }
   ],
   "source": [
    "heldout_en = LanguageModel(en.heldout).trigrams\n",
    "expected_counts(lm_en, lambdas, heldout_en)"
   ]
  },
  {
   "cell_type": "code",
   "execution_count": null,
   "metadata": {
    "collapsed": true
   },
   "outputs": [],
   "source": []
  }
 ],
 "metadata": {
  "kernelspec": {
   "display_name": "Python 3",
   "language": "python",
   "name": "python3"
  },
  "language_info": {
   "codemirror_mode": {
    "name": "ipython",
    "version": 3
   },
   "file_extension": ".py",
   "mimetype": "text/x-python",
   "name": "python",
   "nbconvert_exporter": "python",
   "pygments_lexer": "ipython3",
   "version": "3.6.1"
  }
 },
 "nbformat": 4,
 "nbformat_minor": 2
}
