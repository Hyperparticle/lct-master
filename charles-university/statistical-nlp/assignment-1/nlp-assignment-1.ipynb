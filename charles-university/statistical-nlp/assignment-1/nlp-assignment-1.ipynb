{
 "cells": [
  {
   "cell_type": "markdown",
   "metadata": {
    "deletable": true,
    "editable": true
   },
   "source": [
    "# Assignment #1: PFL067 Statistical NLP\n",
    "\n",
    "## Exploring Entropy and Language Modeling\n",
    "\n",
    "---"
   ]
  },
  {
   "cell_type": "markdown",
   "metadata": {
    "deletable": true,
    "editable": true
   },
   "source": [
    "### 1. Entropy of a Text\n",
    "\n",
    "In this experiment, you will determine the conditional entropy of the word distribution in a text given the previous word. To do this, you will first have to compute P(i,j), which is the probability that at any position in the text you will find the word i followed immediately by the word j, and P(j|i), which is the probability that if word i occurs in the text then word j will follow. Given these probabilities, the conditional entropy of the word distribution in a text given the previous word can then be computed as:\n",
    "\n",
    "$$H(J|I) = -\\sum_{i \\in I, j \\in J} P(i,j) \\log_2 P(j|i)$$\n",
    "\n",
    "The perplexity is then computed simply as\n",
    "\n",
    "$$P_X(P(J|I)) = 2^{H(J|I)}$$\n",
    "\n",
    "Compute this conditional entropy and perplexity for `TEXTEN1.txt`. This file has every word on a separate line. (Punctuation is considered a word, as in many other cases.) The i,j above will also span sentence boundaries, where i is the last word of one sentence and j is the first word of the following sentence (but obviously, there will be a fullstop at the end of most sentences).\n",
    "\n",
    "Next, you will mess up the text and measure how this alters the conditional entropy. For every character in the text, mess it up with a likelihood of 10%. If a character is chosen to be messed up, map it into a randomly chosen character from the set of characters that appear in the text. Since there is some randomness to the outcome of the experiment, run the experiment 10 times, each time measuring the conditional entropy of the resulting text, and give the min, max, and average entropy from these experiments. Be sure to use srand to reset the random number generator seed each time you run it. Also, be sure each time you are messing up the original text, and not a previously messed up text. Do the same experiment for mess up likelihoods of 5%, 1%, .1%, .01%, and .001%.\n",
    "\n",
    "Next, for every word in the text, mess it up with a likelihood of 10%. If a word is chosen to be messed up, map it into a randomly chosen word from the set of words that appear in the text. Again run the experiment 10 times, each time measuring the conditional entropy of the resulting text, and give the min, max, and average entropy from these experiments. Do the same experiment for mess up likelihoods of 5%, 1%, .1%, .01%, and .001%.\n",
    "\n",
    "Now do exactly the same for the file `TEXTCZ1.txt`, which contains a similar amount of text in an unknown language (just FYI, that's Czech*)\n",
    "\n",
    "Tabulate, graph and explain your results. Also try to explain the differences between the two languages. To substantiate your explanations, you might want to tabulate also the basic characteristics of the two texts, such as the word count, number of characters (total, per word), the frequency of the most frequent words, the number of words with frequency 1, etc.\n",
    "\n",
    "---"
   ]
  },
  {
   "cell_type": "code",
   "execution_count": 323,
   "metadata": {
    "collapsed": false,
    "deletable": true,
    "editable": true
   },
   "outputs": [],
   "source": [
    "%matplotlib inline\n",
    "%config InlineBackend.figure_format = 'retina'\n",
    "\n",
    "import nltk\n",
    "import matplotlib.pyplot as plt\n",
    "import pandas as pd\n",
    "import numpy as np\n",
    "import collections as c\n",
    "from collections import defaultdict\n",
    "import pickle"
   ]
  },
  {
   "cell_type": "code",
   "execution_count": 234,
   "metadata": {
    "collapsed": true,
    "deletable": true,
    "editable": true
   },
   "outputs": [],
   "source": [
    "np.random.seed(200)"
   ]
  },
  {
   "cell_type": "code",
   "execution_count": 235,
   "metadata": {
    "collapsed": true,
    "deletable": true,
    "editable": true
   },
   "outputs": [],
   "source": [
    "english = './TEXTEN1.txt'\n",
    "czech = './TEXTCZ1.txt'"
   ]
  },
  {
   "cell_type": "code",
   "execution_count": 236,
   "metadata": {
    "collapsed": true,
    "deletable": true,
    "editable": true
   },
   "outputs": [],
   "source": [
    "def open_text(filename):\n",
    "    \"\"\"Reads a text line by line, applies light preprocessing, and returns an array of words\"\"\"\n",
    "    with open(filename, encoding='iso-8859-2') as f:\n",
    "        content = f.readlines()\n",
    "    \n",
    "    preprocess = lambda word: word.strip()\n",
    "#     preprocess = lambda word: word.strip().lower()\n",
    "    \n",
    "    return np.array([preprocess(word) for word in content])"
   ]
  },
  {
   "cell_type": "code",
   "execution_count": 237,
   "metadata": {
    "collapsed": false,
    "deletable": true,
    "editable": true
   },
   "outputs": [],
   "source": [
    "# Read texts into memory\n",
    "words_en = open_text(english)\n",
    "words_cz = open_text(czech)"
   ]
  },
  {
   "cell_type": "code",
   "execution_count": 238,
   "metadata": {
    "collapsed": true
   },
   "outputs": [],
   "source": [
    "class UnigramModel:\n",
    "    def __init__(self, words):\n",
    "        self.words = words\n",
    "        self.word_set = list(set(words))\n",
    "        self.word_count = len(self.word_set)\n",
    "        \n",
    "        self.dist = c.Counter(words)"
   ]
  },
  {
   "cell_type": "code",
   "execution_count": 335,
   "metadata": {
    "collapsed": true
   },
   "outputs": [],
   "source": [
    "class BigramModel:\n",
    "    def __init__(self, words):\n",
    "        self.words = words\n",
    "        self.bigrams = list(nltk.bigrams(words))\n",
    "        self.bigram_set = list(set(self.bigrams))\n",
    "        self.bigram_count = len(self.bigram_set)\n",
    "        \n",
    "        bigram_dist = defaultdict(lambda: c.Counter())\n",
    "        for wprev,w in self.bigrams:\n",
    "            bigram_dist[wprev].update([w])\n",
    "        \n",
    "        self.dist = bigram_dist\n",
    "    \n",
    "    def word_count_with(self, wprev):\n",
    "        return sum(self.dist[wprev].values())"
   ]
  },
  {
   "cell_type": "code",
   "execution_count": 336,
   "metadata": {
    "collapsed": true,
    "deletable": true,
    "editable": true
   },
   "outputs": [],
   "source": [
    "def language_model(words):\n",
    "    \"\"\"Counts unigrams and bigrams in a dataframe\"\"\"\n",
    "    return UnigramModel(words), BigramModel(words)"
   ]
  },
  {
   "cell_type": "code",
   "execution_count": 337,
   "metadata": {
    "collapsed": true
   },
   "outputs": [],
   "source": [
    "def p_bigram(bigram_model, wprev, w):\n",
    "    \"\"\"Calculates the probability a bigram appears in the distribution\"\"\"\n",
    "    return bigram_model.dist[wprev][w] / bigram_model.bigram_count"
   ]
  },
  {
   "cell_type": "code",
   "execution_count": 338,
   "metadata": {
    "collapsed": true
   },
   "outputs": [],
   "source": [
    "def p_bigram_cond(bigram_model, wprev, w):\n",
    "    \"\"\"Calculates the probability a word appears in the distribution given the previous word\"\"\"\n",
    "    return bigram_model.dist[wprev][w] / bigram_model.word_count_with(wprev)"
   ]
  },
  {
   "cell_type": "code",
   "execution_count": 339,
   "metadata": {
    "collapsed": true,
    "deletable": true,
    "editable": true
   },
   "outputs": [],
   "source": [
    "def entropy_cond(bigram_model):\n",
    "    \"\"\"Calculates the conditional entropy from a list of bigrams\"\"\"\n",
    "    bigram_set = bigram_model.bigram_set\n",
    "    return - np.sum(p_bigram(bigram_model, *bigram) * np.log2(p_bigram_cond(bigram_model, *bigram)) for bigram in bigram_set)"
   ]
  },
  {
   "cell_type": "code",
   "execution_count": 340,
   "metadata": {
    "collapsed": true,
    "deletable": true,
    "editable": true
   },
   "outputs": [],
   "source": [
    "def perplexity_cond(entropy):\n",
    "    \"\"\"Calculates the conditional perplexity from the given conditional entropy\"\"\"\n",
    "    return 2 ** entropy"
   ]
  },
  {
   "cell_type": "code",
   "execution_count": 341,
   "metadata": {
    "collapsed": true,
    "deletable": true,
    "editable": true
   },
   "outputs": [],
   "source": [
    "def text_stats(words):\n",
    "    \"\"\"Given a list of words, this calculates various statistical \n",
    "    properties like entropy, number of characters, etc\"\"\"\n",
    "    unigram_model, bigram_model = language_model(words)\n",
    "    \n",
    "    entropy = entropy_cond(bigram_model)\n",
    "    perplexity = perplexity_cond(entropy)\n",
    "    vocab_size = unigram_model.word_count\n",
    "    char_count = len([char for word in words for char in word])\n",
    "    chars_per_word = char_count / len(words)\n",
    "    words_freq_1 = sum(1 for key in unigram_model.dist if unigram_model.dist[key] == 1)\n",
    "    most_freq_words = unigram_model.dist.most_common()[:10]\n",
    "\n",
    "    return [entropy, perplexity, vocab_size, char_count, chars_per_word, words_freq_1, most_freq_words]"
   ]
  },
  {
   "cell_type": "code",
   "execution_count": 342,
   "metadata": {
    "collapsed": true,
    "deletable": true,
    "editable": true
   },
   "outputs": [],
   "source": [
    "text_stats_cols = [\n",
    "    'entropy', 'perplexity', 'vocab_size', 'char_count', \n",
    "    'chars_per_word', 'words_freq_1', 'most_freq_words'\n",
    "]"
   ]
  },
  {
   "cell_type": "code",
   "execution_count": 343,
   "metadata": {
    "collapsed": true,
    "deletable": true,
    "editable": true
   },
   "outputs": [],
   "source": [
    "def text_stats_lang(filename):\n",
    "    \"\"\"Calculates statistics from a file and arranges them in a nicely formatted table\"\"\"\n",
    "    return pd.DataFrame([text_stats(open_text(filename))], columns=text_stats_cols)"
   ]
  },
  {
   "cell_type": "code",
   "execution_count": 344,
   "metadata": {
    "collapsed": false,
    "deletable": true,
    "editable": true
   },
   "outputs": [
    {
     "data": {
      "text/html": [
       "<div>\n",
       "<style>\n",
       "    .dataframe thead tr:only-child th {\n",
       "        text-align: right;\n",
       "    }\n",
       "\n",
       "    .dataframe thead th {\n",
       "        text-align: left;\n",
       "    }\n",
       "\n",
       "    .dataframe tbody tr th {\n",
       "        vertical-align: top;\n",
       "    }\n",
       "</style>\n",
       "<table border=\"1\" class=\"dataframe\">\n",
       "  <thead>\n",
       "    <tr style=\"text-align: right;\">\n",
       "      <th></th>\n",
       "      <th>entropy</th>\n",
       "      <th>perplexity</th>\n",
       "      <th>vocab_size</th>\n",
       "      <th>char_count</th>\n",
       "      <th>chars_per_word</th>\n",
       "      <th>words_freq_1</th>\n",
       "      <th>most_freq_words</th>\n",
       "    </tr>\n",
       "  </thead>\n",
       "  <tbody>\n",
       "    <tr>\n",
       "      <th>0</th>\n",
       "      <td>15.96044</td>\n",
       "      <td>63763.349763</td>\n",
       "      <td>9607</td>\n",
       "      <td>972917</td>\n",
       "      <td>4.400388</td>\n",
       "      <td>3811</td>\n",
       "      <td>[(,, 14721), (the, 13299), (of, 9368), (., 564...</td>\n",
       "    </tr>\n",
       "  </tbody>\n",
       "</table>\n",
       "</div>"
      ],
      "text/plain": [
       "    entropy    perplexity  vocab_size  char_count  chars_per_word  \\\n",
       "0  15.96044  63763.349763        9607      972917        4.400388   \n",
       "\n",
       "   words_freq_1                                    most_freq_words  \n",
       "0          3811  [(,, 14721), (the, 13299), (of, 9368), (., 564...  "
      ]
     },
     "execution_count": 344,
     "metadata": {},
     "output_type": "execute_result"
    }
   ],
   "source": [
    "text_stats_lang(english)"
   ]
  },
  {
   "cell_type": "code",
   "execution_count": 345,
   "metadata": {
    "collapsed": false,
    "deletable": true,
    "editable": true
   },
   "outputs": [
    {
     "data": {
      "text/html": [
       "<div>\n",
       "<style>\n",
       "    .dataframe thead tr:only-child th {\n",
       "        text-align: right;\n",
       "    }\n",
       "\n",
       "    .dataframe thead th {\n",
       "        text-align: left;\n",
       "    }\n",
       "\n",
       "    .dataframe tbody tr th {\n",
       "        vertical-align: top;\n",
       "    }\n",
       "</style>\n",
       "<table border=\"1\" class=\"dataframe\">\n",
       "  <thead>\n",
       "    <tr style=\"text-align: right;\">\n",
       "      <th></th>\n",
       "      <th>entropy</th>\n",
       "      <th>perplexity</th>\n",
       "      <th>vocab_size</th>\n",
       "      <th>char_count</th>\n",
       "      <th>chars_per_word</th>\n",
       "      <th>words_freq_1</th>\n",
       "      <th>most_freq_words</th>\n",
       "    </tr>\n",
       "  </thead>\n",
       "  <tbody>\n",
       "    <tr>\n",
       "      <th>0</th>\n",
       "      <td>7.176847</td>\n",
       "      <td>144.692578</td>\n",
       "      <td>42826</td>\n",
       "      <td>1030631</td>\n",
       "      <td>4.633882</td>\n",
       "      <td>26315</td>\n",
       "      <td>[(,, 13788), (., 12931), (a, 4486), (v, 4043),...</td>\n",
       "    </tr>\n",
       "  </tbody>\n",
       "</table>\n",
       "</div>"
      ],
      "text/plain": [
       "    entropy  perplexity  vocab_size  char_count  chars_per_word  words_freq_1  \\\n",
       "0  7.176847  144.692578       42826     1030631        4.633882         26315   \n",
       "\n",
       "                                     most_freq_words  \n",
       "0  [(,, 13788), (., 12931), (a, 4486), (v, 4043),...  "
      ]
     },
     "execution_count": 345,
     "metadata": {},
     "output_type": "execute_result"
    }
   ],
   "source": [
    "text_stats_lang(czech)"
   ]
  },
  {
   "cell_type": "code",
   "execution_count": 346,
   "metadata": {
    "collapsed": true,
    "deletable": true,
    "editable": true
   },
   "outputs": [],
   "source": [
    "def charset(words):\n",
    "    \"\"\"Given a list of words, calculates the set of characters over all words\"\"\"\n",
    "    return np.array(list(set(char for word in words for char in word)))"
   ]
  },
  {
   "cell_type": "code",
   "execution_count": 347,
   "metadata": {
    "collapsed": false,
    "deletable": true,
    "editable": true
   },
   "outputs": [
    {
     "data": {
      "text/plain": [
       "['!', '\"', '&', \"'\", '(', ')', ',', '.', '/', '0']"
      ]
     },
     "execution_count": 347,
     "metadata": {},
     "output_type": "execute_result"
    }
   ],
   "source": [
    "charset(words_en)[:10]"
   ]
  },
  {
   "cell_type": "code",
   "execution_count": 348,
   "metadata": {
    "collapsed": true,
    "deletable": true,
    "editable": true
   },
   "outputs": [],
   "source": [
    "def vocab_list(words):\n",
    "    \"\"\"Given a list of words, calculates the set of words (vocabulary)\"\"\"\n",
    "    return np.array(list(set(word for word in words)))"
   ]
  },
  {
   "cell_type": "code",
   "execution_count": 349,
   "metadata": {
    "collapsed": false,
    "deletable": true,
    "editable": true
   },
   "outputs": [
    {
     "data": {
      "text/plain": [
       "['\"', '&', '&c', '&e', '(', ')', ',', '.', '000', '1']"
      ]
     },
     "execution_count": 349,
     "metadata": {},
     "output_type": "execute_result"
    }
   ],
   "source": [
    "vocab_list(words_en)[:10]"
   ]
  },
  {
   "cell_type": "code",
   "execution_count": 350,
   "metadata": {
    "collapsed": true,
    "deletable": true,
    "editable": true
   },
   "outputs": [],
   "source": [
    "def perturb_char(word, charset, prob=0.1):\n",
    "    \"\"\"Changes each character with given probability to a random character in the charset\"\"\"\n",
    "    return ''.join(np.random.choice(charset) if np.random.random() < prob else char for char in word)"
   ]
  },
  {
   "cell_type": "code",
   "execution_count": 351,
   "metadata": {
    "collapsed": true,
    "deletable": true,
    "editable": true
   },
   "outputs": [],
   "source": [
    "def perturb_word(word, vocabulary, prob=0.1):\n",
    "    \"\"\"Changes a word with given probability to a random word in the vocabulary\"\"\"\n",
    "    return np.random.choice(vocabulary) if np.random.random() < prob else word"
   ]
  },
  {
   "cell_type": "code",
   "execution_count": 352,
   "metadata": {
    "collapsed": true,
    "deletable": true,
    "editable": true
   },
   "outputs": [],
   "source": [
    "def perturb(words, charset, vocabulary, prob=0.1):\n",
    "    \"\"\"Perturbs a list of words with given probability on the character level and word level\"\"\"\n",
    "    pchars = list(map(lambda word: perturb_char(word, charset, prob=prob), words))\n",
    "    pwords = list(map(lambda word: perturb_word(word, vocabulary, prob=prob), words))\n",
    "    \n",
    "    return pchars, pwords"
   ]
  },
  {
   "cell_type": "code",
   "execution_count": 353,
   "metadata": {
    "collapsed": true,
    "deletable": true,
    "editable": true
   },
   "outputs": [],
   "source": [
    "def perturb_text(words, seed=200):\n",
    "    \"\"\"Perturbs a list of words for a predefined list of probabilties\"\"\"\n",
    "    np.random.seed(seed)\n",
    "    \n",
    "    chars, vocab = charset(words), vocab_list(words)\n",
    "    text_chars, text_words = pd.DataFrame(), pd.DataFrame()\n",
    "    \n",
    "    for prob in [0, 0.00001, 0.0001, 0.001, 0.01, 0.05, 0.1]:\n",
    "        text_chars[str(prob)], text_words[str(prob)] = perturb(words, chars, vocab, prob=prob)\n",
    "    \n",
    "    return text_chars, text_words"
   ]
  },
  {
   "cell_type": "code",
   "execution_count": 354,
   "metadata": {
    "collapsed": true,
    "deletable": true,
    "editable": true
   },
   "outputs": [],
   "source": [
    "def all_stats(perturbed_text):\n",
    "    \"\"\"Calculates statistics for all perturbed probabilities of a given text \n",
    "    and outputs them to two tables (character and word level respectively)\"\"\"\n",
    "    text_chars, text_words = perturbed_text\n",
    "    \n",
    "    col_names = ['prob'] + text_stats_cols\n",
    "    \n",
    "    char_stats = pd.DataFrame(columns=col_names)\n",
    "    word_stats = pd.DataFrame(columns=col_names)\n",
    "    \n",
    "    # Iterate through all perturbation probabilities and gather statistics\n",
    "    for col in text_chars:\n",
    "        stat = text_stats(list(text_chars[col]))\n",
    "        char_stats.loc[len(char_stats)] = [float(col)] + stat\n",
    "    \n",
    "    for col in text_words:\n",
    "        stat = text_stats(list(text_words[col]))\n",
    "        word_stats.loc[len(word_stats)] = [float(col)] + stat\n",
    "    \n",
    "    return char_stats, word_stats"
   ]
  },
  {
   "cell_type": "code",
   "execution_count": 355,
   "metadata": {
    "collapsed": false,
    "deletable": true,
    "editable": true
   },
   "outputs": [],
   "source": [
    "perturbed_en = perturb_text(words_en)"
   ]
  },
  {
   "cell_type": "code",
   "execution_count": 356,
   "metadata": {
    "collapsed": true
   },
   "outputs": [],
   "source": [
    "perturbed_cz = perturb_text(words_cz)"
   ]
  },
  {
   "cell_type": "code",
   "execution_count": 358,
   "metadata": {
    "collapsed": true
   },
   "outputs": [],
   "source": [
    "with open('perturbed_en.pkl', 'wb') as f:\n",
    "    pickle.dump(perturbed_en, f, protocol=pickle.HIGHEST_PROTOCOL)\n",
    "with open('perturbed_cz.pkl', 'wb') as f:\n",
    "    pickle.dump(perturbed_cz, f, protocol=pickle.HIGHEST_PROTOCOL)"
   ]
  },
  {
   "cell_type": "code",
   "execution_count": 370,
   "metadata": {
    "collapsed": false
   },
   "outputs": [],
   "source": [
    "with open('perturbed_en.pkl', 'rb') as f:\n",
    "    perturbed_en = pickle.load(f)\n",
    "with open('perturbed_cz.pkl', 'rb') as f:\n",
    "    perturbed_cz = pickle.load(f)"
   ]
  },
  {
   "cell_type": "code",
   "execution_count": 361,
   "metadata": {
    "collapsed": true,
    "deletable": true,
    "editable": true
   },
   "outputs": [],
   "source": [
    "char_stats_en, word_stats_en = all_stats(perturbed_en)\n",
    "char_stats_cz, word_stats_cz = all_stats(perturbed_cz)"
   ]
  },
  {
   "cell_type": "code",
   "execution_count": 362,
   "metadata": {
    "collapsed": false,
    "deletable": true,
    "editable": true
   },
   "outputs": [
    {
     "data": {
      "text/html": [
       "<div>\n",
       "<style>\n",
       "    .dataframe thead tr:only-child th {\n",
       "        text-align: right;\n",
       "    }\n",
       "\n",
       "    .dataframe thead th {\n",
       "        text-align: left;\n",
       "    }\n",
       "\n",
       "    .dataframe tbody tr th {\n",
       "        vertical-align: top;\n",
       "    }\n",
       "</style>\n",
       "<table border=\"1\" class=\"dataframe\">\n",
       "  <thead>\n",
       "    <tr style=\"text-align: right;\">\n",
       "      <th></th>\n",
       "      <th>prob</th>\n",
       "      <th>entropy</th>\n",
       "      <th>perplexity</th>\n",
       "      <th>vocab_size</th>\n",
       "      <th>char_count</th>\n",
       "      <th>chars_per_word</th>\n",
       "      <th>words_freq_1</th>\n",
       "      <th>most_freq_words</th>\n",
       "    </tr>\n",
       "  </thead>\n",
       "  <tbody>\n",
       "    <tr>\n",
       "      <th>0</th>\n",
       "      <td>0.00000</td>\n",
       "      <td>15.960440</td>\n",
       "      <td>63763.349763</td>\n",
       "      <td>9607</td>\n",
       "      <td>972917</td>\n",
       "      <td>4.400388</td>\n",
       "      <td>3811</td>\n",
       "      <td>[(,, 14721), (the, 13299), (of, 9368), (., 564...</td>\n",
       "    </tr>\n",
       "    <tr>\n",
       "      <th>1</th>\n",
       "      <td>0.00001</td>\n",
       "      <td>15.957323</td>\n",
       "      <td>63625.742274</td>\n",
       "      <td>9615</td>\n",
       "      <td>972917</td>\n",
       "      <td>4.400388</td>\n",
       "      <td>3819</td>\n",
       "      <td>[(,, 14721), (the, 13299), (of, 9368), (., 564...</td>\n",
       "    </tr>\n",
       "    <tr>\n",
       "      <th>2</th>\n",
       "      <td>0.00010</td>\n",
       "      <td>15.923084</td>\n",
       "      <td>62133.530631</td>\n",
       "      <td>9706</td>\n",
       "      <td>972917</td>\n",
       "      <td>4.400388</td>\n",
       "      <td>3910</td>\n",
       "      <td>[(,, 14720), (the, 13294), (of, 9363), (., 564...</td>\n",
       "    </tr>\n",
       "    <tr>\n",
       "      <th>3</th>\n",
       "      <td>0.00100</td>\n",
       "      <td>15.660420</td>\n",
       "      <td>51791.214536</td>\n",
       "      <td>10476</td>\n",
       "      <td>972917</td>\n",
       "      <td>4.400388</td>\n",
       "      <td>4682</td>\n",
       "      <td>[(,, 14705), (the, 13267), (of, 9346), (., 563...</td>\n",
       "    </tr>\n",
       "    <tr>\n",
       "      <th>4</th>\n",
       "      <td>0.01000</td>\n",
       "      <td>13.457480</td>\n",
       "      <td>11248.772760</td>\n",
       "      <td>17737</td>\n",
       "      <td>972917</td>\n",
       "      <td>4.400388</td>\n",
       "      <td>11646</td>\n",
       "      <td>[(,, 14582), (the, 12907), (of, 9156), (., 558...</td>\n",
       "    </tr>\n",
       "    <tr>\n",
       "      <th>5</th>\n",
       "      <td>0.05000</td>\n",
       "      <td>8.861137</td>\n",
       "      <td>465.016224</td>\n",
       "      <td>42417</td>\n",
       "      <td>972917</td>\n",
       "      <td>4.400388</td>\n",
       "      <td>34646</td>\n",
       "      <td>[(,, 14000), (the, 11443), (of, 8508), (., 537...</td>\n",
       "    </tr>\n",
       "    <tr>\n",
       "      <th>6</th>\n",
       "      <td>0.10000</td>\n",
       "      <td>6.629366</td>\n",
       "      <td>99.000656</td>\n",
       "      <td>64546</td>\n",
       "      <td>972917</td>\n",
       "      <td>4.400388</td>\n",
       "      <td>55327</td>\n",
       "      <td>[(,, 13251), (the, 9774), (of, 7610), (., 5147...</td>\n",
       "    </tr>\n",
       "  </tbody>\n",
       "</table>\n",
       "</div>"
      ],
      "text/plain": [
       "      prob    entropy    perplexity vocab_size char_count  chars_per_word  \\\n",
       "0  0.00000  15.960440  63763.349763       9607     972917        4.400388   \n",
       "1  0.00001  15.957323  63625.742274       9615     972917        4.400388   \n",
       "2  0.00010  15.923084  62133.530631       9706     972917        4.400388   \n",
       "3  0.00100  15.660420  51791.214536      10476     972917        4.400388   \n",
       "4  0.01000  13.457480  11248.772760      17737     972917        4.400388   \n",
       "5  0.05000   8.861137    465.016224      42417     972917        4.400388   \n",
       "6  0.10000   6.629366     99.000656      64546     972917        4.400388   \n",
       "\n",
       "  words_freq_1                                    most_freq_words  \n",
       "0         3811  [(,, 14721), (the, 13299), (of, 9368), (., 564...  \n",
       "1         3819  [(,, 14721), (the, 13299), (of, 9368), (., 564...  \n",
       "2         3910  [(,, 14720), (the, 13294), (of, 9363), (., 564...  \n",
       "3         4682  [(,, 14705), (the, 13267), (of, 9346), (., 563...  \n",
       "4        11646  [(,, 14582), (the, 12907), (of, 9156), (., 558...  \n",
       "5        34646  [(,, 14000), (the, 11443), (of, 8508), (., 537...  \n",
       "6        55327  [(,, 13251), (the, 9774), (of, 7610), (., 5147...  "
      ]
     },
     "execution_count": 362,
     "metadata": {},
     "output_type": "execute_result"
    }
   ],
   "source": [
    "char_stats_en"
   ]
  },
  {
   "cell_type": "code",
   "execution_count": 363,
   "metadata": {
    "collapsed": false,
    "deletable": true,
    "editable": true,
    "scrolled": true
   },
   "outputs": [
    {
     "data": {
      "text/html": [
       "<div>\n",
       "<style>\n",
       "    .dataframe thead tr:only-child th {\n",
       "        text-align: right;\n",
       "    }\n",
       "\n",
       "    .dataframe thead th {\n",
       "        text-align: left;\n",
       "    }\n",
       "\n",
       "    .dataframe tbody tr th {\n",
       "        vertical-align: top;\n",
       "    }\n",
       "</style>\n",
       "<table border=\"1\" class=\"dataframe\">\n",
       "  <thead>\n",
       "    <tr style=\"text-align: right;\">\n",
       "      <th></th>\n",
       "      <th>prob</th>\n",
       "      <th>entropy</th>\n",
       "      <th>perplexity</th>\n",
       "      <th>vocab_size</th>\n",
       "      <th>char_count</th>\n",
       "      <th>chars_per_word</th>\n",
       "      <th>words_freq_1</th>\n",
       "      <th>most_freq_words</th>\n",
       "    </tr>\n",
       "  </thead>\n",
       "  <tbody>\n",
       "    <tr>\n",
       "      <th>0</th>\n",
       "      <td>0.00000</td>\n",
       "      <td>15.960440</td>\n",
       "      <td>63763.349763</td>\n",
       "      <td>9607</td>\n",
       "      <td>972917</td>\n",
       "      <td>4.400388</td>\n",
       "      <td>3811</td>\n",
       "      <td>[(,, 14721), (the, 13299), (of, 9368), (., 564...</td>\n",
       "    </tr>\n",
       "    <tr>\n",
       "      <th>1</th>\n",
       "      <td>0.00001</td>\n",
       "      <td>15.959967</td>\n",
       "      <td>63742.451575</td>\n",
       "      <td>9607</td>\n",
       "      <td>972920</td>\n",
       "      <td>4.400402</td>\n",
       "      <td>3810</td>\n",
       "      <td>[(,, 14721), (the, 13299), (of, 9368), (., 564...</td>\n",
       "    </tr>\n",
       "    <tr>\n",
       "      <th>2</th>\n",
       "      <td>0.00010</td>\n",
       "      <td>15.952309</td>\n",
       "      <td>63405.015141</td>\n",
       "      <td>9607</td>\n",
       "      <td>972995</td>\n",
       "      <td>4.400741</td>\n",
       "      <td>3796</td>\n",
       "      <td>[(,, 14719), (the, 13296), (of, 9367), (., 564...</td>\n",
       "    </tr>\n",
       "    <tr>\n",
       "      <th>3</th>\n",
       "      <td>0.00100</td>\n",
       "      <td>15.887945</td>\n",
       "      <td>60638.422756</td>\n",
       "      <td>9603</td>\n",
       "      <td>973689</td>\n",
       "      <td>4.403880</td>\n",
       "      <td>3714</td>\n",
       "      <td>[(,, 14703), (the, 13280), (of, 9361), (., 563...</td>\n",
       "    </tr>\n",
       "    <tr>\n",
       "      <th>4</th>\n",
       "      <td>0.01000</td>\n",
       "      <td>15.341203</td>\n",
       "      <td>41510.920737</td>\n",
       "      <td>9577</td>\n",
       "      <td>979952</td>\n",
       "      <td>4.432207</td>\n",
       "      <td>3034</td>\n",
       "      <td>[(,, 14588), (the, 13152), (of, 9265), (., 558...</td>\n",
       "    </tr>\n",
       "    <tr>\n",
       "      <th>5</th>\n",
       "      <td>0.05000</td>\n",
       "      <td>13.439789</td>\n",
       "      <td>11111.674901</td>\n",
       "      <td>9557</td>\n",
       "      <td>1006271</td>\n",
       "      <td>4.551244</td>\n",
       "      <td>1260</td>\n",
       "      <td>[(,, 14012), (the, 12679), (of, 8905), (., 538...</td>\n",
       "    </tr>\n",
       "    <tr>\n",
       "      <th>6</th>\n",
       "      <td>0.10000</td>\n",
       "      <td>11.732944</td>\n",
       "      <td>3403.832108</td>\n",
       "      <td>9561</td>\n",
       "      <td>1039367</td>\n",
       "      <td>4.700934</td>\n",
       "      <td>448</td>\n",
       "      <td>[(,, 13217), (the, 11990), (of, 8443), (., 505...</td>\n",
       "    </tr>\n",
       "  </tbody>\n",
       "</table>\n",
       "</div>"
      ],
      "text/plain": [
       "      prob    entropy    perplexity vocab_size char_count  chars_per_word  \\\n",
       "0  0.00000  15.960440  63763.349763       9607     972917        4.400388   \n",
       "1  0.00001  15.959967  63742.451575       9607     972920        4.400402   \n",
       "2  0.00010  15.952309  63405.015141       9607     972995        4.400741   \n",
       "3  0.00100  15.887945  60638.422756       9603     973689        4.403880   \n",
       "4  0.01000  15.341203  41510.920737       9577     979952        4.432207   \n",
       "5  0.05000  13.439789  11111.674901       9557    1006271        4.551244   \n",
       "6  0.10000  11.732944   3403.832108       9561    1039367        4.700934   \n",
       "\n",
       "  words_freq_1                                    most_freq_words  \n",
       "0         3811  [(,, 14721), (the, 13299), (of, 9368), (., 564...  \n",
       "1         3810  [(,, 14721), (the, 13299), (of, 9368), (., 564...  \n",
       "2         3796  [(,, 14719), (the, 13296), (of, 9367), (., 564...  \n",
       "3         3714  [(,, 14703), (the, 13280), (of, 9361), (., 563...  \n",
       "4         3034  [(,, 14588), (the, 13152), (of, 9265), (., 558...  \n",
       "5         1260  [(,, 14012), (the, 12679), (of, 8905), (., 538...  \n",
       "6          448  [(,, 13217), (the, 11990), (of, 8443), (., 505...  "
      ]
     },
     "execution_count": 363,
     "metadata": {},
     "output_type": "execute_result"
    }
   ],
   "source": [
    "word_stats_en"
   ]
  },
  {
   "cell_type": "code",
   "execution_count": 364,
   "metadata": {
    "collapsed": false,
    "deletable": true,
    "editable": true
   },
   "outputs": [
    {
     "data": {
      "text/html": [
       "<div>\n",
       "<style>\n",
       "    .dataframe thead tr:only-child th {\n",
       "        text-align: right;\n",
       "    }\n",
       "\n",
       "    .dataframe thead th {\n",
       "        text-align: left;\n",
       "    }\n",
       "\n",
       "    .dataframe tbody tr th {\n",
       "        vertical-align: top;\n",
       "    }\n",
       "</style>\n",
       "<table border=\"1\" class=\"dataframe\">\n",
       "  <thead>\n",
       "    <tr style=\"text-align: right;\">\n",
       "      <th></th>\n",
       "      <th>prob</th>\n",
       "      <th>entropy</th>\n",
       "      <th>perplexity</th>\n",
       "      <th>vocab_size</th>\n",
       "      <th>char_count</th>\n",
       "      <th>chars_per_word</th>\n",
       "      <th>words_freq_1</th>\n",
       "      <th>most_freq_words</th>\n",
       "    </tr>\n",
       "  </thead>\n",
       "  <tbody>\n",
       "    <tr>\n",
       "      <th>0</th>\n",
       "      <td>0.00000</td>\n",
       "      <td>7.176847</td>\n",
       "      <td>144.692578</td>\n",
       "      <td>42826</td>\n",
       "      <td>1030631</td>\n",
       "      <td>4.633882</td>\n",
       "      <td>26315</td>\n",
       "      <td>[(,, 13788), (., 12931), (a, 4486), (v, 4043),...</td>\n",
       "    </tr>\n",
       "    <tr>\n",
       "      <th>1</th>\n",
       "      <td>0.00001</td>\n",
       "      <td>7.176180</td>\n",
       "      <td>144.625669</td>\n",
       "      <td>42835</td>\n",
       "      <td>1030631</td>\n",
       "      <td>4.633882</td>\n",
       "      <td>26324</td>\n",
       "      <td>[(,, 13788), (., 12930), (a, 4486), (v, 4043),...</td>\n",
       "    </tr>\n",
       "    <tr>\n",
       "      <th>2</th>\n",
       "      <td>0.00010</td>\n",
       "      <td>7.172343</td>\n",
       "      <td>144.241507</td>\n",
       "      <td>42901</td>\n",
       "      <td>1030631</td>\n",
       "      <td>4.633882</td>\n",
       "      <td>26401</td>\n",
       "      <td>[(,, 13786), (., 12931), (a, 4486), (v, 4043),...</td>\n",
       "    </tr>\n",
       "    <tr>\n",
       "      <th>3</th>\n",
       "      <td>0.00100</td>\n",
       "      <td>7.129507</td>\n",
       "      <td>140.021730</td>\n",
       "      <td>43603</td>\n",
       "      <td>1030631</td>\n",
       "      <td>4.633882</td>\n",
       "      <td>27166</td>\n",
       "      <td>[(,, 13770), (., 12918), (a, 4479), (v, 4039),...</td>\n",
       "    </tr>\n",
       "    <tr>\n",
       "      <th>4</th>\n",
       "      <td>0.01000</td>\n",
       "      <td>6.760528</td>\n",
       "      <td>108.423055</td>\n",
       "      <td>50055</td>\n",
       "      <td>1030631</td>\n",
       "      <td>4.633882</td>\n",
       "      <td>34395</td>\n",
       "      <td>[(,, 13654), (., 12803), (a, 4446), (v, 4016),...</td>\n",
       "    </tr>\n",
       "    <tr>\n",
       "      <th>5</th>\n",
       "      <td>0.05000</td>\n",
       "      <td>5.626383</td>\n",
       "      <td>49.398087</td>\n",
       "      <td>73431</td>\n",
       "      <td>1030631</td>\n",
       "      <td>4.633882</td>\n",
       "      <td>60522</td>\n",
       "      <td>[(,, 13110), (., 12305), (a, 4282), (v, 3876),...</td>\n",
       "    </tr>\n",
       "    <tr>\n",
       "      <th>6</th>\n",
       "      <td>0.10000</td>\n",
       "      <td>4.804162</td>\n",
       "      <td>27.938093</td>\n",
       "      <td>94669</td>\n",
       "      <td>1030631</td>\n",
       "      <td>4.633882</td>\n",
       "      <td>84290</td>\n",
       "      <td>[(,, 12502), (., 11709), (a, 4054), (v, 3689),...</td>\n",
       "    </tr>\n",
       "  </tbody>\n",
       "</table>\n",
       "</div>"
      ],
      "text/plain": [
       "      prob   entropy  perplexity vocab_size char_count  chars_per_word  \\\n",
       "0  0.00000  7.176847  144.692578      42826    1030631        4.633882   \n",
       "1  0.00001  7.176180  144.625669      42835    1030631        4.633882   \n",
       "2  0.00010  7.172343  144.241507      42901    1030631        4.633882   \n",
       "3  0.00100  7.129507  140.021730      43603    1030631        4.633882   \n",
       "4  0.01000  6.760528  108.423055      50055    1030631        4.633882   \n",
       "5  0.05000  5.626383   49.398087      73431    1030631        4.633882   \n",
       "6  0.10000  4.804162   27.938093      94669    1030631        4.633882   \n",
       "\n",
       "  words_freq_1                                    most_freq_words  \n",
       "0        26315  [(,, 13788), (., 12931), (a, 4486), (v, 4043),...  \n",
       "1        26324  [(,, 13788), (., 12930), (a, 4486), (v, 4043),...  \n",
       "2        26401  [(,, 13786), (., 12931), (a, 4486), (v, 4043),...  \n",
       "3        27166  [(,, 13770), (., 12918), (a, 4479), (v, 4039),...  \n",
       "4        34395  [(,, 13654), (., 12803), (a, 4446), (v, 4016),...  \n",
       "5        60522  [(,, 13110), (., 12305), (a, 4282), (v, 3876),...  \n",
       "6        84290  [(,, 12502), (., 11709), (a, 4054), (v, 3689),...  "
      ]
     },
     "execution_count": 364,
     "metadata": {},
     "output_type": "execute_result"
    }
   ],
   "source": [
    "char_stats_cz"
   ]
  },
  {
   "cell_type": "code",
   "execution_count": 365,
   "metadata": {
    "collapsed": false,
    "deletable": true,
    "editable": true
   },
   "outputs": [
    {
     "data": {
      "text/html": [
       "<div>\n",
       "<style>\n",
       "    .dataframe thead tr:only-child th {\n",
       "        text-align: right;\n",
       "    }\n",
       "\n",
       "    .dataframe thead th {\n",
       "        text-align: left;\n",
       "    }\n",
       "\n",
       "    .dataframe tbody tr th {\n",
       "        vertical-align: top;\n",
       "    }\n",
       "</style>\n",
       "<table border=\"1\" class=\"dataframe\">\n",
       "  <thead>\n",
       "    <tr style=\"text-align: right;\">\n",
       "      <th></th>\n",
       "      <th>prob</th>\n",
       "      <th>entropy</th>\n",
       "      <th>perplexity</th>\n",
       "      <th>vocab_size</th>\n",
       "      <th>char_count</th>\n",
       "      <th>chars_per_word</th>\n",
       "      <th>words_freq_1</th>\n",
       "      <th>most_freq_words</th>\n",
       "    </tr>\n",
       "  </thead>\n",
       "  <tbody>\n",
       "    <tr>\n",
       "      <th>0</th>\n",
       "      <td>0.00000</td>\n",
       "      <td>7.176847</td>\n",
       "      <td>144.692578</td>\n",
       "      <td>42826</td>\n",
       "      <td>1030631</td>\n",
       "      <td>4.633882</td>\n",
       "      <td>26315</td>\n",
       "      <td>[(,, 13788), (., 12931), (a, 4486), (v, 4043),...</td>\n",
       "    </tr>\n",
       "    <tr>\n",
       "      <th>1</th>\n",
       "      <td>0.00001</td>\n",
       "      <td>7.176713</td>\n",
       "      <td>144.679145</td>\n",
       "      <td>42825</td>\n",
       "      <td>1030654</td>\n",
       "      <td>4.633986</td>\n",
       "      <td>26312</td>\n",
       "      <td>[(,, 13787), (., 12930), (a, 4486), (v, 4043),...</td>\n",
       "    </tr>\n",
       "    <tr>\n",
       "      <th>2</th>\n",
       "      <td>0.00010</td>\n",
       "      <td>7.176097</td>\n",
       "      <td>144.617393</td>\n",
       "      <td>42824</td>\n",
       "      <td>1030676</td>\n",
       "      <td>4.634084</td>\n",
       "      <td>26303</td>\n",
       "      <td>[(,, 13788), (., 12930), (a, 4486), (v, 4043),...</td>\n",
       "    </tr>\n",
       "    <tr>\n",
       "      <th>3</th>\n",
       "      <td>0.00100</td>\n",
       "      <td>7.166303</td>\n",
       "      <td>143.638918</td>\n",
       "      <td>42797</td>\n",
       "      <td>1031391</td>\n",
       "      <td>4.637299</td>\n",
       "      <td>26155</td>\n",
       "      <td>[(,, 13777), (., 12921), (a, 4483), (v, 4037),...</td>\n",
       "    </tr>\n",
       "    <tr>\n",
       "      <th>4</th>\n",
       "      <td>0.01000</td>\n",
       "      <td>7.066895</td>\n",
       "      <td>134.074823</td>\n",
       "      <td>42583</td>\n",
       "      <td>1038082</td>\n",
       "      <td>4.667383</td>\n",
       "      <td>24908</td>\n",
       "      <td>[(,, 13623), (., 12792), (a, 4439), (v, 3991),...</td>\n",
       "    </tr>\n",
       "    <tr>\n",
       "      <th>5</th>\n",
       "      <td>0.05000</td>\n",
       "      <td>6.693438</td>\n",
       "      <td>103.496490</td>\n",
       "      <td>41790</td>\n",
       "      <td>1065249</td>\n",
       "      <td>4.789530</td>\n",
       "      <td>20032</td>\n",
       "      <td>[(,, 13090), (., 12297), (a, 4258), (v, 3829),...</td>\n",
       "    </tr>\n",
       "    <tr>\n",
       "      <th>6</th>\n",
       "      <td>0.10000</td>\n",
       "      <td>6.275458</td>\n",
       "      <td>77.464232</td>\n",
       "      <td>41165</td>\n",
       "      <td>1100409</td>\n",
       "      <td>4.947615</td>\n",
       "      <td>15647</td>\n",
       "      <td>[(,, 12472), (., 11636), (a, 4027), (v, 3652),...</td>\n",
       "    </tr>\n",
       "  </tbody>\n",
       "</table>\n",
       "</div>"
      ],
      "text/plain": [
       "      prob   entropy  perplexity vocab_size char_count  chars_per_word  \\\n",
       "0  0.00000  7.176847  144.692578      42826    1030631        4.633882   \n",
       "1  0.00001  7.176713  144.679145      42825    1030654        4.633986   \n",
       "2  0.00010  7.176097  144.617393      42824    1030676        4.634084   \n",
       "3  0.00100  7.166303  143.638918      42797    1031391        4.637299   \n",
       "4  0.01000  7.066895  134.074823      42583    1038082        4.667383   \n",
       "5  0.05000  6.693438  103.496490      41790    1065249        4.789530   \n",
       "6  0.10000  6.275458   77.464232      41165    1100409        4.947615   \n",
       "\n",
       "  words_freq_1                                    most_freq_words  \n",
       "0        26315  [(,, 13788), (., 12931), (a, 4486), (v, 4043),...  \n",
       "1        26312  [(,, 13787), (., 12930), (a, 4486), (v, 4043),...  \n",
       "2        26303  [(,, 13788), (., 12930), (a, 4486), (v, 4043),...  \n",
       "3        26155  [(,, 13777), (., 12921), (a, 4483), (v, 4037),...  \n",
       "4        24908  [(,, 13623), (., 12792), (a, 4439), (v, 3991),...  \n",
       "5        20032  [(,, 13090), (., 12297), (a, 4258), (v, 3829),...  \n",
       "6        15647  [(,, 12472), (., 11636), (a, 4027), (v, 3652),...  "
      ]
     },
     "execution_count": 365,
     "metadata": {},
     "output_type": "execute_result"
    }
   ],
   "source": [
    "word_stats_cz"
   ]
  },
  {
   "cell_type": "code",
   "execution_count": 366,
   "metadata": {
    "collapsed": true,
    "deletable": true,
    "editable": true
   },
   "outputs": [],
   "source": [
    "### Configure Plots\n",
    "plt.rcParams['lines.linewidth'] = 3"
   ]
  },
  {
   "cell_type": "code",
   "execution_count": 367,
   "metadata": {
    "collapsed": false,
    "deletable": true,
    "editable": true
   },
   "outputs": [
    {
     "data": {
      "text/plain": [
       "<matplotlib.legend.Legend at 0x1b0d7ffa748>"
      ]
     },
     "execution_count": 367,
     "metadata": {},
     "output_type": "execute_result"
    },
    {
     "data": {
      "image/png": "[encoded data removed]",
      "text/plain": [
       "<matplotlib.figure.Figure at 0x1b0d0a3e390>"
      ]
     },
     "metadata": {
      "image/png": {
       "height": 250,
       "width": 370
      }
     },
     "output_type": "display_data"
    }
   ],
   "source": [
    "### English\n",
    "plt.plot(word_stats_en.prob, word_stats_en.entropy, label='Word Entropy')\n",
    "plt.plot(char_stats_en.prob, char_stats_en.entropy, label='Character Entropy')\n",
    "plt.legend()"
   ]
  },
  {
   "cell_type": "code",
   "execution_count": 368,
   "metadata": {
    "collapsed": false,
    "deletable": true,
    "editable": true
   },
   "outputs": [
    {
     "data": {
      "text/plain": [
       "<matplotlib.legend.Legend at 0x1b0c4d834e0>"
      ]
     },
     "execution_count": 368,
     "metadata": {},
     "output_type": "execute_result"
    },
    {
     "data": {
      "image/png": "[encoded data removed]",
      "text/plain": [
       "<matplotlib.figure.Figure at 0x1b0d0a3eb38>"
      ]
     },
     "metadata": {
      "image/png": {
       "height": 250,
       "width": 373
      }
     },
     "output_type": "display_data"
    }
   ],
   "source": [
    "### Czech\n",
    "plt.plot(word_stats_cz.prob, word_stats_cz.entropy, label='Word Entropy')\n",
    "plt.plot(char_stats_cz.prob, char_stats_cz.entropy, label='Character Entropy')\n",
    "plt.legend()"
   ]
  },
  {
   "cell_type": "code",
   "execution_count": null,
   "metadata": {
    "collapsed": true,
    "deletable": true,
    "editable": true
   },
   "outputs": [],
   "source": []
  }
 ],
 "metadata": {
  "kernelspec": {
   "display_name": "Python 3",
   "language": "python",
   "name": "python3"
  },
  "language_info": {
   "codemirror_mode": {
    "name": "ipython",
    "version": 3
   },
   "file_extension": ".py",
   "mimetype": "text/x-python",
   "name": "python",
   "nbconvert_exporter": "python",
   "pygments_lexer": "ipython3",
   "version": "3.6.2"
  }
 },
 "nbformat": 4,
 "nbformat_minor": 2
}
